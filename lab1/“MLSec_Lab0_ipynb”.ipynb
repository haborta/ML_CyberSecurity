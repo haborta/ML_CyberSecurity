{
  "nbformat": 4,
  "nbformat_minor": 0,
  "metadata": {
    "colab": {
      "provenance": [],
      "collapsed_sections": []
    },
    "kernelspec": {
      "name": "python3",
      "display_name": "Python 3"
    }
  },
  "cells": [
    {
      "cell_type": "markdown",
      "metadata": {
        "id": "dzl1DyP_ugzy"
      },
      "source": [
        "# Linear Regression"
      ]
    },
    {
      "cell_type": "markdown",
      "metadata": {
        "id": "5tbt-G25zmOE"
      },
      "source": [
        "## Univariate linear regression"
      ]
    },
    {
      "cell_type": "markdown",
      "metadata": {
        "id": "mjroJgG1M24X"
      },
      "source": [
        "The code below generates a synthetic training dataset assuming that the response y is a linear function of an attribute x. This is referred to as a generative model.\n",
        "\n",
        "Complete the code to determine the the optimal linear regression coefficients for the data that minimizes mean square error using (1) analytical expression we learned in class; and (2) using the \"polyfit\" and \"polyval\" functions from the numpy.polynomial.polynomial class.\n"
      ]
    },
    {
      "cell_type": "markdown",
      "metadata": {
        "id": "ozFgM3c-zaBw"
      },
      "source": [
        "### Generate Data"
      ]
    },
    {
      "cell_type": "code",
      "metadata": {
        "id": "WTzKJ4iZycSW",
        "outputId": "0277823e-de08-4c2d-d5bb-a62a4c1f5195",
        "colab": {
          "base_uri": "https://localhost:8080/",
          "height": 283
        }
      },
      "source": [
        "import numpy as np\n",
        "import numpy.polynomial.polynomial as poly\n",
        "import matplotlib.pyplot as plt\n",
        "\n",
        "nsamp = 100;\n",
        "wstd = 0.2;\n",
        "beta = np.array([2,3]);\n",
        "\n",
        "# Training data points\n",
        "xd = np.random.uniform(-1,1,nsamp);\n",
        "y0 = poly.polyval(xd,beta);\n",
        "yd = y0 + np.random.normal(0,wstd,nsamp);\n",
        "\n",
        "fig, ax = plt.subplots()\n",
        "ax.scatter(xd, yd)"
      ],
      "execution_count": 88,
      "outputs": [
        {
          "output_type": "execute_result",
          "data": {
            "text/plain": [
              "<matplotlib.collections.PathCollection at 0x7fe65815f910>"
            ]
          },
          "metadata": {},
          "execution_count": 88
        },
        {
          "output_type": "display_data",
          "data": {
            "text/plain": [
              "<Figure size 432x288 with 1 Axes>"
            ],
            "image/png": "[encoded data removed]"
          },
          "metadata": {
            "needs_background": "light"
          }
        }
      ]
    },
    {
      "cell_type": "markdown",
      "metadata": {
        "id": "ylmbDmHf0S4O"
      },
      "source": [
        "### Analytical Model"
      ]
    },
    {
      "cell_type": "markdown",
      "metadata": {
        "id": "-lUVkaqL0XGA"
      },
      "source": [
        "**Q1**: Complete the code below using closed form expressions for $\\beta_0, \\beta_1$."
      ]
    },
    {
      "cell_type": "code",
      "metadata": {
        "id": "pDGDa5ECydkV"
      },
      "source": [
        "#Analytical model\n",
        "xm = np.mean(xd)\n",
        "ym = np.mean(yd)\n",
        "syy = np.mean((yd-ym)**2)\n",
        "syx = np.mean((yd-ym)*(xd-xm))\n",
        "sxx = np.mean((xd-xm)**2)\n",
        "\n",
        "beta1 = syx/sxx # linear term\n",
        "beta0 = ym - beta1*xm# constant term\n",
        "analyticalModel = np.array([beta0,beta1])"
      ],
      "execution_count": 89,
      "outputs": []
    },
    {
      "cell_type": "markdown",
      "metadata": {
        "id": "9FtiGMN23KIC"
      },
      "source": [
        "### Evaluate Your Model"
      ]
    },
    {
      "cell_type": "markdown",
      "metadata": {
        "id": "6RypRZjK-qz7"
      },
      "source": [
        "**Q2**: Obtain predictions from your analytical model for randomly generated inputs. Next use the in-built polyfit function to do the same. "
      ]
    },
    {
      "cell_type": "markdown",
      "metadata": {
        "id": "nDCkRp5n-OCs"
      },
      "source": [
        "**Analytical Model Result**"
      ]
    },
    {
      "cell_type": "code",
      "metadata": {
        "id": "vSFfG0jV4Ozu"
      },
      "source": [
        "#evaluate your model\n",
        "\n",
        "# new data\n",
        "xplot = np.random.uniform(-1,1,nsamp)# generate uniform points between -1 and 1\n",
        "\n",
        "# prediction\n",
        "ypredict = poly.polyval(xplot,analyticalModel)# get prediction on data xplot\n"
      ],
      "execution_count": 90,
      "outputs": []
    },
    {
      "cell_type": "markdown",
      "metadata": {
        "id": "k1bw1Gk452cx"
      },
      "source": [
        "**Polyfit Model Prediction**"
      ]
    },
    {
      "cell_type": "code",
      "metadata": {
        "id": "1Cg67BEu571y"
      },
      "source": [
        "polyfitModel = np.polyfit(xd, yd, 1)#use the polyfit function\n",
        "yfit = np.polyval(polyfitModel, xplot)# use the polyval function to evaluate polyfitModel at x = xplot "
      ],
      "execution_count": 91,
      "outputs": []
    },
    {
      "cell_type": "markdown",
      "metadata": {
        "id": "ZV1pG9Py4rm2"
      },
      "source": [
        "### Plot Result"
      ]
    },
    {
      "cell_type": "markdown",
      "metadata": {
        "id": "eK9RYWqW-zK4"
      },
      "source": [
        "**Q3**: Plot results of polyfit model and analytical model. The plots should contain both the (x,y) training data points and the fitted lines."
      ]
    },
    {
      "cell_type": "code",
      "metadata": {
        "id": "fh1xyJ7A4tes",
        "colab": {
          "base_uri": "https://localhost:8080/",
          "height": 295
        },
        "outputId": "5819ce39-22f3-4ecb-fb7d-809a2ae3bad4"
      },
      "source": [
        "#plot your results\n",
        "fig, ax = plt.subplots()\n",
        "ax.scatter(xd, yd)\n",
        "\n",
        "# Plot polyfit model and analytical model result:\n",
        "# Your Code\n",
        "plt.plot(xplot, ypredict, 'r')\n",
        "plt.plot(xplot, yfit, 'b')\n",
        "ax.set(xlabel='X', ylabel='Y',\n",
        "       title='Linear Regression')\n",
        "ax.grid()\n",
        "plt.show()"
      ],
      "execution_count": 92,
      "outputs": [
        {
          "output_type": "display_data",
          "data": {
            "text/plain": [
              "<Figure size 432x288 with 1 Axes>"
            ],
            "image/png": "[encoded data removed]"
          },
          "metadata": {
            "needs_background": "light"
          }
        }
      ]
    },
    {
      "cell_type": "markdown",
      "metadata": {
        "id": "tprivZbIUtOW"
      },
      "source": [
        "## Application of Linear Regression\n",
        "\n",
        "In this part, you'll use Linear Regression on a real-world dataset. The datatset contains sales number of a product versus the advertising of the product on TV, radio and newspaper. The question we want to ask is how advertising on each of these channels impacts sales."
      ]
    },
    {
      "cell_type": "markdown",
      "metadata": {
        "id": "1OEW6RGKVpXF"
      },
      "source": [
        "### Read Data\n",
        "\n",
        "**Q4**: Split data into train and test, by reserving **70** percent of the data for training and the rest for test. "
      ]
    },
    {
      "cell_type": "code",
      "metadata": {
        "id": "K_t22o9QWGF2"
      },
      "source": [
        "from sklearn.model_selection import train_test_split\n",
        "\n",
        "import pandas as pd\n",
        "url = 'https://www.statlearning.com/s/Advertising.csv'\n",
        "df = pd.read_csv(url, index_col=0)\n",
        "df.head()\n",
        "\n",
        "train, test = train_test_split(df, test_size = 0.3)# Use function or your own code to split df"
      ],
      "execution_count": 93,
      "outputs": []
    },
    {
      "cell_type": "code",
      "source": [
        "df.head()"
      ],
      "metadata": {
        "colab": {
          "base_uri": "https://localhost:8080/",
          "height": 206
        },
        "id": "8hlqbDQA7vM8",
        "outputId": "47481f3d-8397-4d8f-f356-3c4ba7305b35"
      },
      "execution_count": 94,
      "outputs": [
        {
          "output_type": "execute_result",
          "data": {
            "text/plain": [
              "      TV  radio  newspaper  sales\n",
              "1  230.1   37.8       69.2   22.1\n",
              "2   44.5   39.3       45.1   10.4\n",
              "3   17.2   45.9       69.3    9.3\n",
              "4  151.5   41.3       58.5   18.5\n",
              "5  180.8   10.8       58.4   12.9"
            ],
            "text/html": [
              "\n",
              "  <div id=\"df-eb836925-a7c0-4777-8c72-f588f54606fc\">\n",
              "    <div class=\"colab-df-container\">\n",
              "      <div>\n",
              "<style scoped>\n",
              "    .dataframe tbody tr th:only-of-type {\n",
              "        vertical-align: middle;\n",
              "    }\n",
              "\n",
              "    .dataframe tbody tr th {\n",
              "        vertical-align: top;\n",
              "    }\n",
              "\n",
              "    .dataframe thead th {\n",
              "        text-align: right;\n",
              "    }\n",
              "</style>\n",
              "<table border=\"1\" class=\"dataframe\">\n",
              "  <thead>\n",
              "    <tr style=\"text-align: right;\">\n",
              "      <th></th>\n",
              "      <th>TV</th>\n",
              "      <th>radio</th>\n",
              "      <th>newspaper</th>\n",
              "      <th>sales</th>\n",
              "    </tr>\n",
              "  </thead>\n",
              "  <tbody>\n",
              "    <tr>\n",
              "      <th>1</th>\n",
              "      <td>230.1</td>\n",
              "      <td>37.8</td>\n",
              "      <td>69.2</td>\n",
              "      <td>22.1</td>\n",
              "    </tr>\n",
              "    <tr>\n",
              "      <th>2</th>\n",
              "      <td>44.5</td>\n",
              "      <td>39.3</td>\n",
              "      <td>45.1</td>\n",
              "      <td>10.4</td>\n",
              "    </tr>\n",
              "    <tr>\n",
              "      <th>3</th>\n",
              "      <td>17.2</td>\n",
              "      <td>45.9</td>\n",
              "      <td>69.3</td>\n",
              "      <td>9.3</td>\n",
              "    </tr>\n",
              "    <tr>\n",
              "      <th>4</th>\n",
              "      <td>151.5</td>\n",
              "      <td>41.3</td>\n",
              "      <td>58.5</td>\n",
              "      <td>18.5</td>\n",
              "    </tr>\n",
              "    <tr>\n",
              "      <th>5</th>\n",
              "      <td>180.8</td>\n",
              "      <td>10.8</td>\n",
              "      <td>58.4</td>\n",
              "      <td>12.9</td>\n",
              "    </tr>\n",
              "  </tbody>\n",
              "</table>\n",
              "</div>\n",
              "      <button class=\"colab-df-convert\" onclick=\"convertToInteractive('df-eb836925-a7c0-4777-8c72-f588f54606fc')\"\n",
              "              title=\"Convert this dataframe to an interactive table.\"\n",
              "              style=\"display:none;\">\n",
              "        \n",
              "  <svg xmlns=\"http://www.w3.org/2000/svg\" height=\"24px\"viewBox=\"0 0 24 24\"\n",
              "       width=\"24px\">\n",
              "    <path d=\"M0 0h24v24H0V0z\" fill=\"none\"/>\n",
              "    <path d=\"M18.56 5.44l.94 2.06.94-2.06 2.06-.94-2.06-.94-.94-2.06-.94 2.06-2.06.94zm-11 1L8.5 8.5l.94-2.06 2.06-.94-2.06-.94L8.5 2.5l-.94 2.06-2.06.94zm10 10l.94 2.06.94-2.06 2.06-.94-2.06-.94-.94-2.06-.94 2.06-2.06.94z\"/><path d=\"M17.41 7.96l-1.37-1.37c-.4-.4-.92-.59-1.43-.59-.52 0-1.04.2-1.43.59L10.3 9.45l-7.72 7.72c-.78.78-.78 2.05 0 2.83L4 21.41c.39.39.9.59 1.41.59.51 0 1.02-.2 1.41-.59l7.78-7.78 2.81-2.81c.8-.78.8-2.07 0-2.86zM5.41 20L4 18.59l7.72-7.72 1.47 1.35L5.41 20z\"/>\n",
              "  </svg>\n",
              "      </button>\n",
              "      \n",
              "  <style>\n",
              "    .colab-df-container {\n",
              "      display:flex;\n",
              "      flex-wrap:wrap;\n",
              "      gap: 12px;\n",
              "    }\n",
              "\n",
              "    .colab-df-convert {\n",
              "      background-color: #E8F0FE;\n",
              "      border: none;\n",
              "      border-radius: 50%;\n",
              "      cursor: pointer;\n",
              "      display: none;\n",
              "      fill: #1967D2;\n",
              "      height: 32px;\n",
              "      padding: 0 0 0 0;\n",
              "      width: 32px;\n",
              "    }\n",
              "\n",
              "    .colab-df-convert:hover {\n",
              "      background-color: #E2EBFA;\n",
              "      box-shadow: 0px 1px 2px rgba(60, 64, 67, 0.3), 0px 1px 3px 1px rgba(60, 64, 67, 0.15);\n",
              "      fill: #174EA6;\n",
              "    }\n",
              "\n",
              "    [theme=dark] .colab-df-convert {\n",
              "      background-color: #3B4455;\n",
              "      fill: #D2E3FC;\n",
              "    }\n",
              "\n",
              "    [theme=dark] .colab-df-convert:hover {\n",
              "      background-color: #434B5C;\n",
              "      box-shadow: 0px 1px 3px 1px rgba(0, 0, 0, 0.15);\n",
              "      filter: drop-shadow(0px 1px 2px rgba(0, 0, 0, 0.3));\n",
              "      fill: #FFFFFF;\n",
              "    }\n",
              "  </style>\n",
              "\n",
              "      <script>\n",
              "        const buttonEl =\n",
              "          document.querySelector('#df-eb836925-a7c0-4777-8c72-f588f54606fc button.colab-df-convert');\n",
              "        buttonEl.style.display =\n",
              "          google.colab.kernel.accessAllowed ? 'block' : 'none';\n",
              "\n",
              "        async function convertToInteractive(key) {\n",
              "          const element = document.querySelector('#df-eb836925-a7c0-4777-8c72-f588f54606fc');\n",
              "          const dataTable =\n",
              "            await google.colab.kernel.invokeFunction('convertToInteractive',\n",
              "                                                     [key], {});\n",
              "          if (!dataTable) return;\n",
              "\n",
              "          const docLinkHtml = 'Like what you see? Visit the ' +\n",
              "            '<a target=\"_blank\" href=https://colab.research.google.com/notebooks/data_table.ipynb>data table notebook</a>'\n",
              "            + ' to learn more about interactive tables.';\n",
              "          element.innerHTML = '';\n",
              "          dataTable['output_type'] = 'display_data';\n",
              "          await google.colab.output.renderOutput(dataTable, element);\n",
              "          const docLink = document.createElement('div');\n",
              "          docLink.innerHTML = docLinkHtml;\n",
              "          element.appendChild(docLink);\n",
              "        }\n",
              "      </script>\n",
              "    </div>\n",
              "  </div>\n",
              "  "
            ]
          },
          "metadata": {},
          "execution_count": 94
        }
      ]
    },
    {
      "cell_type": "markdown",
      "metadata": {
        "id": "5ZTV3hyCXhnU"
      },
      "source": [
        "### Linear Regression Model"
      ]
    },
    {
      "cell_type": "markdown",
      "metadata": {
        "id": "kZvNEQsgWUnd"
      },
      "source": [
        "**Q5**: Use linear regression model to describe sales as a linear function  of advertising on TV, newspaper, and radio. That is, you should independently regress sales against advertising on each of these media."
      ]
    },
    {
      "cell_type": "code",
      "metadata": {
        "id": "6hd_KDngXIvB"
      },
      "source": [
        "def linear_regression(xd, yd):\n",
        "  xm = np.mean(xd)\n",
        "  ym = np.mean(yd)\n",
        "  syy = np.mean((yd-ym)**2)\n",
        "  syx = np.mean((yd-ym)*(xd-xm))\n",
        "  sxx = np.mean((xd-xm)**2)\n",
        "\n",
        "  beta1 = syx/sxx # linear term\n",
        "  beta0 = ym - beta1*xm# constant term\n",
        "  Model = np.array([beta0,beta1])\n",
        "  return Model\n",
        "\n",
        "\n",
        "sales_TV_beta     = linear_regression(train['TV'], train['sales'])# Use function or your own code to do linear regression\n",
        "sales_newspaper_beta  = linear_regression(train['newspaper'], train['sales'])# \n",
        "sales_radio_beta    = linear_regression(train['radio'], train['sales'])#"
      ],
      "execution_count": 95,
      "outputs": []
    },
    {
      "cell_type": "markdown",
      "metadata": {
        "id": "tSd1ziYgXgC0"
      },
      "source": [
        "### Plot Data\n",
        "\n",
        "**Q6**: Use the models to do prediction and plot *test* data points and predctions of 3 models"
      ]
    },
    {
      "cell_type": "code",
      "metadata": {
        "id": "G_1o75bdXwkn",
        "colab": {
          "base_uri": "https://localhost:8080/",
          "height": 245
        },
        "outputId": "b96b0386-98db-46ba-f8a1-e902d2a73130"
      },
      "source": [
        "fig = plt.figure(figsize=(12,3))\n",
        "\n",
        "## Sales to TV spend\n",
        "plt.subplot(1,3,1)\n",
        "'''\n",
        "  Your code\n",
        "'''\n",
        "xtv = test['TV']\n",
        "ytv = test['sales']\n",
        "yptv = poly.polyval(xtv,sales_TV_beta)\n",
        "plt.plot(xtv, ytv, 'o')\n",
        "plt.plot(xtv, yptv)\n",
        "plt.title(\"TV\")\n",
        "## Sales to newspaper spend\n",
        "plt.subplot(1,3,2)\n",
        "'''\n",
        "  Your code\n",
        "'''\n",
        "xne = test['newspaper']\n",
        "yne = test['sales']\n",
        "ypne = poly.polyval(xne,sales_newspaper_beta)\n",
        "plt.plot(xne, yne, 'o')\n",
        "plt.plot(xne, ypne)\n",
        "plt.title(\"newspaper\")\n",
        "## Sales to radio spend\n",
        "plt.subplot(1,3,3)\n",
        "'''\n",
        "  Your code\n",
        "'''\n",
        "xra = test['radio']\n",
        "yra = test['sales']\n",
        "ypra = poly.polyval(xra,sales_radio_beta)\n",
        "plt.plot(xra, yra, 'o')\n",
        "plt.plot(xra, ypra)\n",
        "plt.title(\"radio\")"
      ],
      "execution_count": 96,
      "outputs": [
        {
          "output_type": "execute_result",
          "data": {
            "text/plain": [
              "Text(0.5, 1.0, 'radio')"
            ]
          },
          "metadata": {},
          "execution_count": 96
        },
        {
          "output_type": "display_data",
          "data": {
            "text/plain": [
              "<Figure size 864x216 with 3 Axes>"
            ],
            "image/png": "[encoded data removed]"
          },
          "metadata": {
            "needs_background": "light"
          }
        }
      ]
    },
    {
      "cell_type": "markdown",
      "metadata": {
        "id": "uJVfnwMeZm43"
      },
      "source": [
        "## Multivariate Linear Regression\n",
        "\n",
        "**Q7**: Use all three features ('TV', 'Radio', newspaper') to predict sales using multivariate linear regression."
      ]
    },
    {
      "cell_type": "code",
      "metadata": {
        "id": "wv4fhP-LdOiJ"
      },
      "source": [
        "\n",
        "# Define training X matrix\n",
        "X = np.vstack((np.ones(train['newspaper'].size), train['newspaper'], train['radio'], train['TV']))\n",
        "trainX = X.transpose()\n",
        "\n",
        "# Define training Y matrix\n",
        "trainY = train['sales']\n",
        "\n",
        "# Get your Model(Using the closed form in class)\n",
        "XT = np.transpose(trainX)\n",
        "XTX = np.transpose(trainX).dot(trainX)\n",
        "inev = np.linalg.inv(XTX).dot(XT)\n",
        "multivariate_beta = inev.dot(trainY)# beta = (XTX)^-1XTY"
      ],
      "execution_count": 97,
      "outputs": []
    },
    {
      "cell_type": "markdown",
      "metadata": {
        "id": "nbYrPsvyO588"
      },
      "source": [
        "### Evaluate Model\n",
        "\n",
        "**Q8**: use your multivariate model to do predictions on test data"
      ]
    },
    {
      "cell_type": "code",
      "metadata": {
        "id": "8Goo4MfdNvuY"
      },
      "source": [
        "# Define testing X matrix\n",
        "X = np.vstack((np.ones(test['newspaper'].size), test['newspaper'], test['radio'], test['TV']))\n",
        "testX = X.transpose()\n",
        "\n",
        "# Define testing Y matrix\n",
        "testY = test['sales']\n",
        "\n",
        "# Predcit result using your model multivariate_beta\n",
        "pred = testX.dot(multivariate_beta)"
      ],
      "execution_count": 98,
      "outputs": []
    },
    {
      "cell_type": "markdown",
      "metadata": {
        "id": "sCP2X-SWPcsr"
      },
      "source": [
        "### Plot Result\n",
        "\n",
        "**Q9**: Plot your predictions against real labels."
      ]
    },
    {
      "cell_type": "code",
      "metadata": {
        "id": "sLG7eh7JNb8p",
        "colab": {
          "base_uri": "https://localhost:8080/",
          "height": 295
        },
        "outputId": "ee33f25c-f8ff-43fc-b5a8-7f089f4c3bba"
      },
      "source": [
        "fig, ax = plt.subplots()\n",
        "\n",
        "# Your Code\n",
        "plt.plot(testY, pred, 'o')\n",
        "ax.set(xlabel='Actual Sales', ylabel='Predict Sales',\n",
        "       title='Multivariate Linear Regression')\n",
        "ax.grid()\n",
        "plt.show()"
      ],
      "execution_count": 99,
      "outputs": [
        {
          "output_type": "display_data",
          "data": {
            "text/plain": [
              "<Figure size 432x288 with 1 Axes>"
            ],
            "image/png": "[encoded data removed]"
          },
          "metadata": {
            "needs_background": "light"
          }
        }
      ]
    }
  ]
}