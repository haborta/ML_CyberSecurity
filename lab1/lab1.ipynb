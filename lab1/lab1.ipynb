{
  "nbformat": 4,
  "nbformat_minor": 0,
  "metadata": {
    "colab": {
      "provenance": [],
      "collapsed_sections": []
    },
    "kernelspec": {
      "name": "python3",
      "display_name": "Python 3"
    },
    "language_info": {
      "name": "python"
    }
  },
  "cells": [
    {
      "cell_type": "markdown",
      "source": [
        "#Adversarial Attacks on Deep Neural Networks"
      ],
      "metadata": {
        "id": "I7exr4JOt1vM"
      }
    },
    {
      "cell_type": "code",
      "source": [
        "import tensorflow as tf\n",
        "import matplotlib.pyplot as plt\n",
        "import numpy as np"
      ],
      "metadata": {
        "id": "kWsWrM7kt3pz"
      },
      "execution_count": 1,
      "outputs": []
    },
    {
      "cell_type": "markdown",
      "source": [
        "##Dataset"
      ],
      "metadata": {
        "id": "Kpq0Fi_Oue2j"
      }
    },
    {
      "cell_type": "code",
      "source": [
        "# load dataset\n",
        "mnist = tf.keras.datasets.mnist\n",
        "\n",
        "(x_train, y_train), (x_test, y_test) = mnist.load_data()\n",
        "x_train, x_test = x_train / 255.0, x_test / 255.0"
      ],
      "metadata": {
        "id": "R_mC3oIpt7OB",
        "colab": {
          "base_uri": "https://localhost:8080/"
        },
        "outputId": "9f9b2319-d8d5-4ead-eb50-3942c6235c56"
      },
      "execution_count": 2,
      "outputs": [
        {
          "output_type": "stream",
          "name": "stdout",
          "text": [
            "Downloading data from https://storage.googleapis.com/tensorflow/tf-keras-datasets/mnist.npz\n",
            "11490434/11490434 [==============================] - 0s 0us/step\n"
          ]
        }
      ]
    },
    {
      "cell_type": "markdown",
      "source": [
        "##baseline DNN"
      ],
      "metadata": {
        "id": "W3rYuGJ5u5Yd"
      }
    },
    {
      "cell_type": "code",
      "source": [
        "model = tf.keras.models.Sequential([\n",
        "  tf.keras.layers.Flatten(input_shape=(28, 28)),\n",
        "  tf.keras.layers.Dense(300, activation='relu'),\n",
        "  tf.keras.layers.Dropout(0.2),\n",
        "  tf.keras.layers.Dense(10)\n",
        "])\n",
        "# loss function\n",
        "loss_fn = tf.keras.losses.SparseCategoricalCrossentropy(from_logits=True)\n",
        "model.compile(optimizer='adam',\n",
        "              loss=loss_fn,\n",
        "              metrics=['accuracy'])"
      ],
      "metadata": {
        "id": "O4sCnI99u4u5"
      },
      "execution_count": 3,
      "outputs": []
    },
    {
      "cell_type": "code",
      "source": [
        "# train the model\n",
        "model.fit(x_train, y_train, epochs=5)"
      ],
      "metadata": {
        "id": "D1qmlSDAH7cT",
        "colab": {
          "base_uri": "https://localhost:8080/"
        },
        "outputId": "cfae16d9-0fe6-4cc7-9cf0-4ddb211fc631"
      },
      "execution_count": 4,
      "outputs": [
        {
          "output_type": "stream",
          "name": "stdout",
          "text": [
            "Epoch 1/5\n",
            "1875/1875 [==============================] - 28s 13ms/step - loss: 0.2440 - accuracy: 0.9281\n",
            "Epoch 2/5\n",
            "1875/1875 [==============================] - 9s 5ms/step - loss: 0.1095 - accuracy: 0.9661\n",
            "Epoch 3/5\n",
            "1875/1875 [==============================] - 9s 5ms/step - loss: 0.0799 - accuracy: 0.9760\n",
            "Epoch 4/5\n",
            "1875/1875 [==============================] - 8s 5ms/step - loss: 0.0629 - accuracy: 0.9791\n",
            "Epoch 5/5\n",
            "1875/1875 [==============================] - 8s 5ms/step - loss: 0.0497 - accuracy: 0.9841\n"
          ]
        },
        {
          "output_type": "execute_result",
          "data": {
            "text/plain": [
              "<keras.callbacks.History at 0x7f128e3ebc50>"
            ]
          },
          "metadata": {},
          "execution_count": 4
        }
      ]
    },
    {
      "cell_type": "code",
      "source": [
        "# evaluate the model\n",
        "acc = model.evaluate(x_test,  y_test, verbose=2)\n",
        "acc1 = acc[1]"
      ],
      "metadata": {
        "id": "9o7NaHtXurhs",
        "colab": {
          "base_uri": "https://localhost:8080/"
        },
        "outputId": "f744fff8-1db4-428f-e46c-1bee71df3120"
      },
      "execution_count": 5,
      "outputs": [
        {
          "output_type": "stream",
          "name": "stdout",
          "text": [
            "313/313 - 1s - loss: 0.0698 - accuracy: 0.9790 - 1s/epoch - 3ms/step\n"
          ]
        }
      ]
    },
    {
      "cell_type": "markdown",
      "source": [
        "## FGSM based untargeted attacks"
      ],
      "metadata": {
        "id": "ZdmefDFRIdnI"
      }
    },
    {
      "cell_type": "code",
      "source": [
        "# x* = x + ε sign(grad(loss(x,y)))\n",
        "# compute data gradient sign\n",
        "def sign_grad(x_test, y_test):\n",
        "  x_tensor = tf.convert_to_tensor(x_test, dtype=tf.float32)\n",
        "  with tf.GradientTape() as grad:\n",
        "    grad.watch(x_tensor)\n",
        "    predict = model(x_tensor)\n",
        "    loss = loss_fn(y_test, predict)\n",
        "  gradient = grad.gradient(loss, x_tensor)\n",
        "  sign_grad = tf.sign(gradient)\n",
        "  sign_grad = sign_grad.numpy()\n",
        "  return sign_grad"
      ],
      "metadata": {
        "id": "nmmmLVj-Ie8p"
      },
      "execution_count": 6,
      "outputs": []
    },
    {
      "cell_type": "code",
      "source": [
        "# perturb\n",
        "def perturb_untarget(x_test, y_test, epsilon):\n",
        "  x_perturb = np.clip(x_test + epsilon * sign_grad(x_test, y_test), 0, 1)\n",
        "  return x_perturb"
      ],
      "metadata": {
        "id": "fk-4mm4nMrMN"
      },
      "execution_count": 7,
      "outputs": []
    },
    {
      "cell_type": "code",
      "source": [
        "#the fraction of test images that were correctly classified by the baseline DNN that are mis-classified after adversarial perturbation for each ε\n",
        "para = [25, 50, 75, 125]\n",
        "for i in range(len(para)):\n",
        "  x_perturb = perturb_untarget(x_test, y_test, para[i]/255)\n",
        "  result = model.evaluate(x_perturb,  y_test, verbose=2)\n",
        "  rate = (1 - result[1])/acc1\n",
        "  print(\"when parameter is \" + str(para[i]/255) + \", the success rate of attack is\" + str(rate))"
      ],
      "metadata": {
        "colab": {
          "base_uri": "https://localhost:8080/"
        },
        "id": "Sp9llGXBNkS-",
        "outputId": "2cf45bb2-8ec8-457a-d288-256578af5b44"
      },
      "execution_count": 8,
      "outputs": [
        {
          "output_type": "stream",
          "name": "stdout",
          "text": [
            "313/313 - 1s - loss: 3.9308 - accuracy: 0.2336 - 763ms/epoch - 2ms/step\n",
            "when parameter is 0.09803921568627451, the success rate of attack is0.7828396487672918\n",
            "313/313 - 1s - loss: 10.4490 - accuracy: 0.0265 - 742ms/epoch - 2ms/step\n",
            "when parameter is 0.19607843137254902, the success rate of attack is0.994382050882642\n",
            "313/313 - 1s - loss: 17.1636 - accuracy: 0.0041 - 731ms/epoch - 2ms/step\n",
            "when parameter is 0.29411764705882354, the success rate of attack is1.0172625414850471\n",
            "313/313 - 1s - loss: 32.4931 - accuracy: 1.0000e-04 - 767ms/epoch - 2ms/step\n",
            "when parameter is 0.49019607843137253, the success rate of attack is1.0213483434622095\n"
          ]
        }
      ]
    },
    {
      "cell_type": "markdown",
      "source": [
        "## FGSM based targeted attacks"
      ],
      "metadata": {
        "id": "rBbdr6q4IicQ"
      }
    },
    {
      "cell_type": "code",
      "source": [
        "# x* = x - ε sign(grad(loss(x,y')))"
      ],
      "metadata": {
        "id": "5YmQDiiLIk2l"
      },
      "execution_count": 9,
      "outputs": []
    },
    {
      "cell_type": "code",
      "source": [
        "def perturb_target(x_test, y_test, epsilon):\n",
        "  y = []\n",
        "  for i in range(len(y_test)):\n",
        "    y.append((y_test[i]+1)%10)\n",
        "  y = np.array(y)\n",
        "  x_perturb = np.clip(x_test - epsilon * sign_grad(x_test, y), 0, 1)\n",
        "  # plt.imshow(x_perturb[0])\n",
        "  # plt.show()\n",
        "  return x_perturb"
      ],
      "metadata": {
        "id": "fAjSSiaLzWv-"
      },
      "execution_count": 10,
      "outputs": []
    },
    {
      "cell_type": "code",
      "source": [
        "for i in range(len(para)):\n",
        "  x_perturb = perturb_target(x_test, y_test, para[i]/255)\n",
        "  result = model.evaluate(x_perturb,  y_test, verbose=2)\n",
        "  rate = (1 - result[1])/acc1\n",
        "  print(\"when parameter is \" + str(para[i]/255) + \", the success rate of attack is\" + str(rate))"
      ],
      "metadata": {
        "colab": {
          "base_uri": "https://localhost:8080/"
        },
        "id": "9CeGg1v11FU9",
        "outputId": "2d3f205d-63ef-4b90-bfc5-d0112de319a2"
      },
      "execution_count": 11,
      "outputs": [
        {
          "output_type": "stream",
          "name": "stdout",
          "text": [
            "313/313 - 1s - loss: 2.2850 - accuracy: 0.4493 - 872ms/epoch - 3ms/step\n",
            "when parameter is 0.09803921568627451, the success rate of attack is0.5625127930810391\n",
            "313/313 - 1s - loss: 7.6169 - accuracy: 0.0709 - 845ms/epoch - 3ms/step\n",
            "when parameter is 0.19607843137254902, the success rate of attack is0.9490296482278668\n",
            "313/313 - 1s - loss: 13.2492 - accuracy: 0.0079 - 788ms/epoch - 3ms/step\n",
            "when parameter is 0.29411764705882354, the success rate of attack is1.0133810300389152\n",
            "313/313 - 1s - loss: 26.4355 - accuracy: 1.0000e-04 - 780ms/epoch - 2ms/step\n",
            "when parameter is 0.49019607843137253, the success rate of attack is1.0213483434622095\n"
          ]
        }
      ]
    },
    {
      "cell_type": "markdown",
      "source": [
        "## Adversarial Retraining against Untargeted FGSM Attacks"
      ],
      "metadata": {
        "id": "knrmwdQ2IlS4"
      }
    },
    {
      "cell_type": "code",
      "source": [
        "parameter = 125/255\n",
        "x_perturb = perturb_untarget(x_train, y_train, parameter)\n",
        "x_train_new = np.concatenate([x_train, x_perturb])\n",
        "y_train_new = np.concatenate([y_train, y_train])"
      ],
      "metadata": {
        "id": "1dYjGg1dIrut"
      },
      "execution_count": 12,
      "outputs": []
    },
    {
      "cell_type": "code",
      "source": [
        "# retrain the adversarially retrained DNN\n",
        "model.fit(x_train_new, y_train_new, epochs=5)"
      ],
      "metadata": {
        "colab": {
          "base_uri": "https://localhost:8080/"
        },
        "id": "sskfzA3L9wl4",
        "outputId": "5c63f810-b5d1-43be-a697-9bd9e98afc5f"
      },
      "execution_count": 13,
      "outputs": [
        {
          "output_type": "stream",
          "name": "stdout",
          "text": [
            "Epoch 1/5\n",
            "3750/3750 [==============================] - 17s 5ms/step - loss: 0.2215 - accuracy: 0.9290\n",
            "Epoch 2/5\n",
            "3750/3750 [==============================] - 19s 5ms/step - loss: 0.0457 - accuracy: 0.9857\n",
            "Epoch 3/5\n",
            "3750/3750 [==============================] - 21s 6ms/step - loss: 0.0342 - accuracy: 0.9889\n",
            "Epoch 4/5\n",
            "3750/3750 [==============================] - 17s 5ms/step - loss: 0.0284 - accuracy: 0.9908\n",
            "Epoch 5/5\n",
            "3750/3750 [==============================] - 18s 5ms/step - loss: 0.0243 - accuracy: 0.9925\n"
          ]
        },
        {
          "output_type": "execute_result",
          "data": {
            "text/plain": [
              "<keras.callbacks.History at 0x7f128796cf90>"
            ]
          },
          "metadata": {},
          "execution_count": 13
        }
      ]
    },
    {
      "cell_type": "markdown",
      "source": [
        "### Report the classification accuracy of the adversarially retrained DNN on the original test dataset that contains only clean inputs."
      ],
      "metadata": {
        "id": "tr-1gHLw_lFj"
      }
    },
    {
      "cell_type": "code",
      "source": [
        "#  Report the classification accuracy of the adversarially retrained DNN on the original test dataset that contains only clean inputs.\n",
        "acc = model.evaluate(x_test, y_test, verbose=2)\n",
        "acc = acc[1]\n",
        "print(\"the classification accuracy is\" +\" \"+ str(acc))\n"
      ],
      "metadata": {
        "colab": {
          "base_uri": "https://localhost:8080/"
        },
        "id": "7b2ChoX8-nRZ",
        "outputId": "283e2745-8179-46cd-9add-6691c98dcf51"
      },
      "execution_count": 14,
      "outputs": [
        {
          "output_type": "stream",
          "name": "stdout",
          "text": [
            "313/313 - 1s - loss: 0.0752 - accuracy: 0.9805 - 742ms/epoch - 2ms/step\n",
            "the classification accuracy is 0.9804999828338623\n"
          ]
        }
      ]
    },
    {
      "cell_type": "markdown",
      "source": [
        "###  Is the adversarially retrained DNN robust against adversarial perturbations?"
      ],
      "metadata": {
        "id": "HmGUIgF-_ha1"
      }
    },
    {
      "cell_type": "code",
      "source": [
        "for i in range(len(para)):\n",
        "  x_perturb = perturb_untarget(x_test, y_test, para[i]/255)\n",
        "  result = model.evaluate(x_perturb,  y_test, verbose=2)\n",
        "  rate = (1 - result[1])/acc\n",
        "  print(\"when parameter is \" + str(para[i]/255) + \", the success rate of attack is\" + str(rate))"
      ],
      "metadata": {
        "colab": {
          "base_uri": "https://localhost:8080/"
        },
        "id": "iFbUPxLE-sSL",
        "outputId": "4ff95418-621c-4a78-d23f-c3da1ecb1c43"
      },
      "execution_count": 15,
      "outputs": [
        {
          "output_type": "stream",
          "name": "stdout",
          "text": [
            "313/313 - 1s - loss: 1.9064 - accuracy: 0.4034 - 742ms/epoch - 2ms/step\n",
            "when parameter is 0.09803921568627451, the success rate of attack is0.6084650755073234\n",
            "313/313 - 1s - loss: 3.0160 - accuracy: 0.2851 - 726ms/epoch - 2ms/step\n",
            "when parameter is 0.19607843137254902, the success rate of attack is0.7291177965308333\n",
            "313/313 - 1s - loss: 4.2382 - accuracy: 0.2794 - 732ms/epoch - 2ms/step\n",
            "when parameter is 0.29411764705882354, the success rate of attack is0.7349311795823237\n",
            "313/313 - 1s - loss: 8.6413 - accuracy: 0.2444 - 714ms/epoch - 2ms/step\n",
            "when parameter is 0.49019607843137253, the success rate of attack is0.7706272499917933\n"
          ]
        }
      ]
    },
    {
      "cell_type": "markdown",
      "source": [
        "Comparing the attack's success rate of adversarially retrained DNN model with the basline DNN model, the adversarially retrained DNN do robust against adversarial perturbations"
      ],
      "metadata": {
        "id": "Nbfe4UEtAOjo"
      }
    },
    {
      "cell_type": "code",
      "source": [],
      "metadata": {
        "id": "b35XcgEQAkre"
      },
      "execution_count": 15,
      "outputs": []
    },
    {
      "cell_type": "markdown",
      "source": [
        "## challenge"
      ],
      "metadata": {
        "id": "wTFRBBs78qAw"
      }
    },
    {
      "cell_type": "code",
      "source": [
        "def IFGSM_untarget(x_test, y_test, epsilon):\n",
        "  x_n = x_test\n",
        "  a = 1\n",
        "  for i in range(min(epsilon +4, 1.25*epsilon)):\n",
        "    x_n = perturb_untarget(x_n, y_test, 1/255)\n",
        "  return x_n\n",
        "  \n"
      ],
      "metadata": {
        "id": "gjl-EJlE8twM"
      },
      "execution_count": 16,
      "outputs": []
    },
    {
      "cell_type": "code",
      "source": [
        "new_img = IFGSM_untarget(x_test, y_test, 125)"
      ],
      "metadata": {
        "id": "Db58GPF7HKJb"
      },
      "execution_count": 17,
      "outputs": []
    },
    {
      "cell_type": "code",
      "source": [
        "plt.imshow(new_img[0])"
      ],
      "metadata": {
        "colab": {
          "base_uri": "https://localhost:8080/",
          "height": 282
        },
        "id": "ezjtU34KIQB-",
        "outputId": "15e8c8e1-3175-4282-f6dd-edf74e18072a"
      },
      "execution_count": 18,
      "outputs": [
        {
          "output_type": "execute_result",
          "data": {
            "text/plain": [
              "<matplotlib.image.AxesImage at 0x7f1286239b10>"
            ]
          },
          "metadata": {},
          "execution_count": 18
        },
        {
          "output_type": "display_data",
          "data": {
            "text/plain": [
              "<Figure size 432x288 with 1 Axes>"
            ],
            "image/png": "[encoded data removed]"
          },
          "metadata": {
            "needs_background": "light"
          }
        }
      ]
    },
    {
      "cell_type": "code",
      "source": [
        "from google.colab import drive\n",
        "drive.mount('/content/drive')"
      ],
      "metadata": {
        "colab": {
          "base_uri": "https://localhost:8080/"
        },
        "id": "R_c-qc5GJkqX",
        "outputId": "39192e28-b2d8-462d-f534-feff1714341c"
      },
      "execution_count": 19,
      "outputs": [
        {
          "output_type": "stream",
          "name": "stdout",
          "text": [
            "Mounted at /content/drive\n"
          ]
        }
      ]
    },
    {
      "cell_type": "code",
      "source": [
        "SAVE_PATH = \"/content/drive/MyDrive/nyu_course/ml_cyber/lab1_img/\""
      ],
      "metadata": {
        "id": "DvQIXsi8KRhS"
      },
      "execution_count": 20,
      "outputs": []
    },
    {
      "cell_type": "code",
      "source": [
        "import cv2\n",
        "print(new_img[0].shape)\n",
        "# print(new_img[0]*255)\n",
        "img = cv2.cvtColor((new_img[0]*255).astype('float32'), cv2.COLOR_GRAY2BGR)\n",
        "print(img.shape)\n",
        "plt.imshow(img)\n",
        "imgs = img[:,:,0]\n",
        "print(imgs.shape)\n",
        "plt.imshow(imgs)"
      ],
      "metadata": {
        "colab": {
          "base_uri": "https://localhost:8080/",
          "height": 352
        },
        "id": "wZee2w4mXmOM",
        "outputId": "a8809914-67f3-4740-a3bc-5ca8aa7f33c5"
      },
      "execution_count": 21,
      "outputs": [
        {
          "output_type": "stream",
          "name": "stderr",
          "text": [
            "WARNING:matplotlib.image:Clipping input data to the valid range for imshow with RGB data ([0..1] for floats or [0..255] for integers).\n"
          ]
        },
        {
          "output_type": "stream",
          "name": "stdout",
          "text": [
            "(28, 28)\n",
            "(28, 28, 3)\n",
            "(28, 28)\n"
          ]
        },
        {
          "output_type": "execute_result",
          "data": {
            "text/plain": [
              "<matplotlib.image.AxesImage at 0x7f12770e1650>"
            ]
          },
          "metadata": {},
          "execution_count": 21
        },
        {
          "output_type": "display_data",
          "data": {
            "text/plain": [
              "<Figure size 432x288 with 1 Axes>"
            ],
            "image/png": "[encoded data removed]"
          },
          "metadata": {
            "needs_background": "light"
          }
        }
      ]
    },
    {
      "cell_type": "code",
      "source": [
        "from PIL import Image\n",
        "import csv\n",
        "for i in range(len(new_img)):\n",
        "  img = cv2.cvtColor((new_img[i]*255).astype('float32'), cv2.COLOR_GRAY2BGR)\n",
        "  Image.fromarray(img.astype(np.uint8)).save(SAVE_PATH + str(i) + \".png\" )\n",
        "with open(SAVE_PATH + \"{images}.csv\", \"w\") as csvfile:\n",
        "  writer = csv.writer(\n",
        "      csvfile, delimiter=\" \", quotechar=\"|\", quoting=csv.QUOTE_MINIMAL\n",
        "  )\n",
        "  for i in range(len(new_img)):\n",
        "      writer.writerow(str(y_test[i]))"
      ],
      "metadata": {
        "id": "s8mUOXIZS-Ki"
      },
      "execution_count": 22,
      "outputs": []
    }
  ]
}