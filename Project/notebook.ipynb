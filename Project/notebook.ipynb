{
 "cells": [
  {
   "cell_type": "code",
   "execution_count": 1,
   "metadata": {},
   "outputs": [],
   "source": [
    "import numpy as np\n",
    "\n",
    "import warnings\n",
    "warnings.filterwarnings('ignore')"
   ]
  },
  {
   "cell_type": "markdown",
   "metadata": {},
   "source": [
    "### Dataset"
   ]
  },
  {
   "cell_type": "markdown",
   "metadata": {},
   "source": [
    "download kaggle dataset: https://www.kaggle.com/datasets/clmentbisaillon/fake-and-real-news-dataset/download?datasetVersionNumber=1  \n",
    "download liar dataset: https://www.cs.ucsb.edu/~william/data/liar_dataset.zip"
   ]
  },
  {
   "cell_type": "code",
   "execution_count": 2,
   "metadata": {},
   "outputs": [],
   "source": [
    "from load_dataset import kaggle_dataset\n",
    "from load_dataset import liar_dataset\n",
    "from load_dataset import kaggle_dataset_title\n",
    "\n",
    "kaggle_path = \"./dataset/Fake-News/\"\n",
    "liar_path = \"./dataset/Liar/\"\n",
    "\n",
    "# Pick dataset you want:\n",
    "# In any case the plain text is too long for training, \n",
    "# you can import kaggle_title as input\n",
    "# -- If kaggle title:\n",
    "dataset = kaggle_dataset_title(kaggle_path)\n",
    "# -- If kaggle:\n",
    "# dataset = kaggle_dataset(kaggle_path)\n",
    "# -- If Liar:\n",
    "# dataset = liar_dataset(liar_path)\n",
    "\n",
    "train_sentences = dataset.train_sentences\n",
    "val_sentences = dataset.val_sentences\n",
    "train_labels = dataset.train_labels\n",
    "val_labels = dataset.val_labels"
   ]
  },
  {
   "cell_type": "markdown",
   "metadata": {},
   "source": [
    "### Model"
   ]
  },
  {
   "cell_type": "markdown",
   "metadata": {},
   "source": [
    "##### Word Enbedding:  \n",
    "pre-trained text embedding model from TensorFlow Hub  \n",
    "more text-embedding download in https://tfhub.dev/s?module-type=text-embedding  \n",
    "NNLM:  \n",
    "plain text -> value [batch_size, 128]  \n",
    "BERT:  \n",
    "plain text -> pooled_output [batch_size, 128]  \n",
    "              sequence_output [batch_size, seq_length, 128]  "
   ]
  },
  {
   "cell_type": "markdown",
   "metadata": {},
   "source": [
    "##### Network"
   ]
  },
  {
   "cell_type": "code",
   "execution_count": 11,
   "metadata": {},
   "outputs": [],
   "source": [
    "# Split a small batch of dataset to continue (save time...)\n",
    "i = 3000\n",
    "train_x = train_sentences[:i]\n",
    "val_x = val_sentences[:int(0.2*i)]\n",
    "train_y = train_labels[:i]\n",
    "val_y = val_labels[:int(0.2*i)]"
   ]
  },
  {
   "cell_type": "code",
   "execution_count": 12,
   "metadata": {},
   "outputs": [
    {
     "name": "stdout",
     "output_type": "stream",
     "text": [
      "Model: \"model_4\"\n",
      "__________________________________________________________________________________________________\n",
      " Layer (type)                   Output Shape         Param #     Connected to                     \n",
      "==================================================================================================\n",
      " input_5 (InputLayer)           [(None,)]            0           []                               \n",
      "                                                                                                  \n",
      " keras_layer (KerasLayer)       {'input_word_ids':   0           ['input_5[0][0]']                \n",
      "                                (None, 128),                                                      \n",
      "                                 'input_type_ids':                                                \n",
      "                                (None, 128),                                                      \n",
      "                                 'input_mask': (Non                                               \n",
      "                                e, 128)}                                                          \n",
      "                                                                                                  \n",
      " keras_layer_1 (KerasLayer)     (None, 128)          4782465     ['keras_layer[4][0]',            \n",
      "                                                                  'keras_layer[4][1]',            \n",
      "                                                                  'keras_layer[4][2]']            \n",
      "                                                                                                  \n",
      " dense_10 (Dense)               (None, 256)          33024       ['keras_layer_1[4][0]']          \n",
      "                                                                                                  \n",
      " dropout_4 (Dropout)            (None, 256)          0           ['dense_10[0][0]']               \n",
      "                                                                                                  \n",
      " dense_11 (Dense)               (None, 64)           16448       ['dropout_4[0][0]']              \n",
      "                                                                                                  \n",
      " dropout_5 (Dropout)            (None, 64)           0           ['dense_11[0][0]']               \n",
      "                                                                                                  \n",
      " dense_12 (Dense)               (None, 1)            65          ['dropout_5[0][0]']              \n",
      "                                                                                                  \n",
      "==================================================================================================\n",
      "Total params: 4,832,002\n",
      "Trainable params: 49,537\n",
      "Non-trainable params: 4,782,465\n",
      "__________________________________________________________________________________________________\n",
      "Epoch 1/5\n",
      "94/94 [==============================] - 5s 48ms/step - loss: 0.4109 - accuracy: 0.8040 - val_loss: 0.3769 - val_accuracy: 0.8600\n",
      "Epoch 2/5\n",
      "94/94 [==============================] - 4s 44ms/step - loss: 0.3215 - accuracy: 0.8560 - val_loss: 0.3597 - val_accuracy: 0.8300\n",
      "Epoch 3/5\n",
      "94/94 [==============================] - 4s 43ms/step - loss: 0.3000 - accuracy: 0.8683 - val_loss: 0.3125 - val_accuracy: 0.8733\n",
      "Epoch 4/5\n",
      "94/94 [==============================] - 4s 43ms/step - loss: 0.2907 - accuracy: 0.8777 - val_loss: 0.3352 - val_accuracy: 0.8750\n",
      "Epoch 5/5\n",
      "94/94 [==============================] - 4s 43ms/step - loss: 0.3005 - accuracy: 0.8663 - val_loss: 0.3092 - val_accuracy: 0.8750\n"
     ]
    }
   ],
   "source": [
    "embedding = \"nnlm\"\n",
    "\n",
    "# Select a model\n",
    "from load_model import lstm\n",
    "# lstm(LSTM_units, embedding)\n",
    "from load_model import cnn_lstm\n",
    "# cnn_lstm(cov_filters, cov_kernel, pool_size, LSTM_units, embedding)\n",
    "from load_model import dense\n",
    "# dense(embedding, neural=64)\n",
    "from load_model import dense_dropout\n",
    "# dense_dropout(embedding, dropout=0.1, neural_1=256, neural_2=64)\n",
    "\n",
    "model = dense_dropout()\n",
    "model.summary()\n",
    "model.compile(loss='binary_crossentropy', optimizer='adam', metrics=['accuracy'])\n",
    "model_history = model.fit(train_x, train_y, validation_data=(val_x, val_y),epochs=5)"
   ]
  },
  {
   "attachments": {},
   "cell_type": "markdown",
   "metadata": {},
   "source": [
    "### Text Attack\n",
    "TextAttack is a Python framework for adversarial attacks, data augmentation, and model training in NLP.\n",
    "https://github.com/QData/TextAttack"
   ]
  },
  {
   "cell_type": "code",
   "execution_count": 5,
   "metadata": {},
   "outputs": [],
   "source": [
    "import numpy as np\n",
    "import torch\n",
    "\n",
    "from textattack.models.wrappers import ModelWrapper\n",
    "from textattack import AttackArgs\n",
    "from textattack import Attacker\n",
    "from textattack.datasets import Dataset\n",
    "\n",
    "class CustomTensorFlowModelWrapper(ModelWrapper):\n",
    "    def __init__(self, model):\n",
    "        self.model = model\n",
    "\n",
    "    def __call__(self, text_input_list):\n",
    "        text_array = np.array(text_input_list)\n",
    "        preds = self.model(text_array).numpy()\n",
    "        logits = torch.exp(-torch.tensor(preds))\n",
    "        logits = 1 / (1 + logits)\n",
    "        logits = logits.squeeze(dim=-1)\n",
    "        # Since this model only has a single output (between 0 or 1),\n",
    "        # we have to add the second dimension.\n",
    "        final_preds = torch.stack((1-logits, logits), dim=1)\n",
    "        return final_preds"
   ]
  },
  {
   "attachments": {},
   "cell_type": "markdown",
   "metadata": {},
   "source": [
    "##### unsuccessful attacks"
   ]
  },
  {
   "cell_type": "code",
   "execution_count": 6,
   "metadata": {},
   "outputs": [
    {
     "name": "stderr",
     "output_type": "stream",
     "text": [
      "Some weights of the model checkpoint at bert-base-uncased were not used when initializing BertForMaskedLM: ['cls.seq_relationship.weight', 'cls.seq_relationship.bias']\n",
      "- This IS expected if you are initializing BertForMaskedLM from the checkpoint of a model trained on another task or with another architecture (e.g. initializing a BertForSequenceClassification model from a BertForPreTraining model).\n",
      "- This IS NOT expected if you are initializing BertForMaskedLM from the checkpoint of a model that you expect to be exactly identical (initializing a BertForSequenceClassification model from a BertForSequenceClassification model).\n",
      "textattack: Unknown if model of class <class 'keras.engine.functional.Functional'> compatible with goal function <class 'textattack.goal_functions.classification.untargeted_classification.UntargetedClassification'>.\n"
     ]
    },
    {
     "name": "stdout",
     "output_type": "stream",
     "text": [
      "Attack(\n",
      "  (search_method): GreedyWordSwapWIR(\n",
      "    (wir_method):  delete\n",
      "  )\n",
      "  (goal_function):  UntargetedClassification\n",
      "  (transformation):  WordSwapMaskedLM(\n",
      "    (method):  bae\n",
      "    (masked_lm_name):  BertForMaskedLM\n",
      "    (max_length):  512\n",
      "    (max_candidates):  50\n",
      "    (min_confidence):  0.0\n",
      "  )\n",
      "  (constraints): \n",
      "    (0): PartOfSpeech(\n",
      "        (tagger_type):  nltk\n",
      "        (tagset):  universal\n",
      "        (allow_verb_noun_swap):  True\n",
      "        (compare_against_original):  True\n",
      "      )\n",
      "    (1): UniversalSentenceEncoder(\n",
      "        (metric):  cosine\n",
      "        (threshold):  0.936338023\n",
      "        (window_size):  15\n",
      "        (skip_text_shorter_than_window):  True\n",
      "        (compare_against_original):  True\n",
      "      )\n",
      "    (2): RepeatModification\n",
      "    (3): StopwordModification\n",
      "  (is_black_box):  True\n",
      ") \n",
      "\n"
     ]
    },
    {
     "name": "stderr",
     "output_type": "stream",
     "text": [
      "[Succeeded / Failed / Skipped / Total] 0 / 0 / 5 / 5:   5%|▌         | 5/100 [00:00<00:05, 18.67it/s]textattack: Saving checkpoint under \"checkpoints\\1670905110083.ta.chkpt\" at 2022-12-12 23:18:30 after 5 attacks.\n"
     ]
    },
    {
     "name": "stdout",
     "output_type": "stream",
     "text": [
      "\n",
      "\n",
      "=============================================================================================================================\n",
      "=============================================================================================================================\n",
      "\n"
     ]
    },
    {
     "name": "stderr",
     "output_type": "stream",
     "text": [
      "[Succeeded / Failed / Skipped / Total] 0 / 3 / 7 / 10:  10%|█         | 10/100 [00:29<04:29,  3.00s/it]textattack: Saving checkpoint under \"checkpoints\\1670905139784.ta.chkpt\" at 2022-12-12 23:18:59 after 10 attacks.\n",
      "[Succeeded / Failed / Skipped / Total] 0 / 3 / 8 / 11:  11%|█         | 11/100 [00:29<04:02,  2.73s/it]"
     ]
    },
    {
     "name": "stdout",
     "output_type": "stream",
     "text": [
      "\n",
      "\n",
      "=============================================================================================================================\n",
      "=============================================================================================================================\n",
      "\n"
     ]
    },
    {
     "name": "stderr",
     "output_type": "stream",
     "text": [
      "[Succeeded / Failed / Skipped / Total] 0 / 4 / 11 / 15:  15%|█▌        | 15/100 [00:44<04:14,  3.00s/it]textattack: Saving checkpoint under \"checkpoints\\1670905154774.ta.chkpt\" at 2022-12-12 23:19:14 after 15 attacks.\n",
      "[Succeeded / Failed / Skipped / Total] 0 / 4 / 13 / 17:  17%|█▋        | 17/100 [00:44<03:39,  2.65s/it]"
     ]
    },
    {
     "name": "stdout",
     "output_type": "stream",
     "text": [
      "\n",
      "\n",
      "=============================================================================================================================\n",
      "=============================================================================================================================\n",
      "\n"
     ]
    },
    {
     "name": "stderr",
     "output_type": "stream",
     "text": [
      "[Succeeded / Failed / Skipped / Total] 0 / 6 / 14 / 20:  20%|██        | 20/100 [01:07<04:28,  3.36s/it]textattack: Saving checkpoint under \"checkpoints\\1670905177018.ta.chkpt\" at 2022-12-12 23:19:37 after 20 attacks.\n"
     ]
    },
    {
     "name": "stdout",
     "output_type": "stream",
     "text": [
      "\n",
      "\n",
      "=============================================================================================================================\n",
      "=============================================================================================================================\n",
      "\n"
     ]
    },
    {
     "name": "stderr",
     "output_type": "stream",
     "text": [
      "[Succeeded / Failed / Skipped / Total] 0 / 10 / 15 / 25:  25%|██▌       | 25/100 [01:34<04:43,  3.78s/it]textattack: Saving checkpoint under \"checkpoints\\1670905204323.ta.chkpt\" at 2022-12-12 23:20:04 after 25 attacks.\n"
     ]
    },
    {
     "name": "stdout",
     "output_type": "stream",
     "text": [
      "\n",
      "\n",
      "=============================================================================================================================\n",
      "=============================================================================================================================\n",
      "\n"
     ]
    },
    {
     "name": "stderr",
     "output_type": "stream",
     "text": [
      "[Succeeded / Failed / Skipped / Total] 0 / 14 / 16 / 30:  30%|███       | 30/100 [02:17<05:20,  4.57s/it]textattack: Saving checkpoint under \"checkpoints\\1670905247000.ta.chkpt\" at 2022-12-12 23:20:47 after 30 attacks.\n"
     ]
    },
    {
     "name": "stdout",
     "output_type": "stream",
     "text": [
      "\n",
      "\n",
      "=============================================================================================================================\n",
      "=============================================================================================================================\n",
      "\n"
     ]
    },
    {
     "name": "stderr",
     "output_type": "stream",
     "text": [
      "[Succeeded / Failed / Skipped / Total] 0 / 17 / 18 / 35:  35%|███▌      | 35/100 [02:42<05:00,  4.63s/it]textattack: Saving checkpoint under \"checkpoints\\1670905271877.ta.chkpt\" at 2022-12-12 23:21:11 after 35 attacks.\n"
     ]
    },
    {
     "name": "stdout",
     "output_type": "stream",
     "text": [
      "\n",
      "\n",
      "=============================================================================================================================\n",
      "=============================================================================================================================\n",
      "\n"
     ]
    },
    {
     "name": "stderr",
     "output_type": "stream",
     "text": [
      "[Succeeded / Failed / Skipped / Total] 0 / 20 / 20 / 40:  40%|████      | 40/100 [03:09<04:44,  4.75s/it]textattack: Saving checkpoint under \"checkpoints\\1670905299669.ta.chkpt\" at 2022-12-12 23:21:39 after 40 attacks.\n"
     ]
    },
    {
     "name": "stdout",
     "output_type": "stream",
     "text": [
      "\n",
      "\n",
      "=============================================================================================================================\n",
      "=============================================================================================================================\n",
      "\n"
     ]
    },
    {
     "name": "stderr",
     "output_type": "stream",
     "text": [
      "[Succeeded / Failed / Skipped / Total] 0 / 24 / 21 / 45:  45%|████▌     | 45/100 [03:43<04:33,  4.97s/it]textattack: Saving checkpoint under \"checkpoints\\1670905333250.ta.chkpt\" at 2022-12-12 23:22:13 after 45 attacks.\n",
      "[Succeeded / Failed / Skipped / Total] 0 / 24 / 23 / 47:  47%|████▋     | 47/100 [03:43<04:11,  4.75s/it]"
     ]
    },
    {
     "name": "stdout",
     "output_type": "stream",
     "text": [
      "\n",
      "\n",
      "=============================================================================================================================\n",
      "=============================================================================================================================\n",
      "\n"
     ]
    },
    {
     "name": "stderr",
     "output_type": "stream",
     "text": [
      "[Succeeded / Failed / Skipped / Total] 0 / 26 / 24 / 50:  50%|█████     | 50/100 [04:01<04:01,  4.84s/it]textattack: Saving checkpoint under \"checkpoints\\1670905351755.ta.chkpt\" at 2022-12-12 23:22:31 after 50 attacks.\n"
     ]
    },
    {
     "name": "stdout",
     "output_type": "stream",
     "text": [
      "\n",
      "\n",
      "=============================================================================================================================\n",
      "=============================================================================================================================\n",
      "\n"
     ]
    },
    {
     "name": "stderr",
     "output_type": "stream",
     "text": [
      "[Succeeded / Failed / Skipped / Total] 0 / 30 / 25 / 55:  55%|█████▌    | 55/100 [04:42<03:51,  5.14s/it]textattack: Saving checkpoint under \"checkpoints\\1670905392603.ta.chkpt\" at 2022-12-12 23:23:12 after 55 attacks.\n"
     ]
    },
    {
     "name": "stdout",
     "output_type": "stream",
     "text": [
      "\n",
      "\n",
      "=============================================================================================================================\n",
      "=============================================================================================================================\n",
      "\n"
     ]
    },
    {
     "name": "stderr",
     "output_type": "stream",
     "text": [
      "[Succeeded / Failed / Skipped / Total] 0 / 33 / 27 / 60:  60%|██████    | 60/100 [05:21<03:34,  5.35s/it]textattack: Saving checkpoint under \"checkpoints\\1670905431089.ta.chkpt\" at 2022-12-12 23:23:51 after 60 attacks.\n",
      "[Succeeded / Failed / Skipped / Total] 0 / 33 / 28 / 61:  61%|██████    | 61/100 [05:21<03:25,  5.27s/it]"
     ]
    },
    {
     "name": "stdout",
     "output_type": "stream",
     "text": [
      "\n",
      "\n",
      "=============================================================================================================================\n",
      "=============================================================================================================================\n",
      "\n"
     ]
    },
    {
     "name": "stderr",
     "output_type": "stream",
     "text": [
      "[Succeeded / Failed / Skipped / Total] 0 / 35 / 30 / 65:  65%|██████▌   | 65/100 [05:43<03:04,  5.28s/it]textattack: Saving checkpoint under \"checkpoints\\1670905452830.ta.chkpt\" at 2022-12-12 23:24:12 after 65 attacks.\n",
      "[Succeeded / Failed / Skipped / Total] 0 / 35 / 31 / 66:  66%|██████▌   | 66/100 [05:43<02:56,  5.20s/it]"
     ]
    },
    {
     "name": "stdout",
     "output_type": "stream",
     "text": [
      "\n",
      "\n",
      "=============================================================================================================================\n",
      "=============================================================================================================================\n",
      "\n"
     ]
    },
    {
     "name": "stderr",
     "output_type": "stream",
     "text": [
      "[Succeeded / Failed / Skipped / Total] 0 / 36 / 34 / 70:  70%|███████   | 70/100 [05:51<02:30,  5.02s/it]textattack: Saving checkpoint under \"checkpoints\\1670905461498.ta.chkpt\" at 2022-12-12 23:24:21 after 70 attacks.\n"
     ]
    },
    {
     "name": "stdout",
     "output_type": "stream",
     "text": [
      "\n",
      "\n",
      "=============================================================================================================================\n",
      "=============================================================================================================================\n",
      "\n"
     ]
    },
    {
     "name": "stderr",
     "output_type": "stream",
     "text": [
      "[Succeeded / Failed / Skipped / Total] 0 / 39 / 36 / 75:  75%|███████▌  | 75/100 [06:18<02:06,  5.05s/it]textattack: Saving checkpoint under \"checkpoints\\1670905488459.ta.chkpt\" at 2022-12-12 23:24:48 after 75 attacks.\n",
      "[Succeeded / Failed / Skipped / Total] 0 / 39 / 37 / 76:  76%|███████▌  | 76/100 [06:18<01:59,  4.98s/it]"
     ]
    },
    {
     "name": "stdout",
     "output_type": "stream",
     "text": [
      "\n",
      "\n",
      "=============================================================================================================================\n",
      "=============================================================================================================================\n",
      "\n"
     ]
    },
    {
     "name": "stderr",
     "output_type": "stream",
     "text": [
      "[Succeeded / Failed / Skipped / Total] 0 / 41 / 39 / 80:  80%|████████  | 80/100 [06:33<01:38,  4.92s/it]textattack: Saving checkpoint under \"checkpoints\\1670905503350.ta.chkpt\" at 2022-12-12 23:25:03 after 80 attacks.\n"
     ]
    },
    {
     "name": "stdout",
     "output_type": "stream",
     "text": [
      "\n",
      "\n",
      "=============================================================================================================================\n",
      "=============================================================================================================================\n",
      "\n"
     ]
    },
    {
     "name": "stderr",
     "output_type": "stream",
     "text": [
      "[Succeeded / Failed / Skipped / Total] 0 / 42 / 43 / 85:  85%|████████▌ | 85/100 [06:50<01:12,  4.83s/it]textattack: Saving checkpoint under \"checkpoints\\1670905520755.ta.chkpt\" at 2022-12-12 23:25:20 after 85 attacks.\n",
      "[Succeeded / Failed / Skipped / Total] 0 / 42 / 44 / 86:  86%|████████▌ | 86/100 [06:50<01:06,  4.78s/it]"
     ]
    },
    {
     "name": "stdout",
     "output_type": "stream",
     "text": [
      "\n",
      "\n",
      "=============================================================================================================================\n",
      "=============================================================================================================================\n",
      "\n"
     ]
    },
    {
     "name": "stderr",
     "output_type": "stream",
     "text": [
      "[Succeeded / Failed / Skipped / Total] 0 / 46 / 44 / 90:  90%|█████████ | 90/100 [07:21<00:49,  4.91s/it]textattack: Saving checkpoint under \"checkpoints\\1670905551438.ta.chkpt\" at 2022-12-12 23:25:51 after 90 attacks.\n"
     ]
    },
    {
     "name": "stdout",
     "output_type": "stream",
     "text": [
      "\n",
      "\n",
      "=============================================================================================================================\n",
      "=============================================================================================================================\n",
      "\n"
     ]
    },
    {
     "name": "stderr",
     "output_type": "stream",
     "text": [
      "[Succeeded / Failed / Skipped / Total] 0 / 49 / 46 / 95:  95%|█████████▌| 95/100 [07:49<00:24,  4.94s/it]textattack: Saving checkpoint under \"checkpoints\\1670905579405.ta.chkpt\" at 2022-12-12 23:26:19 after 95 attacks.\n"
     ]
    },
    {
     "name": "stdout",
     "output_type": "stream",
     "text": [
      "\n",
      "\n",
      "=============================================================================================================================\n",
      "=============================================================================================================================\n",
      "\n"
     ]
    },
    {
     "name": "stderr",
     "output_type": "stream",
     "text": [
      "[Succeeded / Failed / Skipped / Total] 0 / 54 / 46 / 100: 100%|██████████| 100/100 [08:32<00:00,  5.12s/it]textattack: Saving checkpoint under \"checkpoints\\1670905621994.ta.chkpt\" at 2022-12-12 23:27:01 after 100 attacks.\n",
      "[Succeeded / Failed / Skipped / Total] 0 / 54 / 46 / 100: 100%|██████████| 100/100 [08:32<00:00,  5.12s/it]"
     ]
    },
    {
     "name": "stdout",
     "output_type": "stream",
     "text": [
      "\n",
      "\n",
      "=============================================================================================================================\n",
      "=============================================================================================================================\n",
      "\n",
      "\n",
      "+-------------------------------+--------+\n",
      "| Attack Results                |        |\n",
      "+-------------------------------+--------+\n",
      "| Number of successful attacks: | 0      |\n",
      "| Number of failed attacks:     | 54     |\n",
      "| Number of skipped attacks:    | 46     |\n",
      "| Original accuracy:            | 54.0%  |\n",
      "| Accuracy under attack:        | 54.0%  |\n",
      "| Attack success rate:          | 0.0%   |\n",
      "| Average perturbed word %:     | nan%   |\n",
      "| Average num. words per input: | 13.25  |\n",
      "| Avg num queries:              | 202.56 |\n",
      "+-------------------------------+--------+\n"
     ]
    },
    {
     "name": "stderr",
     "output_type": "stream",
     "text": [
      "\n"
     ]
    },
    {
     "data": {
      "text/plain": [
       "[<textattack.attack_results.skipped_attack_result.SkippedAttackResult at 0x2a4ef1fa0d0>,\n",
       " <textattack.attack_results.skipped_attack_result.SkippedAttackResult at 0x2a4abd9fa90>,\n",
       " <textattack.attack_results.skipped_attack_result.SkippedAttackResult at 0x2a4ef2018b0>,\n",
       " <textattack.attack_results.skipped_attack_result.SkippedAttackResult at 0x2a4ef2017c0>,\n",
       " <textattack.attack_results.skipped_attack_result.SkippedAttackResult at 0x2a4ef201640>,\n",
       " <textattack.attack_results.failed_attack_result.FailedAttackResult at 0x2a4ea81d3d0>,\n",
       " <textattack.attack_results.skipped_attack_result.SkippedAttackResult at 0x2a4fe4f22e0>,\n",
       " <textattack.attack_results.failed_attack_result.FailedAttackResult at 0x2a501698f70>,\n",
       " <textattack.attack_results.skipped_attack_result.SkippedAttackResult at 0x2a4ef212f70>,\n",
       " <textattack.attack_results.failed_attack_result.FailedAttackResult at 0x2a4ef2046a0>,\n",
       " <textattack.attack_results.skipped_attack_result.SkippedAttackResult at 0x2a4ef2044f0>,\n",
       " <textattack.attack_results.failed_attack_result.FailedAttackResult at 0x2a4ef1d1fa0>,\n",
       " <textattack.attack_results.skipped_attack_result.SkippedAttackResult at 0x2a4ea814f70>,\n",
       " <textattack.attack_results.skipped_attack_result.SkippedAttackResult at 0x2a4ff3fafa0>,\n",
       " <textattack.attack_results.skipped_attack_result.SkippedAttackResult at 0x2a52b8df130>,\n",
       " <textattack.attack_results.skipped_attack_result.SkippedAttackResult at 0x2a52b8df910>,\n",
       " <textattack.attack_results.skipped_attack_result.SkippedAttackResult at 0x2a52b8df0d0>,\n",
       " <textattack.attack_results.failed_attack_result.FailedAttackResult at 0x2a4abd9c880>,\n",
       " <textattack.attack_results.skipped_attack_result.SkippedAttackResult at 0x2a4fe55b0a0>,\n",
       " <textattack.attack_results.failed_attack_result.FailedAttackResult at 0x2a509994a30>,\n",
       " <textattack.attack_results.failed_attack_result.FailedAttackResult at 0x2a4ea7f92e0>,\n",
       " <textattack.attack_results.failed_attack_result.FailedAttackResult at 0x2a4ea7f9be0>,\n",
       " <textattack.attack_results.failed_attack_result.FailedAttackResult at 0x2a4ef2124c0>,\n",
       " <textattack.attack_results.failed_attack_result.FailedAttackResult at 0x2a4fe55b040>,\n",
       " <textattack.attack_results.skipped_attack_result.SkippedAttackResult at 0x2a5099231c0>,\n",
       " <textattack.attack_results.failed_attack_result.FailedAttackResult at 0x2a4ef212dc0>,\n",
       " <textattack.attack_results.failed_attack_result.FailedAttackResult at 0x2a4fe538fa0>,\n",
       " <textattack.attack_results.skipped_attack_result.SkippedAttackResult at 0x2a4ef2047f0>,\n",
       " <textattack.attack_results.failed_attack_result.FailedAttackResult at 0x2a4ea825160>,\n",
       " <textattack.attack_results.failed_attack_result.FailedAttackResult at 0x2a4fe4f2280>,\n",
       " <textattack.attack_results.failed_attack_result.FailedAttackResult at 0x2a5099943a0>,\n",
       " <textattack.attack_results.skipped_attack_result.SkippedAttackResult at 0x2a5099946d0>,\n",
       " <textattack.attack_results.failed_attack_result.FailedAttackResult at 0x2a52b970a30>,\n",
       " <textattack.attack_results.skipped_attack_result.SkippedAttackResult at 0x2a4ea825070>,\n",
       " <textattack.attack_results.failed_attack_result.FailedAttackResult at 0x2a4ef1fae20>,\n",
       " <textattack.attack_results.failed_attack_result.FailedAttackResult at 0x2a4ef1e63a0>,\n",
       " <textattack.attack_results.failed_attack_result.FailedAttackResult at 0x2a509923df0>,\n",
       " <textattack.attack_results.skipped_attack_result.SkippedAttackResult at 0x2a52b970250>,\n",
       " <textattack.attack_results.skipped_attack_result.SkippedAttackResult at 0x2a4fe4db5b0>,\n",
       " <textattack.attack_results.failed_attack_result.FailedAttackResult at 0x2a509994310>,\n",
       " <textattack.attack_results.failed_attack_result.FailedAttackResult at 0x2a4fe4db550>,\n",
       " <textattack.attack_results.failed_attack_result.FailedAttackResult at 0x2a5016aa460>,\n",
       " <textattack.attack_results.skipped_attack_result.SkippedAttackResult at 0x2a4fe653e50>,\n",
       " <textattack.attack_results.failed_attack_result.FailedAttackResult at 0x2a4ef20d8b0>,\n",
       " <textattack.attack_results.failed_attack_result.FailedAttackResult at 0x2a5099947c0>,\n",
       " <textattack.attack_results.skipped_attack_result.SkippedAttackResult at 0x2a52b970cd0>,\n",
       " <textattack.attack_results.skipped_attack_result.SkippedAttackResult at 0x2a52b970670>,\n",
       " <textattack.attack_results.failed_attack_result.FailedAttackResult at 0x2a4ef2080a0>,\n",
       " <textattack.attack_results.skipped_attack_result.SkippedAttackResult at 0x2a4ef208d60>,\n",
       " <textattack.attack_results.failed_attack_result.FailedAttackResult at 0x2a4ff3fab20>,\n",
       " <textattack.attack_results.failed_attack_result.FailedAttackResult at 0x2a52b66bdf0>,\n",
       " <textattack.attack_results.failed_attack_result.FailedAttackResult at 0x2a4ef2019d0>,\n",
       " <textattack.attack_results.skipped_attack_result.SkippedAttackResult at 0x2a4ef2011c0>,\n",
       " <textattack.attack_results.failed_attack_result.FailedAttackResult at 0x2a4ef204910>,\n",
       " <textattack.attack_results.failed_attack_result.FailedAttackResult at 0x2a4ff2c6580>,\n",
       " <textattack.attack_results.failed_attack_result.FailedAttackResult at 0x2a4ef1e6220>,\n",
       " <textattack.attack_results.skipped_attack_result.SkippedAttackResult at 0x2a4ef1e61c0>,\n",
       " <textattack.attack_results.failed_attack_result.FailedAttackResult at 0x2a5098b4e50>,\n",
       " <textattack.attack_results.failed_attack_result.FailedAttackResult at 0x2a52b5fb190>,\n",
       " <textattack.attack_results.skipped_attack_result.SkippedAttackResult at 0x2a52b5fbb50>,\n",
       " <textattack.attack_results.skipped_attack_result.SkippedAttackResult at 0x2a52b6b0880>,\n",
       " <textattack.attack_results.failed_attack_result.FailedAttackResult at 0x2a52b8df9a0>,\n",
       " <textattack.attack_results.skipped_attack_result.SkippedAttackResult at 0x2a4ef20d3d0>,\n",
       " <textattack.attack_results.skipped_attack_result.SkippedAttackResult at 0x2a4ef208d30>,\n",
       " <textattack.attack_results.failed_attack_result.FailedAttackResult at 0x2a4ef1f68b0>,\n",
       " <textattack.attack_results.skipped_attack_result.SkippedAttackResult at 0x2a52b9446d0>,\n",
       " <textattack.attack_results.failed_attack_result.FailedAttackResult at 0x2a52b66b790>,\n",
       " <textattack.attack_results.skipped_attack_result.SkippedAttackResult at 0x2a5099e8040>,\n",
       " <textattack.attack_results.skipped_attack_result.SkippedAttackResult at 0x2a5099e8850>,\n",
       " <textattack.attack_results.skipped_attack_result.SkippedAttackResult at 0x2a5099e8ee0>,\n",
       " <textattack.attack_results.failed_attack_result.FailedAttackResult at 0x2a5016d4370>,\n",
       " <textattack.attack_results.skipped_attack_result.SkippedAttackResult at 0x2a5016d4ca0>,\n",
       " <textattack.attack_results.failed_attack_result.FailedAttackResult at 0x2a4ef201880>,\n",
       " <textattack.attack_results.failed_attack_result.FailedAttackResult at 0x2a509a12f40>,\n",
       " <textattack.attack_results.skipped_attack_result.SkippedAttackResult at 0x2a509a12d90>,\n",
       " <textattack.attack_results.skipped_attack_result.SkippedAttackResult at 0x2a5099940a0>,\n",
       " <textattack.attack_results.failed_attack_result.FailedAttackResult at 0x2a509a12d30>,\n",
       " <textattack.attack_results.skipped_attack_result.SkippedAttackResult at 0x2a509a12370>,\n",
       " <textattack.attack_results.skipped_attack_result.SkippedAttackResult at 0x2a52b66fb80>,\n",
       " <textattack.attack_results.failed_attack_result.FailedAttackResult at 0x2a4ef1fa7f0>,\n",
       " <textattack.attack_results.failed_attack_result.FailedAttackResult at 0x2a4ef1fa070>,\n",
       " <textattack.attack_results.skipped_attack_result.SkippedAttackResult at 0x2a4ef1fa970>,\n",
       " <textattack.attack_results.skipped_attack_result.SkippedAttackResult at 0x2a4ef1faca0>,\n",
       " <textattack.attack_results.skipped_attack_result.SkippedAttackResult at 0x2a52b8ac700>,\n",
       " <textattack.attack_results.skipped_attack_result.SkippedAttackResult at 0x2a52b8acc40>,\n",
       " <textattack.attack_results.skipped_attack_result.SkippedAttackResult at 0x2a52b91df70>,\n",
       " <textattack.attack_results.failed_attack_result.FailedAttackResult at 0x2a4ff2b8f70>,\n",
       " <textattack.attack_results.failed_attack_result.FailedAttackResult at 0x2a4ef1fa820>,\n",
       " <textattack.attack_results.failed_attack_result.FailedAttackResult at 0x2a4ef2161f0>,\n",
       " <textattack.attack_results.failed_attack_result.FailedAttackResult at 0x2a4ef1fa310>,\n",
       " <textattack.attack_results.failed_attack_result.FailedAttackResult at 0x2a4ef20dee0>,\n",
       " <textattack.attack_results.skipped_attack_result.SkippedAttackResult at 0x2a52b6b7940>,\n",
       " <textattack.attack_results.failed_attack_result.FailedAttackResult at 0x2a4ef216700>,\n",
       " <textattack.attack_results.failed_attack_result.FailedAttackResult at 0x2a501676400>,\n",
       " <textattack.attack_results.skipped_attack_result.SkippedAttackResult at 0x2a4ef1fa220>,\n",
       " <textattack.attack_results.failed_attack_result.FailedAttackResult at 0x2a509a11340>,\n",
       " <textattack.attack_results.failed_attack_result.FailedAttackResult at 0x2a4ef1fac70>,\n",
       " <textattack.attack_results.failed_attack_result.FailedAttackResult at 0x2a5016aa5b0>,\n",
       " <textattack.attack_results.failed_attack_result.FailedAttackResult at 0x2a52b6b0130>,\n",
       " <textattack.attack_results.failed_attack_result.FailedAttackResult at 0x2a5016aaf10>]"
      ]
     },
     "execution_count": 6,
     "metadata": {},
     "output_type": "execute_result"
    }
   ],
   "source": [
    "# Model: kaggle_title, dense_dropout, nnlm\n",
    "from textattack.attack_recipes import BAEGarg2019 as attack_recipe\n",
    "\n",
    "# try first 10 example because quite slow attack speed\n",
    "i = 100\n",
    "train_dataset = []\n",
    "for example, label in zip(train_sentences[:i], train_labels[:i]):\n",
    "    train_dataset.append((example, int(label)))\n",
    "train_dataset = Dataset(train_dataset)\n",
    "\n",
    "model_wrapper = CustomTensorFlowModelWrapper(model)\n",
    "attack = attack_recipe.build(model_wrapper)\n",
    "\n",
    "attack_args = AttackArgs(\n",
    "    num_examples=i,\n",
    "    checkpoint_interval=5,\n",
    "    disable_stdout=True\n",
    ")\n",
    "\n",
    "attacker = Attacker(attack, train_dataset, attack_args)\n",
    "attacker.attack_dataset()"
   ]
  },
  {
   "cell_type": "code",
   "execution_count": 15,
   "metadata": {},
   "outputs": [
    {
     "name": "stderr",
     "output_type": "stream",
     "text": [
      "textattack: Unknown if model of class <class 'keras.engine.functional.Functional'> compatible with goal function <class 'textattack.goal_functions.classification.untargeted_classification.UntargetedClassification'>.\n"
     ]
    },
    {
     "name": "stdout",
     "output_type": "stream",
     "text": [
      "Attack(\n",
      "  (search_method): GreedySearch\n",
      "  (goal_function):  UntargetedClassification\n",
      "  (transformation):  CompositeTransformation(\n",
      "    (0): WordSwapNeighboringCharacterSwap(\n",
      "        (random_one):  False\n",
      "      )\n",
      "    (1): WordSwapRandomCharacterDeletion(\n",
      "        (random_one):  False\n",
      "      )\n",
      "    (2): WordSwapRandomCharacterInsertion(\n",
      "        (random_one):  False\n",
      "      )\n",
      "    (3): WordSwapQWERTY\n",
      "    )\n",
      "  (constraints): \n",
      "    (0): MaxWordsPerturbed(\n",
      "        (max_num_words):  1\n",
      "        (compare_against_original):  True\n",
      "      )\n",
      "    (1): MinWordLength\n",
      "    (2): StopwordModification\n",
      "    (3): RepeatModification\n",
      "  (is_black_box):  True\n",
      ") \n",
      "\n"
     ]
    },
    {
     "name": "stderr",
     "output_type": "stream",
     "text": [
      "[Succeeded / Failed / Skipped / Total] 0 / 1 / 0 / 1:  10%|█         | 1/10 [3:27:32<31:07:54, 12452.73s/it]\n",
      "[Succeeded / Failed / Skipped / Total] 0 / 4 / 1 / 5:  50%|█████     | 5/10 [02:47<02:47, 33.45s/it]textattack: Saving checkpoint under \"checkpoints\\1670804432652.ta.chkpt\" at 2022-12-11 19:20:32 after 5 attacks.\n"
     ]
    },
    {
     "name": "stdout",
     "output_type": "stream",
     "text": [
      "\n",
      "\n",
      "=============================================================================================================================\n",
      "=============================================================================================================================\n",
      "\n"
     ]
    },
    {
     "name": "stderr",
     "output_type": "stream",
     "text": [
      "[Succeeded / Failed / Skipped / Total] 0 / 8 / 2 / 10: 100%|██████████| 10/10 [24:20<00:00, 146.01s/it]textattack: Saving checkpoint under \"checkpoints\\1670805725468.ta.chkpt\" at 2022-12-11 19:42:05 after 10 attacks.\n",
      "[Succeeded / Failed / Skipped / Total] 0 / 8 / 2 / 10: 100%|██████████| 10/10 [24:20<00:00, 146.01s/it]"
     ]
    },
    {
     "name": "stdout",
     "output_type": "stream",
     "text": [
      "\n",
      "\n",
      "=============================================================================================================================\n",
      "=============================================================================================================================\n",
      "\n",
      "\n",
      "+-------------------------------+---------+\n",
      "| Attack Results                |         |\n",
      "+-------------------------------+---------+\n",
      "| Number of successful attacks: | 0       |\n",
      "| Number of failed attacks:     | 8       |\n",
      "| Number of skipped attacks:    | 2       |\n",
      "| Original accuracy:            | 80.0%   |\n",
      "| Accuracy under attack:        | 80.0%   |\n",
      "| Attack success rate:          | 0.0%    |\n",
      "| Average perturbed word %:     | nan%    |\n",
      "| Average num. words per input: | 546.5   |\n",
      "| Avg num queries:              | 10492.0 |\n",
      "+-------------------------------+---------+\n"
     ]
    },
    {
     "name": "stderr",
     "output_type": "stream",
     "text": [
      "\n"
     ]
    },
    {
     "data": {
      "text/plain": [
       "[<textattack.attack_results.failed_attack_result.FailedAttackResult at 0x12e6d071ee0>,\n",
       " <textattack.attack_results.failed_attack_result.FailedAttackResult at 0x12e959fa310>,\n",
       " <textattack.attack_results.failed_attack_result.FailedAttackResult at 0x12ef395f130>,\n",
       " <textattack.attack_results.failed_attack_result.FailedAttackResult at 0x12e76b470a0>,\n",
       " <textattack.attack_results.skipped_attack_result.SkippedAttackResult at 0x12eb146a310>,\n",
       " <textattack.attack_results.failed_attack_result.FailedAttackResult at 0x12cd014d880>,\n",
       " <textattack.attack_results.failed_attack_result.FailedAttackResult at 0x12e7ac0f3d0>,\n",
       " <textattack.attack_results.skipped_attack_result.SkippedAttackResult at 0x12e76ab87c0>,\n",
       " <textattack.attack_results.failed_attack_result.FailedAttackResult at 0x12da045e7c0>,\n",
       " <textattack.attack_results.failed_attack_result.FailedAttackResult at 0x12e59e7ad90>]"
      ]
     },
     "execution_count": 15,
     "metadata": {},
     "output_type": "execute_result"
    }
   ],
   "source": [
    "# Model: kaggle, dense_dropout, nnlm\n",
    "from textattack.attack_recipes import Pruthi2019 as attack_recipe\n",
    "\n",
    "# try first 10 example because quite slow attack speed\n",
    "i = 10     \n",
    "train_dataset = []\n",
    "for example, label in zip(train_sentences[:i], train_labels[:i]):\n",
    "    train_dataset.append((example, int(label)))\n",
    "train_dataset = Dataset(train_dataset)\n",
    "\n",
    "model_wrapper = CustomTensorFlowModelWrapper(model)\n",
    "attack = attack_recipe.build(model_wrapper)\n",
    "\n",
    "attack_args = AttackArgs(\n",
    "    num_examples=i,\n",
    "    checkpoint_interval=5,\n",
    "    disable_stdout=True\n",
    ")\n",
    "\n",
    "attacker = Attacker(attack, train_dataset, attack_args)\n",
    "attacker.attack_dataset()"
   ]
  },
  {
   "cell_type": "code",
   "execution_count": 14,
   "metadata": {},
   "outputs": [
    {
     "name": "stderr",
     "output_type": "stream",
     "text": [
      "textattack: Unknown if model of class <class 'keras.engine.functional.Functional'> compatible with goal function <class 'textattack.goal_functions.classification.untargeted_classification.UntargetedClassification'>.\n"
     ]
    },
    {
     "name": "stdout",
     "output_type": "stream",
     "text": [
      "Attack(\n",
      "  (search_method): ImprovedGeneticAlgorithm(\n",
      "    (pop_size):  60\n",
      "    (max_iters):  20\n",
      "    (temp):  0.3\n",
      "    (give_up_if_no_improvement):  False\n",
      "    (post_crossover_check):  False\n",
      "    (max_crossover_retries):  20\n",
      "    (max_replace_times_per_index):  5\n",
      "  )\n",
      "  (goal_function):  UntargetedClassification\n",
      "  (transformation):  WordSwapEmbedding(\n",
      "    (max_candidates):  50\n",
      "    (embedding):  WordEmbedding\n",
      "  )\n",
      "  (constraints): \n",
      "    (0): MaxWordsPerturbed(\n",
      "        (max_percent):  0.2\n",
      "        (compare_against_original):  True\n",
      "      )\n",
      "    (1): WordEmbeddingDistance(\n",
      "        (embedding):  WordEmbedding\n",
      "        (max_mse_dist):  0.5\n",
      "        (cased):  False\n",
      "        (include_unknown_words):  True\n",
      "        (compare_against_original):  False\n",
      "      )\n",
      "    (2): StopwordModification\n",
      "  (is_black_box):  True\n",
      ") \n",
      "\n"
     ]
    },
    {
     "name": "stderr",
     "output_type": "stream",
     "text": [
      "\n",
      "\u001b[A\n",
      "[Succeeded / Failed / Skipped / Total] 0 / 0 / 1 / 1:   1%|          | 1/100 [06:11<10:13:25, 371.78s/it]\n",
      "\n",
      "\u001b[A\n",
      "\u001b[A\n",
      "\u001b[A\n",
      "\u001b[A\n",
      "\u001b[A\n",
      "\u001b[A\n",
      "\u001b[Atextattack: Saving checkpoint under \"checkpoints\\1670806506597.ta.chkpt\" at 2022-12-11 19:55:06 after 5 attacks.\n"
     ]
    },
    {
     "name": "stdout",
     "output_type": "stream",
     "text": [
      "\n",
      "\n",
      "=============================================================================================================================\n",
      "=============================================================================================================================\n",
      "\n"
     ]
    },
    {
     "name": "stderr",
     "output_type": "stream",
     "text": [
      "\n",
      "\u001b[A\n",
      "\u001b[A\n",
      "\u001b[A\n",
      "\u001b[A\n",
      "\u001b[A\n",
      "\u001b[A\n",
      "\u001b[A\n",
      "\u001b[A\n",
      "\u001b[A\n",
      "\u001b[Atextattack: Saving checkpoint under \"checkpoints\\1670806652575.ta.chkpt\" at 2022-12-11 19:57:32 after 10 attacks.\n"
     ]
    },
    {
     "name": "stdout",
     "output_type": "stream",
     "text": [
      "\n",
      "\n",
      "=============================================================================================================================\n",
      "=============================================================================================================================\n",
      "\n"
     ]
    },
    {
     "name": "stderr",
     "output_type": "stream",
     "text": [
      "\n",
      "\u001b[A\n",
      "\u001b[A\n",
      "\u001b[A\n",
      "\u001b[A\n",
      "\u001b[A\n",
      "\u001b[A\n",
      "\u001b[A\n",
      "\u001b[Atextattack: Saving checkpoint under \"checkpoints\\1670806692369.ta.chkpt\" at 2022-12-11 19:58:12 after 15 attacks.\n"
     ]
    },
    {
     "name": "stdout",
     "output_type": "stream",
     "text": [
      "\n",
      "\n",
      "=============================================================================================================================\n",
      "=============================================================================================================================\n",
      "\n"
     ]
    },
    {
     "name": "stderr",
     "output_type": "stream",
     "text": [
      "\n",
      "\u001b[A\n",
      "\u001b[A\n",
      "\u001b[A\n",
      "\u001b[A\n",
      "\u001b[A\n",
      "\u001b[A\n",
      "\u001b[A\n",
      "\u001b[A\n",
      "\u001b[A\n",
      "\u001b[Atextattack: Saving checkpoint under \"checkpoints\\1670806786028.ta.chkpt\" at 2022-12-11 19:59:46 after 20 attacks.\n",
      "\n",
      "\u001b[A"
     ]
    },
    {
     "name": "stdout",
     "output_type": "stream",
     "text": [
      "\n",
      "\n",
      "=============================================================================================================================\n",
      "=============================================================================================================================\n",
      "\n"
     ]
    },
    {
     "name": "stderr",
     "output_type": "stream",
     "text": [
      "\n",
      "\u001b[A\n",
      "\u001b[A\n",
      "\u001b[A\n",
      "\u001b[A\n",
      "\u001b[A\n",
      "\u001b[A\n",
      "\u001b[Atextattack: Saving checkpoint under \"checkpoints\\1670806809568.ta.chkpt\" at 2022-12-11 20:00:09 after 25 attacks.\n",
      "\n",
      "\u001b[A"
     ]
    },
    {
     "name": "stdout",
     "output_type": "stream",
     "text": [
      "\n",
      "\n",
      "=============================================================================================================================\n",
      "=============================================================================================================================\n",
      "\n"
     ]
    },
    {
     "name": "stderr",
     "output_type": "stream",
     "text": [
      "\n",
      "\u001b[A\n",
      "\u001b[A\n",
      "\u001b[A\n",
      "\u001b[A\n",
      "\u001b[A\n",
      "\u001b[A\n",
      "\u001b[A\n",
      "\u001b[Atextattack: Saving checkpoint under \"checkpoints\\1670806851904.ta.chkpt\" at 2022-12-11 20:00:51 after 30 attacks.\n"
     ]
    },
    {
     "name": "stdout",
     "output_type": "stream",
     "text": [
      "\n",
      "\n",
      "=============================================================================================================================\n",
      "=============================================================================================================================\n",
      "\n"
     ]
    },
    {
     "name": "stderr",
     "output_type": "stream",
     "text": [
      "\n",
      "\u001b[A\n",
      "\u001b[A\n",
      "\u001b[A\n",
      "\u001b[A\n",
      "\u001b[A\n",
      "\u001b[A\n",
      "\u001b[A\n",
      "\u001b[Atextattack: Saving checkpoint under \"checkpoints\\1670806874221.ta.chkpt\" at 2022-12-11 20:01:14 after 35 attacks.\n"
     ]
    },
    {
     "name": "stdout",
     "output_type": "stream",
     "text": [
      "\n",
      "\n",
      "=============================================================================================================================\n",
      "=============================================================================================================================\n",
      "\n"
     ]
    },
    {
     "name": "stderr",
     "output_type": "stream",
     "text": [
      "\n",
      "\u001b[A\n",
      "\u001b[A\n",
      "\u001b[A\n",
      "\u001b[A\n",
      "\u001b[A\n",
      "\u001b[A\n",
      "\u001b[A\n",
      "\u001b[A\n",
      "\u001b[Atextattack: Saving checkpoint under \"checkpoints\\1670807007119.ta.chkpt\" at 2022-12-11 20:03:27 after 40 attacks.\n",
      "\n",
      "\u001b[A"
     ]
    },
    {
     "name": "stdout",
     "output_type": "stream",
     "text": [
      "\n",
      "\n",
      "=============================================================================================================================\n",
      "=============================================================================================================================\n",
      "\n"
     ]
    },
    {
     "name": "stderr",
     "output_type": "stream",
     "text": [
      "\n",
      "\u001b[A\n",
      "\u001b[A\n",
      "\u001b[A\n",
      "\u001b[A\n",
      "\u001b[Atextattack: Saving checkpoint under \"checkpoints\\1670807022983.ta.chkpt\" at 2022-12-11 20:03:42 after 45 attacks.\n"
     ]
    },
    {
     "name": "stdout",
     "output_type": "stream",
     "text": [
      "\n",
      "\n",
      "=============================================================================================================================\n",
      "=============================================================================================================================\n",
      "\n"
     ]
    },
    {
     "name": "stderr",
     "output_type": "stream",
     "text": [
      "\n",
      "\u001b[A\n",
      "\u001b[A\n",
      "\u001b[A\n",
      "\u001b[A\n",
      "\u001b[A\n",
      "\u001b[A\n",
      "\u001b[Atextattack: Saving checkpoint under \"checkpoints\\1670807033319.ta.chkpt\" at 2022-12-11 20:03:53 after 50 attacks.\n",
      "\n",
      "\u001b[A\n",
      "\u001b[A\n",
      "\u001b[A"
     ]
    },
    {
     "name": "stdout",
     "output_type": "stream",
     "text": [
      "\n",
      "\n",
      "=============================================================================================================================\n",
      "=============================================================================================================================\n",
      "\n"
     ]
    },
    {
     "name": "stderr",
     "output_type": "stream",
     "text": [
      "\n",
      "\u001b[A\n",
      "\u001b[A\n",
      "\u001b[A\n",
      "\u001b[Atextattack: Saving checkpoint under \"checkpoints\\1670807095500.ta.chkpt\" at 2022-12-11 20:04:55 after 55 attacks.\n"
     ]
    },
    {
     "name": "stdout",
     "output_type": "stream",
     "text": [
      "\n",
      "\n",
      "=============================================================================================================================\n",
      "=============================================================================================================================\n",
      "\n"
     ]
    },
    {
     "name": "stderr",
     "output_type": "stream",
     "text": [
      "\n",
      "\u001b[A\n",
      "\u001b[A\n",
      "\u001b[A\n",
      "\u001b[A\n",
      "\u001b[A\n",
      "\u001b[A\n",
      "\u001b[A\n",
      "\u001b[A\n",
      "\u001b[Atextattack: Saving checkpoint under \"checkpoints\\1670807181231.ta.chkpt\" at 2022-12-11 20:06:21 after 60 attacks.\n",
      "\n",
      "\u001b[A"
     ]
    },
    {
     "name": "stdout",
     "output_type": "stream",
     "text": [
      "\n",
      "\n",
      "=============================================================================================================================\n",
      "=============================================================================================================================\n",
      "\n"
     ]
    },
    {
     "name": "stderr",
     "output_type": "stream",
     "text": [
      "\n",
      "\u001b[A\n",
      "\u001b[A\n",
      "\u001b[A\n",
      "\u001b[A\n",
      "\u001b[A\n",
      "\u001b[A\n",
      "\u001b[A\n",
      "\u001b[Atextattack: Saving checkpoint under \"checkpoints\\1670807227459.ta.chkpt\" at 2022-12-11 20:07:07 after 65 attacks.\n",
      "\n",
      "\u001b[A"
     ]
    },
    {
     "name": "stdout",
     "output_type": "stream",
     "text": [
      "\n",
      "\n",
      "=============================================================================================================================\n",
      "=============================================================================================================================\n",
      "\n"
     ]
    },
    {
     "name": "stderr",
     "output_type": "stream",
     "text": [
      "\n",
      "\u001b[A\n",
      "\u001b[A\n",
      "\u001b[A\n",
      "\u001b[A\n",
      "\u001b[Atextattack: Saving checkpoint under \"checkpoints\\1670807262240.ta.chkpt\" at 2022-12-11 20:07:42 after 70 attacks.\n"
     ]
    },
    {
     "name": "stdout",
     "output_type": "stream",
     "text": [
      "\n",
      "\n",
      "=============================================================================================================================\n",
      "=============================================================================================================================\n",
      "\n"
     ]
    },
    {
     "name": "stderr",
     "output_type": "stream",
     "text": [
      "\n",
      "\u001b[A\n",
      "\u001b[A\n",
      "\u001b[A\n",
      "\u001b[A\n",
      "\u001b[A\n",
      "\u001b[A\n",
      "\u001b[A\n",
      "\u001b[A\n",
      "\u001b[Atextattack: Saving checkpoint under \"checkpoints\\1670807363405.ta.chkpt\" at 2022-12-11 20:09:23 after 75 attacks.\n"
     ]
    },
    {
     "name": "stdout",
     "output_type": "stream",
     "text": [
      "\n",
      "\n",
      "=============================================================================================================================\n",
      "=============================================================================================================================\n",
      "\n"
     ]
    },
    {
     "name": "stderr",
     "output_type": "stream",
     "text": [
      "\n",
      "\u001b[A\n",
      "\u001b[A\n",
      "\u001b[A\n",
      "\u001b[A\n",
      "\u001b[A\n",
      "\u001b[A\n",
      "\u001b[Atextattack: Saving checkpoint under \"checkpoints\\1670807448617.ta.chkpt\" at 2022-12-11 20:10:48 after 80 attacks.\n"
     ]
    },
    {
     "name": "stdout",
     "output_type": "stream",
     "text": [
      "\n",
      "\n",
      "=============================================================================================================================\n",
      "=============================================================================================================================\n",
      "\n"
     ]
    },
    {
     "name": "stderr",
     "output_type": "stream",
     "text": [
      "\n",
      "\u001b[A\n",
      "\u001b[A\n",
      "\u001b[A\n",
      "\u001b[A\n",
      "\u001b[A\n",
      "\u001b[A\n",
      "\u001b[A\n",
      "\u001b[Atextattack: Saving checkpoint under \"checkpoints\\1670807472728.ta.chkpt\" at 2022-12-11 20:11:12 after 85 attacks.\n"
     ]
    },
    {
     "name": "stdout",
     "output_type": "stream",
     "text": [
      "\n",
      "\n",
      "=============================================================================================================================\n",
      "=============================================================================================================================\n",
      "\n"
     ]
    },
    {
     "name": "stderr",
     "output_type": "stream",
     "text": [
      "\n",
      "\u001b[A\n",
      "\u001b[A\n",
      "\u001b[A\n",
      "\u001b[A\n",
      "\u001b[A\n",
      "\u001b[A\n",
      "\u001b[A\n",
      "\u001b[Atextattack: Saving checkpoint under \"checkpoints\\1670807524401.ta.chkpt\" at 2022-12-11 20:12:04 after 90 attacks.\n",
      "\n",
      "\u001b[A"
     ]
    },
    {
     "name": "stdout",
     "output_type": "stream",
     "text": [
      "\n",
      "\n",
      "=============================================================================================================================\n",
      "=============================================================================================================================\n",
      "\n"
     ]
    },
    {
     "name": "stderr",
     "output_type": "stream",
     "text": [
      "\n",
      "\u001b[A\n",
      "\u001b[A\n",
      "\u001b[A\n",
      "\u001b[A\n",
      "\u001b[A\n",
      "\u001b[A\n",
      "\u001b[Atextattack: Saving checkpoint under \"checkpoints\\1670807551651.ta.chkpt\" at 2022-12-11 20:12:31 after 95 attacks.\n",
      "\n",
      "\u001b[A"
     ]
    },
    {
     "name": "stdout",
     "output_type": "stream",
     "text": [
      "\n",
      "\n",
      "=============================================================================================================================\n",
      "=============================================================================================================================\n",
      "\n"
     ]
    },
    {
     "name": "stderr",
     "output_type": "stream",
     "text": [
      "\n",
      "\u001b[A\n",
      "\u001b[A\n",
      "\u001b[A\n",
      "\u001b[A\n",
      "\u001b[A\n",
      "\u001b[A\n",
      "\u001b[A\n",
      "\u001b[A\n",
      "\u001b[Atextattack: Saving checkpoint under \"checkpoints\\1670807696744.ta.chkpt\" at 2022-12-11 20:14:56 after 100 attacks.\n",
      "[Succeeded / Failed / Skipped / Total] 0 / 57 / 43 / 100: 100%|██████████| 100/100 [20:50<00:00, 12.50s/it]"
     ]
    },
    {
     "name": "stdout",
     "output_type": "stream",
     "text": [
      "\n",
      "\n",
      "=============================================================================================================================\n",
      "=============================================================================================================================\n",
      "\n",
      "\n",
      "+-------------------------------+---------+\n",
      "| Attack Results                |         |\n",
      "+-------------------------------+---------+\n",
      "| Number of successful attacks: | 0       |\n",
      "| Number of failed attacks:     | 57      |\n",
      "| Number of skipped attacks:    | 43      |\n",
      "| Original accuracy:            | 57.0%   |\n",
      "| Accuracy under attack:        | 57.0%   |\n",
      "| Attack success rate:          | 0.0%    |\n",
      "| Average perturbed word %:     | nan%    |\n",
      "| Average num. words per input: | 17.7    |\n",
      "| Avg num queries:              | 3348.68 |\n",
      "+-------------------------------+---------+\n"
     ]
    },
    {
     "name": "stderr",
     "output_type": "stream",
     "text": [
      "\n"
     ]
    },
    {
     "data": {
      "text/plain": [
       "[<textattack.attack_results.skipped_attack_result.SkippedAttackResult at 0x1dc168a9b20>,\n",
       " <textattack.attack_results.failed_attack_result.FailedAttackResult at 0x1db9db933a0>,\n",
       " <textattack.attack_results.failed_attack_result.FailedAttackResult at 0x1dbacc2c5e0>,\n",
       " <textattack.attack_results.skipped_attack_result.SkippedAttackResult at 0x1dbf0129640>,\n",
       " <textattack.attack_results.failed_attack_result.FailedAttackResult at 0x1db998a66d0>,\n",
       " <textattack.attack_results.failed_attack_result.FailedAttackResult at 0x1dade050700>,\n",
       " <textattack.attack_results.skipped_attack_result.SkippedAttackResult at 0x1dbeffa32e0>,\n",
       " <textattack.attack_results.failed_attack_result.FailedAttackResult at 0x1dc0b356070>,\n",
       " <textattack.attack_results.failed_attack_result.FailedAttackResult at 0x1db9dbdfa90>,\n",
       " <textattack.attack_results.failed_attack_result.FailedAttackResult at 0x1dc190050d0>,\n",
       " <textattack.attack_results.failed_attack_result.FailedAttackResult at 0x1daff584bb0>,\n",
       " <textattack.attack_results.failed_attack_result.FailedAttackResult at 0x1db997f3f10>,\n",
       " <textattack.attack_results.skipped_attack_result.SkippedAttackResult at 0x1dc0ecf50a0>,\n",
       " <textattack.attack_results.failed_attack_result.FailedAttackResult at 0x1dc1bf35550>,\n",
       " <textattack.attack_results.skipped_attack_result.SkippedAttackResult at 0x1dc26555d00>,\n",
       " <textattack.attack_results.failed_attack_result.FailedAttackResult at 0x1dbeffd9c70>,\n",
       " <textattack.attack_results.failed_attack_result.FailedAttackResult at 0x1dbfa3c7700>,\n",
       " <textattack.attack_results.skipped_attack_result.SkippedAttackResult at 0x1dc20136af0>,\n",
       " <textattack.attack_results.failed_attack_result.FailedAttackResult at 0x1db998a62b0>,\n",
       " <textattack.attack_results.failed_attack_result.FailedAttackResult at 0x1dc1ae43430>,\n",
       " <textattack.attack_results.skipped_attack_result.SkippedAttackResult at 0x1dc31e54dc0>,\n",
       " <textattack.attack_results.failed_attack_result.FailedAttackResult at 0x1dbfb5ddcd0>,\n",
       " <textattack.attack_results.failed_attack_result.FailedAttackResult at 0x1dbfcb05a60>,\n",
       " <textattack.attack_results.failed_attack_result.FailedAttackResult at 0x1dbee0ea7c0>,\n",
       " <textattack.attack_results.skipped_attack_result.SkippedAttackResult at 0x1dc10fcc040>,\n",
       " <textattack.attack_results.skipped_attack_result.SkippedAttackResult at 0x1dbfb5dd730>,\n",
       " <textattack.attack_results.failed_attack_result.FailedAttackResult at 0x1dbeffd91c0>,\n",
       " <textattack.attack_results.failed_attack_result.FailedAttackResult at 0x1dbfdb07040>,\n",
       " <textattack.attack_results.skipped_attack_result.SkippedAttackResult at 0x1dbfe791880>,\n",
       " <textattack.attack_results.failed_attack_result.FailedAttackResult at 0x1dbeffc0100>,\n",
       " <textattack.attack_results.failed_attack_result.FailedAttackResult at 0x1db0a5b1ee0>,\n",
       " <textattack.attack_results.skipped_attack_result.SkippedAttackResult at 0x1db0a5b1f70>,\n",
       " <textattack.attack_results.skipped_attack_result.SkippedAttackResult at 0x1db03983790>,\n",
       " <textattack.attack_results.failed_attack_result.FailedAttackResult at 0x1dc31e54fa0>,\n",
       " <textattack.attack_results.failed_attack_result.FailedAttackResult at 0x1db9db06e50>,\n",
       " <textattack.attack_results.failed_attack_result.FailedAttackResult at 0x1dbfb80bdf0>,\n",
       " <textattack.attack_results.failed_attack_result.FailedAttackResult at 0x1dc31e54f10>,\n",
       " <textattack.attack_results.failed_attack_result.FailedAttackResult at 0x1db0a5b19a0>,\n",
       " <textattack.attack_results.skipped_attack_result.SkippedAttackResult at 0x1dc06b2e850>,\n",
       " <textattack.attack_results.failed_attack_result.FailedAttackResult at 0x1dc20136dc0>,\n",
       " <textattack.attack_results.skipped_attack_result.SkippedAttackResult at 0x1dbac6273a0>,\n",
       " <textattack.attack_results.failed_attack_result.FailedAttackResult at 0x1dc06b42fa0>,\n",
       " <textattack.attack_results.skipped_attack_result.SkippedAttackResult at 0x1dbeff94a00>,\n",
       " <textattack.attack_results.skipped_attack_result.SkippedAttackResult at 0x1dbfb9e1460>,\n",
       " <textattack.attack_results.skipped_attack_result.SkippedAttackResult at 0x1dc0808f100>,\n",
       " <textattack.attack_results.failed_attack_result.FailedAttackResult at 0x1db9dbdf460>,\n",
       " <textattack.attack_results.skipped_attack_result.SkippedAttackResult at 0x1dbf007a940>,\n",
       " <textattack.attack_results.skipped_attack_result.SkippedAttackResult at 0x1db9dbdf520>,\n",
       " <textattack.attack_results.skipped_attack_result.SkippedAttackResult at 0x1db0a495bb0>,\n",
       " <textattack.attack_results.failed_attack_result.FailedAttackResult at 0x1dc0f087310>,\n",
       " <textattack.attack_results.skipped_attack_result.SkippedAttackResult at 0x1dbf00b4310>,\n",
       " <textattack.attack_results.skipped_attack_result.SkippedAttackResult at 0x1dbf000adc0>,\n",
       " <textattack.attack_results.skipped_attack_result.SkippedAttackResult at 0x1dc06d026d0>,\n",
       " <textattack.attack_results.failed_attack_result.FailedAttackResult at 0x1dbfa888df0>,\n",
       " <textattack.attack_results.skipped_attack_result.SkippedAttackResult at 0x1dbfb9e14c0>,\n",
       " <textattack.attack_results.failed_attack_result.FailedAttackResult at 0x1dbfb9e1100>,\n",
       " <textattack.attack_results.failed_attack_result.FailedAttackResult at 0x1dbff924be0>,\n",
       " <textattack.attack_results.skipped_attack_result.SkippedAttackResult at 0x1db998a6640>,\n",
       " <textattack.attack_results.skipped_attack_result.SkippedAttackResult at 0x1dbfb5ca6d0>,\n",
       " <textattack.attack_results.failed_attack_result.FailedAttackResult at 0x1dc1fcd9250>,\n",
       " <textattack.attack_results.skipped_attack_result.SkippedAttackResult at 0x1dc1e635550>,\n",
       " <textattack.attack_results.failed_attack_result.FailedAttackResult at 0x1dbfd8b2070>,\n",
       " <textattack.attack_results.failed_attack_result.FailedAttackResult at 0x1dc06ae0e50>,\n",
       " <textattack.attack_results.failed_attack_result.FailedAttackResult at 0x1dc06b80b20>,\n",
       " <textattack.attack_results.skipped_attack_result.SkippedAttackResult at 0x1dc06ae0670>,\n",
       " <textattack.attack_results.skipped_attack_result.SkippedAttackResult at 0x1dc1fa10fa0>,\n",
       " <textattack.attack_results.failed_attack_result.FailedAttackResult at 0x1dc0f0877f0>,\n",
       " <textattack.attack_results.skipped_attack_result.SkippedAttackResult at 0x1dbeff7e520>,\n",
       " <textattack.attack_results.skipped_attack_result.SkippedAttackResult at 0x1db9dbdf400>,\n",
       " <textattack.attack_results.skipped_attack_result.SkippedAttackResult at 0x1dc0f087850>,\n",
       " <textattack.attack_results.failed_attack_result.FailedAttackResult at 0x1db039834c0>,\n",
       " <textattack.attack_results.skipped_attack_result.SkippedAttackResult at 0x1dbf00411c0>,\n",
       " <textattack.attack_results.failed_attack_result.FailedAttackResult at 0x1dbf000a550>,\n",
       " <textattack.attack_results.failed_attack_result.FailedAttackResult at 0x1dbac627610>,\n",
       " <textattack.attack_results.failed_attack_result.FailedAttackResult at 0x1dbf00411f0>,\n",
       " <textattack.attack_results.failed_attack_result.FailedAttackResult at 0x1dc06ae0040>,\n",
       " <textattack.attack_results.skipped_attack_result.SkippedAttackResult at 0x1dc06aea6d0>,\n",
       " <textattack.attack_results.skipped_attack_result.SkippedAttackResult at 0x1dbfcb05490>,\n",
       " <textattack.attack_results.skipped_attack_result.SkippedAttackResult at 0x1dc06aea070>,\n",
       " <textattack.attack_results.failed_attack_result.FailedAttackResult at 0x1db9db6f400>,\n",
       " <textattack.attack_results.failed_attack_result.FailedAttackResult at 0x1dc1649f940>,\n",
       " <textattack.attack_results.failed_attack_result.FailedAttackResult at 0x1dc19e50610>,\n",
       " <textattack.attack_results.skipped_attack_result.SkippedAttackResult at 0x1dc19e50640>,\n",
       " <textattack.attack_results.skipped_attack_result.SkippedAttackResult at 0x1db0a4956d0>,\n",
       " <textattack.attack_results.failed_attack_result.FailedAttackResult at 0x1dc06b80a60>,\n",
       " <textattack.attack_results.failed_attack_result.FailedAttackResult at 0x1dc6f2c5640>,\n",
       " <textattack.attack_results.failed_attack_result.FailedAttackResult at 0x1db998a6d00>,\n",
       " <textattack.attack_results.failed_attack_result.FailedAttackResult at 0x1dbeef23c10>,\n",
       " <textattack.attack_results.skipped_attack_result.SkippedAttackResult at 0x1dbeef239a0>,\n",
       " <textattack.attack_results.skipped_attack_result.SkippedAttackResult at 0x1dbeef23850>,\n",
       " <textattack.attack_results.skipped_attack_result.SkippedAttackResult at 0x1dc27dd2d00>,\n",
       " <textattack.attack_results.failed_attack_result.FailedAttackResult at 0x1dbeef23f40>,\n",
       " <textattack.attack_results.failed_attack_result.FailedAttackResult at 0x1dc06b80cd0>,\n",
       " <textattack.attack_results.failed_attack_result.FailedAttackResult at 0x1dc06d02400>,\n",
       " <textattack.attack_results.skipped_attack_result.SkippedAttackResult at 0x1dbeef9e670>,\n",
       " <textattack.attack_results.skipped_attack_result.SkippedAttackResult at 0x1dbff9957c0>,\n",
       " <textattack.attack_results.failed_attack_result.FailedAttackResult at 0x1dbeff801c0>,\n",
       " <textattack.attack_results.failed_attack_result.FailedAttackResult at 0x1dc06c00880>,\n",
       " <textattack.attack_results.failed_attack_result.FailedAttackResult at 0x1dbfcb05a30>,\n",
       " <textattack.attack_results.failed_attack_result.FailedAttackResult at 0x1dc1ba2c700>]"
      ]
     },
     "execution_count": 14,
     "metadata": {},
     "output_type": "execute_result"
    }
   ],
   "source": [
    "# Model: liar, dense_dropout, nnlm\n",
    "from textattack.attack_recipes import IGAWang2019 as attack_recipe\n",
    "\n",
    "# try first 10 example because quite slow attack speed\n",
    "i = 100     \n",
    "train_dataset = []\n",
    "for example, label in zip(train_sentences[:i], train_labels[:i]):\n",
    "    train_dataset.append((example, int(label)))\n",
    "train_dataset = Dataset(train_dataset)\n",
    "\n",
    "model_wrapper = CustomTensorFlowModelWrapper(model)\n",
    "attack = attack_recipe.build(model_wrapper)\n",
    "\n",
    "attack_args = AttackArgs(\n",
    "    num_examples=i,\n",
    "    checkpoint_interval=5,\n",
    "    disable_stdout=True\n",
    ")\n",
    "\n",
    "attacker = Attacker(attack, train_dataset, attack_args)\n",
    "attacker.attack_dataset()"
   ]
  },
  {
   "cell_type": "code",
   "execution_count": 13,
   "metadata": {},
   "outputs": [
    {
     "name": "stderr",
     "output_type": "stream",
     "text": [
      "textattack: Unknown if model of class <class 'keras.engine.functional.Functional'> compatible with goal function <class 'textattack.goal_functions.classification.untargeted_classification.UntargetedClassification'>.\n"
     ]
    },
    {
     "name": "stdout",
     "output_type": "stream",
     "text": [
      "Attack(\n",
      "  (search_method): GreedySearch\n",
      "  (goal_function):  UntargetedClassification\n",
      "  (transformation):  CompositeTransformation(\n",
      "    (0): WordSwapExtend\n",
      "    (1): WordSwapContract\n",
      "    (2): WordSwapChangeName\n",
      "    (3): WordSwapChangeNumber\n",
      "    (4): WordSwapChangeLocation\n",
      "    )\n",
      "  (constraints): \n",
      "    (0): RepeatModification\n",
      "  (is_black_box):  True\n",
      ") \n",
      "\n"
     ]
    },
    {
     "name": "stderr",
     "output_type": "stream",
     "text": [
      "\n",
      "\u001b[A\n",
      "\u001b[A\n",
      "\u001b[A\n",
      "\u001b[A\n",
      "\u001b[A\n",
      "\u001b[A\n",
      "\u001b[A\n",
      "\u001b[Atextattack: Saving checkpoint under \"checkpoints\\1670806301548.ta.chkpt\" at 2022-12-11 19:51:41 after 5 attacks.\n"
     ]
    },
    {
     "name": "stdout",
     "output_type": "stream",
     "text": [
      "\n",
      "\n",
      "=============================================================================================================================\n",
      "=============================================================================================================================\n",
      "\n"
     ]
    },
    {
     "name": "stderr",
     "output_type": "stream",
     "text": [
      "\n",
      "\u001b[A\n",
      "\u001b[A\n",
      "\u001b[A\n",
      "\u001b[A\n",
      "\u001b[A\n",
      "\u001b[A\n",
      "\u001b[A\n",
      "\u001b[Atextattack: Saving checkpoint under \"checkpoints\\1670806311147.ta.chkpt\" at 2022-12-11 19:51:51 after 10 attacks.\n"
     ]
    },
    {
     "name": "stdout",
     "output_type": "stream",
     "text": [
      "\n",
      "\n",
      "=============================================================================================================================\n",
      "=============================================================================================================================\n",
      "\n"
     ]
    },
    {
     "name": "stderr",
     "output_type": "stream",
     "text": [
      "\n",
      "\u001b[A\n",
      "\u001b[A\n",
      "\u001b[A\n",
      "\u001b[A\n",
      "\u001b[A\n",
      "\u001b[A\n",
      "\u001b[Atextattack: Saving checkpoint under \"checkpoints\\1670806314297.ta.chkpt\" at 2022-12-11 19:51:54 after 15 attacks.\n"
     ]
    },
    {
     "name": "stdout",
     "output_type": "stream",
     "text": [
      "\n",
      "\n",
      "=============================================================================================================================\n",
      "=============================================================================================================================\n",
      "\n"
     ]
    },
    {
     "name": "stderr",
     "output_type": "stream",
     "text": [
      "\n",
      "\u001b[A\n",
      "\u001b[A\n",
      "\u001b[A\n",
      "\u001b[A\n",
      "\u001b[A\n",
      "\u001b[A\n",
      "\u001b[A\n",
      "\u001b[Atextattack: Saving checkpoint under \"checkpoints\\1670806319082.ta.chkpt\" at 2022-12-11 19:51:59 after 20 attacks.\n",
      "\n",
      "\u001b[A"
     ]
    },
    {
     "name": "stdout",
     "output_type": "stream",
     "text": [
      "\n",
      "\n",
      "=============================================================================================================================\n",
      "=============================================================================================================================\n",
      "\n"
     ]
    },
    {
     "name": "stderr",
     "output_type": "stream",
     "text": [
      "\n",
      "\u001b[A\n",
      "\u001b[A\n",
      "\u001b[A\n",
      "\u001b[A\n",
      "\u001b[A\n",
      "\u001b[Atextattack: Saving checkpoint under \"checkpoints\\1670806320996.ta.chkpt\" at 2022-12-11 19:52:00 after 25 attacks.\n",
      "\n",
      "\u001b[A"
     ]
    },
    {
     "name": "stdout",
     "output_type": "stream",
     "text": [
      "\n",
      "\n",
      "=============================================================================================================================\n",
      "=============================================================================================================================\n",
      "\n"
     ]
    },
    {
     "name": "stderr",
     "output_type": "stream",
     "text": [
      "\n",
      "\u001b[A\n",
      "\u001b[A\n",
      "\u001b[A\n",
      "\u001b[A\n",
      "\u001b[A\n",
      "\u001b[Atextattack: Saving checkpoint under \"checkpoints\\1670806324199.ta.chkpt\" at 2022-12-11 19:52:04 after 30 attacks.\n"
     ]
    },
    {
     "name": "stdout",
     "output_type": "stream",
     "text": [
      "\n",
      "\n",
      "=============================================================================================================================\n",
      "=============================================================================================================================\n",
      "\n"
     ]
    },
    {
     "name": "stderr",
     "output_type": "stream",
     "text": [
      "\n",
      "\u001b[A\n",
      "\u001b[A\n",
      "\u001b[A\n",
      "\u001b[A\n",
      "\u001b[A\n",
      "\u001b[Atextattack: Saving checkpoint under \"checkpoints\\1670806326929.ta.chkpt\" at 2022-12-11 19:52:06 after 35 attacks.\n"
     ]
    },
    {
     "name": "stdout",
     "output_type": "stream",
     "text": [
      "\n",
      "\n",
      "=============================================================================================================================\n",
      "=============================================================================================================================\n",
      "\n"
     ]
    },
    {
     "name": "stderr",
     "output_type": "stream",
     "text": [
      "\n",
      "\u001b[A\n",
      "\u001b[A\n",
      "\u001b[A\n",
      "\u001b[A\n",
      "\u001b[A\n",
      "\u001b[A\n",
      "\u001b[Atextattack: Saving checkpoint under \"checkpoints\\1670806335492.ta.chkpt\" at 2022-12-11 19:52:15 after 40 attacks.\n",
      "\n",
      "\u001b[A"
     ]
    },
    {
     "name": "stdout",
     "output_type": "stream",
     "text": [
      "\n",
      "\n",
      "=============================================================================================================================\n",
      "=============================================================================================================================\n",
      "\n"
     ]
    },
    {
     "name": "stderr",
     "output_type": "stream",
     "text": [
      "\n",
      "\u001b[A\n",
      "\u001b[A\n",
      "\u001b[A\n",
      "\u001b[A\n",
      "\u001b[Atextattack: Saving checkpoint under \"checkpoints\\1670806336958.ta.chkpt\" at 2022-12-11 19:52:16 after 45 attacks.\n"
     ]
    },
    {
     "name": "stdout",
     "output_type": "stream",
     "text": [
      "\n",
      "\n",
      "=============================================================================================================================\n",
      "=============================================================================================================================\n",
      "\n"
     ]
    },
    {
     "name": "stderr",
     "output_type": "stream",
     "text": [
      "\n",
      "\u001b[A\n",
      "\u001b[A\n",
      "\u001b[A\n",
      "\u001b[A\n",
      "\u001b[A\n",
      "\u001b[A\n",
      "\u001b[Atextattack: Saving checkpoint under \"checkpoints\\1670806339609.ta.chkpt\" at 2022-12-11 19:52:19 after 50 attacks.\n",
      "\n",
      "\u001b[A\n",
      "\u001b[A\n",
      "\u001b[A"
     ]
    },
    {
     "name": "stdout",
     "output_type": "stream",
     "text": [
      "\n",
      "\n",
      "=============================================================================================================================\n",
      "=============================================================================================================================\n",
      "\n"
     ]
    },
    {
     "name": "stderr",
     "output_type": "stream",
     "text": [
      "\n",
      "\u001b[A\n",
      "\u001b[A\n",
      "\u001b[Atextattack: Saving checkpoint under \"checkpoints\\1670806340823.ta.chkpt\" at 2022-12-11 19:52:20 after 55 attacks.\n"
     ]
    },
    {
     "name": "stdout",
     "output_type": "stream",
     "text": [
      "\n",
      "\n",
      "=============================================================================================================================\n",
      "=============================================================================================================================\n",
      "\n"
     ]
    },
    {
     "name": "stderr",
     "output_type": "stream",
     "text": [
      "\n",
      "\u001b[A\n",
      "\u001b[A\n",
      "\u001b[A\n",
      "\u001b[A\n",
      "\u001b[A\n",
      "\u001b[Atextattack: Saving checkpoint under \"checkpoints\\1670806345090.ta.chkpt\" at 2022-12-11 19:52:25 after 60 attacks.\n",
      "\n",
      "\u001b[A"
     ]
    },
    {
     "name": "stdout",
     "output_type": "stream",
     "text": [
      "\n",
      "\n",
      "=============================================================================================================================\n",
      "=============================================================================================================================\n",
      "\n"
     ]
    },
    {
     "name": "stderr",
     "output_type": "stream",
     "text": [
      "\n",
      "\u001b[A\n",
      "\u001b[A\n",
      "\u001b[A\n",
      "\u001b[A\n",
      "\u001b[Atextattack: Saving checkpoint under \"checkpoints\\1670806349087.ta.chkpt\" at 2022-12-11 19:52:29 after 65 attacks.\n",
      "\n",
      "\u001b[A\n",
      "\u001b[A"
     ]
    },
    {
     "name": "stdout",
     "output_type": "stream",
     "text": [
      "\n",
      "\n",
      "=============================================================================================================================\n",
      "=============================================================================================================================\n",
      "\n"
     ]
    },
    {
     "name": "stderr",
     "output_type": "stream",
     "text": [
      "\n",
      "\u001b[A\n",
      "\u001b[A\n",
      "\u001b[A\n",
      "\u001b[A\n",
      "\u001b[Atextattack: Saving checkpoint under \"checkpoints\\1670806350665.ta.chkpt\" at 2022-12-11 19:52:30 after 70 attacks.\n"
     ]
    },
    {
     "name": "stdout",
     "output_type": "stream",
     "text": [
      "\n",
      "\n",
      "=============================================================================================================================\n",
      "=============================================================================================================================\n",
      "\n"
     ]
    },
    {
     "name": "stderr",
     "output_type": "stream",
     "text": [
      "\n",
      "\u001b[A\n",
      "\u001b[A\n",
      "\u001b[A\n",
      "\u001b[A\n",
      "\u001b[A\n",
      "\u001b[Atextattack: Saving checkpoint under \"checkpoints\\1670806353853.ta.chkpt\" at 2022-12-11 19:52:33 after 75 attacks.\n"
     ]
    },
    {
     "name": "stdout",
     "output_type": "stream",
     "text": [
      "\n",
      "\n",
      "=============================================================================================================================\n",
      "=============================================================================================================================\n",
      "\n"
     ]
    },
    {
     "name": "stderr",
     "output_type": "stream",
     "text": [
      "\n",
      "\u001b[A\n",
      "\u001b[A\n",
      "\u001b[A\n",
      "\u001b[A\n",
      "\u001b[A\n",
      "\u001b[Atextattack: Saving checkpoint under \"checkpoints\\1670806356088.ta.chkpt\" at 2022-12-11 19:52:36 after 80 attacks.\n"
     ]
    },
    {
     "name": "stdout",
     "output_type": "stream",
     "text": [
      "\n",
      "\n",
      "=============================================================================================================================\n",
      "=============================================================================================================================\n",
      "\n"
     ]
    },
    {
     "name": "stderr",
     "output_type": "stream",
     "text": [
      "\n",
      "\u001b[A\n",
      "\u001b[A\n",
      "\u001b[A\n",
      "\u001b[A\n",
      "\u001b[A\n",
      "\u001b[Atextattack: Saving checkpoint under \"checkpoints\\1670806358365.ta.chkpt\" at 2022-12-11 19:52:38 after 85 attacks.\n"
     ]
    },
    {
     "name": "stdout",
     "output_type": "stream",
     "text": [
      "\n",
      "\n",
      "=============================================================================================================================\n",
      "=============================================================================================================================\n",
      "\n"
     ]
    },
    {
     "name": "stderr",
     "output_type": "stream",
     "text": [
      "\n",
      "\u001b[A\n",
      "\u001b[A\n",
      "\u001b[A\n",
      "\u001b[A\n",
      "\u001b[A\n",
      "\u001b[A\n",
      "\u001b[Atextattack: Saving checkpoint under \"checkpoints\\1670806360852.ta.chkpt\" at 2022-12-11 19:52:40 after 90 attacks.\n",
      "\n",
      "\u001b[A\n",
      "\u001b[A"
     ]
    },
    {
     "name": "stdout",
     "output_type": "stream",
     "text": [
      "\n",
      "\n",
      "=============================================================================================================================\n",
      "=============================================================================================================================\n",
      "\n"
     ]
    },
    {
     "name": "stderr",
     "output_type": "stream",
     "text": [
      "\n",
      "\u001b[A\n",
      "\u001b[A\n",
      "\u001b[A\n",
      "\u001b[Atextattack: Saving checkpoint under \"checkpoints\\1670806362854.ta.chkpt\" at 2022-12-11 19:52:42 after 95 attacks.\n",
      "\n",
      "\u001b[A"
     ]
    },
    {
     "name": "stdout",
     "output_type": "stream",
     "text": [
      "\n",
      "\n",
      "=============================================================================================================================\n",
      "=============================================================================================================================\n",
      "\n"
     ]
    },
    {
     "name": "stderr",
     "output_type": "stream",
     "text": [
      "\n",
      "\u001b[A\n",
      "\u001b[A\n",
      "\u001b[A\n",
      "\u001b[A\n",
      "\u001b[Atextattack: Saving checkpoint under \"checkpoints\\1670806366525.ta.chkpt\" at 2022-12-11 19:52:46 after 100 attacks.\n",
      "[Succeeded / Failed / Skipped / Total] 0 / 57 / 43 / 100: 100%|██████████| 100/100 [01:09<00:00,  1.44it/s]"
     ]
    },
    {
     "name": "stdout",
     "output_type": "stream",
     "text": [
      "\n",
      "\n",
      "=============================================================================================================================\n",
      "=============================================================================================================================\n",
      "\n",
      "\n",
      "+-------------------------------+-------+\n",
      "| Attack Results                |       |\n",
      "+-------------------------------+-------+\n",
      "| Number of successful attacks: | 0     |\n",
      "| Number of failed attacks:     | 57    |\n",
      "| Number of skipped attacks:    | 43    |\n",
      "| Original accuracy:            | 57.0% |\n",
      "| Accuracy under attack:        | 57.0% |\n",
      "| Attack success rate:          | 0.0%  |\n",
      "| Average perturbed word %:     | nan%  |\n",
      "| Average num. words per input: | 17.7  |\n",
      "| Avg num queries:              | 12.42 |\n",
      "+-------------------------------+-------+\n"
     ]
    },
    {
     "name": "stderr",
     "output_type": "stream",
     "text": [
      "\n"
     ]
    },
    {
     "data": {
      "text/plain": [
       "[<textattack.attack_results.skipped_attack_result.SkippedAttackResult at 0x1dc00e249a0>,\n",
       " <textattack.attack_results.failed_attack_result.FailedAttackResult at 0x1dc16772d90>,\n",
       " <textattack.attack_results.failed_attack_result.FailedAttackResult at 0x1dc164dc730>,\n",
       " <textattack.attack_results.skipped_attack_result.SkippedAttackResult at 0x1dc169eee80>,\n",
       " <textattack.attack_results.failed_attack_result.FailedAttackResult at 0x1dc169eea60>,\n",
       " <textattack.attack_results.failed_attack_result.FailedAttackResult at 0x1dc163b4e50>,\n",
       " <textattack.attack_results.skipped_attack_result.SkippedAttackResult at 0x1dc164d1a90>,\n",
       " <textattack.attack_results.failed_attack_result.FailedAttackResult at 0x1dc164783a0>,\n",
       " <textattack.attack_results.failed_attack_result.FailedAttackResult at 0x1dc164922b0>,\n",
       " <textattack.attack_results.failed_attack_result.FailedAttackResult at 0x1dc161715b0>,\n",
       " <textattack.attack_results.failed_attack_result.FailedAttackResult at 0x1db8b17bfd0>,\n",
       " <textattack.attack_results.failed_attack_result.FailedAttackResult at 0x1dc169ee640>,\n",
       " <textattack.attack_results.skipped_attack_result.SkippedAttackResult at 0x1dc16a55850>,\n",
       " <textattack.attack_results.failed_attack_result.FailedAttackResult at 0x1dc163f97c0>,\n",
       " <textattack.attack_results.skipped_attack_result.SkippedAttackResult at 0x1dc16492cd0>,\n",
       " <textattack.attack_results.failed_attack_result.FailedAttackResult at 0x1dc164d1850>,\n",
       " <textattack.attack_results.failed_attack_result.FailedAttackResult at 0x1dc163da280>,\n",
       " <textattack.attack_results.skipped_attack_result.SkippedAttackResult at 0x1dc168c6d30>,\n",
       " <textattack.attack_results.failed_attack_result.FailedAttackResult at 0x1dc07691b50>,\n",
       " <textattack.attack_results.failed_attack_result.FailedAttackResult at 0x1dc169f7a30>,\n",
       " <textattack.attack_results.skipped_attack_result.SkippedAttackResult at 0x1dc164d1610>,\n",
       " <textattack.attack_results.failed_attack_result.FailedAttackResult at 0x1dc169e6c40>,\n",
       " <textattack.attack_results.failed_attack_result.FailedAttackResult at 0x1dc16143850>,\n",
       " <textattack.attack_results.failed_attack_result.FailedAttackResult at 0x1dc076b0d90>,\n",
       " <textattack.attack_results.skipped_attack_result.SkippedAttackResult at 0x1dc16143a90>,\n",
       " <textattack.attack_results.skipped_attack_result.SkippedAttackResult at 0x1dc169f70a0>,\n",
       " <textattack.attack_results.failed_attack_result.FailedAttackResult at 0x1dc169f74f0>,\n",
       " <textattack.attack_results.failed_attack_result.FailedAttackResult at 0x1dc0769dfd0>,\n",
       " <textattack.attack_results.skipped_attack_result.SkippedAttackResult at 0x1dc169f7760>,\n",
       " <textattack.attack_results.failed_attack_result.FailedAttackResult at 0x1dc075d2220>,\n",
       " <textattack.attack_results.failed_attack_result.FailedAttackResult at 0x1dc16168430>,\n",
       " <textattack.attack_results.skipped_attack_result.SkippedAttackResult at 0x1dc16478190>,\n",
       " <textattack.attack_results.skipped_attack_result.SkippedAttackResult at 0x1dc164787f0>,\n",
       " <textattack.attack_results.failed_attack_result.FailedAttackResult at 0x1dc16478400>,\n",
       " <textattack.attack_results.failed_attack_result.FailedAttackResult at 0x1dc16829280>,\n",
       " <textattack.attack_results.failed_attack_result.FailedAttackResult at 0x1dc076c0910>,\n",
       " <textattack.attack_results.failed_attack_result.FailedAttackResult at 0x1dc163b47c0>,\n",
       " <textattack.attack_results.failed_attack_result.FailedAttackResult at 0x1db8b17bca0>,\n",
       " <textattack.attack_results.skipped_attack_result.SkippedAttackResult at 0x1dc163da910>,\n",
       " <textattack.attack_results.failed_attack_result.FailedAttackResult at 0x1dc164dc7c0>,\n",
       " <textattack.attack_results.skipped_attack_result.SkippedAttackResult at 0x1dc168ad040>,\n",
       " <textattack.attack_results.failed_attack_result.FailedAttackResult at 0x1dc16829130>,\n",
       " <textattack.attack_results.skipped_attack_result.SkippedAttackResult at 0x1db9db307f0>,\n",
       " <textattack.attack_results.skipped_attack_result.SkippedAttackResult at 0x1db997945b0>,\n",
       " <textattack.attack_results.skipped_attack_result.SkippedAttackResult at 0x1dc06e4c610>,\n",
       " <textattack.attack_results.failed_attack_result.FailedAttackResult at 0x1dc06e49c10>,\n",
       " <textattack.attack_results.skipped_attack_result.SkippedAttackResult at 0x1dc06ce4af0>,\n",
       " <textattack.attack_results.skipped_attack_result.SkippedAttackResult at 0x1dc16193b50>,\n",
       " <textattack.attack_results.skipped_attack_result.SkippedAttackResult at 0x1dc0746e8e0>,\n",
       " <textattack.attack_results.failed_attack_result.FailedAttackResult at 0x1dc0746e130>,\n",
       " <textattack.attack_results.skipped_attack_result.SkippedAttackResult at 0x1dc075e2940>,\n",
       " <textattack.attack_results.skipped_attack_result.SkippedAttackResult at 0x1dc072e1730>,\n",
       " <textattack.attack_results.skipped_attack_result.SkippedAttackResult at 0x1dc0752cbb0>,\n",
       " <textattack.attack_results.failed_attack_result.FailedAttackResult at 0x1dc06cfee20>,\n",
       " <textattack.attack_results.skipped_attack_result.SkippedAttackResult at 0x1dc06cfe6d0>,\n",
       " <textattack.attack_results.failed_attack_result.FailedAttackResult at 0x1dc072d0fa0>,\n",
       " <textattack.attack_results.failed_attack_result.FailedAttackResult at 0x1dc06ef9af0>,\n",
       " <textattack.attack_results.skipped_attack_result.SkippedAttackResult at 0x1dc06c97f70>,\n",
       " <textattack.attack_results.skipped_attack_result.SkippedAttackResult at 0x1dc06ee9e80>,\n",
       " <textattack.attack_results.failed_attack_result.FailedAttackResult at 0x1dc06ef9fa0>,\n",
       " <textattack.attack_results.skipped_attack_result.SkippedAttackResult at 0x1dc06ed5580>,\n",
       " <textattack.attack_results.failed_attack_result.FailedAttackResult at 0x1dc06cf9610>,\n",
       " <textattack.attack_results.failed_attack_result.FailedAttackResult at 0x1dc076c0160>,\n",
       " <textattack.attack_results.failed_attack_result.FailedAttackResult at 0x1dc06e491f0>,\n",
       " <textattack.attack_results.skipped_attack_result.SkippedAttackResult at 0x1dc06c005e0>,\n",
       " <textattack.attack_results.skipped_attack_result.SkippedAttackResult at 0x1dc06e49070>,\n",
       " <textattack.attack_results.failed_attack_result.FailedAttackResult at 0x1dc06e49040>,\n",
       " <textattack.attack_results.skipped_attack_result.SkippedAttackResult at 0x1dc06cf9f70>,\n",
       " <textattack.attack_results.skipped_attack_result.SkippedAttackResult at 0x1dc06cce3d0>,\n",
       " <textattack.attack_results.skipped_attack_result.SkippedAttackResult at 0x1dc06ce43d0>,\n",
       " <textattack.attack_results.failed_attack_result.FailedAttackResult at 0x1dbeff8af70>,\n",
       " <textattack.attack_results.skipped_attack_result.SkippedAttackResult at 0x1dbeffa3a60>,\n",
       " <textattack.attack_results.failed_attack_result.FailedAttackResult at 0x1dc07517640>,\n",
       " <textattack.attack_results.failed_attack_result.FailedAttackResult at 0x1dc07300820>,\n",
       " <textattack.attack_results.failed_attack_result.FailedAttackResult at 0x1dc1641e760>,\n",
       " <textattack.attack_results.failed_attack_result.FailedAttackResult at 0x1dc16193490>,\n",
       " <textattack.attack_results.skipped_attack_result.SkippedAttackResult at 0x1db9db30310>,\n",
       " <textattack.attack_results.skipped_attack_result.SkippedAttackResult at 0x1dc06c978e0>,\n",
       " <textattack.attack_results.skipped_attack_result.SkippedAttackResult at 0x1dc06ed5130>,\n",
       " <textattack.attack_results.failed_attack_result.FailedAttackResult at 0x1dc06c97a60>,\n",
       " <textattack.attack_results.failed_attack_result.FailedAttackResult at 0x1dc06b42c10>,\n",
       " <textattack.attack_results.failed_attack_result.FailedAttackResult at 0x1dc06ef9a00>,\n",
       " <textattack.attack_results.skipped_attack_result.SkippedAttackResult at 0x1dc1641ee80>,\n",
       " <textattack.attack_results.skipped_attack_result.SkippedAttackResult at 0x1db9db307c0>,\n",
       " <textattack.attack_results.failed_attack_result.FailedAttackResult at 0x1dc16784fd0>,\n",
       " <textattack.attack_results.failed_attack_result.FailedAttackResult at 0x1dc0752cd30>,\n",
       " <textattack.attack_results.failed_attack_result.FailedAttackResult at 0x1dc06c09280>,\n",
       " <textattack.attack_results.failed_attack_result.FailedAttackResult at 0x1dbeef9ed00>,\n",
       " <textattack.attack_results.skipped_attack_result.SkippedAttackResult at 0x1dc163b4a00>,\n",
       " <textattack.attack_results.skipped_attack_result.SkippedAttackResult at 0x1dc163f9580>,\n",
       " <textattack.attack_results.skipped_attack_result.SkippedAttackResult at 0x1dc164c9640>,\n",
       " <textattack.attack_results.failed_attack_result.FailedAttackResult at 0x1dc06ca9b80>,\n",
       " <textattack.attack_results.failed_attack_result.FailedAttackResult at 0x1dc06e2f3d0>,\n",
       " <textattack.attack_results.failed_attack_result.FailedAttackResult at 0x1dc06ee9c70>,\n",
       " <textattack.attack_results.skipped_attack_result.SkippedAttackResult at 0x1dc06ca9970>,\n",
       " <textattack.attack_results.skipped_attack_result.SkippedAttackResult at 0x1dc06cf9af0>,\n",
       " <textattack.attack_results.failed_attack_result.FailedAttackResult at 0x1dc06b07ca0>,\n",
       " <textattack.attack_results.failed_attack_result.FailedAttackResult at 0x1dc06aea3a0>,\n",
       " <textattack.attack_results.failed_attack_result.FailedAttackResult at 0x1dc06c09760>,\n",
       " <textattack.attack_results.failed_attack_result.FailedAttackResult at 0x1dc06aeaa60>]"
      ]
     },
     "execution_count": 13,
     "metadata": {},
     "output_type": "execute_result"
    }
   ],
   "source": [
    "# Model: liar, dense_dropout, nnlm\n",
    "from textattack.attack_recipes import CheckList2020 as attack_recipe\n",
    "\n",
    "# try first 10 example because quite slow attack speed\n",
    "i = 100\n",
    "train_dataset = []\n",
    "for example, label in zip(train_sentences[:i], train_labels[:i]):\n",
    "    train_dataset.append((example, int(label)))\n",
    "train_dataset = Dataset(train_dataset)\n",
    "\n",
    "model_wrapper = CustomTensorFlowModelWrapper(model)\n",
    "attack = attack_recipe.build(model_wrapper)\n",
    "\n",
    "attack_args = AttackArgs(\n",
    "    num_examples=i,\n",
    "    checkpoint_interval=5,\n",
    "    disable_stdout=True\n",
    ")\n",
    "\n",
    "attacker = Attacker(attack, train_dataset, attack_args)\n",
    "attacker.attack_dataset()"
   ]
  },
  {
   "cell_type": "code",
   "execution_count": 6,
   "metadata": {},
   "outputs": [
    {
     "name": "stderr",
     "output_type": "stream",
     "text": [
      "textattack: Unknown if model of class <class 'keras.engine.functional.Functional'> compatible with goal function <class 'textattack.goal_functions.classification.untargeted_classification.UntargetedClassification'>.\n"
     ]
    },
    {
     "name": "stdout",
     "output_type": "stream",
     "text": [
      "Attack(\n",
      "  (search_method): GreedySearch\n",
      "  (goal_function):  UntargetedClassification\n",
      "  (transformation):  CompositeTransformation(\n",
      "    (0): WordSwapNeighboringCharacterSwap(\n",
      "        (random_one):  False\n",
      "      )\n",
      "    (1): WordSwapRandomCharacterDeletion(\n",
      "        (random_one):  False\n",
      "      )\n",
      "    (2): WordSwapRandomCharacterInsertion(\n",
      "        (random_one):  False\n",
      "      )\n",
      "    (3): WordSwapQWERTY\n",
      "    )\n",
      "  (constraints): \n",
      "    (0): MaxWordsPerturbed(\n",
      "        (max_num_words):  1\n",
      "        (compare_against_original):  True\n",
      "      )\n",
      "    (1): MinWordLength\n",
      "    (2): StopwordModification\n",
      "    (3): RepeatModification\n",
      "  (is_black_box):  True\n",
      ") \n",
      "\n"
     ]
    },
    {
     "name": "stderr",
     "output_type": "stream",
     "text": [
      "[Succeeded / Failed / Skipped / Total] 0 / 4 / 1 / 5:   5%|▌         | 5/100 [00:02<00:41,  2.32it/s]textattack: Saving checkpoint under \"checkpoints\\1670905949204.ta.chkpt\" at 2022-12-12 23:32:29 after 5 attacks.\n",
      "[Succeeded / Failed / Skipped / Total] 0 / 4 / 3 / 7:   7%|▋         | 7/100 [00:02<00:28,  3.21it/s]"
     ]
    },
    {
     "name": "stdout",
     "output_type": "stream",
     "text": [
      "\n",
      "\n",
      "=============================================================================================================================\n",
      "=============================================================================================================================\n",
      "\n"
     ]
    },
    {
     "name": "stderr",
     "output_type": "stream",
     "text": [
      "[Succeeded / Failed / Skipped / Total] 0 / 6 / 4 / 10:  10%|█         | 10/100 [00:03<00:30,  2.96it/s]textattack: Saving checkpoint under \"checkpoints\\1670905950427.ta.chkpt\" at 2022-12-12 23:32:30 after 10 attacks.\n",
      "[Succeeded / Failed / Skipped / Total] 0 / 6 / 5 / 11:  11%|█         | 11/100 [00:03<00:27,  3.24it/s]"
     ]
    },
    {
     "name": "stdout",
     "output_type": "stream",
     "text": [
      "\n",
      "\n",
      "=============================================================================================================================\n",
      "=============================================================================================================================\n",
      "\n"
     ]
    },
    {
     "name": "stderr",
     "output_type": "stream",
     "text": [
      "[Succeeded / Failed / Skipped / Total] 0 / 9 / 6 / 15:  15%|█▌        | 15/100 [00:04<00:26,  3.20it/s]textattack: Saving checkpoint under \"checkpoints\\1670905951728.ta.chkpt\" at 2022-12-12 23:32:31 after 15 attacks.\n",
      "[Succeeded / Failed / Skipped / Total] 0 / 9 / 11 / 20:  20%|██        | 20/100 [00:04<00:18,  4.23it/s]textattack: Saving checkpoint under \"checkpoints\\1670905951774.ta.chkpt\" at 2022-12-12 23:32:31 after 20 attacks.\n"
     ]
    },
    {
     "name": "stdout",
     "output_type": "stream",
     "text": [
      "\n",
      "\n",
      "=============================================================================================================================\n",
      "=============================================================================================================================\n",
      "\n",
      "\n",
      "\n",
      "=============================================================================================================================\n",
      "=============================================================================================================================\n",
      "\n"
     ]
    },
    {
     "name": "stderr",
     "output_type": "stream",
     "text": [
      "[Succeeded / Failed / Skipped / Total] 0 / 13 / 12 / 25:  25%|██▌       | 25/100 [00:06<00:19,  3.90it/s]textattack: Saving checkpoint under \"checkpoints\\1670905953463.ta.chkpt\" at 2022-12-12 23:32:33 after 25 attacks.\n"
     ]
    },
    {
     "name": "stdout",
     "output_type": "stream",
     "text": [
      "\n",
      "\n",
      "=============================================================================================================================\n",
      "=============================================================================================================================\n",
      "\n"
     ]
    },
    {
     "name": "stderr",
     "output_type": "stream",
     "text": [
      "[Succeeded / Failed / Skipped / Total] 0 / 18 / 12 / 30:  30%|███       | 30/100 [00:08<00:19,  3.53it/s]textattack: Saving checkpoint under \"checkpoints\\1670905955543.ta.chkpt\" at 2022-12-12 23:32:35 after 30 attacks.\n"
     ]
    },
    {
     "name": "stdout",
     "output_type": "stream",
     "text": [
      "\n",
      "\n",
      "=============================================================================================================================\n",
      "=============================================================================================================================\n",
      "\n"
     ]
    },
    {
     "name": "stderr",
     "output_type": "stream",
     "text": [
      "[Succeeded / Failed / Skipped / Total] 0 / 22 / 13 / 35:  35%|███▌      | 35/100 [00:10<00:18,  3.45it/s]textattack: Saving checkpoint under \"checkpoints\\1670905957203.ta.chkpt\" at 2022-12-12 23:32:37 after 35 attacks.\n"
     ]
    },
    {
     "name": "stdout",
     "output_type": "stream",
     "text": [
      "\n",
      "\n",
      "=============================================================================================================================\n",
      "=============================================================================================================================\n",
      "\n"
     ]
    },
    {
     "name": "stderr",
     "output_type": "stream",
     "text": [
      "[Succeeded / Failed / Skipped / Total] 0 / 26 / 14 / 40:  40%|████      | 40/100 [00:11<00:17,  3.41it/s]textattack: Saving checkpoint under \"checkpoints\\1670905958784.ta.chkpt\" at 2022-12-12 23:32:38 after 40 attacks.\n",
      "[Succeeded / Failed / Skipped / Total] 0 / 26 / 15 / 41:  41%|████      | 41/100 [00:11<00:16,  3.49it/s]"
     ]
    },
    {
     "name": "stdout",
     "output_type": "stream",
     "text": [
      "\n",
      "\n",
      "=============================================================================================================================\n",
      "=============================================================================================================================\n",
      "\n"
     ]
    },
    {
     "name": "stderr",
     "output_type": "stream",
     "text": [
      "[Succeeded / Failed / Skipped / Total] 0 / 29 / 16 / 45:  45%|████▌     | 45/100 [00:12<00:15,  3.54it/s]textattack: Saving checkpoint under \"checkpoints\\1670905959754.ta.chkpt\" at 2022-12-12 23:32:39 after 45 attacks.\n"
     ]
    },
    {
     "name": "stdout",
     "output_type": "stream",
     "text": [
      "\n",
      "\n",
      "=============================================================================================================================\n",
      "=============================================================================================================================\n",
      "\n"
     ]
    },
    {
     "name": "stderr",
     "output_type": "stream",
     "text": [
      "[Succeeded / Failed / Skipped / Total] 0 / 30 / 20 / 50:  50%|█████     | 50/100 [00:13<00:13,  3.78it/s]textattack: Saving checkpoint under \"checkpoints\\1670905960286.ta.chkpt\" at 2022-12-12 23:32:40 after 50 attacks.\n"
     ]
    },
    {
     "name": "stdout",
     "output_type": "stream",
     "text": [
      "\n",
      "\n",
      "=============================================================================================================================\n",
      "=============================================================================================================================\n",
      "\n"
     ]
    },
    {
     "name": "stderr",
     "output_type": "stream",
     "text": [
      "[Succeeded / Failed / Skipped / Total] 0 / 35 / 20 / 55:  55%|█████▌    | 55/100 [00:15<00:12,  3.47it/s]textattack: Saving checkpoint under \"checkpoints\\1670905962873.ta.chkpt\" at 2022-12-12 23:32:42 after 55 attacks.\n"
     ]
    },
    {
     "name": "stdout",
     "output_type": "stream",
     "text": [
      "\n",
      "\n",
      "=============================================================================================================================\n",
      "=============================================================================================================================\n",
      "\n"
     ]
    },
    {
     "name": "stderr",
     "output_type": "stream",
     "text": [
      "[Succeeded / Failed / Skipped / Total] 0 / 38 / 22 / 60:  60%|██████    | 60/100 [00:16<00:11,  3.55it/s]textattack: Saving checkpoint under \"checkpoints\\1670905963944.ta.chkpt\" at 2022-12-12 23:32:43 after 60 attacks.\n"
     ]
    },
    {
     "name": "stdout",
     "output_type": "stream",
     "text": [
      "\n",
      "\n",
      "=============================================================================================================================\n",
      "=============================================================================================================================\n",
      "\n"
     ]
    },
    {
     "name": "stderr",
     "output_type": "stream",
     "text": [
      "[Succeeded / Failed / Skipped / Total] 0 / 41 / 24 / 65:  65%|██████▌   | 65/100 [00:18<00:09,  3.53it/s]textattack: Saving checkpoint under \"checkpoints\\1670905965455.ta.chkpt\" at 2022-12-12 23:32:45 after 65 attacks.\n"
     ]
    },
    {
     "name": "stdout",
     "output_type": "stream",
     "text": [
      "\n",
      "\n",
      "=============================================================================================================================\n",
      "=============================================================================================================================\n",
      "\n"
     ]
    },
    {
     "name": "stderr",
     "output_type": "stream",
     "text": [
      "[Succeeded / Failed / Skipped / Total] 0 / 44 / 26 / 70:  70%|███████   | 70/100 [00:19<00:08,  3.53it/s]textattack: Saving checkpoint under \"checkpoints\\1670905966888.ta.chkpt\" at 2022-12-12 23:32:46 after 70 attacks.\n",
      "[Succeeded / Failed / Skipped / Total] 0 / 44 / 27 / 71:  71%|███████   | 71/100 [00:19<00:08,  3.58it/s]"
     ]
    },
    {
     "name": "stdout",
     "output_type": "stream",
     "text": [
      "\n",
      "\n",
      "=============================================================================================================================\n",
      "=============================================================================================================================\n",
      "\n"
     ]
    },
    {
     "name": "stderr",
     "output_type": "stream",
     "text": [
      "[Succeeded / Failed / Skipped / Total] 0 / 45 / 30 / 75:  75%|███████▌  | 75/100 [00:20<00:06,  3.64it/s]textattack: Saving checkpoint under \"checkpoints\\1670905967641.ta.chkpt\" at 2022-12-12 23:32:47 after 75 attacks.\n"
     ]
    },
    {
     "name": "stdout",
     "output_type": "stream",
     "text": [
      "\n",
      "\n",
      "=============================================================================================================================\n",
      "=============================================================================================================================\n",
      "\n"
     ]
    },
    {
     "name": "stderr",
     "output_type": "stream",
     "text": [
      "[Succeeded / Failed / Skipped / Total] 0 / 47 / 33 / 80:  80%|████████  | 80/100 [00:21<00:05,  3.71it/s]textattack: Saving checkpoint under \"checkpoints\\1670905968610.ta.chkpt\" at 2022-12-12 23:32:48 after 80 attacks.\n"
     ]
    },
    {
     "name": "stdout",
     "output_type": "stream",
     "text": [
      "\n",
      "\n",
      "=============================================================================================================================\n",
      "=============================================================================================================================\n",
      "\n"
     ]
    },
    {
     "name": "stderr",
     "output_type": "stream",
     "text": [
      "[Succeeded / Failed / Skipped / Total] 0 / 50 / 35 / 85:  85%|████████▌ | 85/100 [00:22<00:04,  3.73it/s]textattack: Saving checkpoint under \"checkpoints\\1670905969804.ta.chkpt\" at 2022-12-12 23:32:49 after 85 attacks.\n"
     ]
    },
    {
     "name": "stdout",
     "output_type": "stream",
     "text": [
      "\n",
      "\n",
      "=============================================================================================================================\n",
      "=============================================================================================================================\n",
      "\n"
     ]
    },
    {
     "name": "stderr",
     "output_type": "stream",
     "text": [
      "[Succeeded / Failed / Skipped / Total] 0 / 52 / 38 / 90:  90%|█████████ | 90/100 [00:23<00:02,  3.81it/s]textattack: Saving checkpoint under \"checkpoints\\1670905970653.ta.chkpt\" at 2022-12-12 23:32:50 after 90 attacks.\n"
     ]
    },
    {
     "name": "stdout",
     "output_type": "stream",
     "text": [
      "\n",
      "\n",
      "=============================================================================================================================\n",
      "=============================================================================================================================\n",
      "\n"
     ]
    },
    {
     "name": "stderr",
     "output_type": "stream",
     "text": [
      "[Succeeded / Failed / Skipped / Total] 0 / 54 / 41 / 95:  95%|█████████▌| 95/100 [00:24<00:01,  3.89it/s]textattack: Saving checkpoint under \"checkpoints\\1670905971452.ta.chkpt\" at 2022-12-12 23:32:51 after 95 attacks.\n"
     ]
    },
    {
     "name": "stdout",
     "output_type": "stream",
     "text": [
      "\n",
      "\n",
      "=============================================================================================================================\n",
      "=============================================================================================================================\n",
      "\n"
     ]
    },
    {
     "name": "stderr",
     "output_type": "stream",
     "text": [
      "[Succeeded / Failed / Skipped / Total] 0 / 57 / 43 / 100: 100%|██████████| 100/100 [00:25<00:00,  3.85it/s]textattack: Saving checkpoint under \"checkpoints\\1670905973028.ta.chkpt\" at 2022-12-12 23:32:53 after 100 attacks.\n",
      "[Succeeded / Failed / Skipped / Total] 0 / 57 / 43 / 100: 100%|██████████| 100/100 [00:25<00:00,  3.85it/s]"
     ]
    },
    {
     "name": "stdout",
     "output_type": "stream",
     "text": [
      "\n",
      "\n",
      "=============================================================================================================================\n",
      "=============================================================================================================================\n",
      "\n",
      "\n",
      "+-------------------------------+--------+\n",
      "| Attack Results                |        |\n",
      "+-------------------------------+--------+\n",
      "| Number of successful attacks: | 0      |\n",
      "| Number of failed attacks:     | 57     |\n",
      "| Number of skipped attacks:    | 43     |\n",
      "| Original accuracy:            | 57.0%  |\n",
      "| Accuracy under attack:        | 57.0%  |\n",
      "| Attack success rate:          | 0.0%   |\n",
      "| Average perturbed word %:     | nan%   |\n",
      "| Average num. words per input: | 12.49  |\n",
      "| Avg num queries:              | 323.93 |\n",
      "+-------------------------------+--------+\n"
     ]
    },
    {
     "name": "stderr",
     "output_type": "stream",
     "text": [
      "\n"
     ]
    },
    {
     "data": {
      "text/plain": [
       "[<textattack.attack_results.skipped_attack_result.SkippedAttackResult at 0x17d702361c0>,\n",
       " <textattack.attack_results.failed_attack_result.FailedAttackResult at 0x17d701781f0>,\n",
       " <textattack.attack_results.failed_attack_result.FailedAttackResult at 0x17d7016bc40>,\n",
       " <textattack.attack_results.failed_attack_result.FailedAttackResult at 0x17d1fe00760>,\n",
       " <textattack.attack_results.failed_attack_result.FailedAttackResult at 0x17d6f161040>,\n",
       " <textattack.attack_results.skipped_attack_result.SkippedAttackResult at 0x17d701832b0>,\n",
       " <textattack.attack_results.skipped_attack_result.SkippedAttackResult at 0x17d701835e0>,\n",
       " <textattack.attack_results.failed_attack_result.FailedAttackResult at 0x17d7016bfd0>,\n",
       " <textattack.attack_results.failed_attack_result.FailedAttackResult at 0x17d70183790>,\n",
       " <textattack.attack_results.skipped_attack_result.SkippedAttackResult at 0x17d70161730>,\n",
       " <textattack.attack_results.skipped_attack_result.SkippedAttackResult at 0x17d70208dc0>,\n",
       " <textattack.attack_results.failed_attack_result.FailedAttackResult at 0x17c85d40c70>,\n",
       " <textattack.attack_results.failed_attack_result.FailedAttackResult at 0x17d702601f0>,\n",
       " <textattack.attack_results.failed_attack_result.FailedAttackResult at 0x17d1fdc0c70>,\n",
       " <textattack.attack_results.skipped_attack_result.SkippedAttackResult at 0x17d1fe043a0>,\n",
       " <textattack.attack_results.skipped_attack_result.SkippedAttackResult at 0x17d703e6e20>,\n",
       " <textattack.attack_results.skipped_attack_result.SkippedAttackResult at 0x17d1fdc0370>,\n",
       " <textattack.attack_results.skipped_attack_result.SkippedAttackResult at 0x17d1fdc0910>,\n",
       " <textattack.attack_results.skipped_attack_result.SkippedAttackResult at 0x17d70183460>,\n",
       " <textattack.attack_results.skipped_attack_result.SkippedAttackResult at 0x17d703e6790>,\n",
       " <textattack.attack_results.failed_attack_result.FailedAttackResult at 0x17d701fce80>,\n",
       " <textattack.attack_results.failed_attack_result.FailedAttackResult at 0x17d6f17c6d0>,\n",
       " <textattack.attack_results.failed_attack_result.FailedAttackResult at 0x17d7016b250>,\n",
       " <textattack.attack_results.failed_attack_result.FailedAttackResult at 0x17d6f1011c0>,\n",
       " <textattack.attack_results.skipped_attack_result.SkippedAttackResult at 0x17d1b9baaf0>,\n",
       " <textattack.attack_results.failed_attack_result.FailedAttackResult at 0x17d6f17cf70>,\n",
       " <textattack.attack_results.failed_attack_result.FailedAttackResult at 0x17d70220b20>,\n",
       " <textattack.attack_results.failed_attack_result.FailedAttackResult at 0x17d70264190>,\n",
       " <textattack.attack_results.failed_attack_result.FailedAttackResult at 0x17d7039c280>,\n",
       " <textattack.attack_results.failed_attack_result.FailedAttackResult at 0x17d1fe04df0>,\n",
       " <textattack.attack_results.failed_attack_result.FailedAttackResult at 0x17d703e6850>,\n",
       " <textattack.attack_results.failed_attack_result.FailedAttackResult at 0x17d703780a0>,\n",
       " <textattack.attack_results.failed_attack_result.FailedAttackResult at 0x17d7026a820>,\n",
       " <textattack.attack_results.skipped_attack_result.SkippedAttackResult at 0x17d7026a460>,\n",
       " <textattack.attack_results.failed_attack_result.FailedAttackResult at 0x17d702647f0>,\n",
       " <textattack.attack_results.failed_attack_result.FailedAttackResult at 0x17d1fe007c0>,\n",
       " <textattack.attack_results.failed_attack_result.FailedAttackResult at 0x17d70220eb0>,\n",
       " <textattack.attack_results.failed_attack_result.FailedAttackResult at 0x17d6f161220>,\n",
       " <textattack.attack_results.skipped_attack_result.SkippedAttackResult at 0x17d703ce1c0>,\n",
       " <textattack.attack_results.failed_attack_result.FailedAttackResult at 0x17d1fde4880>,\n",
       " <textattack.attack_results.skipped_attack_result.SkippedAttackResult at 0x17d1fde4dc0>,\n",
       " <textattack.attack_results.failed_attack_result.FailedAttackResult at 0x17d70220d00>,\n",
       " <textattack.attack_results.failed_attack_result.FailedAttackResult at 0x17d7026aca0>,\n",
       " <textattack.attack_results.skipped_attack_result.SkippedAttackResult at 0x17d7026ac40>,\n",
       " <textattack.attack_results.failed_attack_result.FailedAttackResult at 0x17d6f1743d0>,\n",
       " <textattack.attack_results.failed_attack_result.FailedAttackResult at 0x17d6f11db20>,\n",
       " <textattack.attack_results.skipped_attack_result.SkippedAttackResult at 0x17d7026af70>,\n",
       " <textattack.attack_results.skipped_attack_result.SkippedAttackResult at 0x17c85ce51c0>,\n",
       " <textattack.attack_results.skipped_attack_result.SkippedAttackResult at 0x17d6f11dfd0>,\n",
       " <textattack.attack_results.skipped_attack_result.SkippedAttackResult at 0x17c85ce5c70>,\n",
       " <textattack.attack_results.failed_attack_result.FailedAttackResult at 0x17d6f1741f0>,\n",
       " <textattack.attack_results.failed_attack_result.FailedAttackResult at 0x17d703e6610>,\n",
       " <textattack.attack_results.failed_attack_result.FailedAttackResult at 0x17c85d30670>,\n",
       " <textattack.attack_results.failed_attack_result.FailedAttackResult at 0x17d1fcefe80>,\n",
       " <textattack.attack_results.failed_attack_result.FailedAttackResult at 0x17d6f1732e0>,\n",
       " <textattack.attack_results.failed_attack_result.FailedAttackResult at 0x17d70254610>,\n",
       " <textattack.attack_results.skipped_attack_result.SkippedAttackResult at 0x17d70254250>,\n",
       " <textattack.attack_results.failed_attack_result.FailedAttackResult at 0x17d7026ab80>,\n",
       " <textattack.attack_results.skipped_attack_result.SkippedAttackResult at 0x17d6f11d940>,\n",
       " <textattack.attack_results.failed_attack_result.FailedAttackResult at 0x17c85ce7fd0>,\n",
       " <textattack.attack_results.failed_attack_result.FailedAttackResult at 0x17d70260310>,\n",
       " <textattack.attack_results.failed_attack_result.FailedAttackResult at 0x17d70208cd0>,\n",
       " <textattack.attack_results.skipped_attack_result.SkippedAttackResult at 0x17d6f17ca60>,\n",
       " <textattack.attack_results.failed_attack_result.FailedAttackResult at 0x17d2743b580>,\n",
       " <textattack.attack_results.skipped_attack_result.SkippedAttackResult at 0x17d2743bfd0>,\n",
       " <textattack.attack_results.failed_attack_result.FailedAttackResult at 0x17d703a3160>,\n",
       " <textattack.attack_results.failed_attack_result.FailedAttackResult at 0x17d702080d0>,\n",
       " <textattack.attack_results.skipped_attack_result.SkippedAttackResult at 0x17d1fdc0a90>,\n",
       " <textattack.attack_results.skipped_attack_result.SkippedAttackResult at 0x17d1b9ba3a0>,\n",
       " <textattack.attack_results.failed_attack_result.FailedAttackResult at 0x17d7039c5b0>,\n",
       " <textattack.attack_results.skipped_attack_result.SkippedAttackResult at 0x17d70180040>,\n",
       " <textattack.attack_results.failed_attack_result.FailedAttackResult at 0x17d1fdc0a60>,\n",
       " <textattack.attack_results.skipped_attack_result.SkippedAttackResult at 0x17d7020ad00>,\n",
       " <textattack.attack_results.skipped_attack_result.SkippedAttackResult at 0x17d7020a4c0>,\n",
       " <textattack.attack_results.skipped_attack_result.SkippedAttackResult at 0x17d7024acd0>,\n",
       " <textattack.attack_results.failed_attack_result.FailedAttackResult at 0x17d701ae760>,\n",
       " <textattack.attack_results.skipped_attack_result.SkippedAttackResult at 0x17d701ae730>,\n",
       " <textattack.attack_results.failed_attack_result.FailedAttackResult at 0x17d70230d00>,\n",
       " <textattack.attack_results.skipped_attack_result.SkippedAttackResult at 0x17d70230310>,\n",
       " <textattack.attack_results.skipped_attack_result.SkippedAttackResult at 0x17d703d2910>,\n",
       " <textattack.attack_results.failed_attack_result.FailedAttackResult at 0x17d322a2220>,\n",
       " <textattack.attack_results.skipped_attack_result.SkippedAttackResult at 0x17d322a21f0>,\n",
       " <textattack.attack_results.skipped_attack_result.SkippedAttackResult at 0x17d1fde4f70>,\n",
       " <textattack.attack_results.failed_attack_result.FailedAttackResult at 0x17d703dce50>,\n",
       " <textattack.attack_results.failed_attack_result.FailedAttackResult at 0x17d27430f10>,\n",
       " <textattack.attack_results.failed_attack_result.FailedAttackResult at 0x17d322a23d0>,\n",
       " <textattack.attack_results.skipped_attack_result.SkippedAttackResult at 0x17c85cf1a30>,\n",
       " <textattack.attack_results.skipped_attack_result.SkippedAttackResult at 0x17c85cf1850>,\n",
       " <textattack.attack_results.failed_attack_result.FailedAttackResult at 0x17d703cd0a0>,\n",
       " <textattack.attack_results.skipped_attack_result.SkippedAttackResult at 0x17d70220a30>,\n",
       " <textattack.attack_results.failed_attack_result.FailedAttackResult at 0x17d703a3820>,\n",
       " <textattack.attack_results.skipped_attack_result.SkippedAttackResult at 0x17d703dc2b0>,\n",
       " <textattack.attack_results.skipped_attack_result.SkippedAttackResult at 0x17d703dcc40>,\n",
       " <textattack.attack_results.failed_attack_result.FailedAttackResult at 0x17d70178910>,\n",
       " <textattack.attack_results.skipped_attack_result.SkippedAttackResult at 0x17c85cf1f70>,\n",
       " <textattack.attack_results.failed_attack_result.FailedAttackResult at 0x17d70208160>,\n",
       " <textattack.attack_results.failed_attack_result.FailedAttackResult at 0x17d2743b2b0>,\n",
       " <textattack.attack_results.skipped_attack_result.SkippedAttackResult at 0x17d2743beb0>,\n",
       " <textattack.attack_results.skipped_attack_result.SkippedAttackResult at 0x17d1fde4d60>,\n",
       " <textattack.attack_results.failed_attack_result.FailedAttackResult at 0x17d1fe04190>]"
      ]
     },
     "execution_count": 6,
     "metadata": {},
     "output_type": "execute_result"
    }
   ],
   "source": [
    "# Model: kaggle_title, dense_dropout, nnlm\n",
    "from textattack.attack_recipes import Pruthi2019 as attack_recipe\n",
    "\n",
    "# try first 10 example because quite slow attack speed\n",
    "i = 100     \n",
    "train_dataset = []\n",
    "for example, label in zip(train_sentences[:i], train_labels[:i]):\n",
    "    train_dataset.append((example, int(label)))\n",
    "train_dataset = Dataset(train_dataset)\n",
    "\n",
    "model_wrapper = CustomTensorFlowModelWrapper(model)\n",
    "attack = attack_recipe.build(model_wrapper)\n",
    "\n",
    "attack_args = AttackArgs(\n",
    "    num_examples=i,\n",
    "    checkpoint_interval=5,\n",
    "    disable_stdout=True\n",
    ")\n",
    "\n",
    "attacker = Attacker(attack, train_dataset, attack_args)\n",
    "attacker.attack_dataset()"
   ]
  },
  {
   "attachments": {},
   "cell_type": "markdown",
   "metadata": {},
   "source": [
    "##### attack: kaggle_title + dense_dropout"
   ]
  },
  {
   "cell_type": "code",
   "execution_count": 14,
   "metadata": {},
   "outputs": [
    {
     "name": "stdout",
     "output_type": "stream",
     "text": [
      "Model: \"sequential\"\n",
      "_________________________________________________________________\n",
      " Layer (type)                Output Shape              Param #   \n",
      "=================================================================\n",
      " keras_layer_4 (KerasLayer)  (None, 128)               124642688 \n",
      "                                                                 \n",
      " dense_13 (Dense)            (None, 256)               33024     \n",
      "                                                                 \n",
      " dropout_6 (Dropout)         (None, 256)               0         \n",
      "                                                                 \n",
      " dense_14 (Dense)            (None, 64)                16448     \n",
      "                                                                 \n",
      " dropout_7 (Dropout)         (None, 64)                0         \n",
      "                                                                 \n",
      " dense_15 (Dense)            (None, 1)                 65        \n",
      "                                                                 \n",
      "=================================================================\n",
      "Total params: 124,692,225\n",
      "Trainable params: 49,537\n",
      "Non-trainable params: 124,642,688\n",
      "_________________________________________________________________\n",
      "Epoch 1/5\n",
      "1123/1123 [==============================] - 3s 3ms/step - loss: 0.0179 - accuracy: 0.9952 - val_loss: 0.0115 - val_accuracy: 0.9964\n",
      "Epoch 2/5\n",
      "1123/1123 [==============================] - 3s 3ms/step - loss: 0.0102 - accuracy: 0.9969 - val_loss: 0.0114 - val_accuracy: 0.9969\n",
      "Epoch 3/5\n",
      "1123/1123 [==============================] - 3s 3ms/step - loss: 0.0092 - accuracy: 0.9976 - val_loss: 0.0105 - val_accuracy: 0.9969\n",
      "Epoch 4/5\n",
      "1123/1123 [==============================] - 3s 3ms/step - loss: 0.0089 - accuracy: 0.9972 - val_loss: 0.0110 - val_accuracy: 0.9969\n",
      "Epoch 5/5\n",
      "1123/1123 [==============================] - 3s 3ms/step - loss: 0.0088 - accuracy: 0.9974 - val_loss: 0.0124 - val_accuracy: 0.9967\n"
     ]
    }
   ],
   "source": [
    "# Model\n",
    "# Dataset: kaggle_title\n",
    "import tensorflow_hub as hub\n",
    "import tensorflow as tf\n",
    "\n",
    "model = tf.keras.Sequential()\n",
    "hub_layer = hub.KerasLayer(\"https://tfhub.dev/google/nnlm-en-dim128-with-normalization/2\", input_shape=[],\n",
    "                           dtype=tf.string, trainable=False)\n",
    "model.add(hub_layer)\n",
    "model.add(tf.keras.layers.Dense(256))\n",
    "model.add(tf.keras.layers.Dropout(0.1))\n",
    "model.add(tf.keras.layers.Dense(64))\n",
    "model.add(tf.keras.layers.Dropout(0.1))\n",
    "model.add(tf.keras.layers.Dense(1,activation='sigmoid'))\n",
    "\n",
    "model.summary() \n",
    "model.compile(optimizer='adam',\n",
    "              loss=tf.keras.losses.BinaryCrossentropy(from_logits=True),\n",
    "              metrics=['accuracy'])\n",
    "\n",
    "# Fit the model\n",
    "model_history = model.fit(train_sentences,\n",
    "                          train_labels,\n",
    "                          epochs=5,\n",
    "                          validation_data=(val_sentences, val_labels))"
   ]
  },
  {
   "cell_type": "code",
   "execution_count": 7,
   "metadata": {},
   "outputs": [
    {
     "name": "stderr",
     "output_type": "stream",
     "text": [
      "[nltk_data] Downloading package omw-1.4 to\n",
      "[nltk_data]     C:\\Users\\mogut\\AppData\\Roaming\\nltk_data...\n",
      "[nltk_data]   Package omw-1.4 is already up-to-date!\n",
      "textattack: Unknown if model of class <class 'keras.engine.sequential.Sequential'> compatible with goal function <class 'textattack.goal_functions.classification.untargeted_classification.UntargetedClassification'>.\n"
     ]
    },
    {
     "name": "stdout",
     "output_type": "stream",
     "text": [
      "Attack(\n",
      "  (search_method): GreedyWordSwapWIR(\n",
      "    (wir_method):  weighted-saliency\n",
      "  )\n",
      "  (goal_function):  UntargetedClassification\n",
      "  (transformation):  WordSwapWordNet\n",
      "  (constraints): \n",
      "    (0): RepeatModification\n",
      "    (1): StopwordModification\n",
      "  (is_black_box):  True\n",
      ") \n",
      "\n"
     ]
    },
    {
     "name": "stderr",
     "output_type": "stream",
     "text": [
      "textattack: Saving checkpoint under \"checkpoints\\1670997494184.ta.chkpt\" at 2022-12-14 00:58:14 after 20 attacks.\n"
     ]
    },
    {
     "name": "stdout",
     "output_type": "stream",
     "text": [
      "\n",
      "\n",
      "=============================================================================================================================\n",
      "=============================================================================================================================\n",
      "\n"
     ]
    },
    {
     "name": "stderr",
     "output_type": "stream",
     "text": [
      "textattack: Saving checkpoint under \"checkpoints\\1670997495935.ta.chkpt\" at 2022-12-14 00:58:15 after 40 attacks.\n",
      "\n"
     ]
    },
    {
     "name": "stdout",
     "output_type": "stream",
     "text": [
      "\n",
      "\n",
      "=============================================================================================================================\n",
      "=============================================================================================================================\n",
      "\n"
     ]
    },
    {
     "name": "stderr",
     "output_type": "stream",
     "text": [
      "[Succeeded / Failed / Skipped / Total] 8 / 23 / 13 / 44:  44%|████▍     | 44/100 [00:03<00:04, 11.68it/s]\u001b[Atextattack: Saving checkpoint under \"checkpoints\\1670997497142.ta.chkpt\" at 2022-12-14 00:58:17 after 60 attacks.\n",
      "\n",
      "[Succeeded / Failed / Skipped / Total] 10 / 31 / 23 / 64:  64%|██████▍   | 64/100 [00:04<00:02, 12.92it/s]"
     ]
    },
    {
     "name": "stdout",
     "output_type": "stream",
     "text": [
      "\n",
      "\n",
      "=============================================================================================================================\n",
      "=============================================================================================================================\n",
      "\n"
     ]
    },
    {
     "name": "stderr",
     "output_type": "stream",
     "text": [
      "\u001b[Atextattack: Saving checkpoint under \"checkpoints\\1670997498047.ta.chkpt\" at 2022-12-14 00:58:18 after 80 attacks.\n"
     ]
    },
    {
     "name": "stdout",
     "output_type": "stream",
     "text": [
      "\n",
      "\n",
      "=============================================================================================================================\n",
      "=============================================================================================================================\n",
      "\n"
     ]
    },
    {
     "name": "stderr",
     "output_type": "stream",
     "text": [
      "textattack: Saving checkpoint under \"checkpoints\\1670997500411.ta.chkpt\" at 2022-12-14 00:58:20 after 100 attacks.\n",
      "[Succeeded / Failed / Skipped / Total] 15 / 42 / 43 / 100: 100%|██████████| 100/100 [00:08<00:00, 12.44it/s]"
     ]
    },
    {
     "name": "stdout",
     "output_type": "stream",
     "text": [
      "\n",
      "\n",
      "=============================================================================================================================\n",
      "=============================================================================================================================\n",
      "\n",
      "\n",
      "+-------------------------------+--------+\n",
      "| Attack Results                |        |\n",
      "+-------------------------------+--------+\n",
      "| Number of successful attacks: | 15     |\n",
      "| Number of failed attacks:     | 42     |\n",
      "| Number of skipped attacks:    | 43     |\n",
      "| Original accuracy:            | 57.0%  |\n",
      "| Accuracy under attack:        | 42.0%  |\n",
      "| Attack success rate:          | 26.32% |\n",
      "| Average perturbed word %:     | 64.14% |\n",
      "| Average num. words per input: | 13.39  |\n",
      "| Avg num queries:              | 242.6  |\n",
      "+-------------------------------+--------+\n"
     ]
    },
    {
     "name": "stderr",
     "output_type": "stream",
     "text": [
      "\n"
     ]
    },
    {
     "data": {
      "text/plain": [
       "[<textattack.attack_results.skipped_attack_result.SkippedAttackResult at 0x1b4c26dcb50>,\n",
       " <textattack.attack_results.failed_attack_result.FailedAttackResult at 0x1b4dee33fd0>,\n",
       " <textattack.attack_results.successful_attack_result.SuccessfulAttackResult at 0x1b4cc81eeb0>,\n",
       " <textattack.attack_results.failed_attack_result.FailedAttackResult at 0x1b4ce095490>,\n",
       " <textattack.attack_results.skipped_attack_result.SkippedAttackResult at 0x1b4e525a040>,\n",
       " <textattack.attack_results.failed_attack_result.FailedAttackResult at 0x1b4cc81efd0>,\n",
       " <textattack.attack_results.failed_attack_result.FailedAttackResult at 0x1b3c38af100>,\n",
       " <textattack.attack_results.failed_attack_result.FailedAttackResult at 0x1b4e3f44790>,\n",
       " <textattack.attack_results.failed_attack_result.FailedAttackResult at 0x1b3e170b1f0>,\n",
       " <textattack.attack_results.failed_attack_result.FailedAttackResult at 0x1b4cb65a0d0>,\n",
       " <textattack.attack_results.failed_attack_result.FailedAttackResult at 0x1b4e525a5e0>,\n",
       " <textattack.attack_results.successful_attack_result.SuccessfulAttackResult at 0x1b4cc91cd30>,\n",
       " <textattack.attack_results.successful_attack_result.SuccessfulAttackResult at 0x1b4d6036550>,\n",
       " <textattack.attack_results.skipped_attack_result.SkippedAttackResult at 0x1b4cb362430>,\n",
       " <textattack.attack_results.failed_attack_result.FailedAttackResult at 0x1b4da091ca0>,\n",
       " <textattack.attack_results.successful_attack_result.SuccessfulAttackResult at 0x1b4da0c5b50>,\n",
       " <textattack.attack_results.failed_attack_result.FailedAttackResult at 0x1b4d1bdb6a0>,\n",
       " <textattack.attack_results.skipped_attack_result.SkippedAttackResult at 0x1b4d1bdbc40>,\n",
       " <textattack.attack_results.failed_attack_result.FailedAttackResult at 0x1b4dd72b790>,\n",
       " <textattack.attack_results.skipped_attack_result.SkippedAttackResult at 0x1b4db656e20>,\n",
       " <textattack.attack_results.skipped_attack_result.SkippedAttackResult at 0x1b4dd72be50>,\n",
       " <textattack.attack_results.failed_attack_result.FailedAttackResult at 0x1b4dcbd9220>,\n",
       " <textattack.attack_results.skipped_attack_result.SkippedAttackResult at 0x1b4d10c7a60>,\n",
       " <textattack.attack_results.failed_attack_result.FailedAttackResult at 0x1b4db656430>,\n",
       " <textattack.attack_results.failed_attack_result.FailedAttackResult at 0x1b4dcf4f340>,\n",
       " <textattack.attack_results.failed_attack_result.FailedAttackResult at 0x1b4da0c52e0>,\n",
       " <textattack.attack_results.skipped_attack_result.SkippedAttackResult at 0x1b4db66f130>,\n",
       " <textattack.attack_results.failed_attack_result.FailedAttackResult at 0x1b4dd999580>,\n",
       " <textattack.attack_results.skipped_attack_result.SkippedAttackResult at 0x1b4dd999700>,\n",
       " <textattack.attack_results.skipped_attack_result.SkippedAttackResult at 0x1b4dcbd98e0>,\n",
       " <textattack.attack_results.failed_attack_result.FailedAttackResult at 0x1b4dcbd9fd0>,\n",
       " <textattack.attack_results.failed_attack_result.FailedAttackResult at 0x1b4dcf4f4c0>,\n",
       " <textattack.attack_results.successful_attack_result.SuccessfulAttackResult at 0x1b4de1fb970>,\n",
       " <textattack.attack_results.failed_attack_result.FailedAttackResult at 0x1b4dd999c10>,\n",
       " <textattack.attack_results.successful_attack_result.SuccessfulAttackResult at 0x1b4dd780850>,\n",
       " <textattack.attack_results.successful_attack_result.SuccessfulAttackResult at 0x1b4d10a7a90>,\n",
       " <textattack.attack_results.successful_attack_result.SuccessfulAttackResult at 0x1b4dcd96d30>,\n",
       " <textattack.attack_results.failed_attack_result.FailedAttackResult at 0x1b4db414790>,\n",
       " <textattack.attack_results.skipped_attack_result.SkippedAttackResult at 0x1b4e207ef40>,\n",
       " <textattack.attack_results.failed_attack_result.FailedAttackResult at 0x1b4dd780f10>,\n",
       " <textattack.attack_results.skipped_attack_result.SkippedAttackResult at 0x1b4dd7800d0>,\n",
       " <textattack.attack_results.skipped_attack_result.SkippedAttackResult at 0x1b4dd780e80>,\n",
       " <textattack.attack_results.failed_attack_result.FailedAttackResult at 0x1b4dd780fd0>,\n",
       " <textattack.attack_results.failed_attack_result.FailedAttackResult at 0x1b4dd9ab100>,\n",
       " <textattack.attack_results.skipped_attack_result.SkippedAttackResult at 0x1b4dd780be0>,\n",
       " <textattack.attack_results.successful_attack_result.SuccessfulAttackResult at 0x1b4df46c9a0>,\n",
       " <textattack.attack_results.skipped_attack_result.SkippedAttackResult at 0x1b4db414250>,\n",
       " <textattack.attack_results.skipped_attack_result.SkippedAttackResult at 0x1b4de244fa0>,\n",
       " <textattack.attack_results.failed_attack_result.FailedAttackResult at 0x1b4dcf64e80>,\n",
       " <textattack.attack_results.failed_attack_result.FailedAttackResult at 0x1b4dcd96520>,\n",
       " <textattack.attack_results.failed_attack_result.FailedAttackResult at 0x1b4e0d7f040>,\n",
       " <textattack.attack_results.failed_attack_result.FailedAttackResult at 0x1b4dd780f70>,\n",
       " <textattack.attack_results.skipped_attack_result.SkippedAttackResult at 0x1b4e0d7f850>,\n",
       " <textattack.attack_results.skipped_attack_result.SkippedAttackResult at 0x1b4dea49940>,\n",
       " <textattack.attack_results.failed_attack_result.FailedAttackResult at 0x1b4dd72b730>,\n",
       " <textattack.attack_results.skipped_attack_result.SkippedAttackResult at 0x1b4dc938910>,\n",
       " <textattack.attack_results.skipped_attack_result.SkippedAttackResult at 0x1b4e0d7f4c0>,\n",
       " <textattack.attack_results.failed_attack_result.FailedAttackResult at 0x1b4ddd3cb50>,\n",
       " <textattack.attack_results.successful_attack_result.SuccessfulAttackResult at 0x1b4ddd3cd90>,\n",
       " <textattack.attack_results.skipped_attack_result.SkippedAttackResult at 0x1b4dd999f40>,\n",
       " <textattack.attack_results.failed_attack_result.FailedAttackResult at 0x1b4df46c1c0>,\n",
       " <textattack.attack_results.failed_attack_result.FailedAttackResult at 0x1b4da0c5af0>,\n",
       " <textattack.attack_results.skipped_attack_result.SkippedAttackResult at 0x1b4e0bd07c0>,\n",
       " <textattack.attack_results.skipped_attack_result.SkippedAttackResult at 0x1b4dd780070>,\n",
       " <textattack.attack_results.skipped_attack_result.SkippedAttackResult at 0x1b4df24af10>,\n",
       " <textattack.attack_results.skipped_attack_result.SkippedAttackResult at 0x1b4df24ae80>,\n",
       " <textattack.attack_results.successful_attack_result.SuccessfulAttackResult at 0x1b4e216a1c0>,\n",
       " <textattack.attack_results.skipped_attack_result.SkippedAttackResult at 0x1b4e216acd0>,\n",
       " <textattack.attack_results.successful_attack_result.SuccessfulAttackResult at 0x1b4df24a820>,\n",
       " <textattack.attack_results.skipped_attack_result.SkippedAttackResult at 0x1b4dd780160>,\n",
       " <textattack.attack_results.skipped_attack_result.SkippedAttackResult at 0x1b4e7cf91f0>,\n",
       " <textattack.attack_results.failed_attack_result.FailedAttackResult at 0x1b4e216a970>,\n",
       " <textattack.attack_results.skipped_attack_result.SkippedAttackResult at 0x1b4e2cccd60>,\n",
       " <textattack.attack_results.failed_attack_result.FailedAttackResult at 0x1b4de2440a0>,\n",
       " <textattack.attack_results.skipped_attack_result.SkippedAttackResult at 0x1b4d952bd60>,\n",
       " <textattack.attack_results.failed_attack_result.FailedAttackResult at 0x1b4e88b5580>,\n",
       " <textattack.attack_results.skipped_attack_result.SkippedAttackResult at 0x1b4e7d624c0>,\n",
       " <textattack.attack_results.skipped_attack_result.SkippedAttackResult at 0x1b4e2c03430>,\n",
       " <textattack.attack_results.skipped_attack_result.SkippedAttackResult at 0x1b4e7d62b20>,\n",
       " <textattack.attack_results.successful_attack_result.SuccessfulAttackResult at 0x1b4d81aab50>,\n",
       " <textattack.attack_results.failed_attack_result.FailedAttackResult at 0x1b4ddd3c5b0>,\n",
       " <textattack.attack_results.failed_attack_result.FailedAttackResult at 0x1b4d952b820>,\n",
       " <textattack.attack_results.skipped_attack_result.SkippedAttackResult at 0x1b4dcf4f280>,\n",
       " <textattack.attack_results.successful_attack_result.SuccessfulAttackResult at 0x1b4dd999760>,\n",
       " <textattack.attack_results.skipped_attack_result.SkippedAttackResult at 0x1b4e7d62fd0>,\n",
       " <textattack.attack_results.skipped_attack_result.SkippedAttackResult at 0x1b4d952bb20>,\n",
       " <textattack.attack_results.skipped_attack_result.SkippedAttackResult at 0x1b4ddd3cee0>,\n",
       " <textattack.attack_results.failed_attack_result.FailedAttackResult at 0x1b4d81ca1f0>,\n",
       " <textattack.attack_results.failed_attack_result.FailedAttackResult at 0x1b4e78db9d0>,\n",
       " <textattack.attack_results.failed_attack_result.FailedAttackResult at 0x1b4e78dbf40>,\n",
       " <textattack.attack_results.skipped_attack_result.SkippedAttackResult at 0x1b4dd780640>,\n",
       " <textattack.attack_results.failed_attack_result.FailedAttackResult at 0x1b4dd7804f0>,\n",
       " <textattack.attack_results.skipped_attack_result.SkippedAttackResult at 0x1b4e88b5ca0>,\n",
       " <textattack.attack_results.failed_attack_result.FailedAttackResult at 0x1b4e7cf9eb0>,\n",
       " <textattack.attack_results.skipped_attack_result.SkippedAttackResult at 0x1b4e98838b0>,\n",
       " <textattack.attack_results.skipped_attack_result.SkippedAttackResult at 0x1b4e9883f70>,\n",
       " <textattack.attack_results.skipped_attack_result.SkippedAttackResult at 0x1b4e9883a90>,\n",
       " <textattack.attack_results.successful_attack_result.SuccessfulAttackResult at 0x1b4dcf4f880>,\n",
       " <textattack.attack_results.failed_attack_result.FailedAttackResult at 0x1b4e7d62490>,\n",
       " <textattack.attack_results.skipped_attack_result.SkippedAttackResult at 0x1b4d5f89460>]"
      ]
     },
     "execution_count": 7,
     "metadata": {},
     "output_type": "execute_result"
    }
   ],
   "source": [
    "# Model: kaggle_title, dense_dropout, nnlm\n",
    "from textattack.attack_recipes import PWWSRen2019 as attack_recipe\n",
    "\n",
    "# try first 10 example because quite slow attack speed\n",
    "i = 100  \n",
    "train_dataset = []\n",
    "for example, label in zip(train_sentences[:i], train_labels[:i]):\n",
    "    train_dataset.append((example, int(label)))\n",
    "train_dataset = Dataset(train_dataset)\n",
    "\n",
    "model_wrapper = CustomTensorFlowModelWrapper(model)\n",
    "attack = attack_recipe.build(model_wrapper)\n",
    "\n",
    "attack_args = AttackArgs(\n",
    "    num_examples=i,\n",
    "    checkpoint_interval=20,\n",
    "    disable_stdout=True\n",
    ")\n",
    "\n",
    "attacker = Attacker(attack, train_dataset, attack_args)\n",
    "attacker.attack_dataset()"
   ]
  },
  {
   "cell_type": "code",
   "execution_count": 8,
   "metadata": {},
   "outputs": [
    {
     "name": "stderr",
     "output_type": "stream",
     "text": [
      "textattack: Unknown if model of class <class 'keras.engine.sequential.Sequential'> compatible with goal function <class 'textattack.goal_functions.classification.untargeted_classification.UntargetedClassification'>.\n"
     ]
    },
    {
     "name": "stdout",
     "output_type": "stream",
     "text": [
      "Attack(\n",
      "  (search_method): GreedyWordSwapWIR(\n",
      "    (wir_method):  delete\n",
      "  )\n",
      "  (goal_function):  UntargetedClassification\n",
      "  (transformation):  CompositeTransformation(\n",
      "    (0): WordSwapRandomCharacterInsertion(\n",
      "        (random_one):  True\n",
      "      )\n",
      "    (1): WordSwapRandomCharacterDeletion(\n",
      "        (random_one):  True\n",
      "      )\n",
      "    (2): WordSwapNeighboringCharacterSwap(\n",
      "        (random_one):  True\n",
      "      )\n",
      "    (3): WordSwapHomoglyphSwap\n",
      "    (4): WordSwapEmbedding(\n",
      "        (max_candidates):  5\n",
      "        (embedding):  WordEmbedding\n",
      "      )\n",
      "    )\n",
      "  (constraints): \n",
      "    (0): UniversalSentenceEncoder(\n",
      "        (metric):  angular\n",
      "        (threshold):  0.8\n",
      "        (window_size):  inf\n",
      "        (skip_text_shorter_than_window):  False\n",
      "        (compare_against_original):  True\n",
      "      )\n",
      "    (1): RepeatModification\n",
      "    (2): StopwordModification\n",
      "  (is_black_box):  True\n",
      ") \n",
      "\n"
     ]
    },
    {
     "name": "stderr",
     "output_type": "stream",
     "text": [
      "textattack: Saving checkpoint under \"checkpoints\\1670997537752.ta.chkpt\" at 2022-12-14 00:58:57 after 20 attacks.\n"
     ]
    },
    {
     "name": "stdout",
     "output_type": "stream",
     "text": [
      "\n",
      "\n",
      "=============================================================================================================================\n",
      "=============================================================================================================================\n",
      "\n"
     ]
    },
    {
     "name": "stderr",
     "output_type": "stream",
     "text": [
      "textattack: Saving checkpoint under \"checkpoints\\1670997540761.ta.chkpt\" at 2022-12-14 00:59:00 after 40 attacks.\n"
     ]
    },
    {
     "name": "stdout",
     "output_type": "stream",
     "text": [
      "\n",
      "\n",
      "=============================================================================================================================\n",
      "=============================================================================================================================\n",
      "\n"
     ]
    },
    {
     "name": "stderr",
     "output_type": "stream",
     "text": [
      "textattack: Saving checkpoint under \"checkpoints\\1670997542689.ta.chkpt\" at 2022-12-14 00:59:02 after 60 attacks.\n"
     ]
    },
    {
     "name": "stdout",
     "output_type": "stream",
     "text": [
      "\n",
      "\n",
      "=============================================================================================================================\n",
      "=============================================================================================================================\n",
      "\n"
     ]
    },
    {
     "name": "stderr",
     "output_type": "stream",
     "text": [
      "textattack: Saving checkpoint under \"checkpoints\\1670997544168.ta.chkpt\" at 2022-12-14 00:59:04 after 80 attacks.\n"
     ]
    },
    {
     "name": "stdout",
     "output_type": "stream",
     "text": [
      "\n",
      "\n",
      "=============================================================================================================================\n",
      "=============================================================================================================================\n",
      "\n"
     ]
    },
    {
     "name": "stderr",
     "output_type": "stream",
     "text": [
      "textattack: Saving checkpoint under \"checkpoints\\1670997545965.ta.chkpt\" at 2022-12-14 00:59:05 after 100 attacks.\n",
      "[Succeeded / Failed / Skipped / Total] 1 / 56 / 43 / 100: 100%|██████████| 100/100 [00:15<00:00,  6.28it/s]"
     ]
    },
    {
     "name": "stdout",
     "output_type": "stream",
     "text": [
      "\n",
      "\n",
      "=============================================================================================================================\n",
      "=============================================================================================================================\n",
      "\n",
      "\n",
      "+-------------------------------+--------+\n",
      "| Attack Results                |        |\n",
      "+-------------------------------+--------+\n",
      "| Number of successful attacks: | 1      |\n",
      "| Number of failed attacks:     | 56     |\n",
      "| Number of skipped attacks:    | 43     |\n",
      "| Original accuracy:            | 57.0%  |\n",
      "| Accuracy under attack:        | 56.0%  |\n",
      "| Attack success rate:          | 1.75%  |\n",
      "| Average perturbed word %:     | 8.33%  |\n",
      "| Average num. words per input: | 13.39  |\n",
      "| Avg num queries:              | 113.09 |\n",
      "+-------------------------------+--------+\n"
     ]
    },
    {
     "name": "stderr",
     "output_type": "stream",
     "text": [
      "\n"
     ]
    },
    {
     "data": {
      "text/plain": [
       "[<textattack.attack_results.skipped_attack_result.SkippedAttackResult at 0x1b3e170b970>,\n",
       " <textattack.attack_results.failed_attack_result.FailedAttackResult at 0x1b4de6c4b20>,\n",
       " <textattack.attack_results.failed_attack_result.FailedAttackResult at 0x1b3c38af1c0>,\n",
       " <textattack.attack_results.failed_attack_result.FailedAttackResult at 0x1b4de537100>,\n",
       " <textattack.attack_results.skipped_attack_result.SkippedAttackResult at 0x1b4cdfc29a0>,\n",
       " <textattack.attack_results.failed_attack_result.FailedAttackResult at 0x1b4dd999460>,\n",
       " <textattack.attack_results.failed_attack_result.FailedAttackResult at 0x1b4cb3ff3d0>,\n",
       " <textattack.attack_results.failed_attack_result.FailedAttackResult at 0x1b4dd9990d0>,\n",
       " <textattack.attack_results.failed_attack_result.FailedAttackResult at 0x1b4d75310d0>,\n",
       " <textattack.attack_results.failed_attack_result.FailedAttackResult at 0x1b4dd780190>,\n",
       " <textattack.attack_results.failed_attack_result.FailedAttackResult at 0x1b4d9f3f4f0>,\n",
       " <textattack.attack_results.failed_attack_result.FailedAttackResult at 0x1b4d6031790>,\n",
       " <textattack.attack_results.successful_attack_result.SuccessfulAttackResult at 0x1b4dd9ab820>,\n",
       " <textattack.attack_results.skipped_attack_result.SkippedAttackResult at 0x1b4ded07b20>,\n",
       " <textattack.attack_results.failed_attack_result.FailedAttackResult at 0x1b4e2c03df0>,\n",
       " <textattack.attack_results.failed_attack_result.FailedAttackResult at 0x1b4de96cf40>,\n",
       " <textattack.attack_results.failed_attack_result.FailedAttackResult at 0x1b4cf7b2880>,\n",
       " <textattack.attack_results.skipped_attack_result.SkippedAttackResult at 0x1b4d1b401f0>,\n",
       " <textattack.attack_results.failed_attack_result.FailedAttackResult at 0x1b4d1b404f0>,\n",
       " <textattack.attack_results.skipped_attack_result.SkippedAttackResult at 0x1b4e5564dc0>,\n",
       " <textattack.attack_results.skipped_attack_result.SkippedAttackResult at 0x1b4de1fb040>,\n",
       " <textattack.attack_results.failed_attack_result.FailedAttackResult at 0x1b4ddd3c3d0>,\n",
       " <textattack.attack_results.skipped_attack_result.SkippedAttackResult at 0x1b4dd780b80>,\n",
       " <textattack.attack_results.failed_attack_result.FailedAttackResult at 0x1b4e88b50a0>,\n",
       " <textattack.attack_results.failed_attack_result.FailedAttackResult at 0x1b4e9883700>,\n",
       " <textattack.attack_results.failed_attack_result.FailedAttackResult at 0x1b4da0c5bb0>,\n",
       " <textattack.attack_results.skipped_attack_result.SkippedAttackResult at 0x1b4de9d98e0>,\n",
       " <textattack.attack_results.failed_attack_result.FailedAttackResult at 0x1b4df795880>,\n",
       " <textattack.attack_results.skipped_attack_result.SkippedAttackResult at 0x1b4df795e20>,\n",
       " <textattack.attack_results.skipped_attack_result.SkippedAttackResult at 0x1b4df795af0>,\n",
       " <textattack.attack_results.failed_attack_result.FailedAttackResult at 0x1b4de939250>,\n",
       " <textattack.attack_results.failed_attack_result.FailedAttackResult at 0x1b4de9d9880>,\n",
       " <textattack.attack_results.failed_attack_result.FailedAttackResult at 0x1b4de939580>,\n",
       " <textattack.attack_results.failed_attack_result.FailedAttackResult at 0x1b4dd72bca0>,\n",
       " <textattack.attack_results.failed_attack_result.FailedAttackResult at 0x1b4ded07f10>,\n",
       " <textattack.attack_results.failed_attack_result.FailedAttackResult at 0x1b4cece7c10>,\n",
       " <textattack.attack_results.failed_attack_result.FailedAttackResult at 0x1b4de9d9130>,\n",
       " <textattack.attack_results.failed_attack_result.FailedAttackResult at 0x1b4e5564910>,\n",
       " <textattack.attack_results.skipped_attack_result.SkippedAttackResult at 0x1b4e5564760>,\n",
       " <textattack.attack_results.failed_attack_result.FailedAttackResult at 0x1b4df795940>,\n",
       " <textattack.attack_results.skipped_attack_result.SkippedAttackResult at 0x1b4dd7809d0>,\n",
       " <textattack.attack_results.skipped_attack_result.SkippedAttackResult at 0x1b4df795610>,\n",
       " <textattack.attack_results.failed_attack_result.FailedAttackResult at 0x1b4de1fb0a0>,\n",
       " <textattack.attack_results.failed_attack_result.FailedAttackResult at 0x1b4cf7b2220>,\n",
       " <textattack.attack_results.skipped_attack_result.SkippedAttackResult at 0x1b4dea49dc0>,\n",
       " <textattack.attack_results.failed_attack_result.FailedAttackResult at 0x1b4de882eb0>,\n",
       " <textattack.attack_results.skipped_attack_result.SkippedAttackResult at 0x1b4de882f70>,\n",
       " <textattack.attack_results.skipped_attack_result.SkippedAttackResult at 0x1b4dd115eb0>,\n",
       " <textattack.attack_results.failed_attack_result.FailedAttackResult at 0x1b4de882d90>,\n",
       " <textattack.attack_results.failed_attack_result.FailedAttackResult at 0x1b4ded1ea30>,\n",
       " <textattack.attack_results.failed_attack_result.FailedAttackResult at 0x1b4e55645b0>,\n",
       " <textattack.attack_results.failed_attack_result.FailedAttackResult at 0x1b4df795a30>,\n",
       " <textattack.attack_results.skipped_attack_result.SkippedAttackResult at 0x1b4dcf4ff40>,\n",
       " <textattack.attack_results.skipped_attack_result.SkippedAttackResult at 0x1b4df795340>,\n",
       " <textattack.attack_results.failed_attack_result.FailedAttackResult at 0x1b4ded078e0>,\n",
       " <textattack.attack_results.skipped_attack_result.SkippedAttackResult at 0x1b4ded073d0>,\n",
       " <textattack.attack_results.skipped_attack_result.SkippedAttackResult at 0x1b4ded07250>,\n",
       " <textattack.attack_results.failed_attack_result.FailedAttackResult at 0x1b4de96c070>,\n",
       " <textattack.attack_results.failed_attack_result.FailedAttackResult at 0x1b4e5564d00>,\n",
       " <textattack.attack_results.skipped_attack_result.SkippedAttackResult at 0x1b4e5564e80>,\n",
       " <textattack.attack_results.failed_attack_result.FailedAttackResult at 0x1b4d81cab50>,\n",
       " <textattack.attack_results.failed_attack_result.FailedAttackResult at 0x1b4dd780af0>,\n",
       " <textattack.attack_results.skipped_attack_result.SkippedAttackResult at 0x1b4da0c5d00>,\n",
       " <textattack.attack_results.skipped_attack_result.SkippedAttackResult at 0x1b4e0d32070>,\n",
       " <textattack.attack_results.skipped_attack_result.SkippedAttackResult at 0x1b4e0d32ee0>,\n",
       " <textattack.attack_results.skipped_attack_result.SkippedAttackResult at 0x1b4e0d32d30>,\n",
       " <textattack.attack_results.failed_attack_result.FailedAttackResult at 0x1b4de939820>,\n",
       " <textattack.attack_results.skipped_attack_result.SkippedAttackResult at 0x1b4de939fa0>,\n",
       " <textattack.attack_results.failed_attack_result.FailedAttackResult at 0x1b4dd999400>,\n",
       " <textattack.attack_results.skipped_attack_result.SkippedAttackResult at 0x1b4de96ca30>,\n",
       " <textattack.attack_results.skipped_attack_result.SkippedAttackResult at 0x1b4de96c490>,\n",
       " <textattack.attack_results.failed_attack_result.FailedAttackResult at 0x1b4dd999340>,\n",
       " <textattack.attack_results.skipped_attack_result.SkippedAttackResult at 0x1b4e0d324f0>,\n",
       " <textattack.attack_results.failed_attack_result.FailedAttackResult at 0x1b4d0fd7430>,\n",
       " <textattack.attack_results.skipped_attack_result.SkippedAttackResult at 0x1b4e5564ac0>,\n",
       " <textattack.attack_results.failed_attack_result.FailedAttackResult at 0x1b4ded1eeb0>,\n",
       " <textattack.attack_results.skipped_attack_result.SkippedAttackResult at 0x1b4d81aa370>,\n",
       " <textattack.attack_results.skipped_attack_result.SkippedAttackResult at 0x1b4ded1e760>,\n",
       " <textattack.attack_results.skipped_attack_result.SkippedAttackResult at 0x1b4ded1efd0>,\n",
       " <textattack.attack_results.failed_attack_result.FailedAttackResult at 0x1b4df795580>,\n",
       " <textattack.attack_results.failed_attack_result.FailedAttackResult at 0x1b4d10a7970>,\n",
       " <textattack.attack_results.failed_attack_result.FailedAttackResult at 0x1b4dd72b2b0>,\n",
       " <textattack.attack_results.skipped_attack_result.SkippedAttackResult at 0x1b4db66f1f0>,\n",
       " <textattack.attack_results.failed_attack_result.FailedAttackResult at 0x1b4ddd3c310>,\n",
       " <textattack.attack_results.skipped_attack_result.SkippedAttackResult at 0x1b4de939880>,\n",
       " <textattack.attack_results.skipped_attack_result.SkippedAttackResult at 0x1b4de939c10>,\n",
       " <textattack.attack_results.skipped_attack_result.SkippedAttackResult at 0x1b4de939be0>,\n",
       " <textattack.attack_results.failed_attack_result.FailedAttackResult at 0x1b4ded07af0>,\n",
       " <textattack.attack_results.failed_attack_result.FailedAttackResult at 0x1b4de9d94f0>,\n",
       " <textattack.attack_results.failed_attack_result.FailedAttackResult at 0x1b4ded1ee20>,\n",
       " <textattack.attack_results.skipped_attack_result.SkippedAttackResult at 0x1b4ded1e310>,\n",
       " <textattack.attack_results.failed_attack_result.FailedAttackResult at 0x1b4ded07e20>,\n",
       " <textattack.attack_results.skipped_attack_result.SkippedAttackResult at 0x1b4ded079d0>,\n",
       " <textattack.attack_results.failed_attack_result.FailedAttackResult at 0x1b4e0d32f40>,\n",
       " <textattack.attack_results.skipped_attack_result.SkippedAttackResult at 0x1b4e0d32fa0>,\n",
       " <textattack.attack_results.skipped_attack_result.SkippedAttackResult at 0x1b4e0d322b0>,\n",
       " <textattack.attack_results.skipped_attack_result.SkippedAttackResult at 0x1b4e0d32910>,\n",
       " <textattack.attack_results.failed_attack_result.FailedAttackResult at 0x1b4de939dc0>,\n",
       " <textattack.attack_results.failed_attack_result.FailedAttackResult at 0x1b4ded075b0>,\n",
       " <textattack.attack_results.skipped_attack_result.SkippedAttackResult at 0x1b4ded07340>]"
      ]
     },
     "execution_count": 8,
     "metadata": {},
     "output_type": "execute_result"
    }
   ],
   "source": [
    "# Model: kaggle_title, dense_dropout, nnlm\n",
    "from textattack.attack_recipes import TextBuggerLi2018 as attack_recipe\n",
    "\n",
    "# try first 10 example because quite slow attack speed\n",
    "i = 100  \n",
    "train_dataset = []\n",
    "for example, label in zip(train_sentences[:i], train_labels[:i]):\n",
    "    train_dataset.append((example, int(label)))\n",
    "train_dataset = Dataset(train_dataset)\n",
    "\n",
    "model_wrapper = CustomTensorFlowModelWrapper(model)\n",
    "attack = attack_recipe.build(model_wrapper)\n",
    "\n",
    "attack_args = AttackArgs(\n",
    "    num_examples=i,\n",
    "    checkpoint_interval=20,\n",
    "    disable_stdout=True\n",
    ")\n",
    "\n",
    "attacker = Attacker(attack, train_dataset, attack_args)\n",
    "attacker.attack_dataset()"
   ]
  },
  {
   "attachments": {},
   "cell_type": "markdown",
   "metadata": {},
   "source": [
    "##### attack: kaggle_title + dense"
   ]
  },
  {
   "cell_type": "code",
   "execution_count": 7,
   "metadata": {},
   "outputs": [
    {
     "name": "stdout",
     "output_type": "stream",
     "text": [
      "Model: \"sequential_2\"\n",
      "_________________________________________________________________\n",
      " Layer (type)                Output Shape              Param #   \n",
      "=================================================================\n",
      " keras_layer_2 (KerasLayer)  (None, 128)               124642688 \n",
      "                                                                 \n",
      " dense_6 (Dense)             (None, 64)                8256      \n",
      "                                                                 \n",
      " dense_7 (Dense)             (None, 1)                 65        \n",
      "                                                                 \n",
      "=================================================================\n",
      "Total params: 124,651,009\n",
      "Trainable params: 8,321\n",
      "Non-trainable params: 124,642,688\n",
      "_________________________________________________________________\n",
      "Epoch 1/5\n",
      "1123/1123 [==============================] - 3s 3ms/step - loss: 0.0387 - accuracy: 0.9931 - val_loss: 0.0111 - val_accuracy: 0.9965\n",
      "Epoch 2/5\n",
      "1123/1123 [==============================] - 4s 4ms/step - loss: 0.0100 - accuracy: 0.9971 - val_loss: 0.0086 - val_accuracy: 0.9976\n",
      "Epoch 3/5\n",
      "1123/1123 [==============================] - 4s 3ms/step - loss: 0.0089 - accuracy: 0.9975 - val_loss: 0.0081 - val_accuracy: 0.9979\n",
      "Epoch 4/5\n",
      "1123/1123 [==============================] - 4s 3ms/step - loss: 0.0086 - accuracy: 0.9975 - val_loss: 0.0082 - val_accuracy: 0.9977\n",
      "Epoch 5/5\n",
      "1123/1123 [==============================] - 4s 4ms/step - loss: 0.0083 - accuracy: 0.9977 - val_loss: 0.0077 - val_accuracy: 0.9979\n"
     ]
    }
   ],
   "source": [
    "# Model\n",
    "# Dataset: kaggle_title\n",
    "import tensorflow_hub as hub\n",
    "import tensorflow as tf\n",
    "\n",
    "model = tf.keras.Sequential()\n",
    "hub_layer = hub.KerasLayer(\"https://tfhub.dev/google/nnlm-en-dim128-with-normalization/2\", input_shape=[],\n",
    "                           dtype=tf.string, trainable=False)\n",
    "model.add(hub_layer)\n",
    "model.add(tf.keras.layers.Dense(64))\n",
    "model.add(tf.keras.layers.Dense(1,activation='sigmoid'))\n",
    "\n",
    "model.summary() \n",
    "model.compile(optimizer='adam',\n",
    "              loss=tf.keras.losses.BinaryCrossentropy(from_logits=True),\n",
    "              metrics=['accuracy'])\n",
    "\n",
    "# Fit the model\n",
    "model_history = model.fit(train_sentences,\n",
    "                          train_labels,\n",
    "                          epochs=5,\n",
    "                          validation_data=(val_sentences, val_labels))"
   ]
  },
  {
   "cell_type": "code",
   "execution_count": 8,
   "metadata": {},
   "outputs": [
    {
     "name": "stderr",
     "output_type": "stream",
     "text": [
      "[nltk_data] Downloading package omw-1.4 to\n",
      "[nltk_data]     C:\\Users\\mogut\\AppData\\Roaming\\nltk_data...\n",
      "[nltk_data]   Package omw-1.4 is already up-to-date!\n",
      "textattack: Unknown if model of class <class 'keras.engine.sequential.Sequential'> compatible with goal function <class 'textattack.goal_functions.classification.untargeted_classification.UntargetedClassification'>.\n"
     ]
    },
    {
     "name": "stdout",
     "output_type": "stream",
     "text": [
      "Attack(\n",
      "  (search_method): GreedyWordSwapWIR(\n",
      "    (wir_method):  weighted-saliency\n",
      "  )\n",
      "  (goal_function):  UntargetedClassification\n",
      "  (transformation):  WordSwapWordNet\n",
      "  (constraints): \n",
      "    (0): RepeatModification\n",
      "    (1): StopwordModification\n",
      "  (is_black_box):  True\n",
      ") \n",
      "\n"
     ]
    },
    {
     "name": "stderr",
     "output_type": "stream",
     "text": [
      "[Succeeded / Failed / Skipped / Total] 1 / 11 / 8 / 20:  20%|██        | 20/100 [00:01<00:07, 10.82it/s]textattack: Saving checkpoint under \"checkpoints\\1671064583538.ta.chkpt\" at 2022-12-14 19:36:23 after 20 attacks.\n",
      "[Succeeded / Failed / Skipped / Total] 2 / 11 / 16 / 29:  29%|██▉       | 29/100 [00:01<00:04, 14.65it/s]"
     ]
    },
    {
     "name": "stdout",
     "output_type": "stream",
     "text": [
      "\n",
      "\n",
      "=============================================================================================================================\n",
      "=============================================================================================================================\n",
      "\n"
     ]
    },
    {
     "name": "stderr",
     "output_type": "stream",
     "text": [
      "[Succeeded / Failed / Skipped / Total] 2 / 16 / 22 / 40:  40%|████      | 40/100 [00:02<00:03, 16.33it/s]textattack: Saving checkpoint under \"checkpoints\\1671064584138.ta.chkpt\" at 2022-12-14 19:36:24 after 40 attacks.\n",
      "[Succeeded / Failed / Skipped / Total] 2 / 18 / 23 / 43:  43%|████▎     | 43/100 [00:02<00:03, 16.64it/s]"
     ]
    },
    {
     "name": "stdout",
     "output_type": "stream",
     "text": [
      "\n",
      "\n",
      "=============================================================================================================================\n",
      "=============================================================================================================================\n",
      "\n"
     ]
    },
    {
     "name": "stderr",
     "output_type": "stream",
     "text": [
      "[Succeeded / Failed / Skipped / Total] 5 / 24 / 31 / 60:  60%|██████    | 60/100 [00:03<00:02, 16.70it/s]textattack: Saving checkpoint under \"checkpoints\\1671064585280.ta.chkpt\" at 2022-12-14 19:36:25 after 60 attacks.\n",
      "[Succeeded / Failed / Skipped / Total] 6 / 24 / 33 / 63:  63%|██████▎   | 63/100 [00:03<00:02, 16.84it/s]"
     ]
    },
    {
     "name": "stdout",
     "output_type": "stream",
     "text": [
      "\n",
      "\n",
      "=============================================================================================================================\n",
      "=============================================================================================================================\n",
      "\n"
     ]
    },
    {
     "name": "stderr",
     "output_type": "stream",
     "text": [
      "[Succeeded / Failed / Skipped / Total] 9 / 30 / 41 / 80:  80%|████████  | 80/100 [00:04<00:01, 17.36it/s]textattack: Saving checkpoint under \"checkpoints\\1671064586296.ta.chkpt\" at 2022-12-14 19:36:26 after 80 attacks.\n",
      "[Succeeded / Failed / Skipped / Total] 9 / 31 / 42 / 82:  82%|████████▏ | 82/100 [00:04<00:01, 17.49it/s]"
     ]
    },
    {
     "name": "stdout",
     "output_type": "stream",
     "text": [
      "\n",
      "\n",
      "=============================================================================================================================\n",
      "=============================================================================================================================\n",
      "\n"
     ]
    },
    {
     "name": "stderr",
     "output_type": "stream",
     "text": [
      "[Succeeded / Failed / Skipped / Total] 13 / 39 / 48 / 100: 100%|██████████| 100/100 [00:06<00:00, 16.50it/s]textattack: Saving checkpoint under \"checkpoints\\1671064587750.ta.chkpt\" at 2022-12-14 19:36:27 after 100 attacks.\n",
      "[Succeeded / Failed / Skipped / Total] 13 / 39 / 48 / 100: 100%|██████████| 100/100 [00:06<00:00, 16.49it/s]"
     ]
    },
    {
     "name": "stdout",
     "output_type": "stream",
     "text": [
      "\n",
      "\n",
      "=============================================================================================================================\n",
      "=============================================================================================================================\n",
      "\n",
      "\n",
      "+-------------------------------+--------+\n",
      "| Attack Results                |        |\n",
      "+-------------------------------+--------+\n",
      "| Number of successful attacks: | 13     |\n",
      "| Number of failed attacks:     | 39     |\n",
      "| Number of skipped attacks:    | 48     |\n",
      "| Original accuracy:            | 52.0%  |\n",
      "| Accuracy under attack:        | 39.0%  |\n",
      "| Attack success rate:          | 25.0%  |\n",
      "| Average perturbed word %:     | 69.47% |\n",
      "| Average num. words per input: | 13.08  |\n",
      "| Avg num queries:              | 221.37 |\n",
      "+-------------------------------+--------+\n"
     ]
    },
    {
     "name": "stderr",
     "output_type": "stream",
     "text": [
      "\n"
     ]
    },
    {
     "data": {
      "text/plain": [
       "[<textattack.attack_results.skipped_attack_result.SkippedAttackResult at 0x1495d8a6be0>,\n",
       " <textattack.attack_results.skipped_attack_result.SkippedAttackResult at 0x1495d8a6ac0>,\n",
       " <textattack.attack_results.failed_attack_result.FailedAttackResult at 0x1494e5f4ac0>,\n",
       " <textattack.attack_results.failed_attack_result.FailedAttackResult at 0x14950b58700>,\n",
       " <textattack.attack_results.failed_attack_result.FailedAttackResult at 0x14a123eaeb0>,\n",
       " <textattack.attack_results.failed_attack_result.FailedAttackResult at 0x14955d8c370>,\n",
       " <textattack.attack_results.failed_attack_result.FailedAttackResult at 0x1498d771eb0>,\n",
       " <textattack.attack_results.skipped_attack_result.SkippedAttackResult at 0x1495d8a1730>,\n",
       " <textattack.attack_results.failed_attack_result.FailedAttackResult at 0x14969db4310>,\n",
       " <textattack.attack_results.skipped_attack_result.SkippedAttackResult at 0x14a12408790>,\n",
       " <textattack.attack_results.failed_attack_result.FailedAttackResult at 0x14950bf31f0>,\n",
       " <textattack.attack_results.successful_attack_result.SuccessfulAttackResult at 0x1495d8a1280>,\n",
       " <textattack.attack_results.failed_attack_result.FailedAttackResult at 0x14a13f9e490>,\n",
       " <textattack.attack_results.failed_attack_result.FailedAttackResult at 0x1495101b820>,\n",
       " <textattack.attack_results.failed_attack_result.FailedAttackResult at 0x14994912eb0>,\n",
       " <textattack.attack_results.skipped_attack_result.SkippedAttackResult at 0x1499496c490>,\n",
       " <textattack.attack_results.skipped_attack_result.SkippedAttackResult at 0x14969db3b20>,\n",
       " <textattack.attack_results.failed_attack_result.FailedAttackResult at 0x14a123c9ac0>,\n",
       " <textattack.attack_results.skipped_attack_result.SkippedAttackResult at 0x1498dbe62e0>,\n",
       " <textattack.attack_results.skipped_attack_result.SkippedAttackResult at 0x14a12af2160>,\n",
       " <textattack.attack_results.skipped_attack_result.SkippedAttackResult at 0x14a123bd970>,\n",
       " <textattack.attack_results.skipped_attack_result.SkippedAttackResult at 0x1498dbe6d30>,\n",
       " <textattack.attack_results.skipped_attack_result.SkippedAttackResult at 0x14994920340>,\n",
       " <textattack.attack_results.skipped_attack_result.SkippedAttackResult at 0x14969db4b20>,\n",
       " <textattack.attack_results.skipped_attack_result.SkippedAttackResult at 0x14a13f8c160>,\n",
       " <textattack.attack_results.skipped_attack_result.SkippedAttackResult at 0x149435fa070>,\n",
       " <textattack.attack_results.skipped_attack_result.SkippedAttackResult at 0x14969db4bb0>,\n",
       " <textattack.attack_results.skipped_attack_result.SkippedAttackResult at 0x1495c504790>,\n",
       " <textattack.attack_results.successful_attack_result.SuccessfulAttackResult at 0x1495103c4c0>,\n",
       " <textattack.attack_results.failed_attack_result.FailedAttackResult at 0x14a1240c520>,\n",
       " <textattack.attack_results.skipped_attack_result.SkippedAttackResult at 0x14a13f8c130>,\n",
       " <textattack.attack_results.skipped_attack_result.SkippedAttackResult at 0x14955d8c1f0>,\n",
       " <textattack.attack_results.failed_attack_result.FailedAttackResult at 0x14a123f9520>,\n",
       " <textattack.attack_results.skipped_attack_result.SkippedAttackResult at 0x14a123f95b0>,\n",
       " <textattack.attack_results.skipped_attack_result.SkippedAttackResult at 0x1498db86070>,\n",
       " <textattack.attack_results.failed_attack_result.FailedAttackResult at 0x14a12415130>,\n",
       " <textattack.attack_results.failed_attack_result.FailedAttackResult at 0x1495d811400>,\n",
       " <textattack.attack_results.failed_attack_result.FailedAttackResult at 0x1495d8a6130>,\n",
       " <textattack.attack_results.skipped_attack_result.SkippedAttackResult at 0x14a12408ac0>,\n",
       " <textattack.attack_results.skipped_attack_result.SkippedAttackResult at 0x14a13f93940>,\n",
       " <textattack.attack_results.failed_attack_result.FailedAttackResult at 0x14a123bd670>,\n",
       " <textattack.attack_results.failed_attack_result.FailedAttackResult at 0x14a13f93250>,\n",
       " <textattack.attack_results.skipped_attack_result.SkippedAttackResult at 0x1495c4cfc70>,\n",
       " <textattack.attack_results.failed_attack_result.FailedAttackResult at 0x1499490cd60>,\n",
       " <textattack.attack_results.skipped_attack_result.SkippedAttackResult at 0x14a13f86f40>,\n",
       " <textattack.attack_results.skipped_attack_result.SkippedAttackResult at 0x14a12415190>,\n",
       " <textattack.attack_results.failed_attack_result.FailedAttackResult at 0x1495612ce50>,\n",
       " <textattack.attack_results.skipped_attack_result.SkippedAttackResult at 0x1495612c220>,\n",
       " <textattack.attack_results.skipped_attack_result.SkippedAttackResult at 0x14969dbd5b0>,\n",
       " <textattack.attack_results.skipped_attack_result.SkippedAttackResult at 0x1495d54c610>,\n",
       " <textattack.attack_results.skipped_attack_result.SkippedAttackResult at 0x149948d1100>,\n",
       " <textattack.attack_results.failed_attack_result.FailedAttackResult at 0x1495d8a1a00>,\n",
       " <textattack.attack_results.successful_attack_result.SuccessfulAttackResult at 0x1495d811a60>,\n",
       " <textattack.attack_results.skipped_attack_result.SkippedAttackResult at 0x149949349d0>,\n",
       " <textattack.attack_results.successful_attack_result.SuccessfulAttackResult at 0x1495c502a60>,\n",
       " <textattack.attack_results.failed_attack_result.FailedAttackResult at 0x1499463fdc0>,\n",
       " <textattack.attack_results.failed_attack_result.FailedAttackResult at 0x1499468b400>,\n",
       " <textattack.attack_results.skipped_attack_result.SkippedAttackResult at 0x149948d1160>,\n",
       " <textattack.attack_results.successful_attack_result.SuccessfulAttackResult at 0x14994940b80>,\n",
       " <textattack.attack_results.failed_attack_result.FailedAttackResult at 0x149948ebfa0>,\n",
       " <textattack.attack_results.successful_attack_result.SuccessfulAttackResult at 0x1499274c910>,\n",
       " <textattack.attack_results.skipped_attack_result.SkippedAttackResult at 0x1499274c850>,\n",
       " <textattack.attack_results.skipped_attack_result.SkippedAttackResult at 0x1499274c400>,\n",
       " <textattack.attack_results.successful_attack_result.SuccessfulAttackResult at 0x1495d5396a0>,\n",
       " <textattack.attack_results.failed_attack_result.FailedAttackResult at 0x14969dbd7f0>,\n",
       " <textattack.attack_results.skipped_attack_result.SkippedAttackResult at 0x149948ebca0>,\n",
       " <textattack.attack_results.successful_attack_result.SuccessfulAttackResult at 0x1498dbd9d60>,\n",
       " <textattack.attack_results.failed_attack_result.FailedAttackResult at 0x149948f23a0>,\n",
       " <textattack.attack_results.skipped_attack_result.SkippedAttackResult at 0x1495d58a580>,\n",
       " <textattack.attack_results.skipped_attack_result.SkippedAttackResult at 0x1499468e970>,\n",
       " <textattack.attack_results.skipped_attack_result.SkippedAttackResult at 0x1499468ed90>,\n",
       " <textattack.attack_results.failed_attack_result.FailedAttackResult at 0x149948eb7f0>,\n",
       " <textattack.attack_results.failed_attack_result.FailedAttackResult at 0x14971ba2100>,\n",
       " <textattack.attack_results.skipped_attack_result.SkippedAttackResult at 0x14955d1d550>,\n",
       " <textattack.attack_results.skipped_attack_result.SkippedAttackResult at 0x14955d1d3d0>,\n",
       " <textattack.attack_results.failed_attack_result.FailedAttackResult at 0x1495d58a160>,\n",
       " <textattack.attack_results.skipped_attack_result.SkippedAttackResult at 0x1495d58ae50>,\n",
       " <textattack.attack_results.successful_attack_result.SuccessfulAttackResult at 0x1495d58a070>,\n",
       " <textattack.attack_results.failed_attack_result.FailedAttackResult at 0x14a13f93460>,\n",
       " <textattack.attack_results.skipped_attack_result.SkippedAttackResult at 0x1495d50d6d0>,\n",
       " <textattack.attack_results.failed_attack_result.FailedAttackResult at 0x1498dbd9730>,\n",
       " <textattack.attack_results.skipped_attack_result.SkippedAttackResult at 0x1495d804430>,\n",
       " <textattack.attack_results.successful_attack_result.SuccessfulAttackResult at 0x14992758ee0>,\n",
       " <textattack.attack_results.skipped_attack_result.SkippedAttackResult at 0x14992741fd0>,\n",
       " <textattack.attack_results.failed_attack_result.FailedAttackResult at 0x14994687850>,\n",
       " <textattack.attack_results.skipped_attack_result.SkippedAttackResult at 0x1499467e0a0>,\n",
       " <textattack.attack_results.failed_attack_result.FailedAttackResult at 0x149946a8760>,\n",
       " <textattack.attack_results.failed_attack_result.FailedAttackResult at 0x149946a8970>,\n",
       " <textattack.attack_results.successful_attack_result.SuccessfulAttackResult at 0x1499468e7c0>,\n",
       " <textattack.attack_results.failed_attack_result.FailedAttackResult at 0x14994635d60>,\n",
       " <textattack.attack_results.failed_attack_result.FailedAttackResult at 0x149946477c0>,\n",
       " <textattack.attack_results.successful_attack_result.SuccessfulAttackResult at 0x149948eb8b0>,\n",
       " <textattack.attack_results.skipped_attack_result.SkippedAttackResult at 0x14992741a60>,\n",
       " <textattack.attack_results.skipped_attack_result.SkippedAttackResult at 0x1498d763df0>,\n",
       " <textattack.attack_results.successful_attack_result.SuccessfulAttackResult at 0x1498dbd33a0>,\n",
       " <textattack.attack_results.failed_attack_result.FailedAttackResult at 0x14992758430>,\n",
       " <textattack.attack_results.skipped_attack_result.SkippedAttackResult at 0x1498dbd3eb0>,\n",
       " <textattack.attack_results.failed_attack_result.FailedAttackResult at 0x1499463fb80>,\n",
       " <textattack.attack_results.skipped_attack_result.SkippedAttackResult at 0x14992741b50>,\n",
       " <textattack.attack_results.failed_attack_result.FailedAttackResult at 0x1498dbfbac0>]"
      ]
     },
     "execution_count": 8,
     "metadata": {},
     "output_type": "execute_result"
    }
   ],
   "source": [
    "# Model: kaggle_title, dense_dropout, nnlm\n",
    "from textattack.attack_recipes import PWWSRen2019 as attack_recipe\n",
    "\n",
    "# try first 10 example because quite slow attack speed\n",
    "i = 100  \n",
    "train_dataset = []\n",
    "for example, label in zip(train_sentences[:i], train_labels[:i]):\n",
    "    train_dataset.append((example, int(label)))\n",
    "train_dataset = Dataset(train_dataset)\n",
    "\n",
    "model_wrapper = CustomTensorFlowModelWrapper(model)\n",
    "attack = attack_recipe.build(model_wrapper)\n",
    "\n",
    "attack_args = AttackArgs(\n",
    "    num_examples=i,\n",
    "    checkpoint_interval=20,\n",
    "    disable_stdout=True\n",
    ")\n",
    "\n",
    "attacker = Attacker(attack, train_dataset, attack_args)\n",
    "attacker.attack_dataset()"
   ]
  },
  {
   "cell_type": "code",
   "execution_count": 9,
   "metadata": {},
   "outputs": [
    {
     "name": "stderr",
     "output_type": "stream",
     "text": [
      "textattack: Unknown if model of class <class 'keras.engine.sequential.Sequential'> compatible with goal function <class 'textattack.goal_functions.classification.untargeted_classification.UntargetedClassification'>.\n"
     ]
    },
    {
     "name": "stdout",
     "output_type": "stream",
     "text": [
      "Attack(\n",
      "  (search_method): GreedyWordSwapWIR(\n",
      "    (wir_method):  delete\n",
      "  )\n",
      "  (goal_function):  UntargetedClassification\n",
      "  (transformation):  CompositeTransformation(\n",
      "    (0): WordSwapRandomCharacterInsertion(\n",
      "        (random_one):  True\n",
      "      )\n",
      "    (1): WordSwapRandomCharacterDeletion(\n",
      "        (random_one):  True\n",
      "      )\n",
      "    (2): WordSwapNeighboringCharacterSwap(\n",
      "        (random_one):  True\n",
      "      )\n",
      "    (3): WordSwapHomoglyphSwap\n",
      "    (4): WordSwapEmbedding(\n",
      "        (max_candidates):  5\n",
      "        (embedding):  WordEmbedding\n",
      "      )\n",
      "    )\n",
      "  (constraints): \n",
      "    (0): UniversalSentenceEncoder(\n",
      "        (metric):  angular\n",
      "        (threshold):  0.8\n",
      "        (window_size):  inf\n",
      "        (skip_text_shorter_than_window):  False\n",
      "        (compare_against_original):  True\n",
      "      )\n",
      "    (1): RepeatModification\n",
      "    (2): StopwordModification\n",
      "  (is_black_box):  True\n",
      ") \n",
      "\n"
     ]
    },
    {
     "name": "stderr",
     "output_type": "stream",
     "text": [
      "[Succeeded / Failed / Skipped / Total] 1 / 11 / 8 / 20:  20%|██        | 20/100 [00:08<00:35,  2.25it/s]textattack: Saving checkpoint under \"checkpoints\\1671064617793.ta.chkpt\" at 2022-12-14 19:36:57 after 20 attacks.\n",
      "[Succeeded / Failed / Skipped / Total] 1 / 12 / 16 / 29:  29%|██▉       | 29/100 [00:09<00:22,  3.21it/s]"
     ]
    },
    {
     "name": "stdout",
     "output_type": "stream",
     "text": [
      "\n",
      "\n",
      "=============================================================================================================================\n",
      "=============================================================================================================================\n",
      "\n"
     ]
    },
    {
     "name": "stderr",
     "output_type": "stream",
     "text": [
      "[Succeeded / Failed / Skipped / Total] 1 / 17 / 22 / 40:  40%|████      | 40/100 [00:10<00:15,  3.96it/s]textattack: Saving checkpoint under \"checkpoints\\1671064619008.ta.chkpt\" at 2022-12-14 19:36:59 after 40 attacks.\n",
      "[Succeeded / Failed / Skipped / Total] 1 / 18 / 22 / 41:  41%|████      | 41/100 [00:10<00:14,  4.01it/s]"
     ]
    },
    {
     "name": "stdout",
     "output_type": "stream",
     "text": [
      "\n",
      "\n",
      "=============================================================================================================================\n",
      "=============================================================================================================================\n",
      "\n"
     ]
    },
    {
     "name": "stderr",
     "output_type": "stream",
     "text": [
      "[Succeeded / Failed / Skipped / Total] 1 / 28 / 31 / 60:  60%|██████    | 60/100 [00:12<00:08,  4.89it/s]textattack: Saving checkpoint under \"checkpoints\\1671064621166.ta.chkpt\" at 2022-12-14 19:37:01 after 60 attacks.\n"
     ]
    },
    {
     "name": "stdout",
     "output_type": "stream",
     "text": [
      "\n",
      "\n",
      "=============================================================================================================================\n",
      "=============================================================================================================================\n",
      "\n"
     ]
    },
    {
     "name": "stderr",
     "output_type": "stream",
     "text": [
      "[Succeeded / Failed / Skipped / Total] 2 / 37 / 41 / 80:  80%|████████  | 80/100 [00:13<00:03,  5.77it/s]textattack: Saving checkpoint under \"checkpoints\\1671064622762.ta.chkpt\" at 2022-12-14 19:37:02 after 80 attacks.\n",
      "[Succeeded / Failed / Skipped / Total] 2 / 38 / 42 / 82:  82%|████████▏ | 82/100 [00:13<00:03,  5.86it/s]"
     ]
    },
    {
     "name": "stdout",
     "output_type": "stream",
     "text": [
      "\n",
      "\n",
      "=============================================================================================================================\n",
      "=============================================================================================================================\n",
      "\n"
     ]
    },
    {
     "name": "stderr",
     "output_type": "stream",
     "text": [
      "[Succeeded / Failed / Skipped / Total] 2 / 50 / 48 / 100: 100%|██████████| 100/100 [00:16<00:00,  6.18it/s]textattack: Saving checkpoint under \"checkpoints\\1671064625080.ta.chkpt\" at 2022-12-14 19:37:05 after 100 attacks.\n",
      "[Succeeded / Failed / Skipped / Total] 2 / 50 / 48 / 100: 100%|██████████| 100/100 [00:16<00:00,  6.18it/s]"
     ]
    },
    {
     "name": "stdout",
     "output_type": "stream",
     "text": [
      "\n",
      "\n",
      "=============================================================================================================================\n",
      "=============================================================================================================================\n",
      "\n",
      "\n",
      "+-------------------------------+--------+\n",
      "| Attack Results                |        |\n",
      "+-------------------------------+--------+\n",
      "| Number of successful attacks: | 2      |\n",
      "| Number of failed attacks:     | 50     |\n",
      "| Number of skipped attacks:    | 48     |\n",
      "| Original accuracy:            | 52.0%  |\n",
      "| Accuracy under attack:        | 50.0%  |\n",
      "| Attack success rate:          | 3.85%  |\n",
      "| Average perturbed word %:     | 8.33%  |\n",
      "| Average num. words per input: | 13.08  |\n",
      "| Avg num queries:              | 121.73 |\n",
      "+-------------------------------+--------+\n"
     ]
    },
    {
     "name": "stderr",
     "output_type": "stream",
     "text": [
      "\n"
     ]
    },
    {
     "data": {
      "text/plain": [
       "[<textattack.attack_results.skipped_attack_result.SkippedAttackResult at 0x14a13f9e4c0>,\n",
       " <textattack.attack_results.skipped_attack_result.SkippedAttackResult at 0x149948f2280>,\n",
       " <textattack.attack_results.failed_attack_result.FailedAttackResult at 0x14a62b10070>,\n",
       " <textattack.attack_results.failed_attack_result.FailedAttackResult at 0x1495d50dd60>,\n",
       " <textattack.attack_results.failed_attack_result.FailedAttackResult at 0x1498dbd90d0>,\n",
       " <textattack.attack_results.successful_attack_result.SuccessfulAttackResult at 0x14a62d5c9d0>,\n",
       " <textattack.attack_results.failed_attack_result.FailedAttackResult at 0x1498dbf4670>,\n",
       " <textattack.attack_results.skipped_attack_result.SkippedAttackResult at 0x149560dc220>,\n",
       " <textattack.attack_results.failed_attack_result.FailedAttackResult at 0x1498dbd3ee0>,\n",
       " <textattack.attack_results.skipped_attack_result.SkippedAttackResult at 0x14a63f1ea60>,\n",
       " <textattack.attack_results.failed_attack_result.FailedAttackResult at 0x149560dc6a0>,\n",
       " <textattack.attack_results.failed_attack_result.FailedAttackResult at 0x149676b2fa0>,\n",
       " <textattack.attack_results.failed_attack_result.FailedAttackResult at 0x14a636c9850>,\n",
       " <textattack.attack_results.failed_attack_result.FailedAttackResult at 0x14994687f40>,\n",
       " <textattack.attack_results.failed_attack_result.FailedAttackResult at 0x1495d5beb50>,\n",
       " <textattack.attack_results.skipped_attack_result.SkippedAttackResult at 0x1499274c130>,\n",
       " <textattack.attack_results.skipped_attack_result.SkippedAttackResult at 0x14a632d89d0>,\n",
       " <textattack.attack_results.failed_attack_result.FailedAttackResult at 0x14a620c4bb0>,\n",
       " <textattack.attack_results.skipped_attack_result.SkippedAttackResult at 0x14a620c4f40>,\n",
       " <textattack.attack_results.skipped_attack_result.SkippedAttackResult at 0x14a620c4be0>,\n",
       " <textattack.attack_results.skipped_attack_result.SkippedAttackResult at 0x14992758460>,\n",
       " <textattack.attack_results.skipped_attack_result.SkippedAttackResult at 0x149927581c0>,\n",
       " <textattack.attack_results.skipped_attack_result.SkippedAttackResult at 0x1495d8044c0>,\n",
       " <textattack.attack_results.skipped_attack_result.SkippedAttackResult at 0x14a620c4910>,\n",
       " <textattack.attack_results.skipped_attack_result.SkippedAttackResult at 0x14a60924c70>,\n",
       " <textattack.attack_results.skipped_attack_result.SkippedAttackResult at 0x14a620c44c0>,\n",
       " <textattack.attack_results.skipped_attack_result.SkippedAttackResult at 0x14a60924ca0>,\n",
       " <textattack.attack_results.skipped_attack_result.SkippedAttackResult at 0x14a60924e80>,\n",
       " <textattack.attack_results.failed_attack_result.FailedAttackResult at 0x14a60924f40>,\n",
       " <textattack.attack_results.failed_attack_result.FailedAttackResult at 0x14a60924eb0>,\n",
       " <textattack.attack_results.skipped_attack_result.SkippedAttackResult at 0x14a60924c40>,\n",
       " <textattack.attack_results.skipped_attack_result.SkippedAttackResult at 0x149927585b0>,\n",
       " <textattack.attack_results.failed_attack_result.FailedAttackResult at 0x14994929ac0>,\n",
       " <textattack.attack_results.skipped_attack_result.SkippedAttackResult at 0x14a638a99d0>,\n",
       " <textattack.attack_results.skipped_attack_result.SkippedAttackResult at 0x14a638a9af0>,\n",
       " <textattack.attack_results.failed_attack_result.FailedAttackResult at 0x1498dbf4940>,\n",
       " <textattack.attack_results.failed_attack_result.FailedAttackResult at 0x14a62462e50>,\n",
       " <textattack.attack_results.failed_attack_result.FailedAttackResult at 0x14a62462a90>,\n",
       " <textattack.attack_results.skipped_attack_result.SkippedAttackResult at 0x14a626729d0>,\n",
       " <textattack.attack_results.skipped_attack_result.SkippedAttackResult at 0x14a62672730>,\n",
       " <textattack.attack_results.failed_attack_result.FailedAttackResult at 0x1499463ff40>,\n",
       " <textattack.attack_results.failed_attack_result.FailedAttackResult at 0x1498dbd3070>,\n",
       " <textattack.attack_results.skipped_attack_result.SkippedAttackResult at 0x1495d539130>,\n",
       " <textattack.attack_results.failed_attack_result.FailedAttackResult at 0x14a60924fd0>,\n",
       " <textattack.attack_results.skipped_attack_result.SkippedAttackResult at 0x14a63d11370>,\n",
       " <textattack.attack_results.skipped_attack_result.SkippedAttackResult at 0x14a63d112e0>,\n",
       " <textattack.attack_results.failed_attack_result.FailedAttackResult at 0x14992725190>,\n",
       " <textattack.attack_results.skipped_attack_result.SkippedAttackResult at 0x14a6349cc10>,\n",
       " <textattack.attack_results.skipped_attack_result.SkippedAttackResult at 0x14a6349c4f0>,\n",
       " <textattack.attack_results.skipped_attack_result.SkippedAttackResult at 0x14a6349c940>,\n",
       " <textattack.attack_results.skipped_attack_result.SkippedAttackResult at 0x14a6349c6d0>,\n",
       " <textattack.attack_results.failed_attack_result.FailedAttackResult at 0x14a63ed3a90>,\n",
       " <textattack.attack_results.failed_attack_result.FailedAttackResult at 0x14a63e805b0>,\n",
       " <textattack.attack_results.skipped_attack_result.SkippedAttackResult at 0x14a63e80fa0>,\n",
       " <textattack.attack_results.failed_attack_result.FailedAttackResult at 0x1499274cac0>,\n",
       " <textattack.attack_results.failed_attack_result.FailedAttackResult at 0x14a63ed3430>,\n",
       " <textattack.attack_results.failed_attack_result.FailedAttackResult at 0x14969dfc790>,\n",
       " <textattack.attack_results.skipped_attack_result.SkippedAttackResult at 0x14969dfceb0>,\n",
       " <textattack.attack_results.failed_attack_result.FailedAttackResult at 0x14a63d11b80>,\n",
       " <textattack.attack_results.failed_attack_result.FailedAttackResult at 0x14a620c4460>,\n",
       " <textattack.attack_results.failed_attack_result.FailedAttackResult at 0x1495d50d130>,\n",
       " <textattack.attack_results.skipped_attack_result.SkippedAttackResult at 0x149948f27c0>,\n",
       " <textattack.attack_results.skipped_attack_result.SkippedAttackResult at 0x14a62672910>,\n",
       " <textattack.attack_results.failed_attack_result.FailedAttackResult at 0x1499465dca0>,\n",
       " <textattack.attack_results.failed_attack_result.FailedAttackResult at 0x14994687df0>,\n",
       " <textattack.attack_results.skipped_attack_result.SkippedAttackResult at 0x14a63ed3640>,\n",
       " <textattack.attack_results.failed_attack_result.FailedAttackResult at 0x14969dfcaf0>,\n",
       " <textattack.attack_results.failed_attack_result.FailedAttackResult at 0x14a63d11910>,\n",
       " <textattack.attack_results.skipped_attack_result.SkippedAttackResult at 0x14a63d118b0>,\n",
       " <textattack.attack_results.skipped_attack_result.SkippedAttackResult at 0x14a63d11f40>,\n",
       " <textattack.attack_results.skipped_attack_result.SkippedAttackResult at 0x14a63d11fd0>,\n",
       " <textattack.attack_results.failed_attack_result.FailedAttackResult at 0x14a6349cd90>,\n",
       " <textattack.attack_results.failed_attack_result.FailedAttackResult at 0x14969dfc3a0>,\n",
       " <textattack.attack_results.skipped_attack_result.SkippedAttackResult at 0x14969dfc910>,\n",
       " <textattack.attack_results.skipped_attack_result.SkippedAttackResult at 0x1498db97b50>,\n",
       " <textattack.attack_results.failed_attack_result.FailedAttackResult at 0x1495d5be250>,\n",
       " <textattack.attack_results.skipped_attack_result.SkippedAttackResult at 0x1498db97ac0>,\n",
       " <textattack.attack_results.successful_attack_result.SuccessfulAttackResult at 0x14a636c9eb0>,\n",
       " <textattack.attack_results.failed_attack_result.FailedAttackResult at 0x14a634ca790>,\n",
       " <textattack.attack_results.skipped_attack_result.SkippedAttackResult at 0x14a634ca700>,\n",
       " <textattack.attack_results.failed_attack_result.FailedAttackResult at 0x1495d5be0d0>,\n",
       " <textattack.attack_results.skipped_attack_result.SkippedAttackResult at 0x1495d50d040>,\n",
       " <textattack.attack_results.failed_attack_result.FailedAttackResult at 0x14a634ca340>,\n",
       " <textattack.attack_results.skipped_attack_result.SkippedAttackResult at 0x14a634cac70>,\n",
       " <textattack.attack_results.failed_attack_result.FailedAttackResult at 0x14a620c44f0>,\n",
       " <textattack.attack_results.skipped_attack_result.SkippedAttackResult at 0x14a620c48b0>,\n",
       " <textattack.attack_results.failed_attack_result.FailedAttackResult at 0x14994687a60>,\n",
       " <textattack.attack_results.failed_attack_result.FailedAttackResult at 0x1498db97760>,\n",
       " <textattack.attack_results.failed_attack_result.FailedAttackResult at 0x1499465d460>,\n",
       " <textattack.attack_results.failed_attack_result.FailedAttackResult at 0x14a620c4280>,\n",
       " <textattack.attack_results.failed_attack_result.FailedAttackResult at 0x14a636c9c70>,\n",
       " <textattack.attack_results.failed_attack_result.FailedAttackResult at 0x14a620c4ee0>,\n",
       " <textattack.attack_results.skipped_attack_result.SkippedAttackResult at 0x14a620c4b50>,\n",
       " <textattack.attack_results.skipped_attack_result.SkippedAttackResult at 0x14a620c4c10>,\n",
       " <textattack.attack_results.failed_attack_result.FailedAttackResult at 0x14a63e800a0>,\n",
       " <textattack.attack_results.failed_attack_result.FailedAttackResult at 0x14a620c4610>,\n",
       " <textattack.attack_results.skipped_attack_result.SkippedAttackResult at 0x14a620c43d0>,\n",
       " <textattack.attack_results.failed_attack_result.FailedAttackResult at 0x14a638a94f0>,\n",
       " <textattack.attack_results.skipped_attack_result.SkippedAttackResult at 0x14a638a9ca0>,\n",
       " <textattack.attack_results.failed_attack_result.FailedAttackResult at 0x1498db97f70>]"
      ]
     },
     "execution_count": 9,
     "metadata": {},
     "output_type": "execute_result"
    }
   ],
   "source": [
    "# Model: kaggle_title, dense_dropout, nnlm\n",
    "from textattack.attack_recipes import TextBuggerLi2018 as attack_recipe\n",
    "\n",
    "# try first 10 example because quite slow attack speed\n",
    "i = 100\n",
    "train_dataset = []\n",
    "for example, label in zip(train_sentences[:i], train_labels[:i]):\n",
    "    train_dataset.append((example, int(label)))\n",
    "train_dataset = Dataset(train_dataset)\n",
    "\n",
    "model_wrapper = CustomTensorFlowModelWrapper(model)\n",
    "attack = attack_recipe.build(model_wrapper)\n",
    "\n",
    "attack_args = AttackArgs(\n",
    "    num_examples=i,\n",
    "    checkpoint_interval=20,\n",
    "    disable_stdout=True\n",
    ")\n",
    "\n",
    "attacker = Attacker(attack, train_dataset, attack_args)\n",
    "attacker.attack_dataset()"
   ]
  },
  {
   "attachments": {},
   "cell_type": "markdown",
   "metadata": {},
   "source": [
    "##### attack: kaggle + dense"
   ]
  },
  {
   "cell_type": "code",
   "execution_count": 4,
   "metadata": {},
   "outputs": [
    {
     "name": "stdout",
     "output_type": "stream",
     "text": [
      "WARNING:tensorflow:Please fix your imports. Module tensorflow.python.training.tracking.data_structures has been moved to tensorflow.python.trackable.data_structures. The old module will be deleted in version 2.11.\n"
     ]
    },
    {
     "name": "stderr",
     "output_type": "stream",
     "text": [
      "Please fix your imports. Module tensorflow.python.training.tracking.data_structures has been moved to tensorflow.python.trackable.data_structures. The old module will be deleted in version 2.11.\n"
     ]
    },
    {
     "name": "stdout",
     "output_type": "stream",
     "text": [
      "Model: \"sequential\"\n",
      "_________________________________________________________________\n",
      " Layer (type)                Output Shape              Param #   \n",
      "=================================================================\n",
      " keras_layer (KerasLayer)    (None, 128)               124642688 \n",
      "                                                                 \n",
      " dense (Dense)               (None, 64)                8256      \n",
      "                                                                 \n",
      " dense_1 (Dense)             (None, 1)                 65        \n",
      "                                                                 \n",
      "=================================================================\n",
      "Total params: 124,651,009\n",
      "Trainable params: 8,321\n",
      "Non-trainable params: 124,642,688\n",
      "_________________________________________________________________\n",
      "Epoch 1/5\n",
      "1123/1123 [==============================] - 8s 7ms/step - loss: 0.1647 - accuracy: 0.9468 - val_loss: 0.1159 - val_accuracy: 0.9639\n",
      "Epoch 2/5\n",
      "1123/1123 [==============================] - 9s 8ms/step - loss: 0.1226 - accuracy: 0.9601 - val_loss: 0.1113 - val_accuracy: 0.9646\n",
      "Epoch 3/5\n",
      "1123/1123 [==============================] - 9s 8ms/step - loss: 0.1193 - accuracy: 0.9611 - val_loss: 0.1124 - val_accuracy: 0.9629\n",
      "Epoch 4/5\n",
      "1123/1123 [==============================] - 9s 8ms/step - loss: 0.1185 - accuracy: 0.9615 - val_loss: 0.1102 - val_accuracy: 0.9640\n",
      "Epoch 5/5\n",
      "1123/1123 [==============================] - 9s 8ms/step - loss: 0.1176 - accuracy: 0.9622 - val_loss: 0.1099 - val_accuracy: 0.9634\n"
     ]
    }
   ],
   "source": [
    "# Model\n",
    "# Dataset: kaggle\n",
    "import tensorflow_hub as hub\n",
    "import tensorflow as tf\n",
    "\n",
    "model = tf.keras.Sequential()\n",
    "hub_layer = hub.KerasLayer(\"https://tfhub.dev/google/nnlm-en-dim128-with-normalization/2\", input_shape=[],\n",
    "                           dtype=tf.string, trainable=False)\n",
    "model.add(hub_layer)\n",
    "model.add(tf.keras.layers.Dense(64))\n",
    "model.add(tf.keras.layers.Dense(1,activation='sigmoid'))\n",
    "\n",
    "model.summary() \n",
    "model.compile(optimizer='adam',\n",
    "              loss=tf.keras.losses.BinaryCrossentropy(from_logits=True),\n",
    "              metrics=['accuracy'])\n",
    "\n",
    "# Fit the model\n",
    "model_history = model.fit(train_sentences,\n",
    "                          train_labels,\n",
    "                          epochs=5,\n",
    "                          validation_data=(val_sentences, val_labels))"
   ]
  },
  {
   "cell_type": "code",
   "execution_count": 7,
   "metadata": {},
   "outputs": [
    {
     "name": "stderr",
     "output_type": "stream",
     "text": [
      "[nltk_data] Downloading package omw-1.4 to\n",
      "[nltk_data]     C:\\Users\\mogut\\AppData\\Roaming\\nltk_data...\n",
      "[nltk_data]   Package omw-1.4 is already up-to-date!\n",
      "textattack: Unknown if model of class <class 'keras.engine.sequential.Sequential'> compatible with goal function <class 'textattack.goal_functions.classification.untargeted_classification.UntargetedClassification'>.\n"
     ]
    },
    {
     "name": "stdout",
     "output_type": "stream",
     "text": [
      "Attack(\n",
      "  (search_method): GreedyWordSwapWIR(\n",
      "    (wir_method):  weighted-saliency\n",
      "  )\n",
      "  (goal_function):  UntargetedClassification\n",
      "  (transformation):  WordSwapWordNet\n",
      "  (constraints): \n",
      "    (0): RepeatModification\n",
      "    (1): StopwordModification\n",
      "  (is_black_box):  True\n",
      ") \n",
      "\n"
     ]
    },
    {
     "name": "stderr",
     "output_type": "stream",
     "text": [
      "[Succeeded / Failed / Skipped / Total] 0 / 9 / 11 / 20:  20%|██        | 20/100 [05:37<22:28, 16.85s/it]textattack: Saving checkpoint under \"checkpoints\\1671065403063.ta.chkpt\" at 2022-12-14 19:50:03 after 20 attacks.\n",
      "[Succeeded / Failed / Skipped / Total] 0 / 9 / 16 / 25:  25%|██▌       | 25/100 [05:37<16:51, 13.48s/it]"
     ]
    },
    {
     "name": "stdout",
     "output_type": "stream",
     "text": [
      "\n",
      "\n",
      "=============================================================================================================================\n",
      "=============================================================================================================================\n",
      "\n"
     ]
    },
    {
     "name": "stderr",
     "output_type": "stream",
     "text": [
      "[Succeeded / Failed / Skipped / Total] 0 / 19 / 21 / 40:  40%|████      | 40/100 [06:47<10:10, 10.18s/it]textattack: Saving checkpoint under \"checkpoints\\1671065473203.ta.chkpt\" at 2022-12-14 19:51:13 after 40 attacks.\n"
     ]
    },
    {
     "name": "stdout",
     "output_type": "stream",
     "text": [
      "\n",
      "\n",
      "=============================================================================================================================\n",
      "=============================================================================================================================\n",
      "\n"
     ]
    },
    {
     "name": "stderr",
     "output_type": "stream",
     "text": [
      "[Succeeded / Failed / Skipped / Total] 0 / 29 / 31 / 60:  60%|██████    | 60/100 [08:06<05:24,  8.10s/it]textattack: Saving checkpoint under \"checkpoints\\1671065552081.ta.chkpt\" at 2022-12-14 19:52:32 after 60 attacks.\n"
     ]
    },
    {
     "name": "stdout",
     "output_type": "stream",
     "text": [
      "\n",
      "\n",
      "=============================================================================================================================\n",
      "=============================================================================================================================\n",
      "\n"
     ]
    },
    {
     "name": "stderr",
     "output_type": "stream",
     "text": [
      "[Succeeded / Failed / Skipped / Total] 0 / 34 / 46 / 80:  80%|████████  | 80/100 [10:18<02:34,  7.73s/it]textattack: Saving checkpoint under \"checkpoints\\1671065684791.ta.chkpt\" at 2022-12-14 19:54:44 after 80 attacks.\n",
      "[Succeeded / Failed / Skipped / Total] 0 / 34 / 51 / 85:  85%|████████▌ | 85/100 [10:18<01:49,  7.28s/it]"
     ]
    },
    {
     "name": "stdout",
     "output_type": "stream",
     "text": [
      "\n",
      "\n",
      "=============================================================================================================================\n",
      "=============================================================================================================================\n",
      "\n"
     ]
    },
    {
     "name": "stderr",
     "output_type": "stream",
     "text": [
      "[Succeeded / Failed / Skipped / Total] 0 / 45 / 55 / 100: 100%|██████████| 100/100 [12:41<00:00,  7.62s/it]textattack: Saving checkpoint under \"checkpoints\\1671065827825.ta.chkpt\" at 2022-12-14 19:57:07 after 100 attacks.\n",
      "[Succeeded / Failed / Skipped / Total] 0 / 45 / 55 / 100: 100%|██████████| 100/100 [12:41<00:00,  7.62s/it]"
     ]
    },
    {
     "name": "stdout",
     "output_type": "stream",
     "text": [
      "\n",
      "\n",
      "=============================================================================================================================\n",
      "=============================================================================================================================\n",
      "\n",
      "\n",
      "+-------------------------------+--------+\n",
      "| Attack Results                |        |\n",
      "+-------------------------------+--------+\n",
      "| Number of successful attacks: | 0      |\n",
      "| Number of failed attacks:     | 45     |\n",
      "| Number of skipped attacks:    | 55     |\n",
      "| Original accuracy:            | 45.0%  |\n",
      "| Accuracy under attack:        | 45.0%  |\n",
      "| Attack success rate:          | 0.0%   |\n",
      "| Average perturbed word %:     | nan%   |\n",
      "| Average num. words per input: | 398.28 |\n",
      "| Avg num queries:              | 4172.2 |\n",
      "+-------------------------------+--------+\n"
     ]
    },
    {
     "name": "stderr",
     "output_type": "stream",
     "text": [
      "\n"
     ]
    },
    {
     "data": {
      "text/plain": [
       "[<textattack.attack_results.failed_attack_result.FailedAttackResult at 0x1ecd1d56a30>,\n",
       " <textattack.attack_results.failed_attack_result.FailedAttackResult at 0x1ecde5dfb50>,\n",
       " <textattack.attack_results.skipped_attack_result.SkippedAttackResult at 0x1ecde5dfac0>,\n",
       " <textattack.attack_results.failed_attack_result.FailedAttackResult at 0x1ebf489ff70>,\n",
       " <textattack.attack_results.skipped_attack_result.SkippedAttackResult at 0x1ecd1d56c40>,\n",
       " <textattack.attack_results.skipped_attack_result.SkippedAttackResult at 0x1ecd1d56850>,\n",
       " <textattack.attack_results.skipped_attack_result.SkippedAttackResult at 0x1ed184afc10>,\n",
       " <textattack.attack_results.failed_attack_result.FailedAttackResult at 0x1ecd1c94be0>,\n",
       " <textattack.attack_results.skipped_attack_result.SkippedAttackResult at 0x1ebeb5b07f0>,\n",
       " <textattack.attack_results.failed_attack_result.FailedAttackResult at 0x1ecd953d220>,\n",
       " <textattack.attack_results.skipped_attack_result.SkippedAttackResult at 0x1ecd953d9d0>,\n",
       " <textattack.attack_results.skipped_attack_result.SkippedAttackResult at 0x1ecd953d160>,\n",
       " <textattack.attack_results.failed_attack_result.FailedAttackResult at 0x1ebf48d0580>,\n",
       " <textattack.attack_results.skipped_attack_result.SkippedAttackResult at 0x1ecd31627f0>,\n",
       " <textattack.attack_results.skipped_attack_result.SkippedAttackResult at 0x1ecd1d268e0>,\n",
       " <textattack.attack_results.skipped_attack_result.SkippedAttackResult at 0x1ecd1d176a0>,\n",
       " <textattack.attack_results.failed_attack_result.FailedAttackResult at 0x1ed1cffb430>,\n",
       " <textattack.attack_results.skipped_attack_result.SkippedAttackResult at 0x1ecd1bda850>,\n",
       " <textattack.attack_results.failed_attack_result.FailedAttackResult at 0x1ed047b7040>,\n",
       " <textattack.attack_results.failed_attack_result.FailedAttackResult at 0x1ecd1e380d0>,\n",
       " <textattack.attack_results.skipped_attack_result.SkippedAttackResult at 0x1ecd8d6a820>,\n",
       " <textattack.attack_results.skipped_attack_result.SkippedAttackResult at 0x1ecd8d6ad00>,\n",
       " <textattack.attack_results.skipped_attack_result.SkippedAttackResult at 0x1ed1c791880>,\n",
       " <textattack.attack_results.skipped_attack_result.SkippedAttackResult at 0x1ed1c791340>,\n",
       " <textattack.attack_results.skipped_attack_result.SkippedAttackResult at 0x1ed1c7913a0>,\n",
       " <textattack.attack_results.failed_attack_result.FailedAttackResult at 0x1ebeb5dc880>,\n",
       " <textattack.attack_results.failed_attack_result.FailedAttackResult at 0x1ed0aff95b0>,\n",
       " <textattack.attack_results.failed_attack_result.FailedAttackResult at 0x1ecd1d18760>,\n",
       " <textattack.attack_results.failed_attack_result.FailedAttackResult at 0x1ed1cffb190>,\n",
       " <textattack.attack_results.skipped_attack_result.SkippedAttackResult at 0x1ed1cffbd90>,\n",
       " <textattack.attack_results.skipped_attack_result.SkippedAttackResult at 0x1ed1cffbeb0>,\n",
       " <textattack.attack_results.failed_attack_result.FailedAttackResult at 0x1ecd1d26910>,\n",
       " <textattack.attack_results.failed_attack_result.FailedAttackResult at 0x1ecd3202d60>,\n",
       " <textattack.attack_results.failed_attack_result.FailedAttackResult at 0x1ecd1c94cd0>,\n",
       " <textattack.attack_results.skipped_attack_result.SkippedAttackResult at 0x1ecd1d201c0>,\n",
       " <textattack.attack_results.skipped_attack_result.SkippedAttackResult at 0x1ecd1d20220>,\n",
       " <textattack.attack_results.failed_attack_result.FailedAttackResult at 0x1ebeb5dce80>,\n",
       " <textattack.attack_results.failed_attack_result.FailedAttackResult at 0x1ed0212cb50>,\n",
       " <textattack.attack_results.failed_attack_result.FailedAttackResult at 0x1ed172bf910>,\n",
       " <textattack.attack_results.skipped_attack_result.SkippedAttackResult at 0x1ed172bf100>,\n",
       " <textattack.attack_results.failed_attack_result.FailedAttackResult at 0x1ecde030a60>,\n",
       " <textattack.attack_results.skipped_attack_result.SkippedAttackResult at 0x1ecde0308e0>,\n",
       " <textattack.attack_results.skipped_attack_result.SkippedAttackResult at 0x1ecde030fd0>,\n",
       " <textattack.attack_results.failed_attack_result.FailedAttackResult at 0x1ed19621ee0>,\n",
       " <textattack.attack_results.skipped_attack_result.SkippedAttackResult at 0x1ecd0174820>,\n",
       " <textattack.attack_results.skipped_attack_result.SkippedAttackResult at 0x1ecd1d26a60>,\n",
       " <textattack.attack_results.skipped_attack_result.SkippedAttackResult at 0x1ecd1d26610>,\n",
       " <textattack.attack_results.skipped_attack_result.SkippedAttackResult at 0x1ed19621850>,\n",
       " <textattack.attack_results.skipped_attack_result.SkippedAttackResult at 0x1ed19621fa0>,\n",
       " <textattack.attack_results.failed_attack_result.FailedAttackResult at 0x1ebc618f610>,\n",
       " <textattack.attack_results.failed_attack_result.FailedAttackResult at 0x1ed2de50c10>,\n",
       " <textattack.attack_results.failed_attack_result.FailedAttackResult at 0x1ed08860130>,\n",
       " <textattack.attack_results.failed_attack_result.FailedAttackResult at 0x1ecd9382940>,\n",
       " <textattack.attack_results.failed_attack_result.FailedAttackResult at 0x1ecdaee2df0>,\n",
       " <textattack.attack_results.failed_attack_result.FailedAttackResult at 0x1ecd1d26b80>,\n",
       " <textattack.attack_results.skipped_attack_result.SkippedAttackResult at 0x1ebeb5b1310>,\n",
       " <textattack.attack_results.skipped_attack_result.SkippedAttackResult at 0x1ebeb5b1b50>,\n",
       " <textattack.attack_results.skipped_attack_result.SkippedAttackResult at 0x1ecde220fd0>,\n",
       " <textattack.attack_results.failed_attack_result.FailedAttackResult at 0x1ecdaee2d30>,\n",
       " <textattack.attack_results.failed_attack_result.FailedAttackResult at 0x1ecd99a0c40>,\n",
       " <textattack.attack_results.failed_attack_result.FailedAttackResult at 0x1ecf9df6520>,\n",
       " <textattack.attack_results.skipped_attack_result.SkippedAttackResult at 0x1ecf9df63d0>,\n",
       " <textattack.attack_results.skipped_attack_result.SkippedAttackResult at 0x1ecf9df6370>,\n",
       " <textattack.attack_results.failed_attack_result.FailedAttackResult at 0x1ecd1dac2e0>,\n",
       " <textattack.attack_results.failed_attack_result.FailedAttackResult at 0x1ebc618fcd0>,\n",
       " <textattack.attack_results.skipped_attack_result.SkippedAttackResult at 0x1ed1df17730>,\n",
       " <textattack.attack_results.skipped_attack_result.SkippedAttackResult at 0x1ed1df17a90>,\n",
       " <textattack.attack_results.skipped_attack_result.SkippedAttackResult at 0x1ed1df17f40>,\n",
       " <textattack.attack_results.skipped_attack_result.SkippedAttackResult at 0x1ed1df17910>,\n",
       " <textattack.attack_results.skipped_attack_result.SkippedAttackResult at 0x1ed1df17970>,\n",
       " <textattack.attack_results.skipped_attack_result.SkippedAttackResult at 0x1ed1df17220>,\n",
       " <textattack.attack_results.skipped_attack_result.SkippedAttackResult at 0x1ecd8c00760>,\n",
       " <textattack.attack_results.skipped_attack_result.SkippedAttackResult at 0x1ed1df17ca0>,\n",
       " <textattack.attack_results.failed_attack_result.FailedAttackResult at 0x1ecd1d1a8b0>,\n",
       " <textattack.attack_results.skipped_attack_result.SkippedAttackResult at 0x1ecd1d1a5b0>,\n",
       " <textattack.attack_results.skipped_attack_result.SkippedAttackResult at 0x1ecd1d623d0>,\n",
       " <textattack.attack_results.skipped_attack_result.SkippedAttackResult at 0x1ed484dc9d0>,\n",
       " <textattack.attack_results.failed_attack_result.FailedAttackResult at 0x1ecf89718b0>,\n",
       " <textattack.attack_results.skipped_attack_result.SkippedAttackResult at 0x1ecf8971550>,\n",
       " <textattack.attack_results.skipped_attack_result.SkippedAttackResult at 0x1ecf8971880>,\n",
       " <textattack.attack_results.skipped_attack_result.SkippedAttackResult at 0x1ecf89714c0>,\n",
       " <textattack.attack_results.skipped_attack_result.SkippedAttackResult at 0x1ecf89719d0>,\n",
       " <textattack.attack_results.skipped_attack_result.SkippedAttackResult at 0x1ecd31fc310>,\n",
       " <textattack.attack_results.skipped_attack_result.SkippedAttackResult at 0x1ecf8971580>,\n",
       " <textattack.attack_results.skipped_attack_result.SkippedAttackResult at 0x1ed27cc6610>,\n",
       " <textattack.attack_results.failed_attack_result.FailedAttackResult at 0x1ed1243e550>,\n",
       " <textattack.attack_results.failed_attack_result.FailedAttackResult at 0x1ecd1d26a00>,\n",
       " <textattack.attack_results.failed_attack_result.FailedAttackResult at 0x1ecfb363e20>,\n",
       " <textattack.attack_results.failed_attack_result.FailedAttackResult at 0x1ecd1d56880>,\n",
       " <textattack.attack_results.failed_attack_result.FailedAttackResult at 0x1ecd31621c0>,\n",
       " <textattack.attack_results.failed_attack_result.FailedAttackResult at 0x1ecd3162190>,\n",
       " <textattack.attack_results.skipped_attack_result.SkippedAttackResult at 0x1ecd3162220>,\n",
       " <textattack.attack_results.skipped_attack_result.SkippedAttackResult at 0x1ecd1dac250>,\n",
       " <textattack.attack_results.skipped_attack_result.SkippedAttackResult at 0x1ecd3162250>,\n",
       " <textattack.attack_results.failed_attack_result.FailedAttackResult at 0x1ed0399a8b0>,\n",
       " <textattack.attack_results.failed_attack_result.FailedAttackResult at 0x1ed1c791070>,\n",
       " <textattack.attack_results.skipped_attack_result.SkippedAttackResult at 0x1ed1c791c40>,\n",
       " <textattack.attack_results.failed_attack_result.FailedAttackResult at 0x1ed35762d60>,\n",
       " <textattack.attack_results.failed_attack_result.FailedAttackResult at 0x1ed034fd9a0>,\n",
       " <textattack.attack_results.failed_attack_result.FailedAttackResult at 0x1ed1525e400>]"
      ]
     },
     "execution_count": 7,
     "metadata": {},
     "output_type": "execute_result"
    }
   ],
   "source": [
    "# Model: kaggle, dense, nnlm\n",
    "from textattack.attack_recipes import PWWSRen2019 as attack_recipe\n",
    "\n",
    "# try first 10 example because quite slow attack speed\n",
    "i = 100  \n",
    "train_dataset = []\n",
    "for example, label in zip(train_sentences[:i], train_labels[:i]):\n",
    "    train_dataset.append((example, int(label)))\n",
    "train_dataset = Dataset(train_dataset)\n",
    "\n",
    "model_wrapper = CustomTensorFlowModelWrapper(model)\n",
    "attack = attack_recipe.build(model_wrapper)\n",
    "\n",
    "attack_args = AttackArgs(\n",
    "    num_examples=i,\n",
    "    checkpoint_interval=20,\n",
    "    disable_stdout=True\n",
    ")\n",
    "\n",
    "attacker = Attacker(attack, train_dataset, attack_args)\n",
    "attacker.attack_dataset()"
   ]
  },
  {
   "cell_type": "code",
   "execution_count": 5,
   "metadata": {},
   "outputs": [
    {
     "name": "stderr",
     "output_type": "stream",
     "text": [
      "textattack: Unknown if model of class <class 'keras.engine.sequential.Sequential'> compatible with goal function <class 'textattack.goal_functions.classification.untargeted_classification.UntargetedClassification'>.\n"
     ]
    },
    {
     "name": "stdout",
     "output_type": "stream",
     "text": [
      "Attack(\n",
      "  (search_method): GreedyWordSwapWIR(\n",
      "    (wir_method):  delete\n",
      "  )\n",
      "  (goal_function):  UntargetedClassification\n",
      "  (transformation):  CompositeTransformation(\n",
      "    (0): WordSwapRandomCharacterInsertion(\n",
      "        (random_one):  True\n",
      "      )\n",
      "    (1): WordSwapRandomCharacterDeletion(\n",
      "        (random_one):  True\n",
      "      )\n",
      "    (2): WordSwapNeighboringCharacterSwap(\n",
      "        (random_one):  True\n",
      "      )\n",
      "    (3): WordSwapHomoglyphSwap\n",
      "    (4): WordSwapEmbedding(\n",
      "        (max_candidates):  5\n",
      "        (embedding):  WordEmbedding\n",
      "      )\n",
      "    )\n",
      "  (constraints): \n",
      "    (0): UniversalSentenceEncoder(\n",
      "        (metric):  angular\n",
      "        (threshold):  0.8\n",
      "        (window_size):  inf\n",
      "        (skip_text_shorter_than_window):  False\n",
      "        (compare_against_original):  True\n",
      "      )\n",
      "    (1): RepeatModification\n",
      "    (2): StopwordModification\n",
      "  (is_black_box):  True\n",
      ") \n",
      "\n"
     ]
    },
    {
     "name": "stderr",
     "output_type": "stream",
     "text": [
      "[Succeeded / Failed / Skipped / Total] 0 / 11 / 9 / 20:  20%|██        | 20/100 [01:41<06:45,  5.07s/it]textattack: Saving checkpoint under \"checkpoints\\1671066220978.ta.chkpt\" at 2022-12-14 20:03:40 after 20 attacks.\n"
     ]
    },
    {
     "name": "stdout",
     "output_type": "stream",
     "text": [
      "\n",
      "\n",
      "=============================================================================================================================\n",
      "=============================================================================================================================\n",
      "\n"
     ]
    },
    {
     "name": "stderr",
     "output_type": "stream",
     "text": [
      "[Succeeded / Failed / Skipped / Total] 0 / 18 / 17 / 35:  35%|███▌      | 35/100 [03:02<05:39,  5.23s/it]"
     ]
    },
    {
     "ename": "ResourceExhaustedError",
     "evalue": "Graph execution error:\n\nOOM when allocating tensor with shape[161878,320] and type float on /job:localhost/replica:0/task:0/device:GPU:0 by allocator GPU_0_bfc\n\t [[{{node EncoderDNN/EmbeddingLookup/EmbeddingLookupUnique/GatherV2}}]]\nHint: If you want to see a list of allocated tensors when OOM happens, add report_tensor_allocations_upon_oom to RunOptions for current allocation info. This isn't available when running in Eager mode.\n [Op:__inference_restored_function_body_33533]",
     "output_type": "error",
     "traceback": [
      "\u001b[1;31m---------------------------------------------------------------------------\u001b[0m",
      "\u001b[1;31mResourceExhaustedError\u001b[0m                    Traceback (most recent call last)",
      "Cell \u001b[1;32mIn [5], line 21\u001b[0m\n\u001b[0;32m     14\u001b[0m attack_args \u001b[39m=\u001b[39m AttackArgs(\n\u001b[0;32m     15\u001b[0m     num_examples\u001b[39m=\u001b[39mi,\n\u001b[0;32m     16\u001b[0m     checkpoint_interval\u001b[39m=\u001b[39m\u001b[39m20\u001b[39m,\n\u001b[0;32m     17\u001b[0m     disable_stdout\u001b[39m=\u001b[39m\u001b[39mTrue\u001b[39;00m\n\u001b[0;32m     18\u001b[0m )\n\u001b[0;32m     20\u001b[0m attacker \u001b[39m=\u001b[39m Attacker(attack, train_dataset, attack_args)\n\u001b[1;32m---> 21\u001b[0m attacker\u001b[39m.\u001b[39;49mattack_dataset()\n",
      "File \u001b[1;32mc:\\Users\\mogut\\AppData\\Local\\Programs\\Python\\Python39\\lib\\site-packages\\textattack\\attacker.py:441\u001b[0m, in \u001b[0;36mAttacker.attack_dataset\u001b[1;34m(self)\u001b[0m\n\u001b[0;32m    439\u001b[0m     \u001b[39mself\u001b[39m\u001b[39m.\u001b[39m_attack_parallel()\n\u001b[0;32m    440\u001b[0m \u001b[39melse\u001b[39;00m:\n\u001b[1;32m--> 441\u001b[0m     \u001b[39mself\u001b[39;49m\u001b[39m.\u001b[39;49m_attack()\n\u001b[0;32m    443\u001b[0m \u001b[39mif\u001b[39;00m \u001b[39mself\u001b[39m\u001b[39m.\u001b[39mattack_args\u001b[39m.\u001b[39msilent:\n\u001b[0;32m    444\u001b[0m     logger\u001b[39m.\u001b[39msetLevel(logging\u001b[39m.\u001b[39mINFO)\n",
      "File \u001b[1;32mc:\\Users\\mogut\\AppData\\Local\\Programs\\Python\\Python39\\lib\\site-packages\\textattack\\attacker.py:170\u001b[0m, in \u001b[0;36mAttacker._attack\u001b[1;34m(self)\u001b[0m\n\u001b[0;32m    168\u001b[0m     result \u001b[39m=\u001b[39m \u001b[39mself\u001b[39m\u001b[39m.\u001b[39mattack\u001b[39m.\u001b[39mattack(example, ground_truth_output)\n\u001b[0;32m    169\u001b[0m \u001b[39mexcept\u001b[39;00m \u001b[39mException\u001b[39;00m \u001b[39mas\u001b[39;00m e:\n\u001b[1;32m--> 170\u001b[0m     \u001b[39mraise\u001b[39;00m e\n\u001b[0;32m    171\u001b[0m \u001b[39mif\u001b[39;00m (\n\u001b[0;32m    172\u001b[0m     \u001b[39misinstance\u001b[39m(result, SkippedAttackResult) \u001b[39mand\u001b[39;00m \u001b[39mself\u001b[39m\u001b[39m.\u001b[39mattack_args\u001b[39m.\u001b[39mattack_n\n\u001b[0;32m    173\u001b[0m ) \u001b[39mor\u001b[39;00m (\n\u001b[0;32m    174\u001b[0m     \u001b[39mnot\u001b[39;00m \u001b[39misinstance\u001b[39m(result, SuccessfulAttackResult)\n\u001b[0;32m    175\u001b[0m     \u001b[39mand\u001b[39;00m \u001b[39mself\u001b[39m\u001b[39m.\u001b[39mattack_args\u001b[39m.\u001b[39mnum_successful_examples\n\u001b[0;32m    176\u001b[0m ):\n\u001b[0;32m    177\u001b[0m     \u001b[39mif\u001b[39;00m worklist_candidates:\n",
      "File \u001b[1;32mc:\\Users\\mogut\\AppData\\Local\\Programs\\Python\\Python39\\lib\\site-packages\\textattack\\attacker.py:168\u001b[0m, in \u001b[0;36mAttacker._attack\u001b[1;34m(self)\u001b[0m\n\u001b[0;32m    166\u001b[0m     example\u001b[39m.\u001b[39mattack_attrs[\u001b[39m\"\u001b[39m\u001b[39mlabel_names\u001b[39m\u001b[39m\"\u001b[39m] \u001b[39m=\u001b[39m \u001b[39mself\u001b[39m\u001b[39m.\u001b[39mdataset\u001b[39m.\u001b[39mlabel_names\n\u001b[0;32m    167\u001b[0m \u001b[39mtry\u001b[39;00m:\n\u001b[1;32m--> 168\u001b[0m     result \u001b[39m=\u001b[39m \u001b[39mself\u001b[39;49m\u001b[39m.\u001b[39;49mattack\u001b[39m.\u001b[39;49mattack(example, ground_truth_output)\n\u001b[0;32m    169\u001b[0m \u001b[39mexcept\u001b[39;00m \u001b[39mException\u001b[39;00m \u001b[39mas\u001b[39;00m e:\n\u001b[0;32m    170\u001b[0m     \u001b[39mraise\u001b[39;00m e\n",
      "File \u001b[1;32mc:\\Users\\mogut\\AppData\\Local\\Programs\\Python\\Python39\\lib\\site-packages\\textattack\\attack.py:448\u001b[0m, in \u001b[0;36mAttack.attack\u001b[1;34m(self, example, ground_truth_output)\u001b[0m\n\u001b[0;32m    446\u001b[0m     \u001b[39mreturn\u001b[39;00m SkippedAttackResult(goal_function_result)\n\u001b[0;32m    447\u001b[0m \u001b[39melse\u001b[39;00m:\n\u001b[1;32m--> 448\u001b[0m     result \u001b[39m=\u001b[39m \u001b[39mself\u001b[39;49m\u001b[39m.\u001b[39;49m_attack(goal_function_result)\n\u001b[0;32m    449\u001b[0m     \u001b[39mreturn\u001b[39;00m result\n",
      "File \u001b[1;32mc:\\Users\\mogut\\AppData\\Local\\Programs\\Python\\Python39\\lib\\site-packages\\textattack\\attack.py:396\u001b[0m, in \u001b[0;36mAttack._attack\u001b[1;34m(self, initial_result)\u001b[0m\n\u001b[0;32m    385\u001b[0m \u001b[39mdef\u001b[39;00m \u001b[39m_attack\u001b[39m(\u001b[39mself\u001b[39m, initial_result):\n\u001b[0;32m    386\u001b[0m     \u001b[39m\"\"\"Calls the ``SearchMethod`` to perturb the ``AttackedText`` stored in\u001b[39;00m\n\u001b[0;32m    387\u001b[0m \u001b[39m    ``initial_result``.\u001b[39;00m\n\u001b[0;32m    388\u001b[0m \n\u001b[1;32m   (...)\u001b[0m\n\u001b[0;32m    394\u001b[0m \u001b[39m            or ``MaximizedAttackResult``.\u001b[39;00m\n\u001b[0;32m    395\u001b[0m \u001b[39m    \"\"\"\u001b[39;00m\n\u001b[1;32m--> 396\u001b[0m     final_result \u001b[39m=\u001b[39m \u001b[39mself\u001b[39;49m\u001b[39m.\u001b[39;49msearch_method(initial_result)\n\u001b[0;32m    397\u001b[0m     \u001b[39mself\u001b[39m\u001b[39m.\u001b[39mclear_cache()\n\u001b[0;32m    398\u001b[0m     \u001b[39mif\u001b[39;00m final_result\u001b[39m.\u001b[39mgoal_status \u001b[39m==\u001b[39m GoalFunctionResultStatus\u001b[39m.\u001b[39mSUCCEEDED:\n",
      "File \u001b[1;32mc:\\Users\\mogut\\AppData\\Local\\Programs\\Python\\Python39\\lib\\site-packages\\textattack\\search_methods\\search_method.py:36\u001b[0m, in \u001b[0;36mSearchMethod.__call__\u001b[1;34m(self, initial_result)\u001b[0m\n\u001b[0;32m     31\u001b[0m \u001b[39mif\u001b[39;00m \u001b[39mnot\u001b[39;00m \u001b[39mhasattr\u001b[39m(\u001b[39mself\u001b[39m, \u001b[39m\"\u001b[39m\u001b[39mfilter_transformations\u001b[39m\u001b[39m\"\u001b[39m):\n\u001b[0;32m     32\u001b[0m     \u001b[39mraise\u001b[39;00m \u001b[39mAttributeError\u001b[39;00m(\n\u001b[0;32m     33\u001b[0m         \u001b[39m\"\u001b[39m\u001b[39mSearch Method must have access to filter_transformations method\u001b[39m\u001b[39m\"\u001b[39m\n\u001b[0;32m     34\u001b[0m     )\n\u001b[1;32m---> 36\u001b[0m result \u001b[39m=\u001b[39m \u001b[39mself\u001b[39;49m\u001b[39m.\u001b[39;49mperform_search(initial_result)\n\u001b[0;32m     37\u001b[0m \u001b[39m# ensure that the number of queries for this GoalFunctionResult is up-to-date\u001b[39;00m\n\u001b[0;32m     38\u001b[0m result\u001b[39m.\u001b[39mnum_queries \u001b[39m=\u001b[39m \u001b[39mself\u001b[39m\u001b[39m.\u001b[39mgoal_function\u001b[39m.\u001b[39mnum_queries\n",
      "File \u001b[1;32mc:\\Users\\mogut\\AppData\\Local\\Programs\\Python\\Python39\\lib\\site-packages\\textattack\\search_methods\\greedy_word_swap_wir.py:142\u001b[0m, in \u001b[0;36mGreedyWordSwapWIR.perform_search\u001b[1;34m(self, initial_result)\u001b[0m\n\u001b[0;32m    140\u001b[0m results \u001b[39m=\u001b[39m \u001b[39mNone\u001b[39;00m\n\u001b[0;32m    141\u001b[0m \u001b[39mwhile\u001b[39;00m i \u001b[39m<\u001b[39m \u001b[39mlen\u001b[39m(index_order) \u001b[39mand\u001b[39;00m \u001b[39mnot\u001b[39;00m search_over:\n\u001b[1;32m--> 142\u001b[0m     transformed_text_candidates \u001b[39m=\u001b[39m \u001b[39mself\u001b[39;49m\u001b[39m.\u001b[39;49mget_transformations(\n\u001b[0;32m    143\u001b[0m         cur_result\u001b[39m.\u001b[39;49mattacked_text,\n\u001b[0;32m    144\u001b[0m         original_text\u001b[39m=\u001b[39;49minitial_result\u001b[39m.\u001b[39;49mattacked_text,\n\u001b[0;32m    145\u001b[0m         indices_to_modify\u001b[39m=\u001b[39;49m[index_order[i]],\n\u001b[0;32m    146\u001b[0m     )\n\u001b[0;32m    147\u001b[0m     i \u001b[39m+\u001b[39m\u001b[39m=\u001b[39m \u001b[39m1\u001b[39m\n\u001b[0;32m    148\u001b[0m     \u001b[39mif\u001b[39;00m \u001b[39mlen\u001b[39m(transformed_text_candidates) \u001b[39m==\u001b[39m \u001b[39m0\u001b[39m:\n",
      "File \u001b[1;32mc:\\Users\\mogut\\AppData\\Local\\Programs\\Python\\Python39\\lib\\site-packages\\textattack\\attack.py:313\u001b[0m, in \u001b[0;36mAttack.get_transformations\u001b[1;34m(self, current_text, original_text, **kwargs)\u001b[0m\n\u001b[0;32m    308\u001b[0m \u001b[39melse\u001b[39;00m:\n\u001b[0;32m    309\u001b[0m     transformed_texts \u001b[39m=\u001b[39m \u001b[39mself\u001b[39m\u001b[39m.\u001b[39m_get_transformations_uncached(\n\u001b[0;32m    310\u001b[0m         current_text, original_text, \u001b[39m*\u001b[39m\u001b[39m*\u001b[39mkwargs\n\u001b[0;32m    311\u001b[0m     )\n\u001b[1;32m--> 313\u001b[0m \u001b[39mreturn\u001b[39;00m \u001b[39mself\u001b[39;49m\u001b[39m.\u001b[39;49mfilter_transformations(\n\u001b[0;32m    314\u001b[0m     transformed_texts, current_text, original_text\n\u001b[0;32m    315\u001b[0m )\n",
      "File \u001b[1;32mc:\\Users\\mogut\\AppData\\Local\\Programs\\Python\\Python39\\lib\\site-packages\\textattack\\attack.py:378\u001b[0m, in \u001b[0;36mAttack.filter_transformations\u001b[1;34m(self, transformed_texts, current_text, original_text)\u001b[0m\n\u001b[0;32m    376\u001b[0m         \u001b[39mif\u001b[39;00m \u001b[39mself\u001b[39m\u001b[39m.\u001b[39mconstraints_cache[(current_text, transformed_text)]:\n\u001b[0;32m    377\u001b[0m             filtered_texts\u001b[39m.\u001b[39mappend(transformed_text)\n\u001b[1;32m--> 378\u001b[0m filtered_texts \u001b[39m+\u001b[39m\u001b[39m=\u001b[39m \u001b[39mself\u001b[39;49m\u001b[39m.\u001b[39;49m_filter_transformations_uncached(\n\u001b[0;32m    379\u001b[0m     uncached_texts, current_text, original_text\u001b[39m=\u001b[39;49moriginal_text\n\u001b[0;32m    380\u001b[0m )\n\u001b[0;32m    381\u001b[0m \u001b[39m# Sort transformations to ensure order is preserved between runs\u001b[39;00m\n\u001b[0;32m    382\u001b[0m filtered_texts\u001b[39m.\u001b[39msort(key\u001b[39m=\u001b[39m\u001b[39mlambda\u001b[39;00m t: t\u001b[39m.\u001b[39mtext)\n",
      "File \u001b[1;32mc:\\Users\\mogut\\AppData\\Local\\Programs\\Python\\Python39\\lib\\site-packages\\textattack\\attack.py:338\u001b[0m, in \u001b[0;36mAttack._filter_transformations_uncached\u001b[1;34m(self, transformed_texts, current_text, original_text)\u001b[0m\n\u001b[0;32m    333\u001b[0m     \u001b[39mif\u001b[39;00m \u001b[39mnot\u001b[39;00m original_text:\n\u001b[0;32m    334\u001b[0m         \u001b[39mraise\u001b[39;00m \u001b[39mValueError\u001b[39;00m(\n\u001b[0;32m    335\u001b[0m             \u001b[39mf\u001b[39m\u001b[39m\"\u001b[39m\u001b[39mMissing `original_text` argument when constraint \u001b[39m\u001b[39m{\u001b[39;00m\u001b[39mtype\u001b[39m(C)\u001b[39m}\u001b[39;00m\u001b[39m is set to compare against `original_text`\u001b[39m\u001b[39m\"\u001b[39m\n\u001b[0;32m    336\u001b[0m         )\n\u001b[1;32m--> 338\u001b[0m     filtered_texts \u001b[39m=\u001b[39m C\u001b[39m.\u001b[39;49mcall_many(filtered_texts, original_text)\n\u001b[0;32m    339\u001b[0m \u001b[39melse\u001b[39;00m:\n\u001b[0;32m    340\u001b[0m     filtered_texts \u001b[39m=\u001b[39m C\u001b[39m.\u001b[39mcall_many(filtered_texts, current_text)\n",
      "File \u001b[1;32mc:\\Users\\mogut\\AppData\\Local\\Programs\\Python\\Python39\\lib\\site-packages\\textattack\\constraints\\constraint.py:50\u001b[0m, in \u001b[0;36mConstraint.call_many\u001b[1;34m(self, transformed_texts, reference_text)\u001b[0m\n\u001b[0;32m     46\u001b[0m     \u001b[39mexcept\u001b[39;00m \u001b[39mKeyError\u001b[39;00m:\n\u001b[0;32m     47\u001b[0m         \u001b[39mraise\u001b[39;00m \u001b[39mKeyError\u001b[39;00m(\n\u001b[0;32m     48\u001b[0m             \u001b[39m\"\u001b[39m\u001b[39mtransformed_text must have `last_transformation` attack_attr to apply constraint\u001b[39m\u001b[39m\"\u001b[39m\n\u001b[0;32m     49\u001b[0m         )\n\u001b[1;32m---> 50\u001b[0m filtered_texts \u001b[39m=\u001b[39m \u001b[39mself\u001b[39;49m\u001b[39m.\u001b[39;49m_check_constraint_many(\n\u001b[0;32m     51\u001b[0m     compatible_transformed_texts, reference_text\n\u001b[0;32m     52\u001b[0m )\n\u001b[0;32m     53\u001b[0m \u001b[39mreturn\u001b[39;00m \u001b[39mlist\u001b[39m(filtered_texts) \u001b[39m+\u001b[39m incompatible_transformed_texts\n",
      "File \u001b[1;32mc:\\Users\\mogut\\AppData\\Local\\Programs\\Python\\Python39\\lib\\site-packages\\textattack\\constraints\\semantics\\sentence_encoders\\sentence_encoder.py:179\u001b[0m, in \u001b[0;36mSentenceEncoder._check_constraint_many\u001b[1;34m(self, transformed_texts, reference_text)\u001b[0m\n\u001b[0;32m    175\u001b[0m \u001b[39mdef\u001b[39;00m \u001b[39m_check_constraint_many\u001b[39m(\u001b[39mself\u001b[39m, transformed_texts, reference_text):\n\u001b[0;32m    176\u001b[0m     \u001b[39m\"\"\"Filters the list ``transformed_texts`` so that the similarity\u001b[39;00m\n\u001b[0;32m    177\u001b[0m \u001b[39m    between the ``reference_text`` and the transformed text is greater than\u001b[39;00m\n\u001b[0;32m    178\u001b[0m \u001b[39m    the ``self.threshold``.\"\"\"\u001b[39;00m\n\u001b[1;32m--> 179\u001b[0m     scores \u001b[39m=\u001b[39m \u001b[39mself\u001b[39;49m\u001b[39m.\u001b[39;49m_score_list(reference_text, transformed_texts)\n\u001b[0;32m    181\u001b[0m     \u001b[39mfor\u001b[39;00m i, transformed_text \u001b[39min\u001b[39;00m \u001b[39menumerate\u001b[39m(transformed_texts):\n\u001b[0;32m    182\u001b[0m         \u001b[39m# Optionally ignore similarity score for sentences shorter than the\u001b[39;00m\n\u001b[0;32m    183\u001b[0m         \u001b[39m# window size.\u001b[39;00m\n\u001b[0;32m    184\u001b[0m         \u001b[39mif\u001b[39;00m (\n\u001b[0;32m    185\u001b[0m             \u001b[39mself\u001b[39m\u001b[39m.\u001b[39mskip_text_shorter_than_window\n\u001b[0;32m    186\u001b[0m             \u001b[39mand\u001b[39;00m \u001b[39mlen\u001b[39m(transformed_text\u001b[39m.\u001b[39mwords) \u001b[39m<\u001b[39m \u001b[39mself\u001b[39m\u001b[39m.\u001b[39mwindow_size\n\u001b[0;32m    187\u001b[0m         ):\n",
      "File \u001b[1;32mc:\\Users\\mogut\\AppData\\Local\\Programs\\Python\\Python39\\lib\\site-packages\\textattack\\constraints\\semantics\\sentence_encoders\\sentence_encoder.py:152\u001b[0m, in \u001b[0;36mSentenceEncoder._score_list\u001b[1;34m(self, starting_text, transformed_texts)\u001b[0m\n\u001b[0;32m    142\u001b[0m     starting_text_windows\u001b[39m.\u001b[39mappend(\n\u001b[0;32m    143\u001b[0m         starting_text\u001b[39m.\u001b[39mtext_window_around_index(\n\u001b[0;32m    144\u001b[0m             modified_index, \u001b[39mself\u001b[39m\u001b[39m.\u001b[39mwindow_size\n\u001b[0;32m    145\u001b[0m         )\n\u001b[0;32m    146\u001b[0m     )\n\u001b[0;32m    147\u001b[0m     transformed_text_windows\u001b[39m.\u001b[39mappend(\n\u001b[0;32m    148\u001b[0m         transformed_text\u001b[39m.\u001b[39mtext_window_around_index(\n\u001b[0;32m    149\u001b[0m             modified_index, \u001b[39mself\u001b[39m\u001b[39m.\u001b[39mwindow_size\n\u001b[0;32m    150\u001b[0m         )\n\u001b[0;32m    151\u001b[0m     )\n\u001b[1;32m--> 152\u001b[0m embeddings \u001b[39m=\u001b[39m \u001b[39mself\u001b[39;49m\u001b[39m.\u001b[39;49mencode(starting_text_windows \u001b[39m+\u001b[39;49m transformed_text_windows)\n\u001b[0;32m    153\u001b[0m \u001b[39mif\u001b[39;00m \u001b[39mnot\u001b[39;00m \u001b[39misinstance\u001b[39m(embeddings, torch\u001b[39m.\u001b[39mTensor):\n\u001b[0;32m    154\u001b[0m     embeddings \u001b[39m=\u001b[39m torch\u001b[39m.\u001b[39mtensor(embeddings)\n",
      "File \u001b[1;32mc:\\Users\\mogut\\AppData\\Local\\Programs\\Python\\Python39\\lib\\site-packages\\textattack\\constraints\\semantics\\sentence_encoders\\universal_sentence_encoder\\universal_sentence_encoder.py:31\u001b[0m, in \u001b[0;36mUniversalSentenceEncoder.encode\u001b[1;34m(self, sentences)\u001b[0m\n\u001b[0;32m     29\u001b[0m \u001b[39mif\u001b[39;00m \u001b[39mnot\u001b[39;00m \u001b[39mself\u001b[39m\u001b[39m.\u001b[39mmodel:\n\u001b[0;32m     30\u001b[0m     \u001b[39mself\u001b[39m\u001b[39m.\u001b[39mmodel \u001b[39m=\u001b[39m hub\u001b[39m.\u001b[39mload(\u001b[39mself\u001b[39m\u001b[39m.\u001b[39m_tfhub_url)\n\u001b[1;32m---> 31\u001b[0m encoding \u001b[39m=\u001b[39m \u001b[39mself\u001b[39;49m\u001b[39m.\u001b[39;49mmodel(sentences)\n\u001b[0;32m     33\u001b[0m \u001b[39mif\u001b[39;00m \u001b[39misinstance\u001b[39m(encoding, \u001b[39mdict\u001b[39m):\n\u001b[0;32m     34\u001b[0m     encoding \u001b[39m=\u001b[39m encoding[\u001b[39m\"\u001b[39m\u001b[39moutputs\u001b[39m\u001b[39m\"\u001b[39m]\n",
      "File \u001b[1;32mc:\\Users\\mogut\\AppData\\Local\\Programs\\Python\\Python39\\lib\\site-packages\\tensorflow\\python\\saved_model\\load.py:704\u001b[0m, in \u001b[0;36m_call_attribute\u001b[1;34m(instance, *args, **kwargs)\u001b[0m\n\u001b[0;32m    703\u001b[0m \u001b[39mdef\u001b[39;00m \u001b[39m_call_attribute\u001b[39m(instance, \u001b[39m*\u001b[39margs, \u001b[39m*\u001b[39m\u001b[39m*\u001b[39mkwargs):\n\u001b[1;32m--> 704\u001b[0m   \u001b[39mreturn\u001b[39;00m instance\u001b[39m.\u001b[39m\u001b[39m__call__\u001b[39m(\u001b[39m*\u001b[39margs, \u001b[39m*\u001b[39m\u001b[39m*\u001b[39mkwargs)\n",
      "File \u001b[1;32mc:\\Users\\mogut\\AppData\\Local\\Programs\\Python\\Python39\\lib\\site-packages\\tensorflow\\python\\util\\traceback_utils.py:153\u001b[0m, in \u001b[0;36mfilter_traceback.<locals>.error_handler\u001b[1;34m(*args, **kwargs)\u001b[0m\n\u001b[0;32m    151\u001b[0m \u001b[39mexcept\u001b[39;00m \u001b[39mException\u001b[39;00m \u001b[39mas\u001b[39;00m e:\n\u001b[0;32m    152\u001b[0m   filtered_tb \u001b[39m=\u001b[39m _process_traceback_frames(e\u001b[39m.\u001b[39m__traceback__)\n\u001b[1;32m--> 153\u001b[0m   \u001b[39mraise\u001b[39;00m e\u001b[39m.\u001b[39mwith_traceback(filtered_tb) \u001b[39mfrom\u001b[39;00m \u001b[39mNone\u001b[39m\n\u001b[0;32m    154\u001b[0m \u001b[39mfinally\u001b[39;00m:\n\u001b[0;32m    155\u001b[0m   \u001b[39mdel\u001b[39;00m filtered_tb\n",
      "File \u001b[1;32mc:\\Users\\mogut\\AppData\\Local\\Programs\\Python\\Python39\\lib\\site-packages\\tensorflow\\python\\eager\\execute.py:54\u001b[0m, in \u001b[0;36mquick_execute\u001b[1;34m(op_name, num_outputs, inputs, attrs, ctx, name)\u001b[0m\n\u001b[0;32m     52\u001b[0m \u001b[39mtry\u001b[39;00m:\n\u001b[0;32m     53\u001b[0m   ctx\u001b[39m.\u001b[39mensure_initialized()\n\u001b[1;32m---> 54\u001b[0m   tensors \u001b[39m=\u001b[39m pywrap_tfe\u001b[39m.\u001b[39mTFE_Py_Execute(ctx\u001b[39m.\u001b[39m_handle, device_name, op_name,\n\u001b[0;32m     55\u001b[0m                                       inputs, attrs, num_outputs)\n\u001b[0;32m     56\u001b[0m \u001b[39mexcept\u001b[39;00m core\u001b[39m.\u001b[39m_NotOkStatusException \u001b[39mas\u001b[39;00m e:\n\u001b[0;32m     57\u001b[0m   \u001b[39mif\u001b[39;00m name \u001b[39mis\u001b[39;00m \u001b[39mnot\u001b[39;00m \u001b[39mNone\u001b[39;00m:\n",
      "\u001b[1;31mResourceExhaustedError\u001b[0m: Graph execution error:\n\nOOM when allocating tensor with shape[161878,320] and type float on /job:localhost/replica:0/task:0/device:GPU:0 by allocator GPU_0_bfc\n\t [[{{node EncoderDNN/EmbeddingLookup/EmbeddingLookupUnique/GatherV2}}]]\nHint: If you want to see a list of allocated tensors when OOM happens, add report_tensor_allocations_upon_oom to RunOptions for current allocation info. This isn't available when running in Eager mode.\n [Op:__inference_restored_function_body_33533]"
     ]
    }
   ],
   "source": [
    "# Model: kaggle, dense, nnlm\n",
    "from textattack.attack_recipes import TextBuggerLi2018 as attack_recipe\n",
    "\n",
    "# try first 10 example because quite slow attack speed\n",
    "i = 100\n",
    "train_dataset = []\n",
    "for example, label in zip(train_sentences[:i], train_labels[:i]):\n",
    "    train_dataset.append((example, int(label)))\n",
    "train_dataset = Dataset(train_dataset)\n",
    "\n",
    "model_wrapper = CustomTensorFlowModelWrapper(model)\n",
    "attack = attack_recipe.build(model_wrapper)\n",
    "\n",
    "attack_args = AttackArgs(\n",
    "    num_examples=i,\n",
    "    checkpoint_interval=20,\n",
    "    disable_stdout=True\n",
    ")\n",
    "\n",
    "attacker = Attacker(attack, train_dataset, attack_args)\n",
    "attacker.attack_dataset()"
   ]
  },
  {
   "attachments": {},
   "cell_type": "markdown",
   "metadata": {},
   "source": [
    "##### attack: liar + dense"
   ]
  },
  {
   "cell_type": "code",
   "execution_count": 4,
   "metadata": {},
   "outputs": [
    {
     "name": "stdout",
     "output_type": "stream",
     "text": [
      "WARNING:tensorflow:Please fix your imports. Module tensorflow.python.training.tracking.data_structures has been moved to tensorflow.python.trackable.data_structures. The old module will be deleted in version 2.11.\n"
     ]
    },
    {
     "name": "stderr",
     "output_type": "stream",
     "text": [
      "Please fix your imports. Module tensorflow.python.training.tracking.data_structures has been moved to tensorflow.python.trackable.data_structures. The old module will be deleted in version 2.11.\n"
     ]
    },
    {
     "name": "stdout",
     "output_type": "stream",
     "text": [
      "Model: \"sequential\"\n",
      "_________________________________________________________________\n",
      " Layer (type)                Output Shape              Param #   \n",
      "=================================================================\n",
      " keras_layer (KerasLayer)    (None, 128)               124642688 \n",
      "                                                                 \n",
      " dense (Dense)               (None, 64)                8256      \n",
      "                                                                 \n",
      " dense_1 (Dense)             (None, 1)                 65        \n",
      "                                                                 \n",
      "=================================================================\n",
      "Total params: 124,651,009\n",
      "Trainable params: 8,321\n",
      "Non-trainable params: 124,642,688\n",
      "_________________________________________________________________\n",
      "Epoch 1/5\n",
      "320/320 [==============================] - 2s 3ms/step - loss: 0.6649 - accuracy: 0.5900 - val_loss: 0.6553 - val_accuracy: 0.6117\n",
      "Epoch 2/5\n",
      "320/320 [==============================] - 1s 2ms/step - loss: 0.6568 - accuracy: 0.6059 - val_loss: 0.6549 - val_accuracy: 0.6164\n",
      "Epoch 3/5\n",
      "320/320 [==============================] - 1s 2ms/step - loss: 0.6547 - accuracy: 0.6065 - val_loss: 0.6595 - val_accuracy: 0.6109\n",
      "Epoch 4/5\n",
      "320/320 [==============================] - 1s 2ms/step - loss: 0.6545 - accuracy: 0.6096 - val_loss: 0.6554 - val_accuracy: 0.6077\n",
      "Epoch 5/5\n",
      "320/320 [==============================] - 1s 2ms/step - loss: 0.6532 - accuracy: 0.6109 - val_loss: 0.6555 - val_accuracy: 0.6109\n"
     ]
    }
   ],
   "source": [
    "# Model\n",
    "# Dataset: kaggle\n",
    "import tensorflow_hub as hub\n",
    "import tensorflow as tf\n",
    "\n",
    "model = tf.keras.Sequential()\n",
    "hub_layer = hub.KerasLayer(\"https://tfhub.dev/google/nnlm-en-dim128-with-normalization/2\", input_shape=[],\n",
    "                           dtype=tf.string, trainable=False)\n",
    "model.add(hub_layer)\n",
    "model.add(tf.keras.layers.Dense(64))\n",
    "model.add(tf.keras.layers.Dense(1,activation='sigmoid'))\n",
    "\n",
    "model.summary() \n",
    "model.compile(optimizer='adam',\n",
    "              loss=tf.keras.losses.BinaryCrossentropy(from_logits=True),\n",
    "              metrics=['accuracy'])\n",
    "\n",
    "# Fit the model\n",
    "model_history = model.fit(train_sentences,\n",
    "                          train_labels,\n",
    "                          epochs=5,\n",
    "                          validation_data=(val_sentences, val_labels))"
   ]
  },
  {
   "cell_type": "code",
   "execution_count": 5,
   "metadata": {},
   "outputs": [
    {
     "name": "stderr",
     "output_type": "stream",
     "text": [
      "[nltk_data] Downloading package omw-1.4 to\n",
      "[nltk_data]     C:\\Users\\mogut\\AppData\\Roaming\\nltk_data...\n",
      "[nltk_data]   Package omw-1.4 is already up-to-date!\n",
      "textattack: Unknown if model of class <class 'keras.engine.sequential.Sequential'> compatible with goal function <class 'textattack.goal_functions.classification.untargeted_classification.UntargetedClassification'>.\n"
     ]
    },
    {
     "name": "stdout",
     "output_type": "stream",
     "text": [
      "Attack(\n",
      "  (search_method): GreedyWordSwapWIR(\n",
      "    (wir_method):  weighted-saliency\n",
      "  )\n",
      "  (goal_function):  UntargetedClassification\n",
      "  (transformation):  WordSwapWordNet\n",
      "  (constraints): \n",
      "    (0): RepeatModification\n",
      "    (1): StopwordModification\n",
      "  (is_black_box):  True\n",
      ") \n",
      "\n"
     ]
    },
    {
     "name": "stderr",
     "output_type": "stream",
     "text": [
      "[Succeeded / Failed / Skipped / Total] 0 / 14 / 6 / 20:  20%|██        | 20/100 [00:01<00:06, 11.78it/s]textattack: Saving checkpoint under \"checkpoints\\1671066481571.ta.chkpt\" at 2022-12-14 20:08:01 after 20 attacks.\n",
      "[Succeeded / Failed / Skipped / Total] 0 / 16 / 7 / 23:  23%|██▎       | 23/100 [00:01<00:06, 12.34it/s]"
     ]
    },
    {
     "name": "stdout",
     "output_type": "stream",
     "text": [
      "\n",
      "\n",
      "=============================================================================================================================\n",
      "=============================================================================================================================\n",
      "\n"
     ]
    },
    {
     "name": "stderr",
     "output_type": "stream",
     "text": [
      "[Succeeded / Failed / Skipped / Total] 0 / 27 / 13 / 40:  40%|████      | 40/100 [00:02<00:04, 13.76it/s]textattack: Saving checkpoint under \"checkpoints\\1671066482783.ta.chkpt\" at 2022-12-14 20:08:02 after 40 attacks.\n",
      "[Succeeded / Failed / Skipped / Total] 0 / 29 / 20 / 49:  50%|█████     | 50/100 [00:03<00:03, 16.03it/s]"
     ]
    },
    {
     "name": "stdout",
     "output_type": "stream",
     "text": [
      "\n",
      "\n",
      "=============================================================================================================================\n",
      "=============================================================================================================================\n",
      "\n"
     ]
    },
    {
     "name": "stderr",
     "output_type": "stream",
     "text": [
      "[Succeeded / Failed / Skipped / Total] 0 / 34 / 26 / 60:  60%|██████    | 60/100 [00:03<00:02, 16.32it/s]textattack: Saving checkpoint under \"checkpoints\\1671066483551.ta.chkpt\" at 2022-12-14 20:08:03 after 60 attacks.\n",
      "[Succeeded / Failed / Skipped / Total] 0 / 36 / 27 / 63:  63%|██████▎   | 63/100 [00:03<00:02, 16.32it/s]"
     ]
    },
    {
     "name": "stdout",
     "output_type": "stream",
     "text": [
      "\n",
      "\n",
      "=============================================================================================================================\n",
      "=============================================================================================================================\n",
      "\n"
     ]
    },
    {
     "name": "stderr",
     "output_type": "stream",
     "text": [
      "[Succeeded / Failed / Skipped / Total] 0 / 44 / 36 / 80:  80%|████████  | 80/100 [00:04<00:01, 16.88it/s]textattack: Saving checkpoint under \"checkpoints\\1671066484613.ta.chkpt\" at 2022-12-14 20:08:04 after 80 attacks.\n",
      "[Succeeded / Failed / Skipped / Total] 0 / 45 / 36 / 81:  81%|████████  | 81/100 [00:04<00:01, 16.72it/s]"
     ]
    },
    {
     "name": "stdout",
     "output_type": "stream",
     "text": [
      "\n",
      "\n",
      "=============================================================================================================================\n",
      "=============================================================================================================================\n",
      "\n"
     ]
    },
    {
     "name": "stderr",
     "output_type": "stream",
     "text": [
      "[Succeeded / Failed / Skipped / Total] 0 / 57 / 43 / 100: 100%|██████████| 100/100 [00:06<00:00, 16.37it/s]textattack: Saving checkpoint under \"checkpoints\\1671066485983.ta.chkpt\" at 2022-12-14 20:08:05 after 100 attacks.\n",
      "[Succeeded / Failed / Skipped / Total] 0 / 57 / 43 / 100: 100%|██████████| 100/100 [00:06<00:00, 16.36it/s]"
     ]
    },
    {
     "name": "stdout",
     "output_type": "stream",
     "text": [
      "\n",
      "\n",
      "=============================================================================================================================\n",
      "=============================================================================================================================\n",
      "\n",
      "\n",
      "+-------------------------------+--------+\n",
      "| Attack Results                |        |\n",
      "+-------------------------------+--------+\n",
      "| Number of successful attacks: | 0      |\n",
      "| Number of failed attacks:     | 57     |\n",
      "| Number of skipped attacks:    | 43     |\n",
      "| Original accuracy:            | 57.0%  |\n",
      "| Accuracy under attack:        | 57.0%  |\n",
      "| Attack success rate:          | 0.0%   |\n",
      "| Average perturbed word %:     | nan%   |\n",
      "| Average num. words per input: | 17.7   |\n",
      "| Avg num queries:              | 180.07 |\n",
      "+-------------------------------+--------+\n"
     ]
    },
    {
     "name": "stderr",
     "output_type": "stream",
     "text": [
      "\n"
     ]
    },
    {
     "data": {
      "text/plain": [
       "[<textattack.attack_results.skipped_attack_result.SkippedAttackResult at 0x288fa80fca0>,\n",
       " <textattack.attack_results.failed_attack_result.FailedAttackResult at 0x288e70fb4f0>,\n",
       " <textattack.attack_results.failed_attack_result.FailedAttackResult at 0x288833b0c70>,\n",
       " <textattack.attack_results.skipped_attack_result.SkippedAttackResult at 0x288fa7ed040>,\n",
       " <textattack.attack_results.failed_attack_result.FailedAttackResult at 0x288e23d72b0>,\n",
       " <textattack.attack_results.failed_attack_result.FailedAttackResult at 0x288eeca11f0>,\n",
       " <textattack.attack_results.skipped_attack_result.SkippedAttackResult at 0x288eeca69a0>,\n",
       " <textattack.attack_results.failed_attack_result.FailedAttackResult at 0x288e23f99a0>,\n",
       " <textattack.attack_results.failed_attack_result.FailedAttackResult at 0x288eec58a00>,\n",
       " <textattack.attack_results.failed_attack_result.FailedAttackResult at 0x288eec9fd90>,\n",
       " <textattack.attack_results.failed_attack_result.FailedAttackResult at 0x288da42fa90>,\n",
       " <textattack.attack_results.failed_attack_result.FailedAttackResult at 0x288eecb5d00>,\n",
       " <textattack.attack_results.skipped_attack_result.SkippedAttackResult at 0x288fa81a340>,\n",
       " <textattack.attack_results.failed_attack_result.FailedAttackResult at 0x288fa870160>,\n",
       " <textattack.attack_results.skipped_attack_result.SkippedAttackResult at 0x288fa8b6a00>,\n",
       " <textattack.attack_results.failed_attack_result.FailedAttackResult at 0x288eec687c0>,\n",
       " <textattack.attack_results.failed_attack_result.FailedAttackResult at 0x288eec377c0>,\n",
       " <textattack.attack_results.skipped_attack_result.SkippedAttackResult at 0x288eeaa0850>,\n",
       " <textattack.attack_results.failed_attack_result.FailedAttackResult at 0x288eeaaf7c0>,\n",
       " <textattack.attack_results.failed_attack_result.FailedAttackResult at 0x288fd999f10>,\n",
       " <textattack.attack_results.skipped_attack_result.SkippedAttackResult at 0x288fd999940>,\n",
       " <textattack.attack_results.failed_attack_result.FailedAttackResult at 0x288eec81d90>,\n",
       " <textattack.attack_results.failed_attack_result.FailedAttackResult at 0x288fd969af0>,\n",
       " <textattack.attack_results.failed_attack_result.FailedAttackResult at 0x288eecaf9a0>,\n",
       " <textattack.attack_results.skipped_attack_result.SkippedAttackResult at 0x289c818a9d0>,\n",
       " <textattack.attack_results.skipped_attack_result.SkippedAttackResult at 0x288fa7edb20>,\n",
       " <textattack.attack_results.failed_attack_result.FailedAttackResult at 0x288fa87b970>,\n",
       " <textattack.attack_results.failed_attack_result.FailedAttackResult at 0x288fd9879d0>,\n",
       " <textattack.attack_results.skipped_attack_result.SkippedAttackResult at 0x288fa7d3a90>,\n",
       " <textattack.attack_results.failed_attack_result.FailedAttackResult at 0x288fd99b670>,\n",
       " <textattack.attack_results.failed_attack_result.FailedAttackResult at 0x288fa8944f0>,\n",
       " <textattack.attack_results.skipped_attack_result.SkippedAttackResult at 0x289c8173be0>,\n",
       " <textattack.attack_results.skipped_attack_result.SkippedAttackResult at 0x289c8145340>,\n",
       " <textattack.attack_results.failed_attack_result.FailedAttackResult at 0x289c81a25e0>,\n",
       " <textattack.attack_results.failed_attack_result.FailedAttackResult at 0x289c81b9760>,\n",
       " <textattack.attack_results.failed_attack_result.FailedAttackResult at 0x289c81264c0>,\n",
       " <textattack.attack_results.failed_attack_result.FailedAttackResult at 0x289c8126d90>,\n",
       " <textattack.attack_results.failed_attack_result.FailedAttackResult at 0x288fa8acf70>,\n",
       " <textattack.attack_results.skipped_attack_result.SkippedAttackResult at 0x288fa8aceb0>,\n",
       " <textattack.attack_results.failed_attack_result.FailedAttackResult at 0x289c81b9880>,\n",
       " <textattack.attack_results.skipped_attack_result.SkippedAttackResult at 0x289c81d01c0>,\n",
       " <textattack.attack_results.failed_attack_result.FailedAttackResult at 0x288eeaac220>,\n",
       " <textattack.attack_results.skipped_attack_result.SkippedAttackResult at 0x288ed921d30>,\n",
       " <textattack.attack_results.skipped_attack_result.SkippedAttackResult at 0x288eec81340>,\n",
       " <textattack.attack_results.skipped_attack_result.SkippedAttackResult at 0x289c81b95e0>,\n",
       " <textattack.attack_results.failed_attack_result.FailedAttackResult at 0x289c815da00>,\n",
       " <textattack.attack_results.skipped_attack_result.SkippedAttackResult at 0x288eec80760>,\n",
       " <textattack.attack_results.skipped_attack_result.SkippedAttackResult at 0x289c8126df0>,\n",
       " <textattack.attack_results.skipped_attack_result.SkippedAttackResult at 0x289c8126a60>,\n",
       " <textattack.attack_results.failed_attack_result.FailedAttackResult at 0x289c8a5ab20>,\n",
       " <textattack.attack_results.skipped_attack_result.SkippedAttackResult at 0x289c81260d0>,\n",
       " <textattack.attack_results.skipped_attack_result.SkippedAttackResult at 0x289c8a5a400>,\n",
       " <textattack.attack_results.skipped_attack_result.SkippedAttackResult at 0x289c8be20d0>,\n",
       " <textattack.attack_results.failed_attack_result.FailedAttackResult at 0x289c815d6d0>,\n",
       " <textattack.attack_results.skipped_attack_result.SkippedAttackResult at 0x289c81736d0>,\n",
       " <textattack.attack_results.failed_attack_result.FailedAttackResult at 0x289c8a5a970>,\n",
       " <textattack.attack_results.failed_attack_result.FailedAttackResult at 0x288fa894ca0>,\n",
       " <textattack.attack_results.skipped_attack_result.SkippedAttackResult at 0x289c8173910>,\n",
       " <textattack.attack_results.skipped_attack_result.SkippedAttackResult at 0x289c8173100>,\n",
       " <textattack.attack_results.failed_attack_result.FailedAttackResult at 0x289c8173640>,\n",
       " <textattack.attack_results.skipped_attack_result.SkippedAttackResult at 0x289c815d280>,\n",
       " <textattack.attack_results.failed_attack_result.FailedAttackResult at 0x289c818aca0>,\n",
       " <textattack.attack_results.failed_attack_result.FailedAttackResult at 0x289c81b9d90>,\n",
       " <textattack.attack_results.failed_attack_result.FailedAttackResult at 0x288eec4a3a0>,\n",
       " <textattack.attack_results.skipped_attack_result.SkippedAttackResult at 0x289c8a21730>,\n",
       " <textattack.attack_results.skipped_attack_result.SkippedAttackResult at 0x289c8a21a00>,\n",
       " <textattack.attack_results.failed_attack_result.FailedAttackResult at 0x289c81a29d0>,\n",
       " <textattack.attack_results.skipped_attack_result.SkippedAttackResult at 0x289c8a35f40>,\n",
       " <textattack.attack_results.skipped_attack_result.SkippedAttackResult at 0x289c8145520>,\n",
       " <textattack.attack_results.skipped_attack_result.SkippedAttackResult at 0x289c81a2520>,\n",
       " <textattack.attack_results.failed_attack_result.FailedAttackResult at 0x289c8be8ee0>,\n",
       " <textattack.attack_results.skipped_attack_result.SkippedAttackResult at 0x289c818aeb0>,\n",
       " <textattack.attack_results.failed_attack_result.FailedAttackResult at 0x289c8a35fd0>,\n",
       " <textattack.attack_results.failed_attack_result.FailedAttackResult at 0x289c8173b50>,\n",
       " <textattack.attack_results.failed_attack_result.FailedAttackResult at 0x289c8d55eb0>,\n",
       " <textattack.attack_results.failed_attack_result.FailedAttackResult at 0x289c8d55b50>,\n",
       " <textattack.attack_results.skipped_attack_result.SkippedAttackResult at 0x289c8be81f0>,\n",
       " <textattack.attack_results.skipped_attack_result.SkippedAttackResult at 0x289c8d55e50>,\n",
       " <textattack.attack_results.skipped_attack_result.SkippedAttackResult at 0x289c8c38970>,\n",
       " <textattack.attack_results.failed_attack_result.FailedAttackResult at 0x289c8d69100>,\n",
       " <textattack.attack_results.failed_attack_result.FailedAttackResult at 0x289c8145f40>,\n",
       " <textattack.attack_results.failed_attack_result.FailedAttackResult at 0x289c818a460>,\n",
       " <textattack.attack_results.skipped_attack_result.SkippedAttackResult at 0x289c8be2e50>,\n",
       " <textattack.attack_results.skipped_attack_result.SkippedAttackResult at 0x289c8d55820>,\n",
       " <textattack.attack_results.failed_attack_result.FailedAttackResult at 0x288e770fb50>,\n",
       " <textattack.attack_results.failed_attack_result.FailedAttackResult at 0x288e23fca00>,\n",
       " <textattack.attack_results.failed_attack_result.FailedAttackResult at 0x288ed921f40>,\n",
       " <textattack.attack_results.failed_attack_result.FailedAttackResult at 0x288fa86d8b0>,\n",
       " <textattack.attack_results.skipped_attack_result.SkippedAttackResult at 0x289c8de22e0>,\n",
       " <textattack.attack_results.skipped_attack_result.SkippedAttackResult at 0x289c8de2310>,\n",
       " <textattack.attack_results.skipped_attack_result.SkippedAttackResult at 0x288fa8156d0>,\n",
       " <textattack.attack_results.failed_attack_result.FailedAttackResult at 0x288fa8b5e80>,\n",
       " <textattack.attack_results.failed_attack_result.FailedAttackResult at 0x288fa8b63d0>,\n",
       " <textattack.attack_results.failed_attack_result.FailedAttackResult at 0x288d41d2f70>,\n",
       " <textattack.attack_results.skipped_attack_result.SkippedAttackResult at 0x288fa87b160>,\n",
       " <textattack.attack_results.skipped_attack_result.SkippedAttackResult at 0x288fa87bf10>,\n",
       " <textattack.attack_results.failed_attack_result.FailedAttackResult at 0x288eec3efd0>,\n",
       " <textattack.attack_results.failed_attack_result.FailedAttackResult at 0x288eec9ff40>,\n",
       " <textattack.attack_results.failed_attack_result.FailedAttackResult at 0x288fa801430>,\n",
       " <textattack.attack_results.failed_attack_result.FailedAttackResult at 0x288eecb5ac0>]"
      ]
     },
     "execution_count": 5,
     "metadata": {},
     "output_type": "execute_result"
    }
   ],
   "source": [
    "# Model: kaggle, dense, nnlm\n",
    "from textattack.attack_recipes import PWWSRen2019 as attack_recipe\n",
    "\n",
    "# try first 10 example because quite slow attack speed\n",
    "i = 100  \n",
    "train_dataset = []\n",
    "for example, label in zip(train_sentences[:i], train_labels[:i]):\n",
    "    train_dataset.append((example, int(label)))\n",
    "train_dataset = Dataset(train_dataset)\n",
    "\n",
    "model_wrapper = CustomTensorFlowModelWrapper(model)\n",
    "attack = attack_recipe.build(model_wrapper)\n",
    "\n",
    "attack_args = AttackArgs(\n",
    "    num_examples=i,\n",
    "    checkpoint_interval=20,\n",
    "    disable_stdout=True\n",
    ")\n",
    "\n",
    "attacker = Attacker(attack, train_dataset, attack_args)\n",
    "attacker.attack_dataset()"
   ]
  },
  {
   "cell_type": "code",
   "execution_count": 6,
   "metadata": {},
   "outputs": [
    {
     "name": "stderr",
     "output_type": "stream",
     "text": [
      "textattack: Unknown if model of class <class 'keras.engine.sequential.Sequential'> compatible with goal function <class 'textattack.goal_functions.classification.untargeted_classification.UntargetedClassification'>.\n"
     ]
    },
    {
     "name": "stdout",
     "output_type": "stream",
     "text": [
      "Attack(\n",
      "  (search_method): GreedyWordSwapWIR(\n",
      "    (wir_method):  delete\n",
      "  )\n",
      "  (goal_function):  UntargetedClassification\n",
      "  (transformation):  CompositeTransformation(\n",
      "    (0): WordSwapRandomCharacterInsertion(\n",
      "        (random_one):  True\n",
      "      )\n",
      "    (1): WordSwapRandomCharacterDeletion(\n",
      "        (random_one):  True\n",
      "      )\n",
      "    (2): WordSwapNeighboringCharacterSwap(\n",
      "        (random_one):  True\n",
      "      )\n",
      "    (3): WordSwapHomoglyphSwap\n",
      "    (4): WordSwapEmbedding(\n",
      "        (max_candidates):  5\n",
      "        (embedding):  WordEmbedding\n",
      "      )\n",
      "    )\n",
      "  (constraints): \n",
      "    (0): UniversalSentenceEncoder(\n",
      "        (metric):  angular\n",
      "        (threshold):  0.8\n",
      "        (window_size):  inf\n",
      "        (skip_text_shorter_than_window):  False\n",
      "        (compare_against_original):  True\n",
      "      )\n",
      "    (1): RepeatModification\n",
      "    (2): StopwordModification\n",
      "  (is_black_box):  True\n",
      ") \n",
      "\n"
     ]
    },
    {
     "name": "stderr",
     "output_type": "stream",
     "text": [
      "[Succeeded / Failed / Skipped / Total] 0 / 14 / 6 / 20:  20%|██        | 20/100 [00:07<00:28,  2.82it/s]textattack: Saving checkpoint under \"checkpoints\\1671066517527.ta.chkpt\" at 2022-12-14 20:08:37 after 20 attacks.\n",
      "[Succeeded / Failed / Skipped / Total] 0 / 15 / 7 / 22:  22%|██▏       | 22/100 [00:07<00:25,  3.05it/s]"
     ]
    },
    {
     "name": "stdout",
     "output_type": "stream",
     "text": [
      "\n",
      "\n",
      "=============================================================================================================================\n",
      "=============================================================================================================================\n",
      "\n"
     ]
    },
    {
     "name": "stderr",
     "output_type": "stream",
     "text": [
      "[Succeeded / Failed / Skipped / Total] 0 / 27 / 13 / 40:  40%|████      | 40/100 [00:09<00:13,  4.41it/s]textattack: Saving checkpoint under \"checkpoints\\1671066519493.ta.chkpt\" at 2022-12-14 20:08:39 after 40 attacks.\n",
      "[Succeeded / Failed / Skipped / Total] 0 / 27 / 14 / 41:  42%|████▏     | 42/100 [00:09<00:12,  4.54it/s]"
     ]
    },
    {
     "name": "stdout",
     "output_type": "stream",
     "text": [
      "\n",
      "\n",
      "=============================================================================================================================\n",
      "=============================================================================================================================\n",
      "\n"
     ]
    },
    {
     "name": "stderr",
     "output_type": "stream",
     "text": [
      "[Succeeded / Failed / Skipped / Total] 0 / 34 / 26 / 60:  60%|██████    | 60/100 [00:10<00:06,  5.90it/s]textattack: Saving checkpoint under \"checkpoints\\1671066520602.ta.chkpt\" at 2022-12-14 20:08:40 after 60 attacks.\n",
      "[Succeeded / Failed / Skipped / Total] 0 / 35 / 27 / 62:  62%|██████▏   | 62/100 [00:10<00:06,  6.01it/s]"
     ]
    },
    {
     "name": "stdout",
     "output_type": "stream",
     "text": [
      "\n",
      "\n",
      "=============================================================================================================================\n",
      "=============================================================================================================================\n",
      "\n"
     ]
    },
    {
     "name": "stderr",
     "output_type": "stream",
     "text": [
      "[Succeeded / Failed / Skipped / Total] 0 / 44 / 36 / 80:  80%|████████  | 80/100 [00:11<00:02,  6.79it/s]textattack: Saving checkpoint under \"checkpoints\\1671066522205.ta.chkpt\" at 2022-12-14 20:08:42 after 80 attacks.\n",
      "[Succeeded / Failed / Skipped / Total] 0 / 45 / 36 / 81:  81%|████████  | 81/100 [00:11<00:02,  6.80it/s]"
     ]
    },
    {
     "name": "stdout",
     "output_type": "stream",
     "text": [
      "\n",
      "\n",
      "=============================================================================================================================\n",
      "=============================================================================================================================\n",
      "\n"
     ]
    },
    {
     "name": "stderr",
     "output_type": "stream",
     "text": [
      "[Succeeded / Failed / Skipped / Total] 0 / 57 / 43 / 100: 100%|██████████| 100/100 [00:13<00:00,  7.54it/s]textattack: Saving checkpoint under \"checkpoints\\1671066523691.ta.chkpt\" at 2022-12-14 20:08:43 after 100 attacks.\n",
      "[Succeeded / Failed / Skipped / Total] 0 / 57 / 43 / 100: 100%|██████████| 100/100 [00:13<00:00,  7.54it/s]"
     ]
    },
    {
     "name": "stdout",
     "output_type": "stream",
     "text": [
      "\n",
      "\n",
      "=============================================================================================================================\n",
      "=============================================================================================================================\n",
      "\n",
      "\n",
      "+-------------------------------+-------+\n",
      "| Attack Results                |       |\n",
      "+-------------------------------+-------+\n",
      "| Number of successful attacks: | 0     |\n",
      "| Number of failed attacks:     | 57    |\n",
      "| Number of skipped attacks:    | 43    |\n",
      "| Original accuracy:            | 57.0% |\n",
      "| Accuracy under attack:        | 57.0% |\n",
      "| Attack success rate:          | 0.0%  |\n",
      "| Average perturbed word %:     | nan%  |\n",
      "| Average num. words per input: | 17.7  |\n",
      "| Avg num queries:              | 66.42 |\n",
      "+-------------------------------+-------+\n"
     ]
    },
    {
     "name": "stderr",
     "output_type": "stream",
     "text": [
      "\n"
     ]
    },
    {
     "data": {
      "text/plain": [
       "[<textattack.attack_results.skipped_attack_result.SkippedAttackResult at 0x288832c0d60>,\n",
       " <textattack.attack_results.failed_attack_result.FailedAttackResult at 0x288fd99ce80>,\n",
       " <textattack.attack_results.failed_attack_result.FailedAttackResult at 0x288eec68100>,\n",
       " <textattack.attack_results.skipped_attack_result.SkippedAttackResult at 0x288fa8b5cd0>,\n",
       " <textattack.attack_results.failed_attack_result.FailedAttackResult at 0x289d9c6f880>,\n",
       " <textattack.attack_results.failed_attack_result.FailedAttackResult at 0x288fa877a00>,\n",
       " <textattack.attack_results.skipped_attack_result.SkippedAttackResult at 0x288eeaaf550>,\n",
       " <textattack.attack_results.failed_attack_result.FailedAttackResult at 0x2890cf4c190>,\n",
       " <textattack.attack_results.failed_attack_result.FailedAttackResult at 0x288fd987610>,\n",
       " <textattack.attack_results.failed_attack_result.FailedAttackResult at 0x289d9c42cd0>,\n",
       " <textattack.attack_results.failed_attack_result.FailedAttackResult at 0x288fa87be80>,\n",
       " <textattack.attack_results.failed_attack_result.FailedAttackResult at 0x289d9c42be0>,\n",
       " <textattack.attack_results.skipped_attack_result.SkippedAttackResult at 0x288fa869b50>,\n",
       " <textattack.attack_results.failed_attack_result.FailedAttackResult at 0x288fa7d5fa0>,\n",
       " <textattack.attack_results.skipped_attack_result.SkippedAttackResult at 0x288fd987490>,\n",
       " <textattack.attack_results.failed_attack_result.FailedAttackResult at 0x2890cf4c070>,\n",
       " <textattack.attack_results.failed_attack_result.FailedAttackResult at 0x289db4f8e20>,\n",
       " <textattack.attack_results.skipped_attack_result.SkippedAttackResult at 0x289db4f8eb0>,\n",
       " <textattack.attack_results.failed_attack_result.FailedAttackResult at 0x289dd6b6bb0>,\n",
       " <textattack.attack_results.failed_attack_result.FailedAttackResult at 0x289db1b4430>,\n",
       " <textattack.attack_results.skipped_attack_result.SkippedAttackResult at 0x289db1b4b20>,\n",
       " <textattack.attack_results.failed_attack_result.FailedAttackResult at 0x289db84d8e0>,\n",
       " <textattack.attack_results.failed_attack_result.FailedAttackResult at 0x289d9c42b20>,\n",
       " <textattack.attack_results.failed_attack_result.FailedAttackResult at 0x289db4f8c70>,\n",
       " <textattack.attack_results.skipped_attack_result.SkippedAttackResult at 0x289db4f8220>,\n",
       " <textattack.attack_results.skipped_attack_result.SkippedAttackResult at 0x289db4f80a0>,\n",
       " <textattack.attack_results.failed_attack_result.FailedAttackResult at 0x289db4f8580>,\n",
       " <textattack.attack_results.failed_attack_result.FailedAttackResult at 0x289db1da7f0>,\n",
       " <textattack.attack_results.skipped_attack_result.SkippedAttackResult at 0x289db1dabb0>,\n",
       " <textattack.attack_results.failed_attack_result.FailedAttackResult at 0x289db1b4d30>,\n",
       " <textattack.attack_results.failed_attack_result.FailedAttackResult at 0x289db1da130>,\n",
       " <textattack.attack_results.skipped_attack_result.SkippedAttackResult at 0x289db1da910>,\n",
       " <textattack.attack_results.skipped_attack_result.SkippedAttackResult at 0x289db84d280>,\n",
       " <textattack.attack_results.failed_attack_result.FailedAttackResult at 0x289db4f8760>,\n",
       " <textattack.attack_results.failed_attack_result.FailedAttackResult at 0x289db4d31f0>,\n",
       " <textattack.attack_results.failed_attack_result.FailedAttackResult at 0x289dd47e2e0>,\n",
       " <textattack.attack_results.failed_attack_result.FailedAttackResult at 0x289dd00a640>,\n",
       " <textattack.attack_results.failed_attack_result.FailedAttackResult at 0x289db1b4c10>,\n",
       " <textattack.attack_results.skipped_attack_result.SkippedAttackResult at 0x289db1b4460>,\n",
       " <textattack.attack_results.failed_attack_result.FailedAttackResult at 0x289db1da280>,\n",
       " <textattack.attack_results.skipped_attack_result.SkippedAttackResult at 0x289db1da6a0>,\n",
       " <textattack.attack_results.failed_attack_result.FailedAttackResult at 0x288fa87b250>,\n",
       " <textattack.attack_results.skipped_attack_result.SkippedAttackResult at 0x289dd0406a0>,\n",
       " <textattack.attack_results.skipped_attack_result.SkippedAttackResult at 0x289dd040610>,\n",
       " <textattack.attack_results.skipped_attack_result.SkippedAttackResult at 0x289dd040be0>,\n",
       " <textattack.attack_results.failed_attack_result.FailedAttackResult at 0x289db4f82b0>,\n",
       " <textattack.attack_results.skipped_attack_result.SkippedAttackResult at 0x289dd6b6a30>,\n",
       " <textattack.attack_results.skipped_attack_result.SkippedAttackResult at 0x289db1dae20>,\n",
       " <textattack.attack_results.skipped_attack_result.SkippedAttackResult at 0x289dd6b6f70>,\n",
       " <textattack.attack_results.failed_attack_result.FailedAttackResult at 0x289db1b4a30>,\n",
       " <textattack.attack_results.skipped_attack_result.SkippedAttackResult at 0x289db1b4310>,\n",
       " <textattack.attack_results.skipped_attack_result.SkippedAttackResult at 0x289db1b4c40>,\n",
       " <textattack.attack_results.skipped_attack_result.SkippedAttackResult at 0x289dd828730>,\n",
       " <textattack.attack_results.failed_attack_result.FailedAttackResult at 0x289db1b4670>,\n",
       " <textattack.attack_results.skipped_attack_result.SkippedAttackResult at 0x289db4f82e0>,\n",
       " <textattack.attack_results.failed_attack_result.FailedAttackResult at 0x289ddb74940>,\n",
       " <textattack.attack_results.failed_attack_result.FailedAttackResult at 0x289dd00a6d0>,\n",
       " <textattack.attack_results.skipped_attack_result.SkippedAttackResult at 0x289dd00ac70>,\n",
       " <textattack.attack_results.skipped_attack_result.SkippedAttackResult at 0x289dd00ab20>,\n",
       " <textattack.attack_results.failed_attack_result.FailedAttackResult at 0x289dd040370>,\n",
       " <textattack.attack_results.skipped_attack_result.SkippedAttackResult at 0x289db1dae80>,\n",
       " <textattack.attack_results.failed_attack_result.FailedAttackResult at 0x289db1dab80>,\n",
       " <textattack.attack_results.failed_attack_result.FailedAttackResult at 0x289db1daf70>,\n",
       " <textattack.attack_results.failed_attack_result.FailedAttackResult at 0x288fa8ac3a0>,\n",
       " <textattack.attack_results.skipped_attack_result.SkippedAttackResult at 0x289dd47e490>,\n",
       " <textattack.attack_results.skipped_attack_result.SkippedAttackResult at 0x289dd47e220>,\n",
       " <textattack.attack_results.failed_attack_result.FailedAttackResult at 0x289dd828280>,\n",
       " <textattack.attack_results.skipped_attack_result.SkippedAttackResult at 0x289dd828fa0>,\n",
       " <textattack.attack_results.skipped_attack_result.SkippedAttackResult at 0x289dd8285e0>,\n",
       " <textattack.attack_results.skipped_attack_result.SkippedAttackResult at 0x289dd828250>,\n",
       " <textattack.attack_results.failed_attack_result.FailedAttackResult at 0x289dd00a970>,\n",
       " <textattack.attack_results.skipped_attack_result.SkippedAttackResult at 0x289dd00a7c0>,\n",
       " <textattack.attack_results.failed_attack_result.FailedAttackResult at 0x289db1b41c0>,\n",
       " <textattack.attack_results.failed_attack_result.FailedAttackResult at 0x289db84d460>,\n",
       " <textattack.attack_results.failed_attack_result.FailedAttackResult at 0x289dd00a790>,\n",
       " <textattack.attack_results.failed_attack_result.FailedAttackResult at 0x289dd00a820>,\n",
       " <textattack.attack_results.skipped_attack_result.SkippedAttackResult at 0x289dd00ae20>,\n",
       " <textattack.attack_results.skipped_attack_result.SkippedAttackResult at 0x289dd00a4f0>,\n",
       " <textattack.attack_results.skipped_attack_result.SkippedAttackResult at 0x289dd00abe0>,\n",
       " <textattack.attack_results.failed_attack_result.FailedAttackResult at 0x289dd47e5b0>,\n",
       " <textattack.attack_results.failed_attack_result.FailedAttackResult at 0x289db1b4280>,\n",
       " <textattack.attack_results.failed_attack_result.FailedAttackResult at 0x289db1da2e0>,\n",
       " <textattack.attack_results.skipped_attack_result.SkippedAttackResult at 0x289dd00a7f0>,\n",
       " <textattack.attack_results.skipped_attack_result.SkippedAttackResult at 0x289db4f8d00>,\n",
       " <textattack.attack_results.failed_attack_result.FailedAttackResult at 0x289db1da400>,\n",
       " <textattack.attack_results.failed_attack_result.FailedAttackResult at 0x289dafb5f70>,\n",
       " <textattack.attack_results.failed_attack_result.FailedAttackResult at 0x289db1da880>,\n",
       " <textattack.attack_results.failed_attack_result.FailedAttackResult at 0x289db4f81f0>,\n",
       " <textattack.attack_results.skipped_attack_result.SkippedAttackResult at 0x289db84d130>,\n",
       " <textattack.attack_results.skipped_attack_result.SkippedAttackResult at 0x289db84dd60>,\n",
       " <textattack.attack_results.skipped_attack_result.SkippedAttackResult at 0x289db84df10>,\n",
       " <textattack.attack_results.failed_attack_result.FailedAttackResult at 0x289dba840a0>,\n",
       " <textattack.attack_results.failed_attack_result.FailedAttackResult at 0x289ddb74f70>,\n",
       " <textattack.attack_results.failed_attack_result.FailedAttackResult at 0x289dd00a220>,\n",
       " <textattack.attack_results.skipped_attack_result.SkippedAttackResult at 0x289dd79b460>,\n",
       " <textattack.attack_results.skipped_attack_result.SkippedAttackResult at 0x289dd79bee0>,\n",
       " <textattack.attack_results.failed_attack_result.FailedAttackResult at 0x289dd6b6100>,\n",
       " <textattack.attack_results.failed_attack_result.FailedAttackResult at 0x289dd828100>,\n",
       " <textattack.attack_results.failed_attack_result.FailedAttackResult at 0x289db84df40>,\n",
       " <textattack.attack_results.failed_attack_result.FailedAttackResult at 0x289ddb96ac0>]"
      ]
     },
     "execution_count": 6,
     "metadata": {},
     "output_type": "execute_result"
    }
   ],
   "source": [
    "# Model: kaggle, dense, nnlm\n",
    "from textattack.attack_recipes import TextBuggerLi2018 as attack_recipe\n",
    "\n",
    "# try first 10 example because quite slow attack speed\n",
    "i = 100\n",
    "train_dataset = []\n",
    "for example, label in zip(train_sentences[:i], train_labels[:i]):\n",
    "    train_dataset.append((example, int(label)))\n",
    "train_dataset = Dataset(train_dataset)\n",
    "\n",
    "model_wrapper = CustomTensorFlowModelWrapper(model)\n",
    "attack = attack_recipe.build(model_wrapper)\n",
    "\n",
    "attack_args = AttackArgs(\n",
    "    num_examples=i,\n",
    "    checkpoint_interval=20,\n",
    "    disable_stdout=True\n",
    ")\n",
    "\n",
    "attacker = Attacker(attack, train_dataset, attack_args)\n",
    "attacker.attack_dataset()"
   ]
  },
  {
   "attachments": {},
   "cell_type": "markdown",
   "metadata": {},
   "source": [
    "##### Show attack detail"
   ]
  },
  {
   "cell_type": "code",
   "execution_count": 3,
   "metadata": {},
   "outputs": [
    {
     "name": "stdout",
     "output_type": "stream",
     "text": [
      "WARNING:tensorflow:Please fix your imports. Module tensorflow.python.training.tracking.data_structures has been moved to tensorflow.python.trackable.data_structures. The old module will be deleted in version 2.11.\n",
      "Model: \"sequential\"\n",
      "_________________________________________________________________\n",
      " Layer (type)                Output Shape              Param #   \n",
      "=================================================================\n",
      " keras_layer (KerasLayer)    (None, 128)               124642688 \n",
      "                                                                 \n",
      " dense (Dense)               (None, 64)                8256      \n",
      "                                                                 \n",
      " dense_1 (Dense)             (None, 1)                 65        \n",
      "                                                                 \n",
      "=================================================================\n",
      "Total params: 124,651,009\n",
      "Trainable params: 8,321\n",
      "Non-trainable params: 124,642,688\n",
      "_________________________________________________________________\n",
      "Epoch 1/5\n",
      "1123/1123 [==============================] - 4s 3ms/step - loss: 0.0387 - accuracy: 0.9926 - val_loss: 0.0092 - val_accuracy: 0.9978\n",
      "Epoch 2/5\n",
      "1123/1123 [==============================] - 3s 3ms/step - loss: 0.0105 - accuracy: 0.9967 - val_loss: 0.0079 - val_accuracy: 0.9986\n",
      "Epoch 3/5\n",
      "1123/1123 [==============================] - 3s 3ms/step - loss: 0.0090 - accuracy: 0.9974 - val_loss: 0.0087 - val_accuracy: 0.9981\n",
      "Epoch 4/5\n",
      "1123/1123 [==============================] - 3s 3ms/step - loss: 0.0086 - accuracy: 0.9974 - val_loss: 0.0086 - val_accuracy: 0.9981\n",
      "Epoch 5/5\n",
      "1123/1123 [==============================] - 3s 3ms/step - loss: 0.0082 - accuracy: 0.9975 - val_loss: 0.0080 - val_accuracy: 0.9986\n"
     ]
    }
   ],
   "source": [
    "# Model\n",
    "# Dataset: kaggle\n",
    "import tensorflow_hub as hub\n",
    "import tensorflow as tf\n",
    "\n",
    "model = tf.keras.Sequential()\n",
    "hub_layer = hub.KerasLayer(\"https://tfhub.dev/google/nnlm-en-dim128-with-normalization/2\", input_shape=[],\n",
    "                           dtype=tf.string, trainable=False)\n",
    "model.add(hub_layer)\n",
    "model.add(tf.keras.layers.Dense(64))\n",
    "model.add(tf.keras.layers.Dense(1,activation='sigmoid'))\n",
    "\n",
    "model.summary() \n",
    "model.compile(optimizer='adam',\n",
    "              loss=tf.keras.losses.BinaryCrossentropy(from_logits=True),\n",
    "              metrics=['accuracy'])\n",
    "\n",
    "# Fit the model\n",
    "model_history = model.fit(train_sentences,\n",
    "                          train_labels,\n",
    "                          epochs=5,\n",
    "                          validation_data=(val_sentences, val_labels))"
   ]
  },
  {
   "cell_type": "code",
   "execution_count": 7,
   "metadata": {},
   "outputs": [
    {
     "name": "stderr",
     "output_type": "stream",
     "text": [
      "[nltk_data] Downloading package omw-1.4 to\n",
      "[nltk_data]     C:\\Users\\mogut\\AppData\\Roaming\\nltk_data...\n",
      "[nltk_data]   Package omw-1.4 is already up-to-date!\n",
      "textattack: Unknown if model of class <class 'keras.engine.sequential.Sequential'> compatible with goal function <class 'textattack.goal_functions.classification.untargeted_classification.UntargetedClassification'>.\n"
     ]
    },
    {
     "name": "stdout",
     "output_type": "stream",
     "text": [
      "Attack(\n",
      "  (search_method): GreedyWordSwapWIR(\n",
      "    (wir_method):  weighted-saliency\n",
      "  )\n",
      "  (goal_function):  UntargetedClassification\n",
      "  (transformation):  WordSwapWordNet\n",
      "  (constraints): \n",
      "    (0): RepeatModification\n",
      "    (1): StopwordModification\n",
      "  (is_black_box):  True\n",
      ") \n",
      "\n"
     ]
    },
    {
     "name": "stderr",
     "output_type": "stream",
     "text": [
      "[Succeeded / Failed / Skipped / Total] 2 / 1 / 3 / 6:   6%|▌         | 6/100 [00:00<00:06, 15.35it/s]"
     ]
    },
    {
     "name": "stdout",
     "output_type": "stream",
     "text": [
      "--------------------------------------------- Result 1 ---------------------------------------------\n",
      "[[1 (73%)]] --> [[0 (50%)]]\n",
      "\n",
      "[[SOFT]] [[COUP]] [[ALERT]]: [[Shocking]] [[Percentage]] Of [[Negative]] [[Coverage]] [[On]] [[Trump]] [[Will]] [[Blow]] Your Mind!\n",
      "\n",
      "[[subdued]] [[takeover]] [[lively]]: [[traumatise]] [[pct]] Of [[veto]] [[coverage]] [[along]] [[outflank]] [[bequeath]] [[C]] Your Mind!\n",
      "\n",
      "\n",
      "--------------------------------------------- Result 2 ---------------------------------------------\n",
      "[[1 (73%)]] --> [[0 (50%)]]\n",
      "\n",
      "Trump [[Blasts]] Democrats: [[A]] ‘disgrace’ that [[Full]] Cabinet [[Not]] in [[Place]], ‘[[Obstruction]] by Democrats!’\n",
      "\n",
      "Trump [[blow]] Democrats: [[angstrom]] ‘disgrace’ that [[wide-cut]] Cabinet [[non]] in [[berth]], ‘[[obstacle]] by Democrats!’\n",
      "\n",
      "\n",
      "--------------------------------------------- Result 3 ---------------------------------------------\n",
      "[[1 (50%)]] --> [[[SKIPPED]]]\n",
      "\n",
      "House Republican leader sees Puerto Rico bill before July\n",
      "\n",
      "\n",
      "--------------------------------------------- Result 4 ---------------------------------------------\n",
      "[[1 (50%)]] --> [[[SKIPPED]]]\n",
      "\n",
      "U.S. lawmakers delay bill on European data privacy deal\n",
      "\n",
      "\n",
      "--------------------------------------------- Result 5 ---------------------------------------------\n",
      "[[1 (50%)]] --> [[[SKIPPED]]]\n",
      "\n",
      "China paves way for prosecuting disgraced senior politician\n",
      "\n",
      "\n",
      "--------------------------------------------- Result 6 ---------------------------------------------\n",
      "[[1 (73%)]] --> [[[FAILED]]]\n",
      "\n",
      " Billboard With Reagan Quote Stands Outside GOP Convention, And Conservatives REALLY Won’t Like It\n",
      "\n",
      "\n"
     ]
    },
    {
     "name": "stderr",
     "output_type": "stream",
     "text": [
      "[Succeeded / Failed / Skipped / Total] 3 / 4 / 5 / 12:  12%|█▏        | 12/100 [00:00<00:04, 18.31it/s]"
     ]
    },
    {
     "name": "stdout",
     "output_type": "stream",
     "text": [
      "--------------------------------------------- Result 7 ---------------------------------------------\n",
      "[[1 (73%)]] --> [[[FAILED]]]\n",
      "\n",
      "NC TEACHER SIGNS UP FIRST GRADERS For Black Lives Matter Protest With No Consent\n",
      "\n",
      "\n",
      "--------------------------------------------- Result 8 ---------------------------------------------\n",
      "[[0 (50%)]] --> [[1 (50%)]]\n",
      "\n",
      "China [[considers]] three-year jail terms for disrespecting national anthem, flag\n",
      "\n",
      "China [[deliberate]] three-year jail terms for disrespecting national anthem, flag\n",
      "\n",
      "\n",
      "--------------------------------------------- Result 9 ---------------------------------------------\n",
      "[[1 (50%)]] --> [[[SKIPPED]]]\n",
      "\n",
      "Over $500 million in Thai bank shares transferred on behalf of king: SEC\n",
      "\n",
      "\n",
      "--------------------------------------------- Result 10 ---------------------------------------------\n",
      "[[1 (73%)]] --> [[[FAILED]]]\n",
      "\n",
      "HUGE HYPOCRITE ELIZABETH WARREN Exposed As “Capitalist Pig”\n",
      "\n",
      "\n",
      "--------------------------------------------- Result 11 ---------------------------------------------\n",
      "[[1 (73%)]] --> [[[FAILED]]]\n",
      "\n",
      " Donald Trump Accuses Pope Francis And Mexico Of Plotting The Takeover Of America (VIDEO)\n",
      "\n",
      "\n",
      "--------------------------------------------- Result 12 ---------------------------------------------\n",
      "[[1 (50%)]] --> [[[SKIPPED]]]\n",
      "\n",
      "Trump talks up 'New York values' as protesters demonstrate against him\n",
      "\n",
      "\n"
     ]
    },
    {
     "name": "stderr",
     "output_type": "stream",
     "text": [
      "[Succeeded / Failed / Skipped / Total] 3 / 6 / 6 / 15:  15%|█▌        | 15/100 [00:00<00:04, 18.31it/s]"
     ]
    },
    {
     "name": "stdout",
     "output_type": "stream",
     "text": [
      "--------------------------------------------- Result 13 ---------------------------------------------\n",
      "[[1 (73%)]] --> [[[FAILED]]]\n",
      "\n",
      "THROWBACK: HOW SOCIALIST BERNIE SANDERS Used Other People’s Money To Pay Family Members Over $150K\n",
      "\n",
      "\n",
      "--------------------------------------------- Result 14 ---------------------------------------------\n",
      "[[1 (73%)]] --> [[[FAILED]]]\n",
      "\n",
      "BUSTED! Proof That Trump Jr. Meeting With Russian Lawyer Was A Set-Up…DNC Payoff? [Video]\n",
      "\n",
      "\n",
      "--------------------------------------------- Result 15 ---------------------------------------------\n",
      "[[1 (50%)]] --> [[[SKIPPED]]]\n",
      "\n",
      "Invoking Orlando, Senate Republicans set up vote to expand FBI spying\n",
      "\n",
      "\n"
     ]
    },
    {
     "name": "stderr",
     "output_type": "stream",
     "text": [
      "[Succeeded / Failed / Skipped / Total] 4 / 7 / 7 / 18:  18%|█▊        | 18/100 [00:01<00:05, 16.30it/s]"
     ]
    },
    {
     "name": "stdout",
     "output_type": "stream",
     "text": [
      "--------------------------------------------- Result 16 ---------------------------------------------\n",
      "[[1 (73%)]] --> [[[FAILED]]]\n",
      "\n",
      "BREAKING UPDATE : POLICE OFFICER HAS DIED… [Video] PASSING MOTORISTS TACKLE MAN AFTER SHOOTING OFFICER IN HEAD DURING TRAFFIC STOP….Officer In Critical Condition\n",
      "\n",
      "\n",
      "--------------------------------------------- Result 17 ---------------------------------------------\n",
      "[[1 (50%)]] --> [[[SKIPPED]]]\n",
      "\n",
      "Merkel wants progress in coalition talks in 10 days\n",
      "\n",
      "\n",
      "--------------------------------------------- Result 18 ---------------------------------------------\n",
      "[[1 (73%)]] --> [[0 (50%)]]\n",
      "\n",
      " [[WATCH]]: Adam Schiff [[Double]] [[Dog]] [[Dares]] [[White]] House To [[Let]] Sally Yates [[Testify]]\n",
      "\n",
      " [[determine]]: Adam Schiff [[three-fold]] [[chase]] [[defy]] [[ashen]] House To [[lease]] Sally Yates [[attest]]\n",
      "\n",
      "\n"
     ]
    },
    {
     "name": "stderr",
     "output_type": "stream",
     "text": [
      "[Succeeded / Failed / Skipped / Total] 5 / 7 / 8 / 20:  20%|██        | 20/100 [00:01<00:04, 16.34it/s]textattack: Saving checkpoint under \"checkpoints\\1671077901875.ta.chkpt\" at 2022-12-14 23:18:21 after 20 attacks.\n"
     ]
    },
    {
     "name": "stdout",
     "output_type": "stream",
     "text": [
      "--------------------------------------------- Result 19 ---------------------------------------------\n",
      "[[1 (73%)]] --> [[0 (50%)]]\n",
      "\n",
      " Lisa [[Bloom]] [[Has]] [[FRIGHTENING]] [[Warning]] For The [[Future]] Of Roe [[V]]. [[Wade]] [[Under]] [[Trump]] ([[VIDEO]])\n",
      "\n",
      " Lisa [[blossom]] [[sustain]] [[dire]] [[monitory]] For The [[succeeding]] Of Roe [[five]]. [[wade]] [[below]] [[outflank]] ([[picture]])\n",
      "\n",
      "\n",
      "--------------------------------------------- Result 20 ---------------------------------------------\n",
      "[[1 (50%)]] --> [[[SKIPPED]]]\n",
      "\n",
      "Gunman attacks Saudi security forces at gate of Jeddah royal palace\n",
      "\n",
      "\n",
      "\n",
      "\n",
      "=============================================================================================================================\n",
      "=============================================================================================================================\n",
      "\n"
     ]
    },
    {
     "name": "stderr",
     "output_type": "stream",
     "text": [
      "[Succeeded / Failed / Skipped / Total] 5 / 8 / 12 / 25:  25%|██▌       | 25/100 [00:01<00:03, 19.06it/s]"
     ]
    },
    {
     "name": "stdout",
     "output_type": "stream",
     "text": [
      "--------------------------------------------- Result 21 ---------------------------------------------\n",
      "[[1 (73%)]] --> [[[FAILED]]]\n",
      "\n",
      "SICKENING! MTV HOST MOCKS Senator Jeff Sessions’ Asian Grandchildren\n",
      "\n",
      "\n",
      "--------------------------------------------- Result 22 ---------------------------------------------\n",
      "[[1 (50%)]] --> [[[SKIPPED]]]\n",
      "\n",
      "U.S. pulls out of human rights panel on Trump executive orders\n",
      "\n",
      "\n",
      "--------------------------------------------- Result 23 ---------------------------------------------\n",
      "[[1 (50%)]] --> [[[SKIPPED]]]\n",
      "\n",
      "Turkey says unacceptable to invite Syrian Kurdish YPG to Astana talks: Erdogan spokesman\n",
      "\n",
      "\n",
      "--------------------------------------------- Result 24 ---------------------------------------------\n",
      "[[1 (50%)]] --> [[[SKIPPED]]]\n",
      "\n",
      "U.S. conservative activist Phyllis Schlafly dead at 92\n",
      "\n",
      "\n",
      "--------------------------------------------- Result 25 ---------------------------------------------\n",
      "[[1 (50%)]] --> [[[SKIPPED]]]\n",
      "\n",
      "Explosion wounds five Bahraini policemen: agency\n",
      "\n",
      "\n"
     ]
    },
    {
     "name": "stderr",
     "output_type": "stream",
     "text": [
      "[Succeeded / Failed / Skipped / Total] 5 / 9 / 12 / 26:  26%|██▌       | 26/100 [00:01<00:04, 18.01it/s]"
     ]
    },
    {
     "name": "stdout",
     "output_type": "stream",
     "text": [
      "--------------------------------------------- Result 26 ---------------------------------------------\n",
      "[[1 (73%)]] --> [[[FAILED]]]\n",
      "\n",
      "WATCH: “It’s A Selfless Act”…Melania Trump Explains Why Donald Is Willing To Walk Away From His Business To MAKE AMERICA GREAT AGAIN\n",
      "\n",
      "\n"
     ]
    },
    {
     "name": "stderr",
     "output_type": "stream",
     "text": [
      "[Succeeded / Failed / Skipped / Total] 6 / 10 / 12 / 28:  28%|██▊       | 28/100 [00:01<00:04, 17.11it/s]"
     ]
    },
    {
     "name": "stdout",
     "output_type": "stream",
     "text": [
      "--------------------------------------------- Result 27 ---------------------------------------------\n",
      "[[1 (73%)]] --> [[0 (50%)]]\n",
      "\n",
      "[[TUCKER]] CARLSON [[Tells]] Liberal [[Guest]]: National [[Endowment]] for the Arts [[Is]] [[In]] [[Effect]] ‘[[Welfare]] for [[Rich]], Liberal [[Elites]]’ [[[VIDEO]]]\n",
      "\n",
      "[[beat]] CARLSON [[differentiate]] Liberal [[invitee]]: National [[gift]] for the Arts [[represent]] [[inward]] [[outcome]] ‘[[upbeat]] for [[full-bodied]], Liberal [[elite]]’ [[[picture]]]\n",
      "\n",
      "\n",
      "--------------------------------------------- Result 28 ---------------------------------------------\n",
      "[[1 (73%)]] --> [[[FAILED]]]\n",
      "\n",
      "Rhodes Is Wrong And Trump Could Have The Last Laugh\n",
      "\n",
      "\n"
     ]
    },
    {
     "name": "stderr",
     "output_type": "stream",
     "text": [
      "[Succeeded / Failed / Skipped / Total] 6 / 11 / 12 / 29:  29%|██▉       | 29/100 [00:01<00:04, 17.00it/s]"
     ]
    },
    {
     "name": "stdout",
     "output_type": "stream",
     "text": [
      "--------------------------------------------- Result 29 ---------------------------------------------\n",
      "[[1 (73%)]] --> [[[FAILED]]]\n",
      "\n",
      "FOR BERNIE SANDERS FANS: Prisoners Eating Cats To Survive In Socialist Venezuela\n",
      "\n",
      "\n"
     ]
    },
    {
     "name": "stderr",
     "output_type": "stream",
     "text": [
      "[Succeeded / Failed / Skipped / Total] 6 / 12 / 12 / 30:  30%|███       | 30/100 [00:01<00:04, 16.62it/s]"
     ]
    },
    {
     "name": "stdout",
     "output_type": "stream",
     "text": [
      "--------------------------------------------- Result 30 ---------------------------------------------\n",
      "[[1 (73%)]] --> [[[FAILED]]]\n",
      "\n",
      "WHY ISN’T MEDIA ASKING IF NYPD Cop-Killer and Hillary Supporter Was Influenced By Democrat Leaders, Black Lives Matter Anti-Cop Rhetoric?\n",
      "\n",
      "\n"
     ]
    },
    {
     "name": "stderr",
     "output_type": "stream",
     "text": [
      "[Succeeded / Failed / Skipped / Total] 7 / 12 / 13 / 32:  32%|███▏      | 32/100 [00:01<00:04, 16.23it/s]"
     ]
    },
    {
     "name": "stdout",
     "output_type": "stream",
     "text": [
      "--------------------------------------------- Result 31 ---------------------------------------------\n",
      "[[1 (73%)]] --> [[0 (50%)]]\n",
      "\n",
      "[[WATCH]]: INTOLERANT [[GAY]] [[COFFEE]] [[SHOP]] [[Owner]] [[Screams]] [[Profanities]] at Christian [[Pro-Life]] [[Group]], [[Kicks]] Them [[Out]] Of [[Business]]: “[[I]]’m [[gay]]. You have to leave”\n",
      "\n",
      "[[determine]]: INTOLERANT [[festal]] [[chocolate]] [[browse]] [[owner]] [[thigh-slapper]] [[profanity]] at Christian [[pro-life]] [[grouping]], [[beef]] Them [[away]] Of [[concern]]: “[[ace]]’m [[festal]]. You have to leave”\n",
      "\n",
      "\n",
      "--------------------------------------------- Result 32 ---------------------------------------------\n",
      "[[1 (50%)]] --> [[[SKIPPED]]]\n",
      "\n",
      "Israeli minister says Trump speech may start war with Iran\n",
      "\n",
      "\n"
     ]
    },
    {
     "name": "stderr",
     "output_type": "stream",
     "text": [
      "[Succeeded / Failed / Skipped / Total] 8 / 13 / 13 / 34:  34%|███▍      | 34/100 [00:02<00:04, 15.82it/s]"
     ]
    },
    {
     "name": "stdout",
     "output_type": "stream",
     "text": [
      "--------------------------------------------- Result 33 ---------------------------------------------\n",
      "[[1 (73%)]] --> [[0 (50%)]]\n",
      "\n",
      "$3.5 [[MILLION]] [[DOWN]] THE [[DRAIN]]….[[Day]] 5 WI [[Recount]]: [[TRUMP]] +[[25]]\n",
      "\n",
      "$3.5 [[billion]] [[fine-tune]] THE [[debilitate]]….[[day]] 5 WI [[narrate]]: [[trump]] +[[twenty-five]]\n",
      "\n",
      "\n",
      "--------------------------------------------- Result 34 ---------------------------------------------\n",
      "[[1 (73%)]] --> [[[FAILED]]]\n",
      "\n",
      " Tom Cotton Accepted $1 Million From Israel To Sabotage Iran Nuclear Deal\n",
      "\n",
      "\n"
     ]
    },
    {
     "name": "stderr",
     "output_type": "stream",
     "text": [
      "[Succeeded / Failed / Skipped / Total] 8 / 14 / 13 / 35:  35%|███▌      | 35/100 [00:02<00:04, 15.77it/s]"
     ]
    },
    {
     "name": "stdout",
     "output_type": "stream",
     "text": [
      "--------------------------------------------- Result 35 ---------------------------------------------\n",
      "[[1 (73%)]] --> [[[FAILED]]]\n",
      "\n",
      "HOLLYWOOD “ACTRESS” LENA DUNHAM: I ‘Haven’t Had an Abortion, But I Wish I Had’\n",
      "\n",
      "\n"
     ]
    },
    {
     "name": "stderr",
     "output_type": "stream",
     "text": [
      "[Succeeded / Failed / Skipped / Total] 9 / 16 / 14 / 39:  39%|███▉      | 39/100 [00:02<00:03, 16.08it/s]"
     ]
    },
    {
     "name": "stdout",
     "output_type": "stream",
     "text": [
      "--------------------------------------------- Result 36 ---------------------------------------------\n",
      "[[1 (73%)]] --> [[[FAILED]]]\n",
      "\n",
      " Trump Supporters Already Regret Voting For Him And Here’s The Hilarious Proof\n",
      "\n",
      "\n",
      "--------------------------------------------- Result 37 ---------------------------------------------\n",
      "[[1 (50%)]] --> [[[SKIPPED]]]\n",
      "\n",
      "Nearly half of Americans still oppose Republican tax bill: Reuters/Ipsos poll\n",
      "\n",
      "\n",
      "--------------------------------------------- Result 38 ---------------------------------------------\n",
      "[[0 (50%)]] --> [[1 (50%)]]\n",
      "\n",
      "Factbox: Saudi king [[lifts]] ban on women driving - but what about other rights?\n",
      "\n",
      "Factbox: Saudi king [[rhytidoplasty]] ban on women driving - but what about other rights?\n",
      "\n",
      "\n",
      "--------------------------------------------- Result 39 ---------------------------------------------\n",
      "[[1 (73%)]] --> [[[FAILED]]]\n",
      "\n",
      " Beyond Parody: Sean Spicer Blames Obama For Trump Hiring Foreign Agent Michael Flynn (VIDEO)\n",
      "\n",
      "\n"
     ]
    },
    {
     "name": "stderr",
     "output_type": "stream",
     "text": [
      "[Succeeded / Failed / Skipped / Total] 9 / 17 / 14 / 40:  40%|████      | 40/100 [00:02<00:03, 15.85it/s]textattack: Saving checkpoint under \"checkpoints\\1671077903176.ta.chkpt\" at 2022-12-14 23:18:23 after 40 attacks.\n"
     ]
    },
    {
     "name": "stdout",
     "output_type": "stream",
     "text": [
      "--------------------------------------------- Result 40 ---------------------------------------------\n",
      "[[1 (73%)]] --> [[[FAILED]]]\n",
      "\n",
      "WOW! CHICAGO REPORTEDLY FINDS At Least 14,000 More Votes Than Voters In 2016 Election\n",
      "\n",
      "\n",
      "\n",
      "\n",
      "=============================================================================================================================\n",
      "=============================================================================================================================\n",
      "\n"
     ]
    },
    {
     "name": "stderr",
     "output_type": "stream",
     "text": [
      "[Succeeded / Failed / Skipped / Total] 10 / 18 / 15 / 43:  43%|████▎     | 43/100 [00:02<00:03, 15.94it/s]"
     ]
    },
    {
     "name": "stdout",
     "output_type": "stream",
     "text": [
      "--------------------------------------------- Result 41 ---------------------------------------------\n",
      "[[1 (50%)]] --> [[[SKIPPED]]]\n",
      "\n",
      "Federal spending plan reimburses New York City for Trump security\n",
      "\n",
      "\n",
      "--------------------------------------------- Result 42 ---------------------------------------------\n",
      "[[1 (73%)]] --> [[[FAILED]]]\n",
      "\n",
      "Not a Journalist: CNN’s Brian Stelter Manages Clinton Health Cover-up\n",
      "\n",
      "\n",
      "--------------------------------------------- Result 43 ---------------------------------------------\n",
      "[[1 (73%)]] --> [[0 (50%)]]\n",
      "\n",
      "[[DIVERSITY]] [[GONE]] [[WILD]]: [[US]] [[Government]] [[Plans]] To [[Replace]] Alexander Hamilton [[On]] $[[10]] [[Bill]] With [[A]] [[Woman]]…\n",
      "\n",
      "[[diversity]] [[travel]] [[furious]]: [[U]] [[governing]] [[plan]] To [[exchange]] Alexander Hamilton [[along]] $[[tenner]] [[flyer]] With [[a]] [[womanhood]]…\n",
      "\n",
      "\n"
     ]
    },
    {
     "name": "stderr",
     "output_type": "stream",
     "text": [
      "[Succeeded / Failed / Skipped / Total] 12 / 20 / 15 / 47:  47%|████▋     | 47/100 [00:02<00:03, 15.70it/s]"
     ]
    },
    {
     "name": "stdout",
     "output_type": "stream",
     "text": [
      "--------------------------------------------- Result 44 ---------------------------------------------\n",
      "[[1 (73%)]] --> [[[FAILED]]]\n",
      "\n",
      "NY METS HONOR MURDERED COP BRIAN MOORE Who Planned To Take Girlfriend And Dad To Game Tonight\n",
      "\n",
      "\n",
      "--------------------------------------------- Result 45 ---------------------------------------------\n",
      "[[0 (50%)]] --> [[1 (50%)]]\n",
      "\n",
      "House speaker optimistic on tax reform prospects this [[year]]: source\n",
      "\n",
      "House speaker optimistic on tax reform prospects this [[twelvemonth]]: source\n",
      "\n",
      "\n",
      "--------------------------------------------- Result 46 ---------------------------------------------\n",
      "[[1 (73%)]] --> [[0 (50%)]]\n",
      "\n",
      "[[Boiler]] [[Room]] EP #[[85]] – The [[Return]] of the Social [[Rejects]] [[Club]]\n",
      "\n",
      "[[kettle]] [[board]] EP #[[eighty-five]] – The [[comeback]] of the Social [[cull]] [[golf-club]]\n",
      "\n",
      "\n",
      "--------------------------------------------- Result 47 ---------------------------------------------\n",
      "[[1 (73%)]] --> [[[FAILED]]]\n",
      "\n",
      "NOT KIDDING: Obama’s Weak Immigrant Vetting Process Doesn’t Even Include Asking If They Belong To ISIS, Al Qaeda Or Muslim Brotherhood\n",
      "\n",
      "\n"
     ]
    },
    {
     "name": "stderr",
     "output_type": "stream",
     "text": [
      "[Succeeded / Failed / Skipped / Total] 13 / 22 / 15 / 50:  50%|█████     | 50/100 [00:03<00:03, 15.39it/s]"
     ]
    },
    {
     "name": "stdout",
     "output_type": "stream",
     "text": [
      "--------------------------------------------- Result 48 ---------------------------------------------\n",
      "[[1 (73%)]] --> [[[FAILED]]]\n",
      "\n",
      "CNN HOST And Crybaby Hillary Surrogate Get BRUTAL SLAP DOWN When Dr. Gina Loudon Uses Facts Against Them [VIDEO]\n",
      "\n",
      "\n",
      "--------------------------------------------- Result 49 ---------------------------------------------\n",
      "[[1 (73%)]] --> [[[FAILED]]]\n",
      "\n",
      " ‘Hundreds’ Donated To Planned Parenthood In Right-Wing Pastor’s Name And It’s Driving Him INSANE (VIDEO)\n",
      "\n",
      "\n",
      "--------------------------------------------- Result 50 ---------------------------------------------\n",
      "[[1 (73%)]] --> [[0 (50%)]]\n",
      "\n",
      " FBI [[Joins]] [[Investigation]] Of [[Michigan]]’s [[Governor]] [[Rick]] Snyder [[Over]] [[Flint]] [[Water]] [[Crisis]]\n",
      "\n",
      " FBI [[unite]] [[probe]] Of [[Newmarket]]’s [[governor]] [[twist]] Snyder [[concluded]] [[stony]] [[irrigate]] [[crisis]]\n",
      "\n",
      "\n"
     ]
    },
    {
     "name": "stderr",
     "output_type": "stream",
     "text": [
      "[Succeeded / Failed / Skipped / Total] 14 / 23 / 20 / 57:  57%|█████▋    | 57/100 [00:03<00:02, 16.74it/s]"
     ]
    },
    {
     "name": "stdout",
     "output_type": "stream",
     "text": [
      "--------------------------------------------- Result 51 ---------------------------------------------\n",
      "[[1 (50%)]] --> [[[SKIPPED]]]\n",
      "\n",
      "France to give 15 million euros in aid for Syrian areas freed from Islamic State\n",
      "\n",
      "\n",
      "--------------------------------------------- Result 52 ---------------------------------------------\n",
      "[[1 (50%)]] --> [[[SKIPPED]]]\n",
      "\n",
      "If elected, Clinton under pressure to appoint tough Wall Street sheriffs\n",
      "\n",
      "\n",
      "--------------------------------------------- Result 53 ---------------------------------------------\n",
      "[[1 (73%)]] --> [[[FAILED]]]\n",
      "\n",
      " Missouri State Rep. Has DUMBEST Idea EVER For ‘Helping’ Unarmed People In State Capitol (IMAGE)\n",
      "\n",
      "\n",
      "--------------------------------------------- Result 54 ---------------------------------------------\n",
      "[[1 (50%)]] --> [[[SKIPPED]]]\n",
      "\n",
      "Trump win puts U.S.-Russia hostility on hold - but for how long?\n",
      "\n",
      "\n",
      "--------------------------------------------- Result 55 ---------------------------------------------\n",
      "[[1 (50%)]] --> [[[SKIPPED]]]\n",
      "\n",
      "Clinton calls on world to break down barriers holding back girls\n",
      "\n",
      "\n",
      "--------------------------------------------- Result 56 ---------------------------------------------\n",
      "[[1 (50%)]] --> [[[SKIPPED]]]\n",
      "\n",
      "EU could respond to 'market distortions' if U.S. quits climate pact: Schulz\n",
      "\n",
      "\n",
      "--------------------------------------------- Result 57 ---------------------------------------------\n",
      "[[0 (50%)]] --> [[1 (50%)]]\n",
      "\n",
      "Uganda ruling party seeks to [[scrap]] age limit to extend president's rule\n",
      "\n",
      "Uganda ruling party seeks to [[altercate]] age limit to extend president's rule\n",
      "\n",
      "\n"
     ]
    },
    {
     "name": "stderr",
     "output_type": "stream",
     "text": [
      "[Succeeded / Failed / Skipped / Total] 14 / 25 / 21 / 60:  60%|██████    | 60/100 [00:03<00:02, 16.79it/s]textattack: Saving checkpoint under \"checkpoints\\1671077904225.ta.chkpt\" at 2022-12-14 23:18:24 after 60 attacks.\n"
     ]
    },
    {
     "name": "stdout",
     "output_type": "stream",
     "text": [
      "--------------------------------------------- Result 58 ---------------------------------------------\n",
      "[[1 (73%)]] --> [[[FAILED]]]\n",
      "\n",
      " Researchers Used Doctored Pics Of Obama To Link Racism Directly To The Tea Party (STUDY)\n",
      "\n",
      "\n",
      "--------------------------------------------- Result 59 ---------------------------------------------\n",
      "[[1 (73%)]] --> [[[FAILED]]]\n",
      "\n",
      "WOMEN IN FRANCE Fight Back After Muslim Men BAN Them From Sharing Public Spaces [VIDEO]\n",
      "\n",
      "\n",
      "--------------------------------------------- Result 60 ---------------------------------------------\n",
      "[[1 (50%)]] --> [[[SKIPPED]]]\n",
      "\n",
      "Death of a blogger casts shadow over murky Malta\n",
      "\n",
      "\n",
      "\n",
      "\n",
      "=============================================================================================================================\n",
      "=============================================================================================================================\n",
      "\n"
     ]
    },
    {
     "name": "stderr",
     "output_type": "stream",
     "text": [
      "[Succeeded / Failed / Skipped / Total] 15 / 26 / 22 / 63:  63%|██████▎   | 63/100 [00:03<00:02, 16.30it/s]"
     ]
    },
    {
     "name": "stdout",
     "output_type": "stream",
     "text": [
      "--------------------------------------------- Result 61 ---------------------------------------------\n",
      "[[1 (73%)]] --> [[[FAILED]]]\n",
      "\n",
      "ALL HELL IS ABOUT TO BREAK LOOSE Between European Vigilante Group “Soldiers Of Odin” And ISIS Inspired “Soldiers Of Allah”\n",
      "\n",
      "\n",
      "--------------------------------------------- Result 62 ---------------------------------------------\n",
      "[[1 (50%)]] --> [[[SKIPPED]]]\n",
      "\n",
      "Clinton regrets calling 'half' of Trump supporters 'deplorable'\n",
      "\n",
      "\n",
      "--------------------------------------------- Result 63 ---------------------------------------------\n",
      "[[1 (73%)]] --> [[0 (50%)]]\n",
      "\n",
      "[[FOX]] [[LEGAL]] [[EXPERT]]: Susan [[Rice]] [[Committed]] [[3]] [[Crimes]]…“[[Better]] [[Get]] Herself a [[Good]] Criminal Defense Attorney” [Video]\n",
      "\n",
      "[[befuddle]] [[legal]] [[expert]]: Susan [[rice]] [[give]] [[deuce-ace]] [[law-breaking]]…“[[improve]] [[sustain]] Herself a [[unspoilt]] Criminal Defense Attorney” [Video]\n",
      "\n",
      "\n"
     ]
    },
    {
     "name": "stderr",
     "output_type": "stream",
     "text": [
      "[Succeeded / Failed / Skipped / Total] 15 / 28 / 25 / 68:  68%|██████▊   | 68/100 [00:04<00:01, 16.83it/s]"
     ]
    },
    {
     "name": "stdout",
     "output_type": "stream",
     "text": [
      "--------------------------------------------- Result 64 ---------------------------------------------\n",
      "[[1 (73%)]] --> [[[FAILED]]]\n",
      "\n",
      "BUSTED! Anti-Trump Contractor Arrested for Leaking Classified Info to the Media [Video]\n",
      "\n",
      "\n",
      "--------------------------------------------- Result 65 ---------------------------------------------\n",
      "[[1 (50%)]] --> [[[SKIPPED]]]\n",
      "\n",
      "Exclusive: 'If there's a shutdown, there's a shutdown,' Trump says\n",
      "\n",
      "\n",
      "--------------------------------------------- Result 66 ---------------------------------------------\n",
      "[[1 (73%)]] --> [[[FAILED]]]\n",
      "\n",
      "BEST 10 SECONDS OF YOUR DAY: Watch Al Sharpton Say He’ll Leave The U.S. If Trump Is Elected\n",
      "\n",
      "\n",
      "--------------------------------------------- Result 67 ---------------------------------------------\n",
      "[[1 (50%)]] --> [[[SKIPPED]]]\n",
      "\n",
      "Democrat gun control sit-in sparks social media sensation\n",
      "\n",
      "\n",
      "--------------------------------------------- Result 68 ---------------------------------------------\n",
      "[[1 (50%)]] --> [[[SKIPPED]]]\n",
      "\n",
      "U.S. Senate Democrats make Trump tax returns a national security issue\n",
      "\n",
      "\n"
     ]
    },
    {
     "name": "stderr",
     "output_type": "stream",
     "text": [
      "[Succeeded / Failed / Skipped / Total] 16 / 30 / 31 / 77:  77%|███████▋  | 77/100 [00:04<00:01, 17.76it/s]"
     ]
    },
    {
     "name": "stdout",
     "output_type": "stream",
     "text": [
      "--------------------------------------------- Result 69 ---------------------------------------------\n",
      "[[1 (73%)]] --> [[0 (50%)]]\n",
      "\n",
      "[[BOOM]]! [[WATCH]] SEAN HANNITY [[Hit]] [[Back]] [[At]] [[Bogus]] Sexual [[Harassment]] [[Allegations]]: “[[I]] can no longer [[let]] the [[slander]] against me slide” [[[Video]]]\n",
      "\n",
      "[[windfall]]! [[determine]] SEAN HANNITY [[tally]] [[stake]] [[astatine]] [[bogus]] Sexual [[molestation]] [[allegation]]: “[[ace]] can no longer [[countenance]] the [[sully]] against me slide” [[[picture]]]\n",
      "\n",
      "\n",
      "--------------------------------------------- Result 70 ---------------------------------------------\n",
      "[[1 (50%)]] --> [[[SKIPPED]]]\n",
      "\n",
      "Zimbabwe court postpones former finmin Chombo bail hearing-state radio\n",
      "\n",
      "\n",
      "--------------------------------------------- Result 71 ---------------------------------------------\n",
      "[[1 (50%)]] --> [[[SKIPPED]]]\n",
      "\n",
      "Pro-business Sessions will not go easy on corporate crime: lawyers\n",
      "\n",
      "\n",
      "--------------------------------------------- Result 72 ---------------------------------------------\n",
      "[[1 (50%)]] --> [[[SKIPPED]]]\n",
      "\n",
      "Democratic donor contacts Biden allies about possible run\n",
      "\n",
      "\n",
      "--------------------------------------------- Result 73 ---------------------------------------------\n",
      "[[1 (73%)]] --> [[[FAILED]]]\n",
      "\n",
      " WATCH: Louisiana GOP Rep SLAMS Her Sexist Male Colleagues On The Statehouse Floor\n",
      "\n",
      "\n",
      "--------------------------------------------- Result 74 ---------------------------------------------\n",
      "[[1 (50%)]] --> [[[SKIPPED]]]\n",
      "\n",
      "Democrats use Trump as bogeyman to get people to vote\n",
      "\n",
      "\n",
      "--------------------------------------------- Result 75 ---------------------------------------------\n",
      "[[1 (50%)]] --> [[[SKIPPED]]]\n",
      "\n",
      "Turkey summons U.S. embassy undersecretary, calls for end to visa dispute: sources\n",
      "\n",
      "\n",
      "--------------------------------------------- Result 76 ---------------------------------------------\n",
      "[[1 (73%)]] --> [[[FAILED]]]\n",
      "\n",
      "CRANKY SOCIALIST BERNIE SANDERS HAS A TEMPER TANTRUM And Walks Out Of Interview [Video]\n",
      "\n",
      "\n",
      "--------------------------------------------- Result 77 ---------------------------------------------\n",
      "[[1 (50%)]] --> [[[SKIPPED]]]\n",
      "\n",
      "North Korea petitions Russia to let workers stay despite sanctions: Ifax\n",
      "\n",
      "\n"
     ]
    },
    {
     "name": "stderr",
     "output_type": "stream",
     "text": [
      "[Succeeded / Failed / Skipped / Total] 17 / 31 / 32 / 80:  80%|████████  | 80/100 [00:04<00:01, 17.83it/s]textattack: Saving checkpoint under \"checkpoints\\1671077905138.ta.chkpt\" at 2022-12-14 23:18:25 after 80 attacks.\n"
     ]
    },
    {
     "name": "stdout",
     "output_type": "stream",
     "text": [
      "--------------------------------------------- Result 78 ---------------------------------------------\n",
      "[[1 (73%)]] --> [[[FAILED]]]\n",
      "\n",
      "FIRE THIS MAN! STATE DEPARTMENT ASSHAT Mocks Reporters And Obama’s “Transparency” At Briefing [Video]\n",
      "\n",
      "\n",
      "--------------------------------------------- Result 79 ---------------------------------------------\n",
      "[[1 (73%)]] --> [[0 (50%)]]\n",
      "\n",
      " MSNBC [[Shocks]] [[Viewers]] [[By]] [[Announcing]] [[Prime]] [[Time]] ‘Town Hall’ [[Special]] To [[Promote]] Donald Trump\n",
      "\n",
      " MSNBC [[impact]] [[watcher]] [[away]] [[declare]] [[blossom]] [[meter]] ‘Town Hall’ [[peculiar]] To [[boost]] Donald Trump\n",
      "\n",
      "\n",
      "--------------------------------------------- Result 80 ---------------------------------------------\n",
      "[[1 (50%)]] --> [[[SKIPPED]]]\n",
      "\n",
      "Toned-down Trump does not mean retreat from policy: aide\n",
      "\n",
      "\n",
      "\n",
      "\n",
      "=============================================================================================================================\n",
      "=============================================================================================================================\n",
      "\n"
     ]
    },
    {
     "name": "stderr",
     "output_type": "stream",
     "text": [
      "[Succeeded / Failed / Skipped / Total] 17 / 31 / 34 / 82:  82%|████████▏ | 82/100 [00:04<00:00, 18.23it/s]"
     ]
    },
    {
     "name": "stdout",
     "output_type": "stream",
     "text": [
      "--------------------------------------------- Result 81 ---------------------------------------------\n",
      "[[1 (50%)]] --> [[[SKIPPED]]]\n",
      "\n",
      "U.S. lawmakers raise doubts on sale of smart bombs to Saudi Arabia\n",
      "\n",
      "\n",
      "--------------------------------------------- Result 82 ---------------------------------------------\n",
      "[[1 (50%)]] --> [[[SKIPPED]]]\n",
      "\n",
      "Trump campaign chairman helped pro-Russians in Ukraine move money to U.S. firms: AP\n",
      "\n",
      "\n"
     ]
    },
    {
     "name": "stderr",
     "output_type": "stream",
     "text": [
      "[Succeeded / Failed / Skipped / Total] 17 / 32 / 36 / 85:  85%|████████▌ | 85/100 [00:04<00:00, 18.31it/s]"
     ]
    },
    {
     "name": "stdout",
     "output_type": "stream",
     "text": [
      "--------------------------------------------- Result 83 ---------------------------------------------\n",
      "[[1 (73%)]] --> [[[FAILED]]]\n",
      "\n",
      "COINCIDENCE? CHOBANI SCORES MAJOR CONTRACT WITH MOOCH’S GOVERNMENT CONTROLLED SCHOOL LUNCH PROGRAM After Airing Naked Lesbian TV Ad To 3% Of Population [VIDEO]\n",
      "\n",
      "\n",
      "--------------------------------------------- Result 84 ---------------------------------------------\n",
      "[[1 (50%)]] --> [[[SKIPPED]]]\n",
      "\n",
      "Around 30 people injured in Swiss train collision: police\n",
      "\n",
      "\n",
      "--------------------------------------------- Result 85 ---------------------------------------------\n",
      "[[1 (50%)]] --> [[[SKIPPED]]]\n",
      "\n",
      "Syria's militant ex-Qaeda group denies leader injured in Russian strike\n",
      "\n",
      "\n"
     ]
    },
    {
     "name": "stderr",
     "output_type": "stream",
     "text": [
      "[Succeeded / Failed / Skipped / Total] 18 / 32 / 37 / 87:  87%|████████▋ | 87/100 [00:04<00:00, 18.28it/s]"
     ]
    },
    {
     "name": "stdout",
     "output_type": "stream",
     "text": [
      "--------------------------------------------- Result 86 ---------------------------------------------\n",
      "[[1 (73%)]] --> [[0 (50%)]]\n",
      "\n",
      " [[Chuck]] Todd [[Confronts]] Trump [[Over]] UNHINGED ‘[[Enemy]]’ [[Tweet]], [[Promptly]] [[Puts]] Him In His [[Place]] ([[VIDEO]])\n",
      "\n",
      " [[cast]] Todd [[confront]] Trump [[concluded]] UNHINGED ‘[[foe]]’ [[squeeze]], [[quick]] [[assign]] Him In His [[berth]] ([[picture]])\n",
      "\n",
      "\n",
      "--------------------------------------------- Result 87 ---------------------------------------------\n",
      "[[1 (50%)]] --> [[[SKIPPED]]]\n",
      "\n",
      "Bomb blast kills nine people in Pakistan, near Afghan border\n",
      "\n",
      "\n"
     ]
    },
    {
     "name": "stderr",
     "output_type": "stream",
     "text": [
      "[Succeeded / Failed / Skipped / Total] 19 / 34 / 39 / 92:  92%|█████████▏| 92/100 [00:05<00:00, 17.03it/s]"
     ]
    },
    {
     "name": "stdout",
     "output_type": "stream",
     "text": [
      "--------------------------------------------- Result 88 ---------------------------------------------\n",
      "[[1 (73%)]] --> [[[FAILED]]]\n",
      "\n",
      "ACTOR JAMES WOODS DESTROYS Leftist TIME For Article Suggesting U.S. LIED About N. Korea Torturing Otto Warmbier Who Died After Returning In A Coma\n",
      "\n",
      "\n",
      "--------------------------------------------- Result 89 ---------------------------------------------\n",
      "[[1 (50%)]] --> [[[SKIPPED]]]\n",
      "\n",
      "Green Party's Stein to pursue Pennsylvania recount petition in federal court\n",
      "\n",
      "\n",
      "--------------------------------------------- Result 90 ---------------------------------------------\n",
      "[[1 (73%)]] --> [[0 (50%)]]\n",
      "\n",
      " Bernie Sanders [[Comforts]] [[Frustrated]] Voters, [[SHREDS]] [[New]] York’s [[Closed]] [[Primary]] ([[VIDEO]])\n",
      "\n",
      " Bernie Sanders [[consolation]] [[frustrated]] Voters, [[tag]] [[fresh]] York’s [[close]] [[chief]] ([[picture]])\n",
      "\n",
      "\n",
      "--------------------------------------------- Result 91 ---------------------------------------------\n",
      "[[1 (73%)]] --> [[[FAILED]]]\n",
      "\n",
      "Southside Chicago Blacks Fight Against Liberal Elites On Removing Statues: “Leave that statue alone!” [Video]\n",
      "\n",
      "\n",
      "--------------------------------------------- Result 92 ---------------------------------------------\n",
      "[[1 (50%)]] --> [[[SKIPPED]]]\n",
      "\n",
      "Republican green groups seek to temper Trump on climate change\n",
      "\n",
      "\n"
     ]
    },
    {
     "name": "stderr",
     "output_type": "stream",
     "text": [
      "[Succeeded / Failed / Skipped / Total] 19 / 36 / 43 / 98:  98%|█████████▊| 98/100 [00:05<00:00, 17.53it/s]"
     ]
    },
    {
     "name": "stdout",
     "output_type": "stream",
     "text": [
      "--------------------------------------------- Result 93 ---------------------------------------------\n",
      "[[1 (73%)]] --> [[[FAILED]]]\n",
      "\n",
      "TRUMP’S BRILLIANT Director Of Communications OMAROSA Absolutely DESTROYS Joy Behar On The View…And It’s HILARIOUS! [VIDEO]\n",
      "\n",
      "\n",
      "--------------------------------------------- Result 94 ---------------------------------------------\n",
      "[[1 (50%)]] --> [[[SKIPPED]]]\n",
      "\n",
      "Blast hits train in southwestern Pakistan; at least 6 hurt\n",
      "\n",
      "\n",
      "--------------------------------------------- Result 95 ---------------------------------------------\n",
      "[[1 (50%)]] --> [[[SKIPPED]]]\n",
      "\n",
      "Hate speech seeps into U.S. mainstream amid bitter campaign\n",
      "\n",
      "\n",
      "--------------------------------------------- Result 96 ---------------------------------------------\n",
      "[[1 (50%)]] --> [[[SKIPPED]]]\n",
      "\n",
      "Snowden warns of increase in U.S. domestic spying after Trump victory\n",
      "\n",
      "\n",
      "--------------------------------------------- Result 97 ---------------------------------------------\n",
      "[[1 (73%)]] --> [[[FAILED]]]\n",
      "\n",
      " Alex Jones POSITIVE Obama Killed Scalia, And You’ll Never Believe Who He Thinks Is Next (VIDEO)\n",
      "\n",
      "\n",
      "--------------------------------------------- Result 98 ---------------------------------------------\n",
      "[[1 (50%)]] --> [[[SKIPPED]]]\n",
      "\n",
      "Bernie Sanders-style, grassroots effort a likely model, say Trump donors\n",
      "\n",
      "\n",
      "--------------------------------------------- Result 99 ---------------------------------------------\n",
      "[[1 (73%)]] --> [[0 (50%)]]\n",
      "\n",
      " [[WATCH]]: Jake [[Tapper]] [[Rips]] Scaramucci [[A]] [[New]] [[One]] For [[Using]] [[Trump]] [[As]] [[Source]] To [[Deny]] Russian [[Hacking]]\n",
      "\n",
      " [[determine]]: Jake [[tapper]] [[pull]] Scaramucci [[angstrom]] [[fresh]] [[ace]] For [[practice]] [[trump]] [[a]] [[rootage]] To [[deny]] Russian [[cut]]\n",
      "\n",
      "\n"
     ]
    },
    {
     "name": "stderr",
     "output_type": "stream",
     "text": [
      "[Succeeded / Failed / Skipped / Total] 20 / 36 / 44 / 100: 100%|██████████| 100/100 [00:05<00:00, 17.51it/s]textattack: Saving checkpoint under \"checkpoints\\1671077906362.ta.chkpt\" at 2022-12-14 23:18:26 after 100 attacks.\n"
     ]
    },
    {
     "name": "stdout",
     "output_type": "stream",
     "text": [
      "--------------------------------------------- Result 100 ---------------------------------------------\n",
      "[[1 (50%)]] --> [[[SKIPPED]]]\n",
      "\n",
      "Rohingyas must go home but to safety, Bangladesh says\n",
      "\n",
      "\n",
      "\n",
      "\n",
      "=============================================================================================================================\n",
      "=============================================================================================================================\n",
      "\n"
     ]
    },
    {
     "name": "stderr",
     "output_type": "stream",
     "text": [
      "[Succeeded / Failed / Skipped / Total] 20 / 36 / 44 / 100: 100%|██████████| 100/100 [00:05<00:00, 17.50it/s]"
     ]
    },
    {
     "name": "stdout",
     "output_type": "stream",
     "text": [
      "\n",
      "+-------------------------------+--------+\n",
      "| Attack Results                |        |\n",
      "+-------------------------------+--------+\n",
      "| Number of successful attacks: | 20     |\n",
      "| Number of failed attacks:     | 36     |\n",
      "| Number of skipped attacks:    | 44     |\n",
      "| Original accuracy:            | 56.0%  |\n",
      "| Accuracy under attack:        | 36.0%  |\n",
      "| Attack success rate:          | 35.71% |\n",
      "| Average perturbed word %:     | 50.54% |\n",
      "| Average num. words per input: | 13.31  |\n",
      "| Avg num queries:              | 213.59 |\n",
      "+-------------------------------+--------+\n"
     ]
    },
    {
     "name": "stderr",
     "output_type": "stream",
     "text": [
      "\n"
     ]
    },
    {
     "data": {
      "text/plain": [
       "[<textattack.attack_results.successful_attack_result.SuccessfulAttackResult at 0x1192e1b0d60>,\n",
       " <textattack.attack_results.successful_attack_result.SuccessfulAttackResult at 0x1192e1b0be0>,\n",
       " <textattack.attack_results.skipped_attack_result.SkippedAttackResult at 0x11a56e58190>,\n",
       " <textattack.attack_results.skipped_attack_result.SkippedAttackResult at 0x11a4c989be0>,\n",
       " <textattack.attack_results.skipped_attack_result.SkippedAttackResult at 0x11a4bc2f5e0>,\n",
       " <textattack.attack_results.failed_attack_result.FailedAttackResult at 0x11a54f24430>,\n",
       " <textattack.attack_results.failed_attack_result.FailedAttackResult at 0x11a4fe14070>,\n",
       " <textattack.attack_results.successful_attack_result.SuccessfulAttackResult at 0x11a52094df0>,\n",
       " <textattack.attack_results.skipped_attack_result.SkippedAttackResult at 0x11a56e58040>,\n",
       " <textattack.attack_results.failed_attack_result.FailedAttackResult at 0x11a5b58ddc0>,\n",
       " <textattack.attack_results.failed_attack_result.FailedAttackResult at 0x11a42830e80>,\n",
       " <textattack.attack_results.skipped_attack_result.SkippedAttackResult at 0x11a52094250>,\n",
       " <textattack.attack_results.failed_attack_result.FailedAttackResult at 0x11a5a65beb0>,\n",
       " <textattack.attack_results.failed_attack_result.FailedAttackResult at 0x11a5a65bee0>,\n",
       " <textattack.attack_results.skipped_attack_result.SkippedAttackResult at 0x11a428417f0>,\n",
       " <textattack.attack_results.failed_attack_result.FailedAttackResult at 0x11a5afda490>,\n",
       " <textattack.attack_results.skipped_attack_result.SkippedAttackResult at 0x11a5afda0d0>,\n",
       " <textattack.attack_results.successful_attack_result.SuccessfulAttackResult at 0x11a5a915a30>,\n",
       " <textattack.attack_results.successful_attack_result.SuccessfulAttackResult at 0x11a51dd9100>,\n",
       " <textattack.attack_results.skipped_attack_result.SkippedAttackResult at 0x11a51b271c0>,\n",
       " <textattack.attack_results.failed_attack_result.FailedAttackResult at 0x11a521c1790>,\n",
       " <textattack.attack_results.skipped_attack_result.SkippedAttackResult at 0x11a5afda2e0>,\n",
       " <textattack.attack_results.skipped_attack_result.SkippedAttackResult at 0x11a4fe2f7f0>,\n",
       " <textattack.attack_results.skipped_attack_result.SkippedAttackResult at 0x11a5dbc3be0>,\n",
       " <textattack.attack_results.skipped_attack_result.SkippedAttackResult at 0x11a5a9155e0>,\n",
       " <textattack.attack_results.failed_attack_result.FailedAttackResult at 0x11a5ab86a30>,\n",
       " <textattack.attack_results.successful_attack_result.SuccessfulAttackResult at 0x11a5b58dca0>,\n",
       " <textattack.attack_results.failed_attack_result.FailedAttackResult at 0x11a5ab860a0>,\n",
       " <textattack.attack_results.failed_attack_result.FailedAttackResult at 0x11a42839070>,\n",
       " <textattack.attack_results.failed_attack_result.FailedAttackResult at 0x11a5f414eb0>,\n",
       " <textattack.attack_results.successful_attack_result.SuccessfulAttackResult at 0x11a5a8564c0>,\n",
       " <textattack.attack_results.skipped_attack_result.SkippedAttackResult at 0x11a69186f10>,\n",
       " <textattack.attack_results.successful_attack_result.SuccessfulAttackResult at 0x11a5a760f70>,\n",
       " <textattack.attack_results.failed_attack_result.FailedAttackResult at 0x11a680d89d0>,\n",
       " <textattack.attack_results.failed_attack_result.FailedAttackResult at 0x11a5aa3b8b0>,\n",
       " <textattack.attack_results.failed_attack_result.FailedAttackResult at 0x11a60052550>,\n",
       " <textattack.attack_results.skipped_attack_result.SkippedAttackResult at 0x11a60052c40>,\n",
       " <textattack.attack_results.successful_attack_result.SuccessfulAttackResult at 0x11a5e9bd5e0>,\n",
       " <textattack.attack_results.failed_attack_result.FailedAttackResult at 0x11a5dc278b0>,\n",
       " <textattack.attack_results.failed_attack_result.FailedAttackResult at 0x11a72c377c0>,\n",
       " <textattack.attack_results.skipped_attack_result.SkippedAttackResult at 0x11a5a6efcd0>,\n",
       " <textattack.attack_results.failed_attack_result.FailedAttackResult at 0x11a5b6bd070>,\n",
       " <textattack.attack_results.successful_attack_result.SuccessfulAttackResult at 0x11a5b6bdca0>,\n",
       " <textattack.attack_results.failed_attack_result.FailedAttackResult at 0x11a69186e80>,\n",
       " <textattack.attack_results.successful_attack_result.SuccessfulAttackResult at 0x11a69171460>,\n",
       " <textattack.attack_results.successful_attack_result.SuccessfulAttackResult at 0x11a68cb75e0>,\n",
       " <textattack.attack_results.failed_attack_result.FailedAttackResult at 0x11a6f7d02e0>,\n",
       " <textattack.attack_results.failed_attack_result.FailedAttackResult at 0x11a5c2c1f10>,\n",
       " <textattack.attack_results.failed_attack_result.FailedAttackResult at 0x11a75da30a0>,\n",
       " <textattack.attack_results.successful_attack_result.SuccessfulAttackResult at 0x11a5e9bd730>,\n",
       " <textattack.attack_results.skipped_attack_result.SkippedAttackResult at 0x11a5a760820>,\n",
       " <textattack.attack_results.skipped_attack_result.SkippedAttackResult at 0x11a6f7d0640>,\n",
       " <textattack.attack_results.failed_attack_result.FailedAttackResult at 0x11a75da3f70>,\n",
       " <textattack.attack_results.skipped_attack_result.SkippedAttackResult at 0x11a61e20520>,\n",
       " <textattack.attack_results.skipped_attack_result.SkippedAttackResult at 0x11a5e9bda30>,\n",
       " <textattack.attack_results.skipped_attack_result.SkippedAttackResult at 0x11a67decee0>,\n",
       " <textattack.attack_results.successful_attack_result.SuccessfulAttackResult at 0x11a5dff5f70>,\n",
       " <textattack.attack_results.failed_attack_result.FailedAttackResult at 0x11a61e20be0>,\n",
       " <textattack.attack_results.failed_attack_result.FailedAttackResult at 0x11a6dd8e550>,\n",
       " <textattack.attack_results.skipped_attack_result.SkippedAttackResult at 0x11a75da35b0>,\n",
       " <textattack.attack_results.failed_attack_result.FailedAttackResult at 0x11a5b6bd1c0>,\n",
       " <textattack.attack_results.skipped_attack_result.SkippedAttackResult at 0x11a6dd8e4f0>,\n",
       " <textattack.attack_results.successful_attack_result.SuccessfulAttackResult at 0x11a68cb77c0>,\n",
       " <textattack.attack_results.failed_attack_result.FailedAttackResult at 0x11a5ab865e0>,\n",
       " <textattack.attack_results.skipped_attack_result.SkippedAttackResult at 0x11a69efd850>,\n",
       " <textattack.attack_results.failed_attack_result.FailedAttackResult at 0x11a5dcd5580>,\n",
       " <textattack.attack_results.skipped_attack_result.SkippedAttackResult at 0x11a680d8e80>,\n",
       " <textattack.attack_results.skipped_attack_result.SkippedAttackResult at 0x11a7bcd5cd0>,\n",
       " <textattack.attack_results.successful_attack_result.SuccessfulAttackResult at 0x11a5a5d4340>,\n",
       " <textattack.attack_results.skipped_attack_result.SkippedAttackResult at 0x11a5a760550>,\n",
       " <textattack.attack_results.skipped_attack_result.SkippedAttackResult at 0x11a5a760e50>,\n",
       " <textattack.attack_results.skipped_attack_result.SkippedAttackResult at 0x11a7bcd5b80>,\n",
       " <textattack.attack_results.failed_attack_result.FailedAttackResult at 0x11a680d8910>,\n",
       " <textattack.attack_results.skipped_attack_result.SkippedAttackResult at 0x11a4cda8100>,\n",
       " <textattack.attack_results.skipped_attack_result.SkippedAttackResult at 0x11a4cda8730>,\n",
       " <textattack.attack_results.failed_attack_result.FailedAttackResult at 0x11a67dec7c0>,\n",
       " <textattack.attack_results.skipped_attack_result.SkippedAttackResult at 0x11a4c0175b0>,\n",
       " <textattack.attack_results.failed_attack_result.FailedAttackResult at 0x11a67decaf0>,\n",
       " <textattack.attack_results.successful_attack_result.SuccessfulAttackResult at 0x11a696601f0>,\n",
       " <textattack.attack_results.skipped_attack_result.SkippedAttackResult at 0x11a4c017a00>,\n",
       " <textattack.attack_results.skipped_attack_result.SkippedAttackResult at 0x11a68cb7370>,\n",
       " <textattack.attack_results.skipped_attack_result.SkippedAttackResult at 0x11a5dcd55e0>,\n",
       " <textattack.attack_results.failed_attack_result.FailedAttackResult at 0x11a7bcd5130>,\n",
       " <textattack.attack_results.skipped_attack_result.SkippedAttackResult at 0x11a5aa3bd30>,\n",
       " <textattack.attack_results.skipped_attack_result.SkippedAttackResult at 0x11a4c017550>,\n",
       " <textattack.attack_results.successful_attack_result.SuccessfulAttackResult at 0x11a69171e80>,\n",
       " <textattack.attack_results.skipped_attack_result.SkippedAttackResult at 0x11a69660310>,\n",
       " <textattack.attack_results.failed_attack_result.FailedAttackResult at 0x11a42837fa0>,\n",
       " <textattack.attack_results.skipped_attack_result.SkippedAttackResult at 0x11a3fca8a60>,\n",
       " <textattack.attack_results.successful_attack_result.SuccessfulAttackResult at 0x11a428327c0>,\n",
       " <textattack.attack_results.failed_attack_result.FailedAttackResult at 0x11a5a6ef940>,\n",
       " <textattack.attack_results.skipped_attack_result.SkippedAttackResult at 0x11a4287b430>,\n",
       " <textattack.attack_results.failed_attack_result.FailedAttackResult at 0x11a75da31f0>,\n",
       " <textattack.attack_results.skipped_attack_result.SkippedAttackResult at 0x11a51b27a00>,\n",
       " <textattack.attack_results.skipped_attack_result.SkippedAttackResult at 0x11a51cdfac0>,\n",
       " <textattack.attack_results.skipped_attack_result.SkippedAttackResult at 0x11a6dd8ed60>,\n",
       " <textattack.attack_results.failed_attack_result.FailedAttackResult at 0x11a5206b400>,\n",
       " <textattack.attack_results.skipped_attack_result.SkippedAttackResult at 0x11a5a5d4be0>,\n",
       " <textattack.attack_results.successful_attack_result.SuccessfulAttackResult at 0x11a54f6b5e0>,\n",
       " <textattack.attack_results.skipped_attack_result.SkippedAttackResult at 0x11a54f6b2b0>]"
      ]
     },
     "execution_count": 7,
     "metadata": {},
     "output_type": "execute_result"
    }
   ],
   "source": [
    "# Model: kaggle_title, dense_dropout, nnlm\n",
    "from textattack.attack_recipes import PWWSRen2019 as attack_recipe\n",
    "\n",
    "# try first 10 example because quite slow attack speed\n",
    "i = 100  \n",
    "train_dataset = []\n",
    "for example, label in zip(train_sentences[:i], train_labels[:i]):\n",
    "    train_dataset.append((example, int(label)))\n",
    "train_dataset = Dataset(train_dataset)\n",
    "\n",
    "model_wrapper = CustomTensorFlowModelWrapper(model)\n",
    "attack = attack_recipe.build(model_wrapper)\n",
    "\n",
    "attack_args = AttackArgs(\n",
    "    num_examples=i,\n",
    "    checkpoint_interval=20,\n",
    "    disable_stdout=False\n",
    ")\n",
    "\n",
    "attacker = Attacker(attack, train_dataset, attack_args)\n",
    "attacker.attack_dataset()"
   ]
  }
 ],
 "metadata": {
  "kernelspec": {
   "display_name": "Python 3.9.13 64-bit",
   "language": "python",
   "name": "python3"
  },
  "language_info": {
   "codemirror_mode": {
    "name": "ipython",
    "version": 3
   },
   "file_extension": ".py",
   "mimetype": "text/x-python",
   "name": "python",
   "nbconvert_exporter": "python",
   "pygments_lexer": "ipython3",
   "version": "3.9.13"
  },
  "orig_nbformat": 4,
  "vscode": {
   "interpreter": {
    "hash": "8a25a3045e4a92a066b293f5d1fcbf77c7942245a158d0519cc010931d6ca13e"
   }
  }
 },
 "nbformat": 4,
 "nbformat_minor": 2
}
