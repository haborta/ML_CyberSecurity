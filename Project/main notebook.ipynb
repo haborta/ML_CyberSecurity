{
 "cells": [
  {
   "cell_type": "code",
   "execution_count": 1,
   "metadata": {},
   "outputs": [],
   "source": [
    "import numpy as np\n",
    "import pandas as pd\n",
    "import matplotlib.pyplot as plt\n",
    "import seaborn as sns\n",
    "import tensorflow as tf\n",
    "from datetime import datetime\n",
    "\n",
    "import warnings\n",
    "warnings.filterwarnings('ignore')"
   ]
  },
  {
   "cell_type": "markdown",
   "metadata": {},
   "source": [
    "### Dataset"
   ]
  },
  {
   "cell_type": "markdown",
   "metadata": {},
   "source": [
    "download kaggle dataset: https://www.kaggle.com/datasets/clmentbisaillon/fake-and-real-news-dataset/download?datasetVersionNumber=1  \n",
    "download liar dataset: https://www.cs.ucsb.edu/~william/data/liar_dataset.zip"
   ]
  },
  {
   "cell_type": "code",
   "execution_count": 2,
   "metadata": {},
   "outputs": [],
   "source": [
    "from load_dataset import kaggle_dataset\n",
    "from load_dataset import liar_dataset\n",
    "kaggle_path = \"./dataset/Fake-News/\"\n",
    "liar_path = \"./dataset/Liar/\"\n",
    "\n",
    "# Pick dataset you want:\n",
    "# If kaggle:\n",
    "# dataset = kaggle_dataset(kaggle_path)\n",
    "# If Liar:\n",
    "dataset = liar_dataset(liar_path)\n",
    "\n",
    "train_sentences = dataset.train_sentences\n",
    "val_sentences = dataset.val_sentences\n",
    "train_labels = dataset.train_labels\n",
    "val_labels = dataset.val_labels\n"
   ]
  },
  {
   "cell_type": "markdown",
   "metadata": {},
   "source": [
    "### Model"
   ]
  },
  {
   "cell_type": "markdown",
   "metadata": {},
   "source": [
    "#### Embedding: nnlm"
   ]
  },
  {
   "cell_type": "code",
   "execution_count": 14,
   "metadata": {},
   "outputs": [],
   "source": [
    "# nnlm: Text embeddings based on feed-forward Neural-Net Language Models\n",
    "# pre-trained text embedding model from TensorFlow Hub\n",
    "# more text-embedding download in https://tfhub.dev/s?module-type=text-embedding\n",
    "import tensorflow_hub as hub\n",
    "embedding = \"https://tfhub.dev/google/nnlm-en-dim128-with-normalization/2\"\n",
    "hub_layer = hub.KerasLayer(embedding, input_shape=[], \n",
    "                           dtype=tf.string, trainable=True)\n",
    "\n",
    "train_x = hub_layer(train_sentences)\n",
    "val_x = hub_layer(val_sentences)"
   ]
  },
  {
   "cell_type": "code",
   "execution_count": 26,
   "metadata": {},
   "outputs": [
    {
     "name": "stdout",
     "output_type": "stream",
     "text": [
      "(10240, 128)\n",
      "(10240, 32, 4)\n"
     ]
    }
   ],
   "source": [
    "# DO THIS ONLY IF USING CNN & LSTM\n",
    "# Reshape embedding x from (len, dim1*dim2) to (len, dim1, dim2)\n",
    "dim1 = 32\n",
    "dim2 = 4\n",
    "print(train_x.shape)\n",
    "\n",
    "train_x = np.reshape(train_x, (train_x.shape[0], dim1, dim2))\n",
    "val_x = np.reshape(val_x, (val_x.shape[0], dim1, dim2))\n",
    "print(train_x.shape)"
   ]
  },
  {
   "cell_type": "markdown",
   "metadata": {},
   "source": [
    "#### Embedding: bert"
   ]
  },
  {
   "cell_type": "code",
   "execution_count": null,
   "metadata": {},
   "outputs": [],
   "source": [
    "# bert: Bidirectional Encoder Representations from Transformers\n",
    "# Easy cause out-of-memory\n",
    "import tensorflow_hub as hub\n",
    "import tensorflow_text\n",
    "\n",
    "text_input = train_sentences\n",
    "preprocessor = hub.KerasLayer(\"https://tfhub.dev/tensorflow/bert_en_uncased_preprocess/3\")\n",
    "encoder_inputs = preprocessor(text_input)\n",
    "encoder = hub.KerasLayer(\"https://tfhub.dev/tensorflow/bert_en_uncased_L-12_H-768_A-12/4\", trainable=True)\n",
    "outputs = encoder(encoder_inputs)\n",
    "pooled_output = outputs[\"pooled_output\"]        # [batch_size, 768]. \n",
    "sequence_output = outputs[\"sequence_output\"]    # [batch_size, seq_length, 768]."
   ]
  },
  {
   "cell_type": "code",
   "execution_count": 2,
   "metadata": {},
   "outputs": [],
   "source": [
    "# Only use a small batch of bert embedding data to continue...\n",
    "# You can got that data in our dirve\n",
    "bert_batch_path = \"./embedding model/bert/\"\n",
    "\n",
    "# load pooled_output for dense\n",
    "# load sequence_output for cnn & lstm\n",
    "# train_x = np.load(bert_batch_path+\"bert_train_pooled_0.npy\")\n",
    "# val_x = np.load(bert_batch_path+\"bert_train_pooled_1.npy\")\n",
    "train_x = np.load(bert_batch_path+\"bert_train_seq_0.npy\")\n",
    "val_x = np.load(bert_batch_path+\"bert_train_seq_1.npy\")\n",
    "train_labels = np.load(bert_batch_path+\"bert_train_label_0.npy\")\n",
    "val_labels = np.load(bert_batch_path+\"bert_train_label_1.npy\")"
   ]
  },
  {
   "cell_type": "markdown",
   "metadata": {},
   "source": [
    "#### Network"
   ]
  },
  {
   "cell_type": "code",
   "execution_count": 3,
   "metadata": {},
   "outputs": [
    {
     "name": "stdout",
     "output_type": "stream",
     "text": [
      "Epoch 1/5\n",
      "32/32 [==============================] - 7s 29ms/step - loss: 0.6830 - accuracy: 0.5459 - val_loss: 0.6748 - val_accuracy: 0.5762\n",
      "Epoch 2/5\n",
      "32/32 [==============================] - 1s 18ms/step - loss: 0.6392 - accuracy: 0.6445 - val_loss: 0.6731 - val_accuracy: 0.5889\n",
      "Epoch 3/5\n",
      "32/32 [==============================] - 1s 18ms/step - loss: 0.6233 - accuracy: 0.6611 - val_loss: 0.6776 - val_accuracy: 0.5811\n",
      "Epoch 4/5\n",
      "32/32 [==============================] - 1s 18ms/step - loss: 0.5926 - accuracy: 0.6836 - val_loss: 0.7407 - val_accuracy: 0.5566\n",
      "Epoch 5/5\n",
      "32/32 [==============================] - 1s 18ms/step - loss: 0.5576 - accuracy: 0.7129 - val_loss: 0.7060 - val_accuracy: 0.5576\n",
      "Model: \"sequential\"\n",
      "_________________________________________________________________\n",
      " Layer (type)                Output Shape              Param #   \n",
      "=================================================================\n",
      " dropout (Dropout)           (32, 128, 768)            0         \n",
      "                                                                 \n",
      " lstm (LSTM)                 (32, 100)                 347600    \n",
      "                                                                 \n",
      " dropout_1 (Dropout)         (32, 100)                 0         \n",
      "                                                                 \n",
      " dense (Dense)               (32, 1)                   101       \n",
      "                                                                 \n",
      "=================================================================\n",
      "Total params: 347,701\n",
      "Trainable params: 347,701\n",
      "Non-trainable params: 0\n",
      "_________________________________________________________________\n"
     ]
    }
   ],
   "source": [
    "cov_filters = 5\n",
    "cov_kernel = 64\n",
    "pool_size = 4\n",
    "LSTM_units = 100\n",
    "\n",
    "# Pick a model\n",
    "from model import lstm\n",
    "\n",
    "model = lstm(LSTM_units)\n",
    "model.compile()\n",
    "model_history = model.fit(train_x, train_labels, validation_data=(val_x, val_labels))\n",
    "model.summary()"
   ]
  },
  {
   "cell_type": "markdown",
   "metadata": {},
   "source": [
    "### Attack (TBC)"
   ]
  }
 ],
 "metadata": {
  "kernelspec": {
   "display_name": "Python 3.9.13 64-bit",
   "language": "python",
   "name": "python3"
  },
  "language_info": {
   "codemirror_mode": {
    "name": "ipython",
    "version": 3
   },
   "file_extension": ".py",
   "mimetype": "text/x-python",
   "name": "python",
   "nbconvert_exporter": "python",
   "pygments_lexer": "ipython3",
   "version": "3.9.13"
  },
  "orig_nbformat": 4,
  "vscode": {
   "interpreter": {
    "hash": "8a25a3045e4a92a066b293f5d1fcbf77c7942245a158d0519cc010931d6ca13e"
   }
  }
 },
 "nbformat": 4,
 "nbformat_minor": 2
}
